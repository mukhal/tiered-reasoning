{
 "cells": [
  {
   "cell_type": "markdown",
   "metadata": {
    "id": "XL9AU7zTgP9n"
   },
   "source": [
    "### **Toward Consistent, Verifiable, and Coherent Commonsense Reasoning in Large LMs**\n",
    "\n",
    "This notebook provides source code for our two papers in Findings of EMNLP 2021:\n",
    "\n",
    "\n",
    "1.  Shane Storks, Qiaozi Gao, Yichi Zhang, and Joyce Y. Chai (2021). *Tiered Reasoning for Intuitive Physics: Toward Verifiable Commonsense Language Understanding.* Findings of EMNLP 2021.\n",
    "2.   Shane Storks and Joyce Y. Chai (2021). *Beyond the Tip of the Iceberg: Assessing Coherence of Text Classifiers.* Findings of EMNLP 2021.\n",
    "\n",
    "*If you have any questions or problems, please open an issue on our [GitHub repo](https://github.com/sled-group/Verifiable-Coherent-NLU) or email Shane Storks.*\n",
    "\n",
    "***First, configure the execution mode by selecting a few settings (expand cell if needed):***\n",
    "\n",
    "\n"
   ]
  },
  {
   "cell_type": "markdown",
   "metadata": {
    "id": "ct4cd2_TFYDk"
   },
   "source": [
    "   0. (Colab only) Insert the path in your Google Drive to the folder where this notebook is located."
   ]
  },
  {
   "cell_type": "code",
   "execution_count": 1,
   "metadata": {
    "id": "Vq9-dXJXFWh3"
   },
   "outputs": [],
   "source": [
    "DRIVE_PATH = '.'"
   ]
  },
  {
   "cell_type": "markdown",
   "metadata": {
    "id": "yxzL0hhHAHzN"
   },
   "source": [
    "1.   Model type (choose from BERT large, RoBERTa large, RoBERTa large + MNLI, DeBERTa base, and DeBERTa large).\n",
    "\n",
    "\n",
    "\n",
    "\n"
   ]
  },
  {
   "cell_type": "code",
   "execution_count": 45,
   "metadata": {
    "id": "FFNe6vlTaHsP"
   },
   "outputs": [],
   "source": [
    "#mode = 'bert_base' # BERT large\n",
    "#mode = 'roberta' # RoBERTa large\n",
    "mode = 'wikihow_roberta'\n",
    "#mode = 'wikihow_bert'\n",
    "#mode = 'roberta_base'\n",
    "# mode = 'roberta_mnli' # RoBERTa large pre-trained on MNLI\n",
    "# mode = 'deberta' # DeBERTa base for training on TRIP\n",
    "# mode = 'deberta_large' # DeBERTa large for training on CE and ART"
   ]
  },
  {
   "cell_type": "markdown",
   "metadata": {
    "id": "KbJ-XeY1aCpD"
   },
   "source": [
    "2.   Name of the task we want to train or evaluate on. Set `debug` to `True` to run quick training/evaluation jobs on only a small amount of data."
   ]
  },
  {
   "cell_type": "code",
   "execution_count": 3,
   "metadata": {
    "id": "iAQGu6JMa-o6"
   },
   "outputs": [],
   "source": [
    "task_name = 'trip'\n",
    "# task_name = 'ce'\n",
    "# task_name = 'art'\n",
    "\n",
    "debug = False"
   ]
  },
  {
   "cell_type": "markdown",
   "metadata": {
    "id": "aoWKXfQBd435"
   },
   "source": [
    "3.   (If training models) Training batch size, learning rate, and maximum number of epochs. Settings for results in the paper are provided as examples."
   ]
  },
  {
   "cell_type": "code",
   "execution_count": 4,
   "metadata": {
    "id": "UyFFcZtkeKwT"
   },
   "outputs": [],
   "source": [
    "config_batch_size = 1\n",
    "config_lr = 1e-5 # Selected learning rate for best RoBERTa-based model in TRIP paper\n",
    "config_epochs = 10"
   ]
  },
  {
   "cell_type": "markdown",
   "metadata": {
    "id": "hH9a70CTaGpG"
   },
   "source": [
    "4.   (For training TRIP models only) Configure the loss weighting scheme for training models here. We provide the 4 modes from the paper as examples.\n"
   ]
  },
  {
   "cell_type": "code",
   "execution_count": 5,
   "metadata": {
    "id": "UvQEiNBSACak"
   },
   "outputs": [],
   "source": [
    "# Loss weights for (attributes, preconditions, effects, conflicts, story choices)\n",
    "if task_name != 'trip':\n",
    "  print(\"We do not need a loss weighting scheme for %s dataset. Ignoring this cell.\" % task_name)\n",
    "# loss_weights = [0.0, 0.4, 0.4, 0.1, 0.1] # \"All losses\"\n",
    "loss_weights = [0.0, 0.4, 0.4, 0.2, 0.0] # \"Omit story choice loss\"\n",
    "# loss_weights = [0.0, 0.4, 0.4, 0.0, 0.2] # \"Omit conflict detection loss\"\n",
    "# loss_weights = [0.0, 0.0, 0.0, 0.5, 0.5] # \"Omit state classification losses\""
   ]
  },
  {
   "cell_type": "markdown",
   "metadata": {
    "id": "zmpchQTIg3HZ"
   },
   "source": [
    "   5. (If evaluating models) Provide the name of the pre-trained model directory here. This should be the name of a directory within the *saved_models* directory, which should be located where this notebook is. Names of provided pre-trained model directories are listed."
   ]
  },
  {
   "cell_type": "code",
   "execution_count": 6,
   "metadata": {
    "id": "W8tH7UMZhI1N"
   },
   "outputs": [],
   "source": [
    "# TRIP, all losses\n",
    "# eval_model_dir = 'bert-large-uncased_cloze_1_5e-06_4_0.0-0.4-0.4-0.1-0.1_tiered_pipeline_ablate_attributes_states-logits'\n",
    "# eval_model_dir = 'roberta-large_cloze_1_1e-05_7_0.0-0.4-0.4-0.1-0.1_tiered_pipeline_ablate_attributes_states-logits'\n",
    "# eval_model_dir = 'microsoft-deberta-base_cloze_1_5e-06_5_0.0-0.4-0.4-0.1-0.1_tiered_pipeline_ablate_attributes_states-logits'\n",
    "\n",
    "# TRIP, no story classification loss\n",
    "#eval_model_dir = 'bert-large-uncased_cloze_1_5e-05_8_0.0-0.4-0.4-0.2-0.0_tiered_pipeline_ablate_attributes_states-logits'\n",
    "#eval_model_dir = 'bert-wikihow_cloze_1_5e-05_8_0.0-0.4-0.4-0.2-0.0_tiered_pipeline_ablate_attributes_states-logits'\n",
    "# eval_model_dir = 'roberta-base_wikihow_cloze_1_1e-05_5_0.0-0.4-0.4-0.2-0.0_tiered_pipeline_lc_ablate_attributes_states-logits' # Best model trained in the TRIP paper\n",
    "#eval_model_dir = 'roberta-base_FIXED_cloze_1_1e-05_5_0.0-0.4-0.4-0.2-0.0_tiered_pipeline_lc_ablate_attributes_states-logits' # Best model trained in the TRIP paper\n",
    "# eval_model_dir = 'microsoft-deberta-base_cloze_1_5e-05_5_0.0-0.4-0.4-0.2-0.0_tiered_pipeline_ablate_attributes_states-logits'\n",
    "\n",
    "# TRIP, no conflict detection loss\n",
    "# eval_model_dir = 'bert-large-uncased_cloze_1_1e-06_1_0.0-0.4-0.4-0.0-0.2_tiered_pipeline_ablate_attributes_states-logits'\n",
    "# eval_model_dir = 'roberta-large_cloze_1_5e-06_8_0.0-0.4-0.4-0.0-0.2_tiered_pipeline_ablate_attributes_states-logits'\n",
    "# eval_model_dir = 'microsoft-deberta-base_cloze_1_1e-06_3_0.0-0.4-0.4-0.0-0.2_tiered_pipeline_ablate_attributes_states-logits'\n",
    "\n",
    "# TRIP, no physical state classification loss\n",
    "# eval_model_dir = 'bert-large-uncased_cloze_1_1e-05_3_0.0-0.0-0.0-0.5-0.5_tiered_pipeline_ablate_attributes_states-logits'\n",
    "# eval_model_dir = 'roberta-large_cloze_1_1e-06_7_0.0-0.0-0.0-0.5-0.5_tiered_pipeline_ablate_attributes_states-logits'\n",
    "# eval_model_dir = 'microsoft-deberta-base_cloze_1_5e-06_9_0.0-0.0-0.0-0.5-0.5_tiered_pipeline_ablate_attributes_states-logits'\n",
    "\n",
    "# CE\n",
    "# eval_model_dir = 'bert-large-uncased_ConvEnt_32_7.5e-06_7_xval'\n",
    "# eval_model_dir = 'roberta-large_ConvEnt_32_7.5e-06_9_xval'\n",
    "# eval_model_dir = 'roberta-large-mnli_ConvEnt_32_7.5e-06_7_xval'\n",
    "# eval_model_dir = 'microsoft-deberta-large_ConvEnt_16_1e-05_9_xval'\n",
    "\n",
    "# ART\n",
    "# eval_model_dir = 'bert-large-uncased_art_64_5e-06_8'\n",
    "# eval_model_dir = 'roberta-large_art_64_2.5e-06_4'\n",
    "# eval_model_dir = 'DeBERTa-deberta-large_art_32_1e-06_8'"
   ]
  },
  {
   "cell_type": "markdown",
   "metadata": {
    "id": "3GA5VS3Sfgfz"
   },
   "source": [
    "**For more configuration options, scroll down to the Train Models > Configure Hyperparameters cell for the task you're working on.**"
   ]
  },
  {
   "cell_type": "markdown",
   "metadata": {
    "id": "qqvj34KhLL0k"
   },
   "source": [
    "# Setup\n",
    "Run this block every time when starting up the notebook. It will get Colab ready, preprocess the data, and load model packages and classes we'll need later. May take several minutes to run for the first time.\n",
    "\n",
    "**If you get a `ModuleNotFoundError` for the `www` code base, try the following:**\n",
    "\n",
    "\n",
    "1.   Ensure the DRIVE_PATH is set properly above.\n",
    "2.   (Colab only) Verify that this notebook has access to your Google Drive (click the folder icon on the left and then the Google Drive icon).\n",
    "2.   Try to restart the runtime and refresh your browser window.\n",
    "2.   (Colab only) If the problem persists, revoke access to Google Drive and re-enable it.\n",
    "\n",
    "\n",
    "\n"
   ]
  },
  {
   "cell_type": "markdown",
   "metadata": {
    "id": "xm7qzKnAnbU9"
   },
   "source": [
    "## Colab Setup\n",
    "\n",
    "Enable auto reloading of code libraries from Google Drive, set up connection to Google Drive, and import some packages. 🔌"
   ]
  },
  {
   "cell_type": "code",
   "execution_count": 7,
   "metadata": {
    "colab": {
     "base_uri": "https://localhost:8080/"
    },
    "executionInfo": {
     "elapsed": 5,
     "status": "ok",
     "timestamp": 1631304597639,
     "user": {
      "displayName": "Shane Storks",
      "photoUrl": "https://lh3.googleusercontent.com/a-/AOh14Gh8CqjwUclCWWIoFwUB05rZNHwyd6nEIrTXC6RVXw=s64",
      "userId": "00590987742306216924"
     },
     "user_tz": 240
    },
    "id": "U8h8hUVaqySd",
    "outputId": "6cd18c92-af82-4446-81e2-ef91e34d61f8"
   },
   "outputs": [],
   "source": [
    "%load_ext autoreload\n",
    "%autoreload 2"
   ]
  },
  {
   "cell_type": "code",
   "execution_count": 8,
   "metadata": {
    "colab": {
     "base_uri": "https://localhost:8080/"
    },
    "executionInfo": {
     "elapsed": 3429,
     "status": "ok",
     "timestamp": 1631304601236,
     "user": {
      "displayName": "Shane Storks",
      "photoUrl": "https://lh3.googleusercontent.com/a-/AOh14Gh8CqjwUclCWWIoFwUB05rZNHwyd6nEIrTXC6RVXw=s64",
      "userId": "00590987742306216924"
     },
     "user_tz": 240
    },
    "id": "P3dNQeNNnkHD",
    "outputId": "a9eaffd8-a622-496b-c5e0-80d5728c382b"
   },
   "outputs": [
    {
     "name": "stdout",
     "output_type": "stream",
     "text": [
      "Requirement already satisfied: jsonlines in /home/khalifam/anaconda3/envs/py377/lib/python3.7/site-packages (3.0.0)\r\n",
      "Requirement already satisfied: attrs>=19.2.0 in /home/khalifam/anaconda3/envs/py377/lib/python3.7/site-packages (from jsonlines) (21.2.0)\r\n",
      "Requirement already satisfied: typing-extensions in /home/khalifam/anaconda3/envs/py377/lib/python3.7/site-packages (from jsonlines) (3.10.0.2)\r\n"
     ]
    }
   ],
   "source": [
    "import os\n",
    "import json\n",
    "import sys\n",
    "import torch\n",
    "import random\n",
    "import numpy as np\n",
    "import spacy\n",
    "!pip install jsonlines\n",
    "\n",
    "sys.path.append(DRIVE_PATH)"
   ]
  },
  {
   "cell_type": "markdown",
   "metadata": {
    "id": "zQLB_Y-wSsfk"
   },
   "source": [
    "## Model Setup\n",
    "\n",
    "Next, we'll load up the transformer model, tokenizer, etc. ⏳"
   ]
  },
  {
   "cell_type": "markdown",
   "metadata": {
    "id": "FoY37xIF-oP7"
   },
   "source": [
    "### Install HuggingFace transformers and other dependencies"
   ]
  },
  {
   "cell_type": "markdown",
   "metadata": {
    "id": "Z4LFuLhzAa2j"
   },
   "source": [
    "### Get Model Components"
   ]
  },
  {
   "cell_type": "markdown",
   "metadata": {
    "id": "2ZhhgV9c__TU"
   },
   "source": [
    "Specify which model parameters from transformers we want to use:"
   ]
  },
  {
   "cell_type": "code",
   "execution_count": 9,
   "metadata": {
    "id": "uA6XunCb_gd9"
   },
   "outputs": [],
   "source": [
    "if task_name in ['trip', 'ce']:\n",
    "  multiple_choice = False\n",
    "elif task_name == 'art':\n",
    "  multiple_choice = True\n",
    "else:\n",
    "  raise ValueError(\"Task name should be set to 'trip', 'ce', or 'art' in the first cell of the notebook!\")\n",
    "\n",
    "if mode == 'bert':\n",
    "  model_name = 'bert-large-uncased'\n",
    "elif mode == 'bert_base':\n",
    "  model_name = 'bert-base-uncased'\n",
    "elif mode == 'roberta':\n",
    "  model_name = 'roberta-large'\n",
    "elif mode == 'roberta_mnli':\n",
    "  model_name = 'roberta-large-mnli'\n",
    "elif mode == 'deberta':\n",
    "  model_name = 'microsoft/deberta-base'\n",
    "elif mode == 'deberta_large':\n",
    "  model_name = 'microsoft/deberta-large'\n",
    "elif mode == 'roberta_base':\n",
    "    model_name = 'roberta-base'\n",
    "elif mode == 'wikihow_roberta':\n",
    "    model_name = 'zharry29/goal_benchmark_roberta'\n",
    "elif mode =='wikihow_bert':\n",
    "    model_name = 'zharry29/goal_benchmark_bert'"
   ]
  },
  {
   "cell_type": "markdown",
   "metadata": {
    "id": "hgFIl1MJ-185"
   },
   "source": [
    "Load the tokenizer:"
   ]
  },
  {
   "cell_type": "code",
   "execution_count": 11,
   "metadata": {
    "id": "etkxf75f-9Gj"
   },
   "outputs": [
    {
     "name": "stdout",
     "output_type": "stream",
     "text": [
      "bert_base\n",
      "<class 'transformers.models.bert.tokenization_bert.BertTokenizer'>\n"
     ]
    },
    {
     "data": {
      "application/vnd.jupyter.widget-view+json": {
       "model_id": "29e4bc8ef94a4c018bcdb6034ab6986c",
       "version_major": 2,
       "version_minor": 0
      },
      "text/plain": [
       "Downloading:   0%|          | 0.00/232k [00:00<?, ?B/s]"
      ]
     },
     "metadata": {},
     "output_type": "display_data"
    },
    {
     "data": {
      "application/vnd.jupyter.widget-view+json": {
       "model_id": "34d69816bcba4899877fea5161228c1c",
       "version_major": 2,
       "version_minor": 0
      },
      "text/plain": [
       "Downloading:   0%|          | 0.00/28.0 [00:00<?, ?B/s]"
      ]
     },
     "metadata": {},
     "output_type": "display_data"
    },
    {
     "data": {
      "application/vnd.jupyter.widget-view+json": {
       "model_id": "8a07b2010b6a436ca541829a565ee909",
       "version_major": 2,
       "version_minor": 0
      },
      "text/plain": [
       "Downloading:   0%|          | 0.00/466k [00:00<?, ?B/s]"
      ]
     },
     "metadata": {},
     "output_type": "display_data"
    }
   ],
   "source": [
    "from transformers import BertTokenizer, RobertaTokenizer, DebertaTokenizer, AlbertTokenizer, T5Tokenizer, GPT2Tokenizer\n",
    "\n",
    "from DeBERTa import deberta\n",
    "print(mode)\n",
    "if mode in ['bert', 'wikihow_bert', 'bert_base']:\n",
    "    tokenizer_class = BertTokenizer\n",
    "elif mode in ['roberta', 'roberta_mnli', 'roberta_base']:\n",
    "    tokenizer_class = RobertaTokenizer\n",
    "elif mode in ['deberta', 'deberta_large']:\n",
    "    tokenizer_class = DebertaTokenizer\n",
    "\n",
    "print(tokenizer_class)\n",
    "tokenizer = tokenizer_class.from_pretrained(model_name, \n",
    "                                                do_lower_case = False, \n",
    "                                                cache_dir=os.path.join(DRIVE_PATH, 'cache'))"
   ]
  },
  {
   "cell_type": "markdown",
   "metadata": {
    "id": "d0iYZG6bBGIf"
   },
   "source": [
    "Load the model and optimizer:\n",
    "\n"
   ]
  },
  {
   "cell_type": "code",
   "execution_count": 34,
   "metadata": {
    "id": "1PxFghcDBPm_"
   },
   "outputs": [],
   "source": [
    "from transformers import BertForSequenceClassification, RobertaForSequenceClassification, DebertaForSequenceClassification, AlbertForSequenceClassification, AdamW\n",
    "from transformers import BertForMultipleChoice, RobertaForMultipleChoice, AlbertForMultipleChoice, DebertaModel\n",
    "from transformers import BertModel, RobertaModel, AlbertModel, DebertaModel, T5Model, T5EncoderModel, GPT2Model\n",
    "from transformers import RobertaForMaskedLM\n",
    "from transformers import BertConfig, RobertaConfig, DebertaConfig, AlbertConfig, T5Config, GPT2Config\n",
    "from www.model.transformers_ext import DebertaForMultipleChoice\n",
    "from torch.optim import Adam\n",
    "if not multiple_choice:\n",
    "  if mode == 'bert' or mode =='bert_base':\n",
    "    model_class = BertForSequenceClassification\n",
    "    config_class = BertConfig\n",
    "    emb_class = BertModel\n",
    "  elif mode in ['roberta', 'roberta_mnli']:\n",
    "    model_class = RobertaForSequenceClassification\n",
    "    config_class = RobertaConfig\n",
    "    emb_class = RobertaModel\n",
    "    lm_class = RobertaForMaskedLM\n",
    "  elif mode in ['deberta', 'deberta_large']:\n",
    "    model_class = DebertaForSequenceClassification\n",
    "    config_class = DebertaConfig\n",
    "    emb_class = DebertaModel\n",
    "else:\n",
    "  if mode == 'bert' or mode == 'bert_base':\n",
    "    model_class = BertForMultipleChoice\n",
    "    config_class = BertConfig\n",
    "    emb_class = BertModel    \n",
    "  elif mode in ['roberta', 'roberta_mnli', 'roberta_base']:\n",
    "    model_class = RobertaForMultipleChoice\n",
    "    config_class = RobertaConfig\n",
    "    emb_class = RobertaModel\n",
    "    lm_class = RobertaForMaskedLM\n",
    "  elif mode in ['deberta', 'deberta_large']:\n",
    "    model_class = DebertaForMultipleChoice\n",
    "    config_class = DebertaConfig\n",
    "    emb_class = DebertaModel"
   ]
  },
  {
   "cell_type": "code",
   "execution_count": 35,
   "metadata": {},
   "outputs": [
    {
     "data": {
      "text/plain": [
       "transformers.models.bert.configuration_bert.BertConfig"
      ]
     },
     "execution_count": 35,
     "metadata": {},
     "output_type": "execute_result"
    }
   ],
   "source": [
    "config_class"
   ]
  },
  {
   "cell_type": "markdown",
   "metadata": {
    "id": "QzFnAVtuUmpQ"
   },
   "source": [
    "## Data Setup\n",
    "\n",
    "Preprocess the dataset."
   ]
  },
  {
   "cell_type": "markdown",
   "metadata": {
    "id": "lKY0hTEgnQgB"
   },
   "source": [
    "### Preprocessing\n",
    "\n",
    "Construct the dataset from the .txt files collected from AMT. Save a backup copy in Drive."
   ]
  },
  {
   "cell_type": "code",
   "execution_count": 13,
   "metadata": {
    "colab": {
     "base_uri": "https://localhost:8080/"
    },
    "executionInfo": {
     "elapsed": 4250,
     "status": "ok",
     "timestamp": 1631304619289,
     "user": {
      "displayName": "Shane Storks",
      "photoUrl": "https://lh3.googleusercontent.com/a-/AOh14Gh8CqjwUclCWWIoFwUB05rZNHwyd6nEIrTXC6RVXw=s64",
      "userId": "00590987742306216924"
     },
     "user_tz": 240
    },
    "id": "aE-LOkJ4nWuu",
    "outputId": "61921ed0-f763-4280-d0ea-5979458d51ca"
   },
   "outputs": [
    {
     "name": "stdout",
     "output_type": "stream",
     "text": [
      "Preprocessed examples:\n",
      "{\n",
      "  story_id: \n",
      "    13,\n",
      "  worker_id: \n",
      "    A32W24TWSWXW,\n",
      "  type: \n",
      "    None,\n",
      "  idx: \n",
      "    None,\n",
      "  aug: \n",
      "    False,\n",
      "  actor: \n",
      "    John,\n",
      "  location: \n",
      "    kitchen,\n",
      "  objects: \n",
      "    cabinet, counter, knife, pan, potato, pizza,\n",
      "  sentences: \n",
      "    [\n",
      "      John was getting the snacks ready for the party.\n",
      "      John opened the cabinet, took out a pan and put it on the counter.\n",
      "      John opened the fridge and got out the pizza.\n",
      "      John put the pizza on the pan and put them into the oven.\n",
      "      John took a knife and cut the hot pizza in eight slices.\n",
      "    ],\n",
      "  length: \n",
      "    5,\n",
      "  example_id: \n",
      "    13,\n",
      "  plausible: \n",
      "    True,\n",
      "  breakpoint: \n",
      "    -1,\n",
      "  confl_sents: \n",
      "    [],\n",
      "  confl_pairs: \n",
      "    [],\n",
      "  states: \n",
      "    [\n",
      "      {'h_location': [['John', 0]], 'conscious': [['John', 2]], 'wearing': [['John', 0]], 'h_wet': [['John', 0]], 'hygiene': [['John', 0]], 'location': [['snacks', 0], ['party', 0]], 'exist': [['snacks', 4], ['party', 2]], 'clean': [['snacks', 0], ['party', 0]], 'power': [['snacks', 0], ['party', 0]], 'functional': [['snacks', 2], ['party', 2]], 'pieces': [['snacks', 0], ['party', 0]], 'wet': [['snacks', 0], ['party', 0]], 'open': [['snacks', 0], ['party', 0]], 'temperature': [['snacks', 0], ['party', 0]], 'solid': [['snacks', 0], ['party', 0]], 'contain': [['snacks', 0], ['party', 0]], 'running': [['snacks', 0], ['party', 0]], 'moveable': [['snacks', 2], ['party', 2]], 'mixed': [['snacks', 0], ['party', 0]], 'edible': [['snacks', 0], ['party', 0]]}\n",
      "      {'h_location': [['John', 0]], 'conscious': [['John', 2]], 'wearing': [['John', 0]], 'h_wet': [['John', 0]], 'hygiene': [['John', 0]], 'location': [['counter', 0], ['pan', 7], ['cabinet', 0]], 'exist': [['counter', 2], ['pan', 2], ['cabinet', 2]], 'clean': [['counter', 0], ['pan', 0], ['cabinet', 0]], 'power': [['counter', 0], ['pan', 0], ['cabinet', 0]], 'functional': [['counter', 2], ['pan', 2], ['cabinet', 2]], 'pieces': [['counter', 0], ['pan', 0], ['cabinet', 0]], 'wet': [['counter', 0], ['pan', 0], ['cabinet', 0]], 'open': [['counter', 0], ['pan', 0], ['cabinet', 0]], 'temperature': [['counter', 0], ['pan', 0], ['cabinet', 0]], 'solid': [['counter', 0], ['pan', 0], ['cabinet', 0]], 'contain': [['counter', 6], ['pan', 0], ['cabinet', 8]], 'running': [['counter', 0], ['pan', 0], ['cabinet', 0]], 'moveable': [['counter', 0], ['pan', 2], ['cabinet', 0]], 'mixed': [['counter', 0], ['pan', 0], ['cabinet', 0]], 'edible': [['counter', 0], ['pan', 0], ['cabinet', 0]]}\n",
      "      {'h_location': [['John', 0]], 'conscious': [['John', 2]], 'wearing': [['John', 0]], 'h_wet': [['John', 0]], 'hygiene': [['John', 0]], 'location': [['fridge', 0], ['pizza', 7]], 'exist': [['fridge', 2], ['pizza', 2]], 'clean': [['fridge', 0], ['pizza', 0]], 'power': [['fridge', 2], ['pizza', 0]], 'functional': [['fridge', 2], ['pizza', 2]], 'pieces': [['fridge', 0], ['pizza', 0]], 'wet': [['fridge', 0], ['pizza', 0]], 'open': [['fridge', 4], ['pizza', 0]], 'temperature': [['fridge', 0], ['pizza', 1]], 'solid': [['fridge', 0], ['pizza', 0]], 'contain': [['fridge', 8], ['pizza', 0]], 'running': [['fridge', 2], ['pizza', 0]], 'moveable': [['fridge', 2], ['pizza', 2]], 'mixed': [['fridge', 0], ['pizza', 0]], 'edible': [['fridge', 0], ['pizza', 0]]}\n",
      "      {'h_location': [['John', 0]], 'conscious': [['John', 2]], 'wearing': [['John', 0]], 'h_wet': [['John', 0]], 'hygiene': [['John', 0]], 'location': [['oven', 0], ['pizza', 3], ['pan', 6]], 'exist': [['oven', 2], ['pizza', 2], ['pan', 2]], 'clean': [['oven', 0], ['pizza', 0], ['pan', 0]], 'power': [['oven', 2], ['pizza', 0], ['pan', 0]], 'functional': [['oven', 2], ['pizza', 2], ['pan', 2]], 'pieces': [['oven', 0], ['pizza', 0], ['pan', 0]], 'wet': [['oven', 0], ['pizza', 0], ['pan', 0]], 'open': [['oven', 8], ['pizza', 0], ['pan', 0]], 'temperature': [['oven', 2], ['pizza', 0], ['pan', 0]], 'solid': [['oven', 0], ['pizza', 0], ['pan', 0]], 'contain': [['oven', 6], ['pizza', 0], ['pan', 4]], 'running': [['oven', 0], ['pizza', 0], ['pan', 0]], 'moveable': [['oven', 0], ['pizza', 2], ['pan', 2]], 'mixed': [['oven', 0], ['pizza', 0], ['pan', 0]], 'edible': [['oven', 0], ['pizza', 0], ['pan', 0]]}\n",
      "      {'h_location': [['John', 0]], 'conscious': [['John', 2]], 'wearing': [['John', 0]], 'h_wet': [['John', 0]], 'hygiene': [['John', 0]], 'location': [['knife', 2], ['slices', 2], ['hot pizza', 0]], 'exist': [['knife', 2], ['slices', 2], ['hot pizza', 2]], 'clean': [['knife', 0], ['slices', 0], ['hot pizza', 0]], 'power': [['knife', 0], ['slices', 0], ['hot pizza', 0]], 'functional': [['knife', 2], ['slices', 2], ['hot pizza', 2]], 'pieces': [['knife', 0], ['slices', 0], ['hot pizza', 4]], 'wet': [['knife', 0], ['slices', 0], ['hot pizza', 0]], 'open': [['knife', 0], ['slices', 0], ['hot pizza', 0]], 'temperature': [['knife', 0], ['slices', 0], ['hot pizza', 2]], 'solid': [['knife', 0], ['slices', 0], ['hot pizza', 0]], 'contain': [['knife', 0], ['slices', 0], ['hot pizza', 0]], 'running': [['knife', 0], ['slices', 0], ['hot pizza', 0]], 'moveable': [['knife', 2], ['slices', 2], ['hot pizza', 2]], 'mixed': [['knife', 0], ['slices', 0], ['hot pizza', 0]], 'edible': [['knife', 0], ['slices', 0], ['hot pizza', 0]]}\n",
      "    ],\n",
      "}\n",
      "\n",
      "\n",
      "{\n",
      "  story_id: \n",
      "    13,\n",
      "  worker_id: \n",
      "    A32W24TWSWXW,\n",
      "  type: \n",
      "    cloze,\n",
      "  idx: \n",
      "    0,\n",
      "  aug: \n",
      "    False,\n",
      "  actor: \n",
      "    John,\n",
      "  location: \n",
      "    kitchen,\n",
      "  objects: \n",
      "    cabinet, counter, knife, pan, potato, pizza,\n",
      "  sentences: \n",
      "    [\n",
      "      John was getting the snacks ready for the party.\n",
      "      John opened the cabinet, took out a pan and put it on the counter.\n",
      "      John opened the fridge and got out the pizza.\n",
      "      John put the pizza on the pan and put them into the oven.\n",
      "      John called the pizza joint to deliver a pizza.\n",
      "    ],\n",
      "  length: \n",
      "    5,\n",
      "  example_id: \n",
      "    13-C0,\n",
      "  plausible: \n",
      "    False,\n",
      "  breakpoint: \n",
      "    4,\n",
      "  confl_sents: \n",
      "    [\n",
      "      2\n",
      "      3\n",
      "    ],\n",
      "  confl_pairs: \n",
      "    [\n",
      "      [2, 4]\n",
      "      [3, 4]\n",
      "    ],\n",
      "  states: \n",
      "    [\n",
      "      {'h_location': [['John', 0]], 'conscious': [['John', 2]], 'wearing': [['John', 0]], 'h_wet': [['John', 0]], 'hygiene': [['John', 0]], 'location': [['snacks', 0], ['party', 0]], 'exist': [['snacks', 4], ['party', 2]], 'clean': [['snacks', 0], ['party', 0]], 'power': [['snacks', 0], ['party', 0]], 'functional': [['snacks', 2], ['party', 2]], 'pieces': [['snacks', 0], ['party', 0]], 'wet': [['snacks', 0], ['party', 0]], 'open': [['snacks', 0], ['party', 0]], 'temperature': [['snacks', 0], ['party', 0]], 'solid': [['snacks', 0], ['party', 0]], 'contain': [['snacks', 0], ['party', 0]], 'running': [['snacks', 0], ['party', 0]], 'moveable': [['snacks', 2], ['party', 2]], 'mixed': [['snacks', 0], ['party', 0]], 'edible': [['snacks', 0], ['party', 0]]}\n",
      "      {'h_location': [['John', 0]], 'conscious': [['John', 2]], 'wearing': [['John', 0]], 'h_wet': [['John', 0]], 'hygiene': [['John', 0]], 'location': [['counter', 0], ['pan', 7], ['cabinet', 0]], 'exist': [['counter', 2], ['pan', 2], ['cabinet', 2]], 'clean': [['counter', 0], ['pan', 0], ['cabinet', 0]], 'power': [['counter', 0], ['pan', 0], ['cabinet', 0]], 'functional': [['counter', 2], ['pan', 2], ['cabinet', 2]], 'pieces': [['counter', 0], ['pan', 0], ['cabinet', 0]], 'wet': [['counter', 0], ['pan', 0], ['cabinet', 0]], 'open': [['counter', 0], ['pan', 0], ['cabinet', 0]], 'temperature': [['counter', 0], ['pan', 0], ['cabinet', 0]], 'solid': [['counter', 0], ['pan', 0], ['cabinet', 0]], 'contain': [['counter', 6], ['pan', 0], ['cabinet', 8]], 'running': [['counter', 0], ['pan', 0], ['cabinet', 0]], 'moveable': [['counter', 0], ['pan', 2], ['cabinet', 0]], 'mixed': [['counter', 0], ['pan', 0], ['cabinet', 0]], 'edible': [['counter', 0], ['pan', 0], ['cabinet', 0]]}\n",
      "      {'h_location': [['John', 0]], 'conscious': [['John', 2]], 'wearing': [['John', 0]], 'h_wet': [['John', 0]], 'hygiene': [['John', 0]], 'location': [['fridge', 0], ['pizza', 7]], 'exist': [['fridge', 2], ['pizza', 2]], 'clean': [['fridge', 0], ['pizza', 0]], 'power': [['fridge', 2], ['pizza', 0]], 'functional': [['fridge', 2], ['pizza', 2]], 'pieces': [['fridge', 0], ['pizza', 0]], 'wet': [['fridge', 0], ['pizza', 0]], 'open': [['fridge', 4], ['pizza', 0]], 'temperature': [['fridge', 0], ['pizza', 1]], 'solid': [['fridge', 0], ['pizza', 0]], 'contain': [['fridge', 8], ['pizza', 0]], 'running': [['fridge', 2], ['pizza', 0]], 'moveable': [['fridge', 2], ['pizza', 2]], 'mixed': [['fridge', 0], ['pizza', 0]], 'edible': [['fridge', 0], ['pizza', 0]]}\n",
      "      {'h_location': [['John', 0]], 'conscious': [['John', 2]], 'wearing': [['John', 0]], 'h_wet': [['John', 0]], 'hygiene': [['John', 0]], 'location': [['oven', 0], ['pizza', 3], ['pan', 6]], 'exist': [['oven', 2], ['pizza', 2], ['pan', 2]], 'clean': [['oven', 0], ['pizza', 0], ['pan', 0]], 'power': [['oven', 2], ['pizza', 0], ['pan', 0]], 'functional': [['oven', 2], ['pizza', 2], ['pan', 2]], 'pieces': [['oven', 0], ['pizza', 0], ['pan', 0]], 'wet': [['oven', 0], ['pizza', 0], ['pan', 0]], 'open': [['oven', 8], ['pizza', 0], ['pan', 0]], 'temperature': [['oven', 2], ['pizza', 0], ['pan', 0]], 'solid': [['oven', 0], ['pizza', 0], ['pan', 0]], 'contain': [['oven', 6], ['pizza', 0], ['pan', 4]], 'running': [['oven', 0], ['pizza', 0], ['pan', 0]], 'moveable': [['oven', 0], ['pizza', 2], ['pan', 2]], 'mixed': [['oven', 0], ['pizza', 0], ['pan', 0]], 'edible': [['oven', 0], ['pizza', 0], ['pan', 0]]}\n",
      "      {'h_location': [['John', 0]], 'conscious': [['John', 2]], 'wearing': [['John', 0]], 'h_wet': [['John', 0]], 'hygiene': [['John', 0]], 'location': [['pizza', 0]], 'exist': [['pizza', 4]], 'clean': [['pizza', 0]], 'power': [['pizza', 0]], 'functional': [['pizza', 2]], 'pieces': [['pizza', 0]], 'wet': [['pizza', 0]], 'open': [['pizza', 0]], 'temperature': [['pizza', 0]], 'solid': [['pizza', 0]], 'contain': [['pizza', 0]], 'running': [['pizza', 0]], 'moveable': [['pizza', 2]], 'mixed': [['pizza', 0]], 'edible': [['pizza', 0]]}\n",
      "    ],\n",
      "}\n",
      "\n",
      "\n",
      "{\n",
      "  story_id: \n",
      "    13,\n",
      "  worker_id: \n",
      "    A32W24TWSWXW,\n",
      "  type: \n",
      "    order,\n",
      "  idx: \n",
      "    2,\n",
      "  aug: \n",
      "    False,\n",
      "  actor: \n",
      "    John,\n",
      "  location: \n",
      "    kitchen,\n",
      "  objects: \n",
      "    cabinet, counter, knife, pan, potato, pizza,\n",
      "  sentences: \n",
      "    [\n",
      "      John was getting the snacks ready for the party.\n",
      "      John opened the cabinet, took out a pan and put it on the counter.\n",
      "      John put the pizza on the pan and put them into the oven.\n",
      "      John opened the fridge and got out the pizza.\n",
      "      John took a knife and cut the hot pizza in eight slices.\n",
      "    ],\n",
      "  length: \n",
      "    5,\n",
      "  example_id: \n",
      "    13-O2,\n",
      "  plausible: \n",
      "    False,\n",
      "  breakpoint: \n",
      "    3,\n",
      "  confl_sents: \n",
      "    [\n",
      "      2\n",
      "    ],\n",
      "  confl_pairs: \n",
      "    [],\n",
      "  states: \n",
      "    [\n",
      "      {'h_location': [['John', 0]], 'conscious': [['John', 2]], 'wearing': [['John', 0]], 'h_wet': [['John', 0]], 'hygiene': [['John', 0]], 'location': [['snacks', 0], ['party', 0]], 'exist': [['snacks', 4], ['party', 2]], 'clean': [['snacks', 0], ['party', 0]], 'power': [['snacks', 0], ['party', 0]], 'functional': [['snacks', 2], ['party', 2]], 'pieces': [['snacks', 0], ['party', 0]], 'wet': [['snacks', 0], ['party', 0]], 'open': [['snacks', 0], ['party', 0]], 'temperature': [['snacks', 0], ['party', 0]], 'solid': [['snacks', 0], ['party', 0]], 'contain': [['snacks', 0], ['party', 0]], 'running': [['snacks', 0], ['party', 0]], 'moveable': [['snacks', 2], ['party', 2]], 'mixed': [['snacks', 0], ['party', 0]], 'edible': [['snacks', 0], ['party', 0]]}\n",
      "      {'h_location': [['John', 0]], 'conscious': [['John', 2]], 'wearing': [['John', 0]], 'h_wet': [['John', 0]], 'hygiene': [['John', 0]], 'location': [['counter', 0], ['pan', 7], ['cabinet', 0]], 'exist': [['counter', 2], ['pan', 2], ['cabinet', 2]], 'clean': [['counter', 0], ['pan', 0], ['cabinet', 0]], 'power': [['counter', 0], ['pan', 0], ['cabinet', 0]], 'functional': [['counter', 2], ['pan', 2], ['cabinet', 2]], 'pieces': [['counter', 0], ['pan', 0], ['cabinet', 0]], 'wet': [['counter', 0], ['pan', 0], ['cabinet', 0]], 'open': [['counter', 0], ['pan', 0], ['cabinet', 0]], 'temperature': [['counter', 0], ['pan', 0], ['cabinet', 0]], 'solid': [['counter', 0], ['pan', 0], ['cabinet', 0]], 'contain': [['counter', 6], ['pan', 0], ['cabinet', 8]], 'running': [['counter', 0], ['pan', 0], ['cabinet', 0]], 'moveable': [['counter', 0], ['pan', 2], ['cabinet', 0]], 'mixed': [['counter', 0], ['pan', 0], ['cabinet', 0]], 'edible': [['counter', 0], ['pan', 0], ['cabinet', 0]]}\n",
      "      {'h_location': [['John', 0]], 'conscious': [['John', 2]], 'wearing': [['John', 0]], 'h_wet': [['John', 0]], 'hygiene': [['John', 0]], 'location': [['oven', 0], ['pizza', 3], ['pan', 6]], 'exist': [['oven', 2], ['pizza', 2], ['pan', 2]], 'clean': [['oven', 0], ['pizza', 0], ['pan', 0]], 'power': [['oven', 2], ['pizza', 0], ['pan', 0]], 'functional': [['oven', 2], ['pizza', 2], ['pan', 2]], 'pieces': [['oven', 0], ['pizza', 0], ['pan', 0]], 'wet': [['oven', 0], ['pizza', 0], ['pan', 0]], 'open': [['oven', 8], ['pizza', 0], ['pan', 0]], 'temperature': [['oven', 2], ['pizza', 0], ['pan', 0]], 'solid': [['oven', 0], ['pizza', 0], ['pan', 0]], 'contain': [['oven', 6], ['pizza', 0], ['pan', 4]], 'running': [['oven', 0], ['pizza', 0], ['pan', 0]], 'moveable': [['oven', 0], ['pizza', 2], ['pan', 2]], 'mixed': [['oven', 0], ['pizza', 0], ['pan', 0]], 'edible': [['oven', 0], ['pizza', 0], ['pan', 0]]}\n",
      "      {'h_location': [['John', 0]], 'conscious': [['John', 2]], 'wearing': [['John', 0]], 'h_wet': [['John', 0]], 'hygiene': [['John', 0]], 'location': [['fridge', 0], ['pizza', 7]], 'exist': [['fridge', 2], ['pizza', 2]], 'clean': [['fridge', 0], ['pizza', 0]], 'power': [['fridge', 2], ['pizza', 0]], 'functional': [['fridge', 2], ['pizza', 2]], 'pieces': [['fridge', 0], ['pizza', 0]], 'wet': [['fridge', 0], ['pizza', 0]], 'open': [['fridge', 4], ['pizza', 0]], 'temperature': [['fridge', 0], ['pizza', 1]], 'solid': [['fridge', 0], ['pizza', 0]], 'contain': [['fridge', 8], ['pizza', 0]], 'running': [['fridge', 2], ['pizza', 0]], 'moveable': [['fridge', 2], ['pizza', 2]], 'mixed': [['fridge', 0], ['pizza', 0]], 'edible': [['fridge', 0], ['pizza', 0]]}\n",
      "      {'h_location': [['John', 0]], 'conscious': [['John', 2]], 'wearing': [['John', 0]], 'h_wet': [['John', 0]], 'hygiene': [['John', 0]], 'location': [['knife', 2], ['slices', 2], ['hot pizza', 0]], 'exist': [['knife', 2], ['slices', 2], ['hot pizza', 2]], 'clean': [['knife', 0], ['slices', 0], ['hot pizza', 0]], 'power': [['knife', 0], ['slices', 0], ['hot pizza', 0]], 'functional': [['knife', 2], ['slices', 2], ['hot pizza', 2]], 'pieces': [['knife', 0], ['slices', 0], ['hot pizza', 4]], 'wet': [['knife', 0], ['slices', 0], ['hot pizza', 0]], 'open': [['knife', 0], ['slices', 0], ['hot pizza', 0]], 'temperature': [['knife', 0], ['slices', 0], ['hot pizza', 2]], 'solid': [['knife', 0], ['slices', 0], ['hot pizza', 0]], 'contain': [['knife', 0], ['slices', 0], ['hot pizza', 0]], 'running': [['knife', 0], ['slices', 0], ['hot pizza', 0]], 'moveable': [['knife', 2], ['slices', 2], ['hot pizza', 2]], 'mixed': [['knife', 0], ['slices', 0], ['hot pizza', 0]], 'edible': [['knife', 0], ['slices', 0], ['hot pizza', 0]]}\n",
      "    ],\n",
      "}\n",
      "\n",
      "\n",
      "{\n",
      "  story_id: \n",
      "    33,\n",
      "  worker_id: \n",
      "    A1F01FVEPYCPHO,\n",
      "  type: \n",
      "    None,\n",
      "  idx: \n",
      "    None,\n",
      "  aug: \n",
      "    False,\n",
      "  actor: \n",
      "    Mary,\n",
      "  location: \n",
      "    bathroom,\n",
      "  objects: \n",
      "    washing machine, cabinet, toothpaste, bleach, socks, mirror,\n",
      "  sentences: \n",
      "    [\n",
      "      Mary took off her socks.\n",
      "      Mary put the socks in the washing machine.\n",
      "      Mary opened the cabinet.\n",
      "      Mary took out the toothbrush and toothpaste.\n",
      "      Mary brushed her teeth while looking in the mirror.\n",
      "    ],\n",
      "  length: \n",
      "    5,\n",
      "  example_id: \n",
      "    33,\n",
      "  plausible: \n",
      "    True,\n",
      "  breakpoint: \n",
      "    -1,\n",
      "  confl_sents: \n",
      "    [],\n",
      "  confl_pairs: \n",
      "    [],\n",
      "  states: \n",
      "    [\n",
      "      {'h_location': [['Mary', 0]], 'conscious': [['Mary', 2]], 'wearing': [['Mary', 8]], 'h_wet': [['Mary', 0]], 'hygiene': [['Mary', 0]], 'location': [['socks', 5]], 'exist': [['socks', 2]], 'clean': [['socks', 0]], 'power': [['socks', 0]], 'functional': [['socks', 2]], 'pieces': [['socks', 0]], 'wet': [['socks', 0]], 'open': [['socks', 0]], 'temperature': [['socks', 0]], 'solid': [['socks', 0]], 'contain': [['socks', 0]], 'running': [['socks', 0]], 'moveable': [['socks', 2]], 'mixed': [['socks', 0]], 'edible': [['socks', 0]]}\n",
      "      {'h_location': [['Mary', 0]], 'conscious': [['Mary', 2]], 'wearing': [['Mary', 0]], 'h_wet': [['Mary', 0]], 'hygiene': [['Mary', 0]], 'location': [['socks', 6], ['washing machine', 0]], 'exist': [['socks', 2], ['washing machine', 2]], 'clean': [['socks', 0], ['washing machine', 0]], 'power': [['socks', 0], ['washing machine', 0]], 'functional': [['socks', 2], ['washing machine', 2]], 'pieces': [['socks', 0], ['washing machine', 0]], 'wet': [['socks', 0], ['washing machine', 0]], 'open': [['socks', 0], ['washing machine', 8]], 'temperature': [['socks', 0], ['washing machine', 0]], 'solid': [['socks', 0], ['washing machine', 0]], 'contain': [['socks', 0], ['washing machine', 6]], 'running': [['socks', 0], ['washing machine', 0]], 'moveable': [['socks', 2], ['washing machine', 2]], 'mixed': [['socks', 0], ['washing machine', 0]], 'edible': [['socks', 0], ['washing machine', 0]]}\n",
      "      {'h_location': [['Mary', 0]], 'conscious': [['Mary', 2]], 'wearing': [['Mary', 0]], 'h_wet': [['Mary', 0]], 'hygiene': [['Mary', 0]], 'location': [['cabinet', 0]], 'exist': [['cabinet', 2]], 'clean': [['cabinet', 0]], 'power': [['cabinet', 0]], 'functional': [['cabinet', 2]], 'pieces': [['cabinet', 0]], 'wet': [['cabinet', 0]], 'open': [['cabinet', 4]], 'temperature': [['cabinet', 0]], 'solid': [['cabinet', 0]], 'contain': [['cabinet', 0]], 'running': [['cabinet', 0]], 'moveable': [['cabinet', 2]], 'mixed': [['cabinet', 0]], 'edible': [['cabinet', 0]]}\n",
      "      {'h_location': [['Mary', 0]], 'conscious': [['Mary', 2]], 'wearing': [['Mary', 0]], 'h_wet': [['Mary', 0]], 'hygiene': [['Mary', 0]], 'location': [['toothbrush', 7], ['toothpaste', 7]], 'exist': [['toothbrush', 2], ['toothpaste', 2]], 'clean': [['toothbrush', 0], ['toothpaste', 0]], 'power': [['toothbrush', 0], ['toothpaste', 0]], 'functional': [['toothbrush', 2], ['toothpaste', 2]], 'pieces': [['toothbrush', 0], ['toothpaste', 0]], 'wet': [['toothbrush', 0], ['toothpaste', 0]], 'open': [['toothbrush', 0], ['toothpaste', 0]], 'temperature': [['toothbrush', 0], ['toothpaste', 0]], 'solid': [['toothbrush', 0], ['toothpaste', 0]], 'contain': [['toothbrush', 0], ['toothpaste', 0]], 'running': [['toothbrush', 0], ['toothpaste', 0]], 'moveable': [['toothbrush', 2], ['toothpaste', 2]], 'mixed': [['toothbrush', 0], ['toothpaste', 0]], 'edible': [['toothbrush', 0], ['toothpaste', 0]]}\n",
      "      {'h_location': [['Mary', 0]], 'conscious': [['Mary', 2]], 'wearing': [['Mary', 0]], 'h_wet': [['Mary', 0]], 'hygiene': [['Mary', 6]], 'location': [['mirror', 0], ['teeth', 0]], 'exist': [['mirror', 2], ['teeth', 2]], 'clean': [['mirror', 0], ['teeth', 6]], 'power': [['mirror', 0], ['teeth', 0]], 'functional': [['mirror', 2], ['teeth', 2]], 'pieces': [['mirror', 0], ['teeth', 0]], 'wet': [['mirror', 0], ['teeth', 0]], 'open': [['mirror', 0], ['teeth', 0]], 'temperature': [['mirror', 0], ['teeth', 0]], 'solid': [['mirror', 0], ['teeth', 0]], 'contain': [['mirror', 0], ['teeth', 0]], 'running': [['mirror', 0], ['teeth', 0]], 'moveable': [['mirror', 2], ['teeth', 0]], 'mixed': [['mirror', 0], ['teeth', 0]], 'edible': [['mirror', 0], ['teeth', 0]]}\n",
      "    ],\n",
      "}\n",
      "\n",
      "\n"
     ]
    }
   ],
   "source": [
    "from www.utils import print_dict\n",
    "\n",
    "partitions = ['train', 'dev', 'test']\n",
    "subtasks = ['cloze', 'order']\n",
    "\n",
    "# We can split the data into multiple json files later\n",
    "data_file = os.path.join(DRIVE_PATH, 'all_data/www.json')\n",
    "with open(data_file, 'r') as f:\n",
    "  dataset = json.load(f)\n",
    "\n",
    "print('Preprocessed examples:')\n",
    "for ex_idx in [0,1,5,10]:\n",
    "  ex = dataset['dev'][list(dataset['dev'].keys())[ex_idx]]\n",
    "  print_dict(ex)"
   ]
  },
  {
   "cell_type": "markdown",
   "metadata": {
    "id": "k_0WsycpFMdb"
   },
   "source": [
    "### Data Filtering and Sampling\n",
    "Since there is a big imbalance between plausible/implausible class labels, we will upsample the plausible stories.\n",
    "\n",
    "For now, we will also break the dataset into two sub-datasets: cloze and ordering.\n",
    "\n"
   ]
  },
  {
   "cell_type": "code",
   "execution_count": 14,
   "metadata": {
    "id": "-twYzY5rF1Mi"
   },
   "outputs": [],
   "source": [
    "cloze_dataset = {p: [] for p in dataset}\n",
    "order_dataset = {p: [] for p in dataset}\n",
    "\n",
    "for p in dataset:\n",
    "  for exid in dataset[p]:\n",
    "    ex = dataset[p][exid]\n",
    "\n",
    "    if ex['type'] == None:\n",
    "      continue\n",
    "    \n",
    "    ex_plaus = dataset[p][str(ex['story_id'])]\n",
    "\n",
    "    if ex['type'] == 'cloze':\n",
    "      cloze_dataset[p].append(ex)\n",
    "      cloze_dataset[p].append(ex_plaus) # For every implausible story, add a copy of its corresponding plausible story\n",
    "\n",
    "    # Exclude augmented ordering examples from dev and test, since the breakpoints aren't always accurate in those\n",
    "    elif ex['type'] == 'order' and not (p != 'train' and ex['aug']): \n",
    "      order_dataset[p].append(ex)\n",
    "      order_dataset[p].append(ex_plaus)"
   ]
  },
  {
   "cell_type": "markdown",
   "metadata": {
    "id": "Cz5tcmScJrka"
   },
   "source": [
    "\n",
    "\n",
    "### Convert TRIP to Two-Story Classification Task\n",
    "\n",
    "Ready the TRIP dataset for two-story classification."
   ]
  },
  {
   "cell_type": "code",
   "execution_count": 15,
   "metadata": {
    "colab": {
     "base_uri": "https://localhost:8080/"
    },
    "executionInfo": {
     "elapsed": 3982,
     "status": "ok",
     "timestamp": 1631304623775,
     "user": {
      "displayName": "Shane Storks",
      "photoUrl": "https://lh3.googleusercontent.com/a-/AOh14Gh8CqjwUclCWWIoFwUB05rZNHwyd6nEIrTXC6RVXw=s64",
      "userId": "00590987742306216924"
     },
     "user_tz": 240
    },
    "id": "Af976ygKJv7W",
    "outputId": "8335b25d-0f7b-4404-db5c-2dbc4f65b2f8"
   },
   "outputs": [
    {
     "name": "stdout",
     "output_type": "stream",
     "text": [
      "Cloze label distribution (train):\n",
      "[(1, 400), (0, 399)]\n",
      "Cloze label distribution (dev):\n",
      "[(0, 161), (1, 161)]\n",
      "Cloze label distribution (test):\n",
      "[(1, 176), (0, 175)]\n",
      "{\n",
      "  example_id: \n",
      "    0-C0,\n",
      "  stories: \n",
      "    [\n",
      "      {'story_id': 0, 'worker_id': 'A1F01FVEPYCPHO', 'type': 'cloze', 'idx': 0, 'aug': False, 'actor': 'Tom', 'location': 'kitchen', 'objects': 'dustbin, microwave, pan, plate, cereal, soup', 'sentences': ['Tom bought a new dustbin for the kitchen.', 'Tom threw a broken plate in the dustbin.', 'Tom got some soup from the fridge.', 'Tom put the soup in the microwave.', 'Tom ate the cold soup.'], 'length': 5, 'example_id': '0-C0', 'plausible': False, 'breakpoint': 4, 'confl_sents': [3], 'confl_pairs': [[3, 4]], 'states': [{'h_location': [['Tom', 0]], 'conscious': [['Tom', 2]], 'wearing': [['Tom', 0]], 'h_wet': [['Tom', 0]], 'hygiene': [['Tom', 0]], 'location': [['dustbin', 6]], 'exist': [['dustbin', 4]], 'clean': [['dustbin', 0]], 'power': [['dustbin', 0]], 'functional': [['dustbin', 2]], 'pieces': [['dustbin', 0]], 'wet': [['dustbin', 0]], 'open': [['dustbin', 0]], 'temperature': [['dustbin', 0]], 'solid': [['dustbin', 0]], 'contain': [['dustbin', 0]], 'running': [['dustbin', 0]], 'moveable': [['dustbin', 2]], 'mixed': [['dustbin', 0]], 'edible': [['dustbin', 0]]}, {'h_location': [['Tom', 0]], 'conscious': [['Tom', 2]], 'wearing': [['Tom', 0]], 'h_wet': [['Tom', 0]], 'hygiene': [['Tom', 0]], 'location': [['dustbin', 0], ['plate', 6]], 'exist': [['dustbin', 2], ['plate', 2]], 'clean': [['dustbin', 0], ['plate', 5]], 'power': [['dustbin', 0], ['plate', 0]], 'functional': [['dustbin', 2], ['plate', 1]], 'pieces': [['dustbin', 0], ['plate', 0]], 'wet': [['dustbin', 0], ['plate', 0]], 'open': [['dustbin', 0], ['plate', 0]], 'temperature': [['dustbin', 0], ['plate', 0]], 'solid': [['dustbin', 0], ['plate', 0]], 'contain': [['dustbin', 6], ['plate', 0]], 'running': [['dustbin', 0], ['plate', 0]], 'moveable': [['dustbin', 0], ['plate', 2]], 'mixed': [['dustbin', 0], ['plate', 0]], 'edible': [['dustbin', 0], ['plate', 0]]}, {'h_location': [['Tom', 0]], 'conscious': [['Tom', 2]], 'wearing': [['Tom', 0]], 'h_wet': [['Tom', 0]], 'hygiene': [['Tom', 0]], 'location': [['fridge', 0], ['soup', 2]], 'exist': [['fridge', 2], ['soup', 2]], 'clean': [['fridge', 0], ['soup', 0]], 'power': [['fridge', 0], ['soup', 0]], 'functional': [['fridge', 2], ['soup', 2]], 'pieces': [['fridge', 0], ['soup', 0]], 'wet': [['fridge', 0], ['soup', 0]], 'open': [['fridge', 8], ['soup', 0]], 'temperature': [['fridge', 0], ['soup', 1]], 'solid': [['fridge', 0], ['soup', 0]], 'contain': [['fridge', 8], ['soup', 0]], 'running': [['fridge', 0], ['soup', 0]], 'moveable': [['fridge', 2], ['soup', 2]], 'mixed': [['fridge', 0], ['soup', 0]], 'edible': [['fridge', 0], ['soup', 0]]}, {'h_location': [['Tom', 0]], 'conscious': [['Tom', 2]], 'wearing': [['Tom', 0]], 'h_wet': [['Tom', 0]], 'hygiene': [['Tom', 0]], 'location': [['microwave', 0], ['soup', 3]], 'exist': [['microwave', 2], ['soup', 2]], 'clean': [['microwave', 0], ['soup', 0]], 'power': [['microwave', 2], ['soup', 0]], 'functional': [['microwave', 2], ['soup', 2]], 'pieces': [['microwave', 0], ['soup', 0]], 'wet': [['microwave', 0], ['soup', 0]], 'open': [['microwave', 8], ['soup', 0]], 'temperature': [['microwave', 0], ['soup', 0]], 'solid': [['microwave', 0], ['soup', 0]], 'contain': [['microwave', 6], ['soup', 0]], 'running': [['microwave', 0], ['soup', 0]], 'moveable': [['microwave', 2], ['soup', 2]], 'mixed': [['microwave', 0], ['soup', 0]], 'edible': [['microwave', 0], ['soup', 0]]}, {'h_location': [['Tom', 0]], 'conscious': [['Tom', 2]], 'wearing': [['Tom', 0]], 'h_wet': [['Tom', 0]], 'hygiene': [['Tom', 0]], 'location': [['soup', 1]], 'exist': [['soup', 3]], 'clean': [['soup', 0]], 'power': [['soup', 0]], 'functional': [['soup', 2]], 'pieces': [['soup', 0]], 'wet': [['soup', 0]], 'open': [['soup', 0]], 'temperature': [['soup', 7]], 'solid': [['soup', 0]], 'contain': [['soup', 0]], 'running': [['soup', 0]], 'moveable': [['soup', 2]], 'mixed': [['soup', 0]], 'edible': [['soup', 0]]}]}\n",
      "      {'story_id': 0, 'worker_id': 'A1F01FVEPYCPHO', 'type': None, 'idx': None, 'aug': False, 'actor': 'Tom', 'location': 'kitchen', 'objects': 'dustbin, microwave, pan, plate, cereal, soup', 'sentences': ['Tom bought a new dustbin for the kitchen.', 'Tom threw a broken plate in the dustbin.', 'Tom got some soup from the fridge.', 'Tom put the soup in the microwave.', 'Tom turned on the microwave.'], 'length': 5, 'example_id': '0', 'plausible': True, 'breakpoint': -1, 'confl_sents': [], 'confl_pairs': [], 'states': [{'h_location': [['Tom', 0]], 'conscious': [['Tom', 2]], 'wearing': [['Tom', 0]], 'h_wet': [['Tom', 0]], 'hygiene': [['Tom', 0]], 'location': [['dustbin', 6]], 'exist': [['dustbin', 4]], 'clean': [['dustbin', 0]], 'power': [['dustbin', 0]], 'functional': [['dustbin', 2]], 'pieces': [['dustbin', 0]], 'wet': [['dustbin', 0]], 'open': [['dustbin', 0]], 'temperature': [['dustbin', 0]], 'solid': [['dustbin', 0]], 'contain': [['dustbin', 0]], 'running': [['dustbin', 0]], 'moveable': [['dustbin', 2]], 'mixed': [['dustbin', 0]], 'edible': [['dustbin', 0]]}, {'h_location': [['Tom', 0]], 'conscious': [['Tom', 2]], 'wearing': [['Tom', 0]], 'h_wet': [['Tom', 0]], 'hygiene': [['Tom', 0]], 'location': [['dustbin', 0], ['plate', 6]], 'exist': [['dustbin', 2], ['plate', 2]], 'clean': [['dustbin', 0], ['plate', 5]], 'power': [['dustbin', 0], ['plate', 0]], 'functional': [['dustbin', 2], ['plate', 1]], 'pieces': [['dustbin', 0], ['plate', 0]], 'wet': [['dustbin', 0], ['plate', 0]], 'open': [['dustbin', 0], ['plate', 0]], 'temperature': [['dustbin', 0], ['plate', 0]], 'solid': [['dustbin', 0], ['plate', 0]], 'contain': [['dustbin', 6], ['plate', 0]], 'running': [['dustbin', 0], ['plate', 0]], 'moveable': [['dustbin', 0], ['plate', 2]], 'mixed': [['dustbin', 0], ['plate', 0]], 'edible': [['dustbin', 0], ['plate', 0]]}, {'h_location': [['Tom', 0]], 'conscious': [['Tom', 2]], 'wearing': [['Tom', 0]], 'h_wet': [['Tom', 0]], 'hygiene': [['Tom', 0]], 'location': [['fridge', 0], ['soup', 2]], 'exist': [['fridge', 2], ['soup', 2]], 'clean': [['fridge', 0], ['soup', 0]], 'power': [['fridge', 0], ['soup', 0]], 'functional': [['fridge', 2], ['soup', 2]], 'pieces': [['fridge', 0], ['soup', 0]], 'wet': [['fridge', 0], ['soup', 0]], 'open': [['fridge', 8], ['soup', 0]], 'temperature': [['fridge', 0], ['soup', 1]], 'solid': [['fridge', 0], ['soup', 0]], 'contain': [['fridge', 8], ['soup', 0]], 'running': [['fridge', 0], ['soup', 0]], 'moveable': [['fridge', 2], ['soup', 2]], 'mixed': [['fridge', 0], ['soup', 0]], 'edible': [['fridge', 0], ['soup', 0]]}, {'h_location': [['Tom', 0]], 'conscious': [['Tom', 2]], 'wearing': [['Tom', 0]], 'h_wet': [['Tom', 0]], 'hygiene': [['Tom', 0]], 'location': [['microwave', 0], ['soup', 3]], 'exist': [['microwave', 2], ['soup', 2]], 'clean': [['microwave', 0], ['soup', 0]], 'power': [['microwave', 2], ['soup', 0]], 'functional': [['microwave', 2], ['soup', 2]], 'pieces': [['microwave', 0], ['soup', 0]], 'wet': [['microwave', 0], ['soup', 0]], 'open': [['microwave', 8], ['soup', 0]], 'temperature': [['microwave', 0], ['soup', 0]], 'solid': [['microwave', 0], ['soup', 0]], 'contain': [['microwave', 6], ['soup', 0]], 'running': [['microwave', 0], ['soup', 0]], 'moveable': [['microwave', 2], ['soup', 2]], 'mixed': [['microwave', 0], ['soup', 0]], 'edible': [['microwave', 0], ['soup', 0]]}, {'h_location': [['Tom', 0]], 'conscious': [['Tom', 2]], 'wearing': [['Tom', 0]], 'h_wet': [['Tom', 0]], 'hygiene': [['Tom', 0]], 'location': [['microwave', 0]], 'exist': [['microwave', 2]], 'clean': [['microwave', 0]], 'power': [['microwave', 2]], 'functional': [['microwave', 2]], 'pieces': [['microwave', 0]], 'wet': [['microwave', 0]], 'open': [['microwave', 1]], 'temperature': [['microwave', 0]], 'solid': [['microwave', 0]], 'contain': [['microwave', 2]], 'running': [['microwave', 4]], 'moveable': [['microwave', 2]], 'mixed': [['microwave', 0]], 'edible': [['microwave', 0]]}]}\n",
      "    ],\n",
      "  length: \n",
      "    5,\n",
      "  label: \n",
      "    1,\n",
      "  breakpoint: \n",
      "    4,\n",
      "  confl_sents: \n",
      "    [\n",
      "      3\n",
      "    ],\n",
      "  confl_pairs: \n",
      "    [\n",
      "      [3, 4]\n",
      "    ],\n",
      "}\n",
      "\n",
      "\n"
     ]
    }
   ],
   "source": [
    "from www.utils import print_dict\n",
    "import json\n",
    "from collections import Counter\n",
    "\n",
    "data_file = os.path.join(DRIVE_PATH, 'all_data/www_2s_new.json')\n",
    "with open(data_file, 'r') as f:\n",
    "  cloze_dataset_2s, order_dataset_2s = json.load(f)  \n",
    "\n",
    "for p in cloze_dataset_2s:\n",
    "  label_dist = Counter([ex['label'] for ex in cloze_dataset_2s[p]])\n",
    "  print('Cloze label distribution (%s):' % p)\n",
    "  print(label_dist.most_common())\n",
    "print_dict(cloze_dataset_2s['train'][0])"
   ]
  },
  {
   "cell_type": "markdown",
   "metadata": {
    "id": "BxIYaEobhR7J"
   },
   "source": [
    "---\n",
    "\n",
    "# TRIP Results\n",
    "\n",
    "Contains code for the tiered and random TRIP baselines."
   ]
  },
  {
   "cell_type": "code",
   "execution_count": 16,
   "metadata": {
    "id": "mbUgyE0bbJqn"
   },
   "outputs": [],
   "source": [
    "if task_name != 'trip':\n",
    "  raise ValueError('Please configure task_name in first cell to \"trip\" to run TRIP results!')"
   ]
  },
  {
   "cell_type": "markdown",
   "metadata": {
    "id": "v7VlN2jUwvcC"
   },
   "source": [
    "## Random Tiered Classifier for TRIP\n",
    "\n",
    "For the random baseline, we average the results of 10 runs. Running the below will report (mean, variance) for each evaluation partition."
   ]
  },
  {
   "cell_type": "code",
   "execution_count": 17,
   "metadata": {
    "colab": {
     "base_uri": "https://localhost:8080/"
    },
    "executionInfo": {
     "elapsed": 41541,
     "status": "ok",
     "timestamp": 1631298579008,
     "user": {
      "displayName": "Shane Storks",
      "photoUrl": "https://lh3.googleusercontent.com/a-/AOh14Gh8CqjwUclCWWIoFwUB05rZNHwyd6nEIrTXC6RVXw=s64",
      "userId": "00590987742306216924"
     },
     "user_tz": 240
    },
    "id": "OGYE2UIiASDv",
    "outputId": "c08efd4b-e466-4c47-e4aa-f06163969b8a"
   },
   "outputs": [
    {
     "name": "stderr",
     "output_type": "stream",
     "text": [
      "[========================================================================] 100%\n",
      "[========================================================================] 100%\n",
      "[========================================================================] 100%\n"
     ]
    }
   ],
   "source": [
    "from www.dataset.prepro import get_tiered_data\n",
    "from www.dataset.featurize import add_bert_features_tiered, get_tensor_dataset_tiered\n",
    "from collections import Counter\n",
    "import numpy as np\n",
    "from www.dataset.ann import att_to_num_classes, idx_to_att\n",
    "from sklearn.metrics import accuracy_score, f1_score\n",
    "from www.utils import print_dict\n",
    "\n",
    "tiered_dataset = cloze_dataset_2s\n",
    "\n",
    "seq_length = 16 # Max sequence length to pad to\n",
    "\n",
    "tiered_dataset = get_tiered_data(tiered_dataset)\n",
    "tiered_dataset = add_bert_features_tiered(tiered_dataset, tokenizer, seq_length, add_segment_ids=True)"
   ]
  },
  {
   "cell_type": "markdown",
   "metadata": {
    "id": "5ctQweSlAceo"
   },
   "source": [
    "## Transformer-Based Tiered Classifier for TRIP\n",
    "\n",
    "This is the baseline model presented in the paper. Based on the settings above, the below cells can be used for training and evaluating models.\n"
   ]
  },
  {
   "cell_type": "markdown",
   "metadata": {
    "id": "0q-xjfYU_cV8"
   },
   "source": [
    "### Featurization for Tiered Classification\n",
    "\n",
    "Get the data ready for input to the model."
   ]
  },
  {
   "cell_type": "code",
   "execution_count": 18,
   "metadata": {
    "colab": {
     "base_uri": "https://localhost:8080/"
    },
    "executionInfo": {
     "elapsed": 2388,
     "status": "ok",
     "timestamp": 1631299805307,
     "user": {
      "displayName": "Shane Storks",
      "photoUrl": "https://lh3.googleusercontent.com/a-/AOh14Gh8CqjwUclCWWIoFwUB05rZNHwyd6nEIrTXC6RVXw=s64",
      "userId": "00590987742306216924"
     },
     "user_tz": 240
    },
    "id": "gLCJXeMb_cV9",
    "outputId": "d4fb68d9-a303-4427-d5e7-d797bc1838f9"
   },
   "outputs": [
    {
     "name": "stderr",
     "output_type": "stream",
     "text": [
      "[========================================================================] 100%\n",
      "[========================================================================] 100%\n",
      "[========================================================================] 100%\n"
     ]
    }
   ],
   "source": [
    "from www.dataset.prepro import get_tiered_data, balance_labels\n",
    "from www.dataset.featurize import add_bert_features_tiered, get_tensor_dataset_tiered\n",
    "from collections import Counter\n",
    "\n",
    "tiered_dataset = cloze_dataset_2s\n",
    "\n",
    "# Debug the code on a small amount of data\n",
    "if debug:\n",
    "  for k in tiered_dataset:\n",
    "    tiered_dataset[k] = tiered_dataset[k][:20]\n",
    "\n",
    "# train_spans = True\n",
    "train_spans = False\n",
    "if train_spans:\n",
    "    tiered_dataset = get_story_spans_2s(tiered_dataset, train_only=True)\n",
    "    tiered_dataset['train'] = [ex for ex in tiered_dataset['train'] if ex['label'] != -1] # For now, ignore examples where both stories are plausible :(\n",
    "\n",
    "seq_length = 16 # Max sequence length to pad to\n",
    "\n",
    "tiered_dataset = get_tiered_data(tiered_dataset)\n",
    "tiered_dataset = add_bert_features_tiered(tiered_dataset, tokenizer, seq_length, add_segment_ids=True)\n",
    "\n",
    "tiered_tensor_dataset = {}\n",
    "max_story_length = max([len(ex['stories'][0]['sentences']) for p in tiered_dataset for ex in tiered_dataset[p]])\n",
    "for p in tiered_dataset:\n",
    "    tiered_tensor_dataset[p] = get_tensor_dataset_tiered(tiered_dataset[p], max_story_length, add_segment_ids=True)"
   ]
  },
  {
   "cell_type": "markdown",
   "metadata": {
    "id": "-fQ6wXQIBdq1"
   },
   "source": [
    "### Train Models"
   ]
  },
  {
   "cell_type": "markdown",
   "metadata": {
    "id": "U-BMInyrBdq2"
   },
   "source": [
    "#### Configure Hyperparameters\n",
    "We will perform grid search over (batch size, learning rate). Configure the training sub-task, search space and set the maximum number of training epochs here. Currently configured for re-training the best RoBERTa-based model instance. Read code comments for more information.\n",
    "\n",
    "**Additional configuration options:**\n",
    "* Change the `generate_learning_curve` variable to `True` to generate data for training curves in the style presented in the paper.\n",
    "* You may ablate the input to the Conflict Detector based on a few pre-defined ablation modes. To do so, change the `ablation` variable based on the comments in the code."
   ]
  },
  {
   "cell_type": "code",
   "execution_count": 36,
   "metadata": {
    "id": "tvfTuEYRBdq3"
   },
   "outputs": [],
   "source": [
    "from www.dataset.ann import att_to_idx, att_to_num_classes, att_types\n",
    "\n",
    "subtask = 'cloze'\n",
    "batch_sizes = [config_batch_size]\n",
    "learning_rates = [config_lr]\n",
    "epochs = config_epochs\n",
    "eval_batch_size = 16\n",
    "generate_learning_curve = False # Generate data for training curve figure in TRIP paper\n",
    "\n",
    "num_state_labels = {}\n",
    "for att in att_to_idx:\n",
    "  if att_types[att] == 'default':\n",
    "    num_state_labels[att_to_idx[att]] = 3\n",
    "  else:\n",
    "    num_state_labels[att_to_idx[att]] = att_to_num_classes[att] # Location attributes fall into this since they don't have well-define pre- and post-condition yet\n",
    "\n",
    "# Ablation options:\n",
    "# - attributes: skip attribute prediction phase\n",
    "# - embeddings: DON'T input contextual embeddings to conflict detector\n",
    "# - states: DON'T input states to conflict detector\n",
    "# - states-labels: in states input to conflict detector, include predicted labels\n",
    "# - states-logits: in states input to conflict detector, include state logits (preferred)\n",
    "# - states-teacher-forcing: train conflict detector on ground truth state labels (not predictions)\n",
    "# - states-attention: re-weight input to conflict detector with weights conditioned on states representation\n",
    "ablation = ['attributes', 'states-logits'] # This is the default mode presented in the paper"
   ]
  },
  {
   "cell_type": "markdown",
   "metadata": {
    "id": "8fRC3cnLBdq3"
   },
   "source": [
    "#### Perform Grid Search\n",
    "\n",
    "Perform hyperparameter tuning to find the best story classification model.\n"
   ]
  },
  {
   "cell_type": "code",
   "execution_count": 25,
   "metadata": {},
   "outputs": [
    {
     "data": {
      "text/plain": [
       "'bert-base-uncased'"
      ]
     },
     "execution_count": 25,
     "metadata": {},
     "output_type": "execute_result"
    }
   ],
   "source": [
    "model_name"
   ]
  },
  {
   "cell_type": "code",
   "execution_count": 26,
   "metadata": {},
   "outputs": [],
   "source": [
    "DRIVE_PATH='/data/khalifam'"
   ]
  },
  {
   "cell_type": "code",
   "execution_count": 37,
   "metadata": {
    "colab": {
     "base_uri": "https://localhost:8080/"
    },
    "executionInfo": {
     "elapsed": 59885,
     "status": "ok",
     "timestamp": 1631299694590,
     "user": {
      "displayName": "Shane Storks",
      "photoUrl": "https://lh3.googleusercontent.com/a-/AOh14Gh8CqjwUclCWWIoFwUB05rZNHwyd6nEIrTXC6RVXw=s64",
      "userId": "00590987742306216924"
     },
     "user_tz": 240
    },
    "id": "DWnCen7NBdq3",
    "outputId": "e6a79d9b-b478-4ea5-e4ef-d50d2a22985d"
   },
   "outputs": [
    {
     "name": "stdout",
     "output_type": "stream",
     "text": [
      "Beginning grid search for the cloze sub-task over 1 parameter combination(s)!\n",
      "\n",
      "TRAINING MODEL: bs=1, lr=1e-05\n"
     ]
    },
    {
     "data": {
      "application/vnd.jupyter.widget-view+json": {
       "model_id": "6dc8c3680e7d4c50b436af3ac099b8f5",
       "version_major": 2,
       "version_minor": 0
      },
      "text/plain": [
       "Downloading:   0%|          | 0.00/570 [00:00<?, ?B/s]"
      ]
     },
     "metadata": {},
     "output_type": "display_data"
    },
    {
     "data": {
      "application/vnd.jupyter.widget-view+json": {
       "model_id": "ba77559d14db4347b6cf651561aafb58",
       "version_major": 2,
       "version_minor": 0
      },
      "text/plain": [
       "Downloading:   0%|          | 0.00/440M [00:00<?, ?B/s]"
      ]
     },
     "metadata": {},
     "output_type": "display_data"
    },
    {
     "name": "stderr",
     "output_type": "stream",
     "text": [
      "\r",
      "[                                                                        ]   0%"
     ]
    },
    {
     "name": "stdout",
     "output_type": "stream",
     "text": [
      "[0] Beginning epoch...\n"
     ]
    },
    {
     "name": "stderr",
     "output_type": "stream",
     "text": [
      "[########################################################################] 100%\n",
      "[                                                                        ]   0%"
     ]
    },
    {
     "name": "stdout",
     "output_type": "stream",
     "text": [
      "\tBeginning evaluation...\n",
      "\t\tRunning prediction...\n"
     ]
    },
    {
     "name": "stderr",
     "output_type": "stream",
     "text": [
      "[########################################################################] 100%\n"
     ]
    },
    {
     "name": "stdout",
     "output_type": "stream",
     "text": [
      "\t\tComputing metrics...\n",
      "\tFinished evaluation in 0:00:26s.\n",
      "[0] Validation results:\n",
      "[0] Preconditions:\n",
      "{\n",
      "  accuracy: \n",
      "    0.9931110773828983,\n",
      "  f1: \n",
      "    0.1994584596537653,\n",
      "  accuracy_0: \n",
      "    0.9935553168635876,\n",
      "  f1_0: \n",
      "    0.3322557471264368,\n",
      "  accuracy_1: \n",
      "    0.9982253771073647,\n",
      "  f1_1: \n",
      "    0.6587019601643419,\n",
      "  accuracy_2: \n",
      "    0.9988791855414935,\n",
      "  f1_2: \n",
      "    0.33314642617946205,\n",
      "  accuracy_3: \n",
      "    0.9985989819268668,\n",
      "  f1_3: \n",
      "    0.3330996666355111,\n",
      "  accuracy_4: \n",
      "    0.9996964460841545,\n",
      "  f1_4: \n",
      "    0.3332827333341118,\n",
      "  accuracy_5: \n",
      "    0.9784009713725307,\n",
      "  f1_5: \n",
      "    0.10989806476487228,\n",
      "  accuracy_6: \n",
      "    0.9845888011955354,\n",
      "  f1_6: \n",
      "    0.6275865465089306,\n",
      "  accuracy_7: \n",
      "    0.9982370522579741,\n",
      "  f1_7: \n",
      "    0.3330392494824319,\n",
      "  accuracy_8: \n",
      "    0.9921075981880166,\n",
      "  f1_8: \n",
      "    0.33201272163224477,\n",
      "  accuracy_9: \n",
      "    0.9861999719796385,\n",
      "  f1_9: \n",
      "    0.6313489972534766,\n",
      "  accuracy_10: \n",
      "    0.9950614112922057,\n",
      "  f1_10: \n",
      "    0.33250819771263823,\n",
      "  accuracy_11: \n",
      "    0.997151263251296,\n",
      "  f1_11: \n",
      "    0.3328578666354885,\n",
      "  accuracy_12: \n",
      "    0.992352776350815,\n",
      "  f1_12: \n",
      "    0.33205390401740803,\n",
      "  accuracy_13: \n",
      "    0.9977817213842058,\n",
      "  f1_13: \n",
      "    0.3329632097120438,\n",
      "  accuracy_14: \n",
      "    0.9946761313220941,\n",
      "  f1_14: \n",
      "    0.3324436536180308,\n",
      "  accuracy_15: \n",
      "    0.9935319665623686,\n",
      "  f1_15: \n",
      "    0.33225183016105414,\n",
      "  accuracy_16: \n",
      "    0.9929131835800682,\n",
      "  f1_16: \n",
      "    0.332147997133322,\n",
      "  accuracy_17: \n",
      "    0.9734040069116892,\n",
      "  f1_17: \n",
      "    0.5789927282698323,\n",
      "  accuracy_18: \n",
      "    0.9994045673189185,\n",
      "  f1_18: \n",
      "    0.33323406499934793,\n",
      "  accuracy_19: \n",
      "    0.9974548171671415,\n",
      "  f1_19: \n",
      "    0.33290859567702796,\n",
      "}\n",
      "\n",
      "\n",
      "[0] Effects:\n",
      "{\n",
      "  accuracy: \n",
      "    0.9925798580301686,\n",
      "  f1: \n",
      "    0.19648855710084812,\n",
      "  accuracy_0: \n",
      "    0.9935553168635876,\n",
      "  f1_0: \n",
      "    0.3322557471264368,\n",
      "  accuracy_1: \n",
      "    0.9981670013543175,\n",
      "  f1_1: \n",
      "    0.6584438235351665,\n",
      "  accuracy_2: \n",
      "    0.9982020268061458,\n",
      "  f1_2: \n",
      "    0.33303340149965915,\n",
      "  accuracy_3: \n",
      "    0.9982954280110213,\n",
      "  f1_3: \n",
      "    0.3330489956648243,\n",
      "  accuracy_4: \n",
      "    0.9990659879512446,\n",
      "  f1_4: \n",
      "    0.3331775919263655,\n",
      "  accuracy_5: \n",
      "    0.9784009713725307,\n",
      "  f1_5: \n",
      "    0.10989806476487228,\n",
      "  accuracy_6: \n",
      "    0.9841451454723766,\n",
      "  f1_6: \n",
      "    0.6262678800395326,\n",
      "  accuracy_7: \n",
      "    0.9966725820763088,\n",
      "  f1_7: \n",
      "    0.3327778394993149,\n",
      "  accuracy_8: \n",
      "    0.99203754728436,\n",
      "  f1_8: \n",
      "    0.332000953374516,\n",
      "  accuracy_9: \n",
      "    0.9837248400504367,\n",
      "  f1_9: \n",
      "    0.6247496403173756,\n",
      "  accuracy_10: \n",
      "    0.9949329846355018,\n",
      "  f1_10: \n",
      "    0.3324866857845145,\n",
      "  accuracy_11: \n",
      "    0.9962989772568066,\n",
      "  f1_11: \n",
      "    0.33271535262914725,\n",
      "  accuracy_12: \n",
      "    0.9960070984915705,\n",
      "  f1_12: \n",
      "    0.3326665184855894,\n",
      "  accuracy_13: \n",
      "    0.9961472002988838,\n",
      "  f1_13: \n",
      "    0.332689960656786,\n",
      "  accuracy_14: \n",
      "    0.9944776537617335,\n",
      "  f1_14: \n",
      "    0.332410393898063,\n",
      "  accuracy_15: \n",
      "    0.9883365245411666,\n",
      "  f1_15: \n",
      "    0.3313780178699001,\n",
      "  accuracy_16: \n",
      "    0.9929482090318965,\n",
      "  f1_16: \n",
      "    0.33215387619605546,\n",
      "  accuracy_17: \n",
      "    0.9729603511885303,\n",
      "  f1_17: \n",
      "    0.5772479751806238,\n",
      "  accuracy_18: \n",
      "    0.999182739457339,\n",
      "  f1_18: \n",
      "    0.4997956013408552,\n",
      "  accuracy_19: \n",
      "    0.9980385746976136,\n",
      "  f1_19: \n",
      "    0.33300610820244325,\n",
      "}\n",
      "\n",
      "\n",
      "[0] Conflicts:\n",
      "{\n",
      "  accuracy: \n",
      "    0.9704151683556718,\n",
      "  f1: \n",
      "    0.49249274160099543,\n",
      "}\n",
      "\n",
      "\n",
      "[0] Stories:\n",
      "{\n",
      "  accuracy: \n",
      "    0.4440993788819876,\n",
      "  f1: \n",
      "    0.4438365417088821,\n",
      "  verifiability: \n",
      "    0.0,\n",
      "}\n",
      "\n",
      "\n",
      "[0] Saving model checkpoint...\n"
     ]
    },
    {
     "name": "stderr",
     "output_type": "stream",
     "text": [
      "\r",
      "[                                                                        ]   0%"
     ]
    },
    {
     "name": "stdout",
     "output_type": "stream",
     "text": [
      "[0] Finished epoch.\n",
      "[1] Beginning epoch...\n"
     ]
    },
    {
     "name": "stderr",
     "output_type": "stream",
     "text": [
      "[########################################################################] 100%\n",
      "[                                                                        ]   0%"
     ]
    },
    {
     "name": "stdout",
     "output_type": "stream",
     "text": [
      "\tBeginning evaluation...\n",
      "\t\tRunning prediction...\n"
     ]
    },
    {
     "name": "stderr",
     "output_type": "stream",
     "text": [
      "[########################################################################] 100%\n"
     ]
    },
    {
     "name": "stdout",
     "output_type": "stream",
     "text": [
      "\t\tComputing metrics...\n",
      "\tFinished evaluation in 0:00:26s.\n",
      "[1] Validation results:\n",
      "[1] Preconditions:\n",
      "{\n",
      "  accuracy: \n",
      "    0.994427450614113,\n",
      "  f1: \n",
      "    0.26311101676459964,\n",
      "  accuracy_0: \n",
      "    0.9951431373464718,\n",
      "  f1_0: \n",
      "    0.49613086667852285,\n",
      "  accuracy_1: \n",
      "    0.9981786765049269,\n",
      "  f1_1: \n",
      "    0.6585111160419426,\n",
      "  accuracy_2: \n",
      "    0.9988791855414935,\n",
      "  f1_2: \n",
      "    0.33314642617946205,\n",
      "  accuracy_3: \n",
      "    0.9985989819268668,\n",
      "  f1_3: \n",
      "    0.3330996666355111,\n",
      "  accuracy_4: \n",
      "    0.9996964460841545,\n",
      "  f1_4: \n",
      "    0.3332827333341118,\n",
      "  accuracy_5: \n",
      "    0.9818568159529258,\n",
      "  f1_5: \n",
      "    0.18056178209455,\n",
      "  accuracy_6: \n",
      "    0.9884766263484799,\n",
      "  f1_6: \n",
      "    0.6370353206581142,\n",
      "  accuracy_7: \n",
      "    0.9982370522579741,\n",
      "  f1_7: \n",
      "    0.3330392494824319,\n",
      "  accuracy_8: \n",
      "    0.9960654742446178,\n",
      "  f1_8: \n",
      "    0.5700380277777625,\n",
      "  accuracy_9: \n",
      "    0.989690842011862,\n",
      "  f1_9: \n",
      "    0.6396848381192742,\n",
      "  accuracy_10: \n",
      "    0.9953182646056135,\n",
      "  f1_10: \n",
      "    0.3699659778343705,\n",
      "  accuracy_11: \n",
      "    0.997151263251296,\n",
      "  f1_11: \n",
      "    0.3328578666354885,\n",
      "  accuracy_12: \n",
      "    0.9940106477373558,\n",
      "  f1_12: \n",
      "    0.4919866568337621,\n",
      "  accuracy_13: \n",
      "    0.9977817213842058,\n",
      "  f1_13: \n",
      "    0.3329632097120438,\n",
      "  accuracy_14: \n",
      "    0.995411665810489,\n",
      "  f1_14: \n",
      "    0.45410332881599924,\n",
      "  accuracy_15: \n",
      "    0.9935319665623686,\n",
      "  f1_15: \n",
      "    0.33225183016105414,\n",
      "  accuracy_16: \n",
      "    0.9936720683696819,\n",
      "  f1_16: \n",
      "    0.42226998097529495,\n",
      "  accuracy_17: \n",
      "    0.979988791855415,\n",
      "  f1_17: \n",
      "    0.5849009518561337,\n",
      "  accuracy_18: \n",
      "    0.9994045673189185,\n",
      "  f1_18: \n",
      "    0.33323406499934793,\n",
      "  accuracy_19: \n",
      "    0.9974548171671415,\n",
      "  f1_19: \n",
      "    0.3329163792801113,\n",
      "}\n",
      "\n",
      "\n",
      "[1] Effects:\n",
      "{\n",
      "  accuracy: \n",
      "    0.9938880586559566,\n",
      "  f1: \n",
      "    0.25645889748364725,\n",
      "  accuracy_0: \n",
      "    0.9951314621958623,\n",
      "  f1_0: \n",
      "    0.4955108971286537,\n",
      "  accuracy_1: \n",
      "    0.9981319759024891,\n",
      "  f1_1: \n",
      "    0.6583046193553753,\n",
      "  accuracy_2: \n",
      "    0.9982487274085836,\n",
      "  f1_2: \n",
      "    0.38859674066456584,\n",
      "  accuracy_3: \n",
      "    0.9982954280110213,\n",
      "  f1_3: \n",
      "    0.3330489956648243,\n",
      "  accuracy_4: \n",
      "    0.9990659879512446,\n",
      "  f1_4: \n",
      "    0.3331775919263655,\n",
      "  accuracy_5: \n",
      "    0.981518236585252,\n",
      "  f1_5: \n",
      "    0.16734510525386614,\n",
      "  accuracy_6: \n",
      "    0.9877060664082566,\n",
      "  f1_6: \n",
      "    0.634803514299576,\n",
      "  accuracy_7: \n",
      "    0.9966725820763088,\n",
      "  f1_7: \n",
      "    0.3327778394993149,\n",
      "  accuracy_8: \n",
      "    0.9961355251482744,\n",
      "  f1_8: \n",
      "    0.56978900165232,\n",
      "  accuracy_9: \n",
      "    0.9874141876430206,\n",
      "  f1_9: \n",
      "    0.6335310392757355,\n",
      "  accuracy_10: \n",
      "    0.9949329846355018,\n",
      "  f1_10: \n",
      "    0.3324866857845145,\n",
      "  accuracy_11: \n",
      "    0.9962989772568066,\n",
      "  f1_11: \n",
      "    0.33271535262914725,\n",
      "  accuracy_12: \n",
      "    0.9960070984915705,\n",
      "  f1_12: \n",
      "    0.3326665184855894,\n",
      "  accuracy_13: \n",
      "    0.9961472002988838,\n",
      "  f1_13: \n",
      "    0.332689960656786,\n",
      "  accuracy_14: \n",
      "    0.9947578573763601,\n",
      "  f1_14: \n",
      "    0.3936384840008826,\n",
      "  accuracy_15: \n",
      "    0.9897025171624714,\n",
      "  f1_15: \n",
      "    0.4662924124588937,\n",
      "  accuracy_16: \n",
      "    0.9950030355391585,\n",
      "  f1_16: \n",
      "    0.5131553194654671,\n",
      "  accuracy_17: \n",
      "    0.9793700088731144,\n",
      "  f1_17: \n",
      "    0.5818175484973793,\n",
      "  accuracy_18: \n",
      "    0.999182739457339,\n",
      "  f1_18: \n",
      "    0.4997956013408552,\n",
      "  accuracy_19: \n",
      "    0.9980385746976136,\n",
      "  f1_19: \n",
      "    0.33300610820244325,\n",
      "}\n",
      "\n",
      "\n",
      "[1] Conflicts:\n",
      "{\n",
      "  accuracy: \n",
      "    0.9703567926026245,\n",
      "  f1: \n",
      "    0.49638459060301166,\n",
      "}\n",
      "\n",
      "\n",
      "[1] Stories:\n",
      "{\n",
      "  accuracy: \n",
      "    0.5590062111801242,\n",
      "  f1: \n",
      "    0.5588530410620562,\n",
      "  verifiability: \n",
      "    0.0,\n",
      "}\n",
      "\n",
      "\n",
      "[1] Saving model checkpoint...\n"
     ]
    },
    {
     "name": "stderr",
     "output_type": "stream",
     "text": [
      "\r",
      "[                                                                        ]   0%"
     ]
    },
    {
     "name": "stdout",
     "output_type": "stream",
     "text": [
      "[1] Finished epoch.\n",
      "[2] Beginning epoch...\n"
     ]
    },
    {
     "name": "stderr",
     "output_type": "stream",
     "text": [
      "[########################################################################] 100%\n",
      "[                                                                        ]   0%"
     ]
    },
    {
     "name": "stdout",
     "output_type": "stream",
     "text": [
      "\tBeginning evaluation...\n",
      "\t\tRunning prediction...\n"
     ]
    },
    {
     "name": "stderr",
     "output_type": "stream",
     "text": [
      "[########################################################################] 100%\n"
     ]
    },
    {
     "name": "stdout",
     "output_type": "stream",
     "text": [
      "\t\tComputing metrics...\n",
      "\tFinished evaluation in 0:00:50s.\n",
      "[2] Validation results:\n",
      "[2] Preconditions:\n",
      "{\n",
      "  accuracy: \n",
      "    0.9944379582496614,\n",
      "  f1: \n",
      "    0.43838018310694565,\n",
      "  accuracy_0: \n",
      "    0.9961705506001027,\n",
      "  f1_0: \n",
      "    0.5703378996930336,\n",
      "  accuracy_1: \n",
      "    0.9981786765049269,\n",
      "  f1_1: \n",
      "    0.6585111160419426,\n",
      "  accuracy_2: \n",
      "    0.9989492364451501,\n",
      "  f1_2: \n",
      "    0.5079211798066586,\n",
      "  accuracy_3: \n",
      "    0.9985989819268668,\n",
      "  f1_3: \n",
      "    0.3330996666355111,\n",
      "  accuracy_4: \n",
      "    0.9996964460841545,\n",
      "  f1_4: \n",
      "    0.3332827333341118,\n",
      "  accuracy_5: \n",
      "    0.9849974314668659,\n",
      "  f1_5: \n",
      "    0.35969996927583986,\n",
      "  accuracy_6: \n",
      "    0.9847639284546771,\n",
      "  f1_6: \n",
      "    0.6285694324839834,\n",
      "  accuracy_7: \n",
      "    0.9982370522579741,\n",
      "  f1_7: \n",
      "    0.3330392494824319,\n",
      "  accuracy_8: \n",
      "    0.9960304487927895,\n",
      "  f1_8: \n",
      "    0.5888198196234938,\n",
      "  accuracy_9: \n",
      "    0.9864451501424368,\n",
      "  f1_9: \n",
      "    0.6324911383210517,\n",
      "  accuracy_10: \n",
      "    0.9963923784616822,\n",
      "  f1_10: \n",
      "    0.5179150323606161,\n",
      "  accuracy_11: \n",
      "    0.9980268995470042,\n",
      "  f1_11: \n",
      "    0.5465843940056255,\n",
      "  accuracy_12: \n",
      "    0.9940573483397935,\n",
      "  f1_12: \n",
      "    0.7510695401075633,\n",
      "  accuracy_13: \n",
      "    0.9977817213842058,\n",
      "  f1_13: \n",
      "    0.3329632097120438,\n",
      "  accuracy_14: \n",
      "    0.9954350161117078,\n",
      "  f1_14: \n",
      "    0.5172626891933151,\n",
      "  accuracy_15: \n",
      "    0.9936487180684631,\n",
      "  f1_15: \n",
      "    0.4574688198169505,\n",
      "  accuracy_16: \n",
      "    0.9943375519544202,\n",
      "  f1_16: \n",
      "    0.52614564903408,\n",
      "  accuracy_17: \n",
      "    0.9799070658011488,\n",
      "  f1_17: \n",
      "    0.5914327594219541,\n",
      "  accuracy_18: \n",
      "    0.9994045673189185,\n",
      "  f1_18: \n",
      "    0.33323406499934793,\n",
      "  accuracy_19: \n",
      "    0.9976999953299398,\n",
      "  f1_19: \n",
      "    0.5023090323673086,\n",
      "}\n",
      "\n",
      "\n",
      "[2] Effects:\n",
      "{\n",
      "  accuracy: \n",
      "    0.994123312940737,\n",
      "  f1: \n",
      "    0.40783351012164437,\n",
      "  accuracy_0: \n",
      "    0.9960421239433989,\n",
      "  f1_0: \n",
      "    0.5628399087375028,\n",
      "  accuracy_1: \n",
      "    0.9981203007518797,\n",
      "  f1_1: \n",
      "    0.6582534652298654,\n",
      "  accuracy_2: \n",
      "    0.9983538037640686,\n",
      "  f1_2: \n",
      "    0.4915173321964765,\n",
      "  accuracy_3: \n",
      "    0.998470555270163,\n",
      "  f1_3: \n",
      "    0.47198264528004213,\n",
      "  accuracy_4: \n",
      "    0.9992994909634334,\n",
      "  f1_4: \n",
      "    0.4692709354015665,\n",
      "  accuracy_5: \n",
      "    0.9846588520991921,\n",
      "  f1_5: \n",
      "    0.3453448582927295,\n",
      "  accuracy_6: \n",
      "    0.9846238266473637,\n",
      "  f1_6: \n",
      "    0.7289399512150748,\n",
      "  accuracy_7: \n",
      "    0.996730957829356,\n",
      "  f1_7: \n",
      "    0.35457406142365544,\n",
      "  accuracy_8: \n",
      "    0.9960421239433989,\n",
      "  f1_8: \n",
      "    0.5900862714687393,\n",
      "  accuracy_9: \n",
      "    0.9839349927614066,\n",
      "  f1_9: \n",
      "    0.6527231426554985,\n",
      "  accuracy_10: \n",
      "    0.9963690281604632,\n",
      "  f1_10: \n",
      "    0.5840761672051747,\n",
      "  accuracy_11: \n",
      "    0.9973614159622659,\n",
      "  f1_11: \n",
      "    0.5537620512090476,\n",
      "  accuracy_12: \n",
      "    0.9975365432214075,\n",
      "  f1_12: \n",
      "    0.5473803853459948,\n",
      "  accuracy_13: \n",
      "    0.9961472002988838,\n",
      "  f1_13: \n",
      "    0.332689960656786,\n",
      "  accuracy_14: \n",
      "    0.9953065894550039,\n",
      "  f1_14: \n",
      "    0.5109076398905286,\n",
      "  accuracy_15: \n",
      "    0.99182739457339,\n",
      "  f1_15: \n",
      "    0.5409149809461337,\n",
      "  accuracy_16: \n",
      "    0.9954817167141456,\n",
      "  f1_16: \n",
      "    0.5724420464501021,\n",
      "  accuracy_17: \n",
      "    0.9789380283005651,\n",
      "  f1_17: \n",
      "    0.5875578689328472,\n",
      "  accuracy_18: \n",
      "    0.999182739457339,\n",
      "  f1_18: \n",
      "    0.4997956013408552,\n",
      "  accuracy_19: \n",
      "    0.9980385746976136,\n",
      "  f1_19: \n",
      "    0.33300610820244325,\n",
      "}\n",
      "\n",
      "\n",
      "[2] Conflicts:\n",
      "{\n",
      "  accuracy: \n",
      "    0.9697847102227619,\n",
      "  f1: \n",
      "    0.5214351076891053,\n",
      "}\n",
      "\n",
      "\n",
      "[2] Stories:\n",
      "{\n",
      "  accuracy: \n",
      "    0.6149068322981367,\n",
      "  f1: \n",
      "    0.614535063330244,\n",
      "  verifiability: \n",
      "    0.0,\n",
      "}\n",
      "\n",
      "\n",
      "[2] Saving model checkpoint...\n"
     ]
    },
    {
     "name": "stderr",
     "output_type": "stream",
     "text": [
      "\r",
      "[                                                                        ]   0%"
     ]
    },
    {
     "name": "stdout",
     "output_type": "stream",
     "text": [
      "[2] Finished epoch.\n",
      "[3] Beginning epoch...\n"
     ]
    },
    {
     "name": "stderr",
     "output_type": "stream",
     "text": [
      "[########################################################################] 100%\n",
      "[                                                                        ]   0%"
     ]
    },
    {
     "name": "stdout",
     "output_type": "stream",
     "text": [
      "\tBeginning evaluation...\n",
      "\t\tRunning prediction...\n"
     ]
    },
    {
     "name": "stderr",
     "output_type": "stream",
     "text": [
      "[########################################################################] 100%\n"
     ]
    },
    {
     "name": "stdout",
     "output_type": "stream",
     "text": [
      "\t\tComputing metrics...\n",
      "\tFinished evaluation in 0:00:50s.\n",
      "[3] Validation results:\n",
      "[3] Preconditions:\n",
      "{\n",
      "  accuracy: \n",
      "    0.995273315275767,\n",
      "  f1: \n",
      "    0.4699248091016483,\n",
      "  accuracy_0: \n",
      "    0.9976883201793303,\n",
      "  f1_0: \n",
      "    0.5983916369033059,\n",
      "  accuracy_1: \n",
      "    0.9982370522579741,\n",
      "  f1_1: \n",
      "    0.6587670438941633,\n",
      "  accuracy_2: \n",
      "    0.9990309624994163,\n",
      "  f1_2: \n",
      "    0.5170797494582849,\n",
      "  accuracy_3: \n",
      "    0.9985989819268668,\n",
      "  f1_3: \n",
      "    0.3330996666355111,\n",
      "  accuracy_4: \n",
      "    0.9996964460841545,\n",
      "  f1_4: \n",
      "    0.3332827333341118,\n",
      "  accuracy_5: \n",
      "    0.9858847429131836,\n",
      "  f1_5: \n",
      "    0.37716617552880405,\n",
      "  accuracy_6: \n",
      "    0.9884299257460422,\n",
      "  f1_6: \n",
      "    0.6371549998769485,\n",
      "  accuracy_7: \n",
      "    0.9982370522579741,\n",
      "  f1_7: \n",
      "    0.3330392494824319,\n",
      "  accuracy_8: \n",
      "    0.9969761359921543,\n",
      "  f1_8: \n",
      "    0.6024073905496693,\n",
      "  accuracy_9: \n",
      "    0.9896324662588147,\n",
      "  f1_9: \n",
      "    0.6395414665996665,\n",
      "  accuracy_10: \n",
      "    0.9966142063232616,\n",
      "  f1_10: \n",
      "    0.5421299602515062,\n",
      "  accuracy_11: \n",
      "    0.997653294727502,\n",
      "  f1_11: \n",
      "    0.5375559289747377,\n",
      "  accuracy_12: \n",
      "    0.9961004996964461,\n",
      "  f1_12: \n",
      "    0.7975473340564414,\n",
      "  accuracy_13: \n",
      "    0.9982720777098024,\n",
      "  f1_13: \n",
      "    0.5266030673960046,\n",
      "  accuracy_14: \n",
      "    0.9956101433708495,\n",
      "  f1_14: \n",
      "    0.5459163788175653,\n",
      "  accuracy_15: \n",
      "    0.9949563349367206,\n",
      "  f1_15: \n",
      "    0.4770562649124592,\n",
      "  accuracy_16: \n",
      "    0.9960537990940083,\n",
      "  f1_16: \n",
      "    0.7672454971773103,\n",
      "  accuracy_17: \n",
      "    0.9805375239340588,\n",
      "  f1_17: \n",
      "    0.5864824393967646,\n",
      "  accuracy_18: \n",
      "    0.9994045673189185,\n",
      "  f1_18: \n",
      "    0.33323406499934793,\n",
      "  accuracy_19: \n",
      "    0.9978517722878625,\n",
      "  f1_19: \n",
      "    0.5117961522170683,\n",
      "}\n",
      "\n",
      "\n",
      "[3] Effects:\n",
      "{\n",
      "  accuracy: \n",
      "    0.9950304721430906,\n",
      "  f1: \n",
      "    0.46154285282651347,\n",
      "  accuracy_0: \n",
      "    0.9976182692756737,\n",
      "  f1_0: \n",
      "    0.5928471080385073,\n",
      "  accuracy_1: \n",
      "    0.9981553262037081,\n",
      "  f1_1: \n",
      "    0.658406972072982,\n",
      "  accuracy_2: \n",
      "    0.9993228412646523,\n",
      "  f1_2: \n",
      "    0.8295316101887672,\n",
      "  accuracy_3: \n",
      "    0.9991477140055107,\n",
      "  f1_3: \n",
      "    0.7511630318624402,\n",
      "  accuracy_4: \n",
      "    0.9992527903609957,\n",
      "  f1_4: \n",
      "    0.4466839058690504,\n",
      "  accuracy_5: \n",
      "    0.9858263671601364,\n",
      "  f1_5: \n",
      "    0.38480717725650765,\n",
      "  accuracy_6: \n",
      "    0.9884999766496988,\n",
      "  f1_6: \n",
      "    0.7548471267906688,\n",
      "  accuracy_7: \n",
      "    0.9970928874982488,\n",
      "  f1_7: \n",
      "    0.568272722951512,\n",
      "  accuracy_8: \n",
      "    0.9969527856909354,\n",
      "  f1_8: \n",
      "    0.6047363779403868,\n",
      "  accuracy_9: \n",
      "    0.9883131742399477,\n",
      "  f1_9: \n",
      "    0.8213089511206576,\n",
      "  accuracy_10: \n",
      "    0.9966959323775276,\n",
      "  f1_10: \n",
      "    0.6979712716453129,\n",
      "  accuracy_11: \n",
      "    0.9976065941250642,\n",
      "  f1_11: \n",
      "    0.6255645514608507,\n",
      "  accuracy_12: \n",
      "    0.9977583710829869,\n",
      "  f1_12: \n",
      "    0.5697209768460256,\n",
      "  accuracy_13: \n",
      "    0.9967543081305749,\n",
      "  f1_13: \n",
      "    0.551736549077873,\n",
      "  accuracy_14: \n",
      "    0.9952482137019567,\n",
      "  f1_14: \n",
      "    0.5514011737515816,\n",
      "  accuracy_15: \n",
      "    0.9922710502965488,\n",
      "  f1_15: \n",
      "    0.5473346253379133,\n",
      "  accuracy_16: \n",
      "    0.9966609069256993,\n",
      "  f1_16: \n",
      "    0.5919698266819208,\n",
      "  accuracy_17: \n",
      "    0.9803273712230888,\n",
      "  f1_17: \n",
      "    0.585427238247445,\n",
      "  accuracy_18: \n",
      "    0.999182739457339,\n",
      "  f1_18: \n",
      "    0.4997956013408552,\n",
      "  accuracy_19: \n",
      "    0.9979218231915191,\n",
      "  f1_19: \n",
      "    0.3759973224168782,\n",
      "}\n",
      "\n",
      "\n",
      "[3] Conflicts:\n",
      "{\n",
      "  accuracy: \n",
      "    0.9697146593191052,\n",
      "  f1: \n",
      "    0.6101306621489954,\n",
      "}\n",
      "\n",
      "\n",
      "[3] Stories:\n",
      "{\n",
      "  accuracy: \n",
      "    0.717391304347826,\n",
      "  f1: \n",
      "    0.7167766941493732,\n",
      "  verifiability: \n",
      "    0.024844720496894408,\n",
      "}\n",
      "\n",
      "\n",
      "[3] Saving model checkpoint...\n"
     ]
    },
    {
     "name": "stderr",
     "output_type": "stream",
     "text": [
      "\r",
      "[                                                                        ]   0%"
     ]
    },
    {
     "name": "stdout",
     "output_type": "stream",
     "text": [
      "[3] Finished epoch.\n",
      "[4] Beginning epoch...\n"
     ]
    },
    {
     "name": "stderr",
     "output_type": "stream",
     "text": [
      "[########################################################################] 100%\n",
      "[                                                                        ]   0%"
     ]
    },
    {
     "name": "stdout",
     "output_type": "stream",
     "text": [
      "\tBeginning evaluation...\n",
      "\t\tRunning prediction...\n"
     ]
    },
    {
     "name": "stderr",
     "output_type": "stream",
     "text": [
      "[########################################################################] 100%\n"
     ]
    },
    {
     "name": "stdout",
     "output_type": "stream",
     "text": [
      "\t\tComputing metrics...\n",
      "\tFinished evaluation in 0:00:51s.\n",
      "[4] Validation results:\n",
      "[4] Preconditions:\n",
      "{\n",
      "  accuracy: \n",
      "    0.9952511324896092,\n",
      "  f1: \n",
      "    0.4836578028020235,\n",
      "  accuracy_0: \n",
      "    0.9974898426189698,\n",
      "  f1_0: \n",
      "    0.595512547495418,\n",
      "  accuracy_1: \n",
      "    0.9980969504506608,\n",
      "  f1_1: \n",
      "    0.6581262224428461,\n",
      "  accuracy_2: \n",
      "    0.9990893382524635,\n",
      "  f1_2: \n",
      "    0.5459473914543412,\n",
      "  accuracy_3: \n",
      "    0.9988324849390557,\n",
      "  f1_3: \n",
      "    0.4886941416124295,\n",
      "  accuracy_4: \n",
      "    0.9996964460841545,\n",
      "  f1_4: \n",
      "    0.3332827333341118,\n",
      "  accuracy_5: \n",
      "    0.985604539298557,\n",
      "  f1_5: \n",
      "    0.40774607669709134,\n",
      "  accuracy_6: \n",
      "    0.9879979451734927,\n",
      "  f1_6: \n",
      "    0.6706552831740975,\n",
      "  accuracy_7: \n",
      "    0.9983187783122403,\n",
      "  f1_7: \n",
      "    0.39365893164404375,\n",
      "  accuracy_8: \n",
      "    0.9969294353897166,\n",
      "  f1_8: \n",
      "    0.6034651525965928,\n",
      "  accuracy_9: \n",
      "    0.9891888105356559,\n",
      "  f1_9: \n",
      "    0.6387410906316958,\n",
      "  accuracy_10: \n",
      "    0.9965675057208238,\n",
      "  f1_10: \n",
      "    0.5419817273086904,\n",
      "  accuracy_11: \n",
      "    0.997968523793957,\n",
      "  f1_11: \n",
      "    0.668554338989364,\n",
      "  accuracy_12: \n",
      "    0.9964390790641199,\n",
      "  f1_12: \n",
      "    0.8403845536245624,\n",
      "  accuracy_13: \n",
      "    0.9980736001494419,\n",
      "  f1_13: \n",
      "    0.4733627291400881,\n",
      "  accuracy_14: \n",
      "    0.9956685191238966,\n",
      "  f1_14: \n",
      "    0.5718126330303296,\n",
      "  accuracy_15: \n",
      "    0.9951314621958623,\n",
      "  f1_15: \n",
      "    0.49328706961908914,\n",
      "  accuracy_16: \n",
      "    0.9960187736421799,\n",
      "  f1_16: \n",
      "    0.7723114845500628,\n",
      "  accuracy_17: \n",
      "    0.9811446317657497,\n",
      "  f1_17: \n",
      "    0.5935040713594663,\n",
      "  accuracy_18: \n",
      "    0.9994045673189185,\n",
      "  f1_18: \n",
      "    0.33323406499934793,\n",
      "  accuracy_19: \n",
      "    0.9973614159622659,\n",
      "  f1_19: \n",
      "    0.5285834391205433,\n",
      "}\n",
      "\n",
      "\n",
      "[4] Effects:\n",
      "{\n",
      "  accuracy: \n",
      "    0.995044482323822,\n",
      "  f1: \n",
      "    0.4739919343978034,\n",
      "  accuracy_0: \n",
      "    0.9973030402092187,\n",
      "  f1_0: \n",
      "    0.5886284498885248,\n",
      "  accuracy_1: \n",
      "    0.9980619249988325,\n",
      "  f1_1: \n",
      "    0.6579676051214416,\n",
      "  accuracy_2: \n",
      "    0.9993345164152617,\n",
      "  f1_2: \n",
      "    0.8627881957400807,\n",
      "  accuracy_3: \n",
      "    0.9991360388549012,\n",
      "  f1_3: \n",
      "    0.7951273082123177,\n",
      "  accuracy_4: \n",
      "    0.9994279176201373,\n",
      "  f1_4: \n",
      "    0.5228403709310259,\n",
      "  accuracy_5: \n",
      "    0.9856162144491664,\n",
      "  f1_5: \n",
      "    0.409368439464327,\n",
      "  accuracy_6: \n",
      "    0.9877177415588662,\n",
      "  f1_6: \n",
      "    0.7464557952231782,\n",
      "  accuracy_7: \n",
      "    0.9973263905104376,\n",
      "  f1_7: \n",
      "    0.6644218349392524,\n",
      "  accuracy_8: \n",
      "    0.9969294353897166,\n",
      "  f1_8: \n",
      "    0.6036689498161188,\n",
      "  accuracy_9: \n",
      "    0.9879745948722739,\n",
      "  f1_9: \n",
      "    0.7970521045404606,\n",
      "  accuracy_10: \n",
      "    0.9966375566244805,\n",
      "  f1_10: \n",
      "    0.7014130039410446,\n",
      "  accuracy_11: \n",
      "    0.9978167468360342,\n",
      "  f1_11: \n",
      "    0.709901961557409,\n",
      "  accuracy_12: \n",
      "    0.9978751225890814,\n",
      "  f1_12: \n",
      "    0.5748181438964509,\n",
      "  accuracy_13: \n",
      "    0.996730957829356,\n",
      "  f1_13: \n",
      "    0.5513862452007272,\n",
      "  accuracy_14: \n",
      "    0.9954350161117078,\n",
      "  f1_14: \n",
      "    0.602568886010593,\n",
      "  accuracy_15: \n",
      "    0.9931933871946949,\n",
      "  f1_15: \n",
      "    0.5592054712816911,\n",
      "  accuracy_16: \n",
      "    0.9966725820763088,\n",
      "  f1_16: \n",
      "    0.593778739450047,\n",
      "  accuracy_17: \n",
      "    0.9805258487834493,\n",
      "  f1_17: \n",
      "    0.5908554398848712,\n",
      "  accuracy_18: \n",
      "    0.9992294400597768,\n",
      "  f1_18: \n",
      "    0.5538613308163036,\n",
      "  accuracy_19: \n",
      "    0.997945173492738,\n",
      "  f1_19: \n",
      "    0.4317558299039781,\n",
      "}\n",
      "\n",
      "\n",
      "[4] Conflicts:\n",
      "{\n",
      "  accuracy: \n",
      "    0.9668308971185728,\n",
      "  f1: \n",
      "    0.6585922167187771,\n",
      "}\n",
      "\n",
      "\n",
      "[4] Stories:\n",
      "{\n",
      "  accuracy: \n",
      "    0.7204968944099379,\n",
      "  f1: \n",
      "    0.7203242617255355,\n",
      "  verifiability: \n",
      "    0.059006211180124224,\n",
      "}\n",
      "\n",
      "\n",
      "[4] Saving model checkpoint...\n"
     ]
    },
    {
     "name": "stderr",
     "output_type": "stream",
     "text": [
      "\r",
      "[                                                                        ]   0%"
     ]
    },
    {
     "name": "stdout",
     "output_type": "stream",
     "text": [
      "[4] Finished epoch.\n",
      "[5] Beginning epoch...\n"
     ]
    },
    {
     "name": "stderr",
     "output_type": "stream",
     "text": [
      "[########################################################################] 100%\n",
      "[                                                                        ]   0%"
     ]
    },
    {
     "name": "stdout",
     "output_type": "stream",
     "text": [
      "\tBeginning evaluation...\n",
      "\t\tRunning prediction...\n"
     ]
    },
    {
     "name": "stderr",
     "output_type": "stream",
     "text": [
      "[########################################################################] 100%\n"
     ]
    },
    {
     "name": "stdout",
     "output_type": "stream",
     "text": [
      "\t\tComputing metrics...\n",
      "\tFinished evaluation in 0:00:49s.\n",
      "[5] Validation results:\n",
      "[5] Preconditions:\n",
      "{\n",
      "  accuracy: \n",
      "    0.9953818941764349,\n",
      "  f1: \n",
      "    0.5745368283450633,\n",
      "  accuracy_0: \n",
      "    0.9974314668659225,\n",
      "  f1_0: \n",
      "    0.5921756983956423,\n",
      "  accuracy_1: \n",
      "    0.9981786765049269,\n",
      "  f1_1: \n",
      "    0.6585040143770543,\n",
      "  accuracy_2: \n",
      "    0.9991243637042918,\n",
      "  f1_2: \n",
      "    0.5885064226655002,\n",
      "  accuracy_3: \n",
      "    0.9992411152103862,\n",
      "  f1_3: \n",
      "    0.6349098758514802,\n",
      "  accuracy_4: \n",
      "    0.9996964460841545,\n",
      "  f1_4: \n",
      "    0.3332827333341118,\n",
      "  accuracy_5: \n",
      "    0.9863634240881708,\n",
      "  f1_5: \n",
      "    0.499569892439389,\n",
      "  accuracy_6: \n",
      "    0.9883248493905571,\n",
      "  f1_6: \n",
      "    0.7281741651168644,\n",
      "  accuracy_7: \n",
      "    0.998365478914678,\n",
      "  f1_7: \n",
      "    0.45236277430990407,\n",
      "  accuracy_8: \n",
      "    0.9967543081305749,\n",
      "  f1_8: \n",
      "    0.6012728854893616,\n",
      "  accuracy_9: \n",
      "    0.9890837341801709,\n",
      "  f1_9: \n",
      "    0.6384962065312266,\n",
      "  accuracy_10: \n",
      "    0.9966959323775276,\n",
      "  f1_10: \n",
      "    0.5471227886110793,\n",
      "  accuracy_11: \n",
      "    0.9979918740951759,\n",
      "  f1_11: \n",
      "    0.7189054163396665,\n",
      "  accuracy_12: \n",
      "    0.9962756269555877,\n",
      "  f1_12: \n",
      "    0.8343830460968439,\n",
      "  accuracy_13: \n",
      "    0.9981786765049269,\n",
      "  f1_13: \n",
      "    0.49219446524546706,\n",
      "  accuracy_14: \n",
      "    0.9959487227385233,\n",
      "  f1_14: \n",
      "    0.6571478007415904,\n",
      "  accuracy_15: \n",
      "    0.9960187736421799,\n",
      "  f1_15: \n",
      "    0.5374226373821702,\n",
      "  accuracy_16: \n",
      "    0.9956568439732872,\n",
      "  f1_16: \n",
      "    0.7922645716006583,\n",
      "  accuracy_17: \n",
      "    0.9812146826694065,\n",
      "  f1_17: \n",
      "    0.5927322967910079,\n",
      "  accuracy_18: \n",
      "    0.9994162424695279,\n",
      "  f1_18: \n",
      "    0.38355047286786004,\n",
      "  accuracy_19: \n",
      "    0.9976766450287209,\n",
      "  f1_19: \n",
      "    0.5437332999233303,\n",
      "}\n",
      "\n",
      "\n",
      "[5] Effects:\n",
      "{\n",
      "  accuracy: \n",
      "    0.9951291271657404,\n",
      "  f1: \n",
      "    0.5499819199447162,\n",
      "  accuracy_0: \n",
      "    0.9973730911128753,\n",
      "  f1_0: \n",
      "    0.5900978667677016,\n",
      "  accuracy_1: \n",
      "    0.9981086256012702,\n",
      "  f1_1: \n",
      "    0.6581949418242002,\n",
      "  accuracy_2: \n",
      "    0.9993578667164806,\n",
      "  f1_2: \n",
      "    0.8654628467237506,\n",
      "  accuracy_3: \n",
      "    0.9992411152103862,\n",
      "  f1_3: \n",
      "    0.8183438636136606,\n",
      "  accuracy_4: \n",
      "    0.9993812170176996,\n",
      "  f1_4: \n",
      "    0.5046587098071645,\n",
      "  accuracy_5: \n",
      "    0.9862700228832952,\n",
      "  f1_5: \n",
      "    0.48327502558417124,\n",
      "  accuracy_6: \n",
      "    0.9878811936673983,\n",
      "  f1_6: \n",
      "    0.7459517193973865,\n",
      "  accuracy_7: \n",
      "    0.9974898426189698,\n",
      "  f1_7: \n",
      "    0.6994219115877582,\n",
      "  accuracy_8: \n",
      "    0.9967659832811844,\n",
      "  f1_8: \n",
      "    0.6007309777768713,\n",
      "  accuracy_9: \n",
      "    0.9878111427637416,\n",
      "  f1_9: \n",
      "    0.7974662955046375,\n",
      "  accuracy_10: \n",
      "    0.9968593844860598,\n",
      "  f1_10: \n",
      "    0.7263524119471859,\n",
      "  accuracy_11: \n",
      "    0.9978867977396908,\n",
      "  f1_11: \n",
      "    0.7338598757268375,\n",
      "  accuracy_12: \n",
      "    0.9979218231915191,\n",
      "  f1_12: \n",
      "    0.6125173628277693,\n",
      "  accuracy_13: \n",
      "    0.9968827347872787,\n",
      "  f1_13: \n",
      "    0.5808316686889495,\n",
      "  accuracy_14: \n",
      "    0.99580862093121,\n",
      "  f1_14: \n",
      "    0.6747730452448181,\n",
      "  accuracy_15: \n",
      "    0.9936136926166348,\n",
      "  f1_15: \n",
      "    0.5866676385150442,\n",
      "  accuracy_16: \n",
      "    0.9959837481903516,\n",
      "  f1_16: \n",
      "    0.5814312639572689,\n",
      "  accuracy_17: \n",
      "    0.9806192499883248,\n",
      "  f1_17: \n",
      "    0.5900403964384564,\n",
      "  accuracy_18: \n",
      "    0.9992527903609957,\n",
      "  f1_18: \n",
      "    0.6442575438405218,\n",
      "  accuracy_19: \n",
      "    0.9980736001494419,\n",
      "  f1_19: \n",
      "    0.395234126775407,\n",
      "}\n",
      "\n",
      "\n",
      "[5] Conflicts:\n",
      "{\n",
      "  accuracy: \n",
      "    0.970076588987998,\n",
      "  f1: \n",
      "    0.6594035760346934,\n",
      "}\n",
      "\n",
      "\n",
      "[5] Stories:\n",
      "{\n",
      "  accuracy: \n",
      "    0.7422360248447205,\n",
      "  f1: \n",
      "    0.741934860905922,\n",
      "  verifiability: \n",
      "    0.06832298136645963,\n",
      "}\n",
      "\n",
      "\n",
      "[5] Saving model checkpoint...\n"
     ]
    },
    {
     "name": "stderr",
     "output_type": "stream",
     "text": [
      "\r",
      "[                                                                        ]   0%"
     ]
    },
    {
     "name": "stdout",
     "output_type": "stream",
     "text": [
      "[5] Finished epoch.\n",
      "[6] Beginning epoch...\n"
     ]
    },
    {
     "name": "stderr",
     "output_type": "stream",
     "text": [
      "[########################################################################] 100%\n",
      "[                                                                        ]   0%"
     ]
    },
    {
     "name": "stdout",
     "output_type": "stream",
     "text": [
      "\tBeginning evaluation...\n",
      "\t\tRunning prediction...\n"
     ]
    },
    {
     "name": "stderr",
     "output_type": "stream",
     "text": [
      "[########################################################################] 100%\n"
     ]
    },
    {
     "name": "stdout",
     "output_type": "stream",
     "text": [
      "\t\tComputing metrics...\n",
      "\tFinished evaluation in 0:00:50s.\n",
      "[6] Validation results:\n",
      "[6] Preconditions:\n",
      "{\n",
      "  accuracy: \n",
      "    0.9954793816840237,\n",
      "  f1: \n",
      "    0.5714540815850064,\n",
      "  accuracy_0: \n",
      "    0.9974898426189698,\n",
      "  f1_0: \n",
      "    0.5939114312249568,\n",
      "  accuracy_1: \n",
      "    0.9981436510530985,\n",
      "  f1_1: \n",
      "    0.65834809187657,\n",
      "  accuracy_2: \n",
      "    0.9993812170176996,\n",
      "  f1_2: \n",
      "    0.7373370495579618,\n",
      "  accuracy_3: \n",
      "    0.9992644655116051,\n",
      "  f1_3: \n",
      "    0.6412565801233873,\n",
      "  accuracy_4: \n",
      "    0.9996964460841545,\n",
      "  f1_4: \n",
      "    0.3332827333341118,\n",
      "  accuracy_5: \n",
      "    0.9857329659552608,\n",
      "  f1_5: \n",
      "    0.4892417856634711,\n",
      "  accuracy_6: \n",
      "    0.9883598748423855,\n",
      "  f1_6: \n",
      "    0.7247600233094073,\n",
      "  accuracy_7: \n",
      "    0.998470555270163,\n",
      "  f1_7: \n",
      "    0.5028933640350457,\n",
      "  accuracy_8: \n",
      "    0.997256339606781,\n",
      "  f1_8: \n",
      "    0.7665427579503,\n",
      "  accuracy_9: \n",
      "    0.9894223135478447,\n",
      "  f1_9: \n",
      "    0.6877442333993553,\n",
      "  accuracy_10: \n",
      "    0.9966609069256993,\n",
      "  f1_10: \n",
      "    0.5495033441847661,\n",
      "  accuracy_11: \n",
      "    0.997653294727502,\n",
      "  f1_11: \n",
      "    0.7199587718242181,\n",
      "  accuracy_12: \n",
      "    0.9965324802689954,\n",
      "  f1_12: \n",
      "    0.8419997575797882,\n",
      "  accuracy_13: \n",
      "    0.9982720777098024,\n",
      "  f1_13: \n",
      "    0.5171193367314837,\n",
      "  accuracy_14: \n",
      "    0.9959253724373044,\n",
      "  f1_14: \n",
      "    0.6664923860080042,\n",
      "  accuracy_15: \n",
      "    0.9962406015037594,\n",
      "  f1_15: \n",
      "    0.5500465021632361,\n",
      "  accuracy_16: \n",
      "    0.996520805118386,\n",
      "  f1_16: \n",
      "    0.8129519091069314,\n",
      "  accuracy_17: \n",
      "    0.981518236585252,\n",
      "  f1_17: \n",
      "    0.5927747090362857,\n",
      "  accuracy_18: \n",
      "    0.9992644655116051,\n",
      "  f1_18: \n",
      "    0.3736147338256745,\n",
      "  accuracy_19: \n",
      "    0.9977817213842058,\n",
      "  f1_19: \n",
      "    0.5829068853482043,\n",
      "}\n",
      "\n",
      "\n",
      "[6] Effects:\n",
      "{\n",
      "  accuracy: \n",
      "    0.9951775790407696,\n",
      "  f1: \n",
      "    0.5603553202283488,\n",
      "  accuracy_0: \n",
      "    0.9974431420165321,\n",
      "  f1_0: \n",
      "    0.5927005196056713,\n",
      "  accuracy_1: \n",
      "    0.9980852753000514,\n",
      "  f1_1: \n",
      "    0.6580901277241819,\n",
      "  accuracy_2: \n",
      "    0.9991710643067295,\n",
      "  f1_2: \n",
      "    0.8506340296641327,\n",
      "  accuracy_3: \n",
      "    0.9989609115957596,\n",
      "  f1_3: \n",
      "    0.7580154799259576,\n",
      "  accuracy_4: \n",
      "    0.9993345164152617,\n",
      "  f1_4: \n",
      "    0.4850375341913255,\n",
      "  accuracy_5: \n",
      "    0.9857446411058702,\n",
      "  f1_5: \n",
      "    0.4882985961708418,\n",
      "  accuracy_6: \n",
      "    0.98784616821557,\n",
      "  f1_6: \n",
      "    0.7420172164432058,\n",
      "  accuracy_7: \n",
      "    0.9976416195768926,\n",
      "  f1_7: \n",
      "    0.7239425016300731,\n",
      "  accuracy_8: \n",
      "    0.9972796899079999,\n",
      "  f1_8: \n",
      "    0.6088392611387876,\n",
      "  accuracy_9: \n",
      "    0.9881613972820249,\n",
      "  f1_9: \n",
      "    0.8079205091693412,\n",
      "  accuracy_10: \n",
      "    0.9966609069256993,\n",
      "  f1_10: \n",
      "    0.7098811380569302,\n",
      "  accuracy_11: \n",
      "    0.997968523793957,\n",
      "  f1_11: \n",
      "    0.7675416207605269,\n",
      "  accuracy_12: \n",
      "    0.9983071031616307,\n",
      "  f1_12: \n",
      "    0.8272644136873505,\n",
      "  accuracy_13: \n",
      "    0.9968710596366693,\n",
      "  f1_13: \n",
      "    0.6068659637705243,\n",
      "  accuracy_14: \n",
      "    0.9957385700275534,\n",
      "  f1_14: \n",
      "    0.6847671039601103,\n",
      "  accuracy_15: \n",
      "    0.9933451641526175,\n",
      "  f1_15: \n",
      "    0.625388981006195,\n",
      "  accuracy_16: \n",
      "    0.996917760239107,\n",
      "  f1_16: \n",
      "    0.7622775420388447,\n",
      "  accuracy_17: \n",
      "    0.9809344790547798,\n",
      "  f1_17: \n",
      "    0.6575003017100137,\n",
      "  accuracy_18: \n",
      "    0.9992411152103862,\n",
      "  f1_18: \n",
      "    0.7070173629962874,\n",
      "  accuracy_19: \n",
      "    0.9978984728903003,\n",
      "  f1_19: \n",
      "    0.43678660123695584,\n",
      "}\n",
      "\n",
      "\n",
      "[6] Conflicts:\n",
      "{\n",
      "  accuracy: \n",
      "    0.9686055200112081,\n",
      "  f1: \n",
      "    0.6653853596446196,\n",
      "}\n",
      "\n",
      "\n",
      "[6] Stories:\n",
      "{\n",
      "  accuracy: \n",
      "    0.7422360248447205,\n",
      "  f1: \n",
      "    0.7421141506247888,\n",
      "  verifiability: \n",
      "    0.062111801242236024,\n",
      "}\n",
      "\n",
      "\n",
      "[6] Saving model checkpoint...\n"
     ]
    },
    {
     "name": "stderr",
     "output_type": "stream",
     "text": [
      "\r",
      "[                                                                        ]   0%"
     ]
    },
    {
     "name": "stdout",
     "output_type": "stream",
     "text": [
      "[6] Finished epoch.\n",
      "[7] Beginning epoch...\n"
     ]
    },
    {
     "name": "stderr",
     "output_type": "stream",
     "text": [
      "[########################################################################] 100%\n",
      "[                                                                        ]   0%"
     ]
    },
    {
     "name": "stdout",
     "output_type": "stream",
     "text": [
      "\tBeginning evaluation...\n",
      "\t\tRunning prediction...\n"
     ]
    },
    {
     "name": "stderr",
     "output_type": "stream",
     "text": [
      "[########################################################################] 100%\n"
     ]
    },
    {
     "name": "stdout",
     "output_type": "stream",
     "text": [
      "\t\tComputing metrics...\n",
      "\tFinished evaluation in 0:00:50s.\n",
      "[7] Validation results:\n",
      "[7] Preconditions:\n",
      "{\n",
      "  accuracy: \n",
      "    0.9955330873768271,\n",
      "  f1: \n",
      "    0.5742506704980825,\n",
      "  accuracy_0: \n",
      "    0.9976649698781114,\n",
      "  f1_0: \n",
      "    0.6000198296200719,\n",
      "  accuracy_1: \n",
      "    0.9982253771073647,\n",
      "  f1_1: \n",
      "    0.6587065886030409,\n",
      "  accuracy_2: \n",
      "    0.9993461915658712,\n",
      "  f1_2: \n",
      "    0.772784697850143,\n",
      "  accuracy_3: \n",
      "    0.9992177649091674,\n",
      "  f1_3: \n",
      "    0.630564925605348,\n",
      "  accuracy_4: \n",
      "    0.9996964460841545,\n",
      "  f1_4: \n",
      "    0.3332827333341118,\n",
      "  accuracy_5: \n",
      "    0.9859197683650119,\n",
      "  f1_5: \n",
      "    0.49850200933197875,\n",
      "  accuracy_6: \n",
      "    0.9884065754448232,\n",
      "  f1_6: \n",
      "    0.7280379631180489,\n",
      "  accuracy_7: \n",
      "    0.9984822304207724,\n",
      "  f1_7: \n",
      "    0.521118163269812,\n",
      "  accuracy_8: \n",
      "    0.9971279129500771,\n",
      "  f1_8: \n",
      "    0.7641648301370513,\n",
      "  accuracy_9: \n",
      "    0.9898309438191752,\n",
      "  f1_9: \n",
      "    0.6402824094337571,\n",
      "  accuracy_10: \n",
      "    0.9968477093354504,\n",
      "  f1_10: \n",
      "    0.6175392351655722,\n",
      "  accuracy_11: \n",
      "    0.9978751225890814,\n",
      "  f1_11: \n",
      "    0.7394807882399888,\n",
      "  accuracy_12: \n",
      "    0.996205576051931,\n",
      "  f1_12: \n",
      "    0.8404050440524822,\n",
      "  accuracy_13: \n",
      "    0.9982720777098024,\n",
      "  f1_13: \n",
      "    0.522419360174705,\n",
      "  accuracy_14: \n",
      "    0.9961822257507121,\n",
      "  f1_14: \n",
      "    0.6979142565333744,\n",
      "  accuracy_15: \n",
      "    0.995831971232429,\n",
      "  f1_15: \n",
      "    0.5467953661657847,\n",
      "  accuracy_16: \n",
      "    0.9967076075281371,\n",
      "  f1_16: \n",
      "    0.8316482269830625,\n",
      "  accuracy_17: \n",
      "    0.9818217905010974,\n",
      "  f1_17: \n",
      "    0.5941850252901338,\n",
      "  accuracy_18: \n",
      "    0.999392892168309,\n",
      "  f1_18: \n",
      "    0.41788819316909204,\n",
      "  accuracy_19: \n",
      "    0.9976065941250642,\n",
      "  f1_19: \n",
      "    0.6153789134336157,\n",
      "}\n",
      "\n",
      "\n",
      "[7] Effects:\n",
      "{\n",
      "  accuracy: \n",
      "    0.9952966655769859,\n",
      "  f1: \n",
      "    0.5659414315749141,\n",
      "  accuracy_0: \n",
      "    0.9976999953299398,\n",
      "  f1_0: \n",
      "    0.6009547896250316,\n",
      "  accuracy_1: \n",
      "    0.9981319759024891,\n",
      "  f1_1: \n",
      "    0.6583046193553753,\n",
      "  accuracy_2: \n",
      "    0.9994862933731845,\n",
      "  f1_2: \n",
      "    0.8788942710104424,\n",
      "  accuracy_3: \n",
      "    0.999182739457339,\n",
      "  f1_3: \n",
      "    0.7758155043908945,\n",
      "  accuracy_4: \n",
      "    0.9993812170176996,\n",
      "  f1_4: \n",
      "    0.5046587098071645,\n",
      "  accuracy_5: \n",
      "    0.9859431186662307,\n",
      "  f1_5: \n",
      "    0.4980586712491757,\n",
      "  accuracy_6: \n",
      "    0.9882781487881194,\n",
      "  f1_6: \n",
      "    0.7688059649027584,\n",
      "  accuracy_7: \n",
      "    0.9977233456311586,\n",
      "  f1_7: \n",
      "    0.7386915687830283,\n",
      "  accuracy_8: \n",
      "    0.9972213141549526,\n",
      "  f1_8: \n",
      "    0.791593582791244,\n",
      "  accuracy_9: \n",
      "    0.9882781487881194,\n",
      "  f1_9: \n",
      "    0.7934951729160516,\n",
      "  accuracy_10: \n",
      "    0.9967192826787465,\n",
      "  f1_10: \n",
      "    0.7093670119635099,\n",
      "  accuracy_11: \n",
      "    0.997968523793957,\n",
      "  f1_11: \n",
      "    0.7671431695220446,\n",
      "  accuracy_12: \n",
      "    0.9978984728903003,\n",
      "  f1_12: \n",
      "    0.7015990753290328,\n",
      "  accuracy_13: \n",
      "    0.9969527856909354,\n",
      "  f1_13: \n",
      "    0.6284585233079093,\n",
      "  accuracy_14: \n",
      "    0.9960304487927895,\n",
      "  f1_14: \n",
      "    0.7112704948752061,\n",
      "  accuracy_15: \n",
      "    0.9932400877971326,\n",
      "  f1_15: \n",
      "    0.6565416874413285,\n",
      "  accuracy_16: \n",
      "    0.9971045626488582,\n",
      "  f1_16: \n",
      "    0.7730545406815647,\n",
      "  accuracy_17: \n",
      "    0.9813314341755008,\n",
      "  f1_17: \n",
      "    0.6752309233202315,\n",
      "  accuracy_18: \n",
      "    0.9995446691262317,\n",
      "  f1_18: \n",
      "    0.8209870122353633,\n",
      "  accuracy_19: \n",
      "    0.9978167468360342,\n",
      "  f1_19: \n",
      "    0.5367054784640702,\n",
      "}\n",
      "\n",
      "\n",
      "[7] Conflicts:\n",
      "{\n",
      "  accuracy: \n",
      "    0.9644491663942465,\n",
      "  f1: \n",
      "    0.6904861792872105,\n",
      "}\n",
      "\n",
      "\n",
      "[7] Stories:\n",
      "{\n",
      "  accuracy: \n",
      "    0.7267080745341615,\n",
      "  f1: \n",
      "    0.7264442384924312,\n",
      "  verifiability: \n",
      "    0.06832298136645963,\n",
      "}\n",
      "\n",
      "\n",
      "[7] Saving model checkpoint...\n"
     ]
    },
    {
     "name": "stderr",
     "output_type": "stream",
     "text": [
      "\r",
      "[                                                                        ]   0%"
     ]
    },
    {
     "name": "stdout",
     "output_type": "stream",
     "text": [
      "[7] Finished epoch.\n",
      "[8] Beginning epoch...\n"
     ]
    },
    {
     "name": "stderr",
     "output_type": "stream",
     "text": [
      "[########################################################################] 100%\n",
      "[                                                                        ]   0%"
     ]
    },
    {
     "name": "stdout",
     "output_type": "stream",
     "text": [
      "\tBeginning evaluation...\n",
      "\t\tRunning prediction...\n"
     ]
    },
    {
     "name": "stderr",
     "output_type": "stream",
     "text": [
      "[########################################################################] 100%\n"
     ]
    },
    {
     "name": "stdout",
     "output_type": "stream",
     "text": [
      "\t\tComputing metrics...\n",
      "\tFinished evaluation in 0:00:49s.\n",
      "[8] Validation results:\n",
      "[8] Preconditions:\n",
      "{\n",
      "  accuracy: \n",
      "    0.9956200672488675,\n",
      "  f1: \n",
      "    0.5748372507410979,\n",
      "  accuracy_0: \n",
      "    0.9975715686732359,\n",
      "  f1_0: \n",
      "    0.5972356743616063,\n",
      "  accuracy_1: \n",
      "    0.9982487274085836,\n",
      "  f1_1: \n",
      "    0.6588182739462857,\n",
      "  accuracy_2: \n",
      "    0.9993461915658712,\n",
      "  f1_2: \n",
      "    0.7689751753153219,\n",
      "  accuracy_3: \n",
      "    0.9992411152103862,\n",
      "  f1_3: \n",
      "    0.7154929414246903,\n",
      "  accuracy_4: \n",
      "    0.9998365478914678,\n",
      "  f1_4: \n",
      "    0.568600202917924,\n",
      "  accuracy_5: \n",
      "    0.9859547938168403,\n",
      "  f1_5: \n",
      "    0.50325731479604,\n",
      "  accuracy_6: \n",
      "    0.9888735814692009,\n",
      "  f1_6: \n",
      "    0.7378319536747439,\n",
      "  accuracy_7: \n",
      "    0.9984939055713818,\n",
      "  f1_7: \n",
      "    0.5227410972054927,\n",
      "  accuracy_8: \n",
      "    0.9971395881006865,\n",
      "  f1_8: \n",
      "    0.7633544375540264,\n",
      "  accuracy_9: \n",
      "    0.9898659692710036,\n",
      "  f1_9: \n",
      "    0.64027776390282,\n",
      "  accuracy_10: \n",
      "    0.9968593844860598,\n",
      "  f1_10: \n",
      "    0.6766267242821775,\n",
      "  accuracy_11: \n",
      "    0.997945173492738,\n",
      "  f1_11: \n",
      "    0.7840938184805277,\n",
      "  accuracy_12: \n",
      "    0.996544155419605,\n",
      "  f1_12: \n",
      "    0.8464899812962701,\n",
      "  accuracy_13: \n",
      "    0.9982370522579741,\n",
      "  f1_13: \n",
      "    0.5095427832393672,\n",
      "  accuracy_14: \n",
      "    0.9959370475879139,\n",
      "  f1_14: \n",
      "    0.6505824772912149,\n",
      "  accuracy_15: \n",
      "    0.996123849997665,\n",
      "  f1_15: \n",
      "    0.5480587633981663,\n",
      "  accuracy_16: \n",
      "    0.9970111614439826,\n",
      "  f1_16: \n",
      "    0.8650946799949549,\n",
      "  accuracy_17: \n",
      "    0.981705038995003,\n",
      "  f1_17: \n",
      "    0.5932981048774701,\n",
      "  accuracy_18: \n",
      "    0.9994279176201373,\n",
      "  f1_18: \n",
      "    0.39496634848129303,\n",
      "  accuracy_19: \n",
      "    0.9980385746976136,\n",
      "  f1_19: \n",
      "    0.6378424902467298,\n",
      "}\n",
      "\n",
      "\n",
      "[8] Effects:\n",
      "{\n",
      "  accuracy: \n",
      "    0.9953573763601551,\n",
      "  f1: \n",
      "    0.5673456445225342,\n",
      "  accuracy_0: \n",
      "    0.997629944426283,\n",
      "  f1_0: \n",
      "    0.598695684490505,\n",
      "  accuracy_1: \n",
      "    0.9981903516555364,\n",
      "  f1_1: \n",
      "    0.6585606124168647,\n",
      "  accuracy_2: \n",
      "    0.999392892168309,\n",
      "  f1_2: \n",
      "    0.8695766407570601,\n",
      "  accuracy_3: \n",
      "    0.999077663101854,\n",
      "  f1_3: \n",
      "    0.7619304459925034,\n",
      "  accuracy_4: \n",
      "    0.9993812170176996,\n",
      "  f1_4: \n",
      "    0.5046587098071645,\n",
      "  accuracy_5: \n",
      "    0.9858380423107458,\n",
      "  f1_5: \n",
      "    0.5020270422668159,\n",
      "  accuracy_6: \n",
      "    0.9885817027039648,\n",
      "  f1_6: \n",
      "    0.7602221533994369,\n",
      "  accuracy_7: \n",
      "    0.9975832438238453,\n",
      "  f1_7: \n",
      "    0.7163282403337479,\n",
      "  accuracy_8: \n",
      "    0.9972446644561714,\n",
      "  f1_8: \n",
      "    0.7985933959174912,\n",
      "  accuracy_9: \n",
      "    0.9886400784570121,\n",
      "  f1_9: \n",
      "    0.8284848300494159,\n",
      "  accuracy_10: \n",
      "    0.9967543081305749,\n",
      "  f1_10: \n",
      "    0.6997158911834367,\n",
      "  accuracy_11: \n",
      "    0.9980969504506608,\n",
      "  f1_11: \n",
      "    0.7792964960281682,\n",
      "  accuracy_12: \n",
      "    0.998680707981133,\n",
      "  f1_12: \n",
      "    0.8915488698905311,\n",
      "  accuracy_13: \n",
      "    0.9969527856909354,\n",
      "  f1_13: \n",
      "    0.6072758924402044,\n",
      "  accuracy_14: \n",
      "    0.9958903469854761,\n",
      "  f1_14: \n",
      "    0.6829811606084423,\n",
      "  accuracy_15: \n",
      "    0.9934268902068837,\n",
      "  f1_15: \n",
      "    0.6558616666437506,\n",
      "  accuracy_16: \n",
      "    0.9972096390043431,\n",
      "  f1_16: \n",
      "    0.8312388530141179,\n",
      "  accuracy_17: \n",
      "    0.9810278802596554,\n",
      "  f1_17: \n",
      "    0.6593141358268805,\n",
      "  accuracy_18: \n",
      "    0.9994862933731845,\n",
      "  f1_18: \n",
      "    0.7707048346650468,\n",
      "  accuracy_19: \n",
      "    0.9980619249988325,\n",
      "  f1_19: \n",
      "    0.5017746462860198,\n",
      "}\n",
      "\n",
      "\n",
      "[8] Conflicts:\n",
      "{\n",
      "  accuracy: \n",
      "    0.9633984028393966,\n",
      "  f1: \n",
      "    0.693402480163989,\n",
      "}\n",
      "\n",
      "\n",
      "[8] Stories:\n",
      "{\n",
      "  accuracy: \n",
      "    0.7329192546583851,\n",
      "  f1: \n",
      "    0.73241341991342,\n",
      "  verifiability: \n",
      "    0.07142857142857142,\n",
      "}\n",
      "\n",
      "\n",
      "[8] Saving model checkpoint...\n"
     ]
    },
    {
     "name": "stderr",
     "output_type": "stream",
     "text": [
      "\r",
      "[                                                                        ]   0%"
     ]
    },
    {
     "name": "stdout",
     "output_type": "stream",
     "text": [
      "[8] Finished epoch.\n",
      "[9] Beginning epoch...\n"
     ]
    },
    {
     "name": "stderr",
     "output_type": "stream",
     "text": [
      "[########################################################################] 100%\n",
      "[                                                                        ]   0%"
     ]
    },
    {
     "name": "stdout",
     "output_type": "stream",
     "text": [
      "\tBeginning evaluation...\n",
      "\t\tRunning prediction...\n"
     ]
    },
    {
     "name": "stderr",
     "output_type": "stream",
     "text": [
      "[########################################################################] 100%\n"
     ]
    },
    {
     "name": "stdout",
     "output_type": "stream",
     "text": [
      "\t\tComputing metrics...\n",
      "\tFinished evaluation in 0:00:50s.\n",
      "[9] Validation results:\n",
      "[9] Preconditions:\n",
      "{\n",
      "  accuracy: \n",
      "    0.995443772474665,\n",
      "  f1: \n",
      "    0.5794712717385158,\n",
      "  accuracy_0: \n",
      "    0.9973497408116565,\n",
      "  f1_0: \n",
      "    0.6881012358479718,\n",
      "  accuracy_1: \n",
      "    0.9981786765049269,\n",
      "  f1_1: \n",
      "    0.6584850134127658,\n",
      "  accuracy_2: \n",
      "    0.999392892168309,\n",
      "  f1_2: \n",
      "    0.7867607440765946,\n",
      "  accuracy_3: \n",
      "    0.9992060897585578,\n",
      "  f1_3: \n",
      "    0.7068703218885161,\n",
      "  accuracy_4: \n",
      "    0.9998365478914678,\n",
      "  f1_4: \n",
      "    0.568600202917924,\n",
      "  accuracy_5: \n",
      "    0.985896418063793,\n",
      "  f1_5: \n",
      "    0.5021481878122818,\n",
      "  accuracy_6: \n",
      "    0.987951244571055,\n",
      "  f1_6: \n",
      "    0.7355171919301972,\n",
      "  accuracy_7: \n",
      "    0.9985172558726008,\n",
      "  f1_7: \n",
      "    0.5235660171578961,\n",
      "  accuracy_8: \n",
      "    0.9970695371970298,\n",
      "  f1_8: \n",
      "    0.7617194692346866,\n",
      "  accuracy_9: \n",
      "    0.9890020081259048,\n",
      "  f1_9: \n",
      "    0.6896433300812634,\n",
      "  accuracy_10: \n",
      "    0.9970461868958109,\n",
      "  f1_10: \n",
      "    0.7551152809288931,\n",
      "  accuracy_11: \n",
      "    0.9977933965348152,\n",
      "  f1_11: \n",
      "    0.7767821495704501,\n",
      "  accuracy_12: \n",
      "    0.9966492317750899,\n",
      "  f1_12: \n",
      "    0.865805303811294,\n",
      "  accuracy_13: \n",
      "    0.998260402559193,\n",
      "  f1_13: \n",
      "    0.5476893151618522,\n",
      "  accuracy_14: \n",
      "    0.9960771493952272,\n",
      "  f1_14: \n",
      "    0.7145123537993641,\n",
      "  accuracy_15: \n",
      "    0.9959370475879139,\n",
      "  f1_15: \n",
      "    0.5506321858865729,\n",
      "  accuracy_16: \n",
      "    0.9966375566244805,\n",
      "  f1_16: \n",
      "    0.8479635680947896,\n",
      "  accuracy_17: \n",
      "    0.9813197590248914,\n",
      "  f1_17: \n",
      "    0.5920757967323113,\n",
      "  accuracy_18: \n",
      "    0.9994045673189185,\n",
      "  f1_18: \n",
      "    0.4342441544149159,\n",
      "  accuracy_19: \n",
      "    0.9973497408116565,\n",
      "  f1_19: \n",
      "    0.6107807140959003,\n",
      "}\n",
      "\n",
      "\n",
      "[9] Effects:\n",
      "{\n",
      "  accuracy: \n",
      "    0.9952196095829636,\n",
      "  f1: \n",
      "    0.5728125145878453,\n",
      "  accuracy_0: \n",
      "    0.9973614159622659,\n",
      "  f1_0: \n",
      "    0.6262574828073264,\n",
      "  accuracy_1: \n",
      "    0.9981670013543175,\n",
      "  f1_1: \n",
      "    0.6584414272666631,\n",
      "  accuracy_2: \n",
      "    0.9995563442768411,\n",
      "  f1_2: \n",
      "    0.8917208329239096,\n",
      "  accuracy_3: \n",
      "    0.9991360388549012,\n",
      "  f1_3: \n",
      "    0.794272280253194,\n",
      "  accuracy_4: \n",
      "    0.9994512679213562,\n",
      "  f1_4: \n",
      "    0.5314400158171151,\n",
      "  accuracy_5: \n",
      "    0.9858380423107458,\n",
      "  f1_5: \n",
      "    0.4965137684613688,\n",
      "  accuracy_6: \n",
      "    0.9876476906552094,\n",
      "  f1_6: \n",
      "    0.7530258195352441,\n",
      "  accuracy_7: \n",
      "    0.9975248680707981,\n",
      "  f1_7: \n",
      "    0.7223255876808662,\n",
      "  accuracy_8: \n",
      "    0.997232989305562,\n",
      "  f1_8: \n",
      "    0.7896000238636846,\n",
      "  accuracy_9: \n",
      "    0.9877877924625228,\n",
      "  f1_9: \n",
      "    0.8244401281370207,\n",
      "  accuracy_10: \n",
      "    0.9968944099378882,\n",
      "  f1_10: \n",
      "    0.7368879488451748,\n",
      "  accuracy_11: \n",
      "    0.9980385746976136,\n",
      "  f1_11: \n",
      "    0.788777737974674,\n",
      "  accuracy_12: \n",
      "    0.9984121795171158,\n",
      "  f1_12: \n",
      "    0.859597501010945,\n",
      "  accuracy_13: \n",
      "    0.9968243590342315,\n",
      "  f1_13: \n",
      "    0.6280171782291911,\n",
      "  accuracy_14: \n",
      "    0.9959487227385233,\n",
      "  f1_14: \n",
      "    0.7258973812326924,\n",
      "  accuracy_15: \n",
      "    0.9932634380983515,\n",
      "  f1_15: \n",
      "    0.6860393549359523,\n",
      "  accuracy_16: \n",
      "    0.9969761359921543,\n",
      "  f1_16: \n",
      "    0.8253748125346115,\n",
      "  accuracy_17: \n",
      "    0.9809695045066081,\n",
      "  f1_17: \n",
      "    0.6757934206055101,\n",
      "  accuracy_18: \n",
      "    0.9995913697286695,\n",
      "  f1_18: \n",
      "    0.8332311131100844,\n",
      "  accuracy_19: \n",
      "    0.9977700462335964,\n",
      "  f1_19: \n",
      "    0.5412532896825007,\n",
      "}\n",
      "\n",
      "\n",
      "[9] Conflicts:\n",
      "{\n",
      "  accuracy: \n",
      "    0.9603278382291132,\n",
      "  f1: \n",
      "    0.6796046311263234,\n",
      "}\n",
      "\n",
      "\n",
      "[9] Stories:\n",
      "{\n",
      "  accuracy: \n",
      "    0.7111801242236024,\n",
      "  f1: \n",
      "    0.7110435663627153,\n",
      "  verifiability: \n",
      "    0.06832298136645963,\n",
      "}\n",
      "\n",
      "\n",
      "[9] Saving model checkpoint...\n",
      "[9] Finished epoch.\n",
      "Finished grid search! :)\n",
      "Best validation *verifiability* 0.07142857142857142 from model FIXED-bert-base-uncased_cloze_1_1e-05_8_0.0-0.4-0.4-0.2-0.0_tiered_pipeline_lc_ablate_attributes_states-logits.\n",
      "Best validation *accuracy* 0.7422360248447205 from model FIXED-bert-base-uncased_cloze_1_1e-05_5_0.0-0.4-0.4-0.2-0.0_tiered_pipeline_lc_ablate_attributes_states-logits.\n"
     ]
    }
   ],
   "source": [
    "from torch.utils.data import DataLoader, RandomSampler, SequentialSampler\n",
    "from transformers import get_linear_schedule_with_warmup\n",
    "from www.model.train import train_epoch_tiered\n",
    "from www.model.eval import evaluate_tiered, save_results, save_preds, add_entity_attribute_labels\n",
    "from sklearn.metrics import accuracy_score, f1_score\n",
    "from www.utils import print_dict, get_model_dir\n",
    "from www.model.transformers_ext import TieredModelPipeline\n",
    "from www.dataset.ann import att_to_num_classes\n",
    "import shutil\n",
    "import pandas as pd\n",
    "\n",
    "seed_val = 22 # Save random seed for reproducibility\n",
    "random.seed(seed_val)\n",
    "np.random.seed(seed_val)\n",
    "torch.manual_seed(seed_val)\n",
    "torch.cuda.manual_seed_all(seed_val)\n",
    "\n",
    "# We'll keep the validation data here with a constant eval batch size\n",
    "dev_sampler = SequentialSampler(tiered_tensor_dataset['dev'])\n",
    "dev_dataloader = DataLoader(tiered_tensor_dataset['dev'], sampler=dev_sampler, batch_size=eval_batch_size)\n",
    "dev_dataset_name = subtask + '_%s_dev'\n",
    "dev_ids = [ex['example_id'] for ex in tiered_dataset['dev']]\n",
    "\n",
    "all_losses = []\n",
    "param_combos = []\n",
    "combo_names = []\n",
    "all_val_objs = []\n",
    "output_dirs = []\n",
    "best_obj = 0.0\n",
    "best_model = '<none>'\n",
    "best_dir = ''\n",
    "best_obj2 = 0.0\n",
    "best_model2 = '<none>'\n",
    "best_dir2 = ''\n",
    "\n",
    "print('Beginning grid search for the %s sub-task over %s parameter combination(s)!' % (subtask, str(len(batch_sizes) * len(learning_rates))))\n",
    "for bs in batch_sizes:\n",
    "  for lr in learning_rates:\n",
    "    print('\\nTRAINING MODEL: bs=%s, lr=%s' % (str(bs), str(lr)))\n",
    "\n",
    "    loss_values = []\n",
    "    obj_values = []\n",
    "\n",
    "    # Set up training dataset with new batch size\n",
    "    train_sampler = RandomSampler(tiered_tensor_dataset['train'])\n",
    "    train_dataloader = DataLoader(tiered_tensor_dataset['train'], sampler=train_sampler, batch_size=bs)\n",
    "\n",
    "    # Set up model\n",
    "    config = config_class.from_pretrained(model_name,\n",
    "                                          cache_dir=os.path.join(DRIVE_PATH, 'cache'))    \n",
    "    emb = emb_class.from_pretrained(model_name,\n",
    "                                          config=config,\n",
    "                                          cache_dir=os.path.join(DRIVE_PATH, 'cache'))    \n",
    "    if torch.cuda.is_available():\n",
    "      emb.cuda()\n",
    "    device = emb.device\n",
    "    max_story_length = max([len(ex['stories'][0]['sentences']) for p in tiered_dataset for ex in tiered_dataset[p]])\n",
    "    model = TieredModelPipeline(emb, max_story_length, len(att_to_num_classes), num_state_labels,\n",
    "                                config_class, model_name, device, \n",
    "                                ablation=ablation, loss_weights=loss_weights).to(device)\n",
    "    \n",
    "    # Set up optimizer\n",
    "    optimizer = AdamW(model.parameters(), lr=lr)\n",
    "    total_steps = len(train_dataloader) * epochs\n",
    "    scheduler = get_linear_schedule_with_warmup(optimizer, num_warmup_steps=0, num_training_steps = total_steps)\n",
    "\n",
    "    train_lc_data = []\n",
    "    val_lc_data = []\n",
    "    for epoch in range(epochs):\n",
    "      # Train the model for one epoch\n",
    "      print('[%s] Beginning epoch...' % str(epoch))\n",
    "\n",
    "      epoch_loss, _ = train_epoch_tiered(model, optimizer, train_dataloader, device, seg_mode=False, \n",
    "                                         build_learning_curves=generate_learning_curve, val_dataloader=dev_dataloader, \n",
    "                                         train_lc_data=train_lc_data, val_lc_data=val_lc_data)\n",
    "        \n",
    "      # Save loss\n",
    "      loss_values.append(epoch_loss)\n",
    "\n",
    "      # Validate on dev set\n",
    "      validation_results = evaluate_tiered(model, dev_dataloader, device, [(accuracy_score, 'accuracy'), (f1_score, 'f1')], seg_mode=False, return_explanations=True)\n",
    "      metr_attr, all_pred_atts, all_atts, \\\n",
    "      metr_prec, all_pred_prec, all_prec, \\\n",
    "      metr_eff, all_pred_eff, all_eff, \\\n",
    "      metr_conflicts, all_pred_conflicts, all_conflicts, \\\n",
    "      metr_stories, all_pred_stories, all_stories, explanations = validation_results[:16]\n",
    "      explanations = add_entity_attribute_labels(explanations, tiered_dataset['dev'], list(att_to_num_classes.keys()))\n",
    "\n",
    "      print('[%s] Validation results:' % str(epoch))\n",
    "      print('[%s] Preconditions:' % str(epoch))\n",
    "      print_dict(metr_prec)\n",
    "      print('[%s] Effects:' % str(epoch))\n",
    "      print_dict(metr_eff)\n",
    "      print('[%s] Conflicts:' % str(epoch))\n",
    "      print_dict(metr_conflicts)\n",
    "      print('[%s] Stories:' % str(epoch))\n",
    "      print_dict(metr_stories)\n",
    "\n",
    "      # Save accuracy - want to maximize verifiability of tiered predictions\n",
    "      ver = metr_stories['verifiability']\n",
    "      acc = metr_stories['accuracy']\n",
    "      obj_values.append(ver)\n",
    "      \n",
    "      # Save model checkpoint\n",
    "      print('[%s] Saving model checkpoint...' % str(epoch))\n",
    "      model_param_str = 'FIXED-' + get_model_dir(model_name.replace('/', '-'), subtask, bs, lr, epoch) + '_' +  '-'.join([str(lw) for lw in loss_weights]) +  '_tiered_pipeline_lc'\n",
    "      if train_spans:\n",
    "        model_param_str += 'spans'\n",
    "      if len(model.ablation) > 0:\n",
    "        model_param_str += '_ablate_'\n",
    "        model_param_str += '_'.join(model.ablation)\n",
    "      output_dir = os.path.join(DRIVE_PATH, 'saved_models', model_param_str)\n",
    "      output_dirs.append(output_dir)\n",
    "      if not os.path.exists(output_dir):\n",
    "        os.makedirs(output_dir)\n",
    "\n",
    "      save_results(metr_attr, output_dir, dev_dataset_name % 'attributes')\n",
    "      save_results(metr_prec, output_dir, dev_dataset_name % 'preconditions')\n",
    "      save_results(metr_eff, output_dir, dev_dataset_name % 'effects')\n",
    "      save_results(metr_conflicts, output_dir, dev_dataset_name % 'conflicts')\n",
    "      save_results(metr_stories, output_dir, dev_dataset_name % 'stories')\n",
    "      save_results(explanations, output_dir, dev_dataset_name % 'explanations')\n",
    "\n",
    "      # Just save story preds\n",
    "      save_preds(dev_ids, all_stories, all_pred_stories, output_dir, dev_dataset_name % 'stories')\n",
    "\n",
    "      emb = emb.module if hasattr(emb, 'module') else emb\n",
    "      emb.save_pretrained(output_dir)\n",
    "      torch.save(model, os.path.join(output_dir, 'classifiers.pth'))\n",
    "      tokenizer.save_vocabulary(output_dir)\n",
    "\n",
    "      if ver > best_obj:\n",
    "        best_obj = ver\n",
    "        best_model = model_param_str\n",
    "        best_dir = output_dir\n",
    "      if acc > best_obj2:\n",
    "        best_obj2 = acc\n",
    "        best_model2 = model_param_str\n",
    "        best_dir2 = output_dir        \n",
    "\n",
    "      for od in output_dirs:\n",
    "        if od != best_dir and od != best_dir2 and os.path.exists(od):\n",
    "          shutil.rmtree(od)\n",
    "\n",
    "      print('[%s] Finished epoch.' % str(epoch))\n",
    "\n",
    "    all_losses.append(loss_values)\n",
    "    all_val_objs.append(obj_values)\n",
    "    param_combos.append((bs, lr))\n",
    "    combo_names.append('bs=%s, lr=%s' % (str(bs), str(lr)))\n",
    "\n",
    "print('Finished grid search! :)')\n",
    "print('Best validation *verifiability* %s from model %s.' % (str(best_obj), best_model))\n",
    "print('Best validation *accuracy* %s from model %s.' % (str(best_obj2), best_model2))\n",
    "\n",
    "if generate_learning_curve:\n",
    "  print('Saving learning curve data...')\n",
    "  train_lc_data = [subrecord for record in train_lc_data for subrecord in record] # flatten\n",
    "  val_lc_data = [subrecord for record in val_lc_data for subrecord in record] # flatten\n",
    "\n",
    "  train_lc_data = pd.DataFrame(train_lc_data)\n",
    "  print(os.path.join(best_dir if best_dir != '<none>' else best_dir2, 'learning_curve_data_train.csv'))\n",
    "  train_lc_data.to_csv(os.path.join(best_dir if best_dir != '' else best_dir2, 'learning_curve_data_train.csv'), index=False)\n",
    "  val_lc_data = pd.DataFrame(val_lc_data)\n",
    "  val_lc_data.to_csv(os.path.join(best_dir if best_dir != '' else best_dir2, 'learning_curve_data_val.csv'), index=False)\n",
    "  print('Learning curve data saved. %s rows saved for training, %s rows saved for validation.' % (str(len(train_lc_data.index)), str(len(val_lc_data.index))))"
   ]
  },
  {
   "cell_type": "markdown",
   "metadata": {
    "id": "2_jhT4gSBdq5"
   },
   "source": [
    "Delete all non-best model checkpoints:"
   ]
  },
  {
   "cell_type": "code",
   "execution_count": 38,
   "metadata": {
    "id": "o7iILulEBdq6"
   },
   "outputs": [],
   "source": [
    "import shutil\n",
    "\n",
    "# Delete non-best model checkpoints\n",
    "for od in output_dirs:\n",
    "  if od != best_dir and od != best_dir2 and os.path.exists(od):\n",
    "    shutil.rmtree(od)"
   ]
  },
  {
   "cell_type": "markdown",
   "metadata": {
    "id": "aWFmGRhznl2T"
   },
   "source": [
    "### Test Models\n",
    "\n",
    "Evaluate accuracy, consistency, and verifiability on the test set."
   ]
  },
  {
   "cell_type": "markdown",
   "metadata": {
    "id": "Rbvpm9irn3qL"
   },
   "source": [
    "#### Load the Trained Model\n",
    "\n",
    "Load the trained model we want to probe and select the appropriate dataset. Paths to the pre-trained models presented in the paper are already provided (download links are found in GitHub repo)."
   ]
  },
  {
   "cell_type": "code",
   "execution_count": 187,
   "metadata": {},
   "outputs": [
    {
     "name": "stdout",
     "output_type": "stream",
     "text": [
      "COMET-COMET-Formatting_cloze_1_1e-05_8_0.0-0.4-0.4-0.2-0.0_tiered_pipeline_lc_ablate_attributes_states-logits\r\n",
      "COMET-COMET-Formatting_cloze_1_1e-05_9_0.0-0.4-0.4-0.2-0.0_tiered_pipeline_lc_ablate_attributes_states-logits\r\n",
      "COMET-CONCAT-MAX-POOLING_cloze_1_1e-05_7_0.0-0.4-0.4-0.2-0.0_tiered_pipeline_lc_ablate_attributes_states-logits\r\n",
      "COMET-CONCAT-MAX-POOLING_cloze_1_1e-05_8_0.0-0.4-0.4-0.2-0.0_tiered_pipeline_lc_ablate_attributes_states-logits\r\n",
      "COMET_ALL_LOSSES\r\n",
      "COMET_STORY_CHOICE_LOSS\r\n",
      "roberta-base_cloze_1_1e-05_5_0.0-0.4-0.4-0.2-0.0_tiered_pipeline_lc_ablate_attributes_states-logits\r\n",
      "roberta-base_cloze_1_1e-05_7_0.0-0.4-0.4-0.2-0.0_tiered_pipeline_lc_ablate_attributes_states-logits\r\n",
      "roberta-large_cloze_1_1e-05_8_0.0-0.4-0.4-0.2-0.0_tiered_pipeline_lc_ablate_attributes_states-logits\r\n",
      "roberta-large_cloze_1_1e-05_9_0.0-0.4-0.4-0.2-0.0_tiered_pipeline_lc_ablate_attributes_states-logits\r\n",
      "zharry29-goal_benchmark_bert_cloze_1_1e-05_1_0.0-0.4-0.4-0.2-0.0_tiered_pipeline_lc_ablate_attributes_states-logits\r\n",
      "zharry29-goal_benchmark_bert_cloze_1_1e-05_3_0.0-0.4-0.4-0.2-0.0_tiered_pipeline_lc_ablate_attributes_states-logits\r\n",
      "zharry29-goal_benchmark_roberta_cloze_1_1e-05_8_0.0-0.4-0.4-0.2-0.0_tiered_pipeline_lc_ablate_attributes_states-logits\r\n"
     ]
    }
   ],
   "source": [
    "!ls saved_models/"
   ]
  },
  {
   "cell_type": "code",
   "execution_count": 39,
   "metadata": {},
   "outputs": [
    {
     "name": "stdout",
     "output_type": "stream",
     "text": [
      "FIXED-bert-base-uncased_cloze_1_1e-05_5_0.0-0.4-0.4-0.2-0.0_tiered_pipeline_lc_ablate_attributes_states-logits\r\n",
      "FIXED-bert-base-uncased_cloze_1_1e-05_8_0.0-0.4-0.4-0.2-0.0_tiered_pipeline_lc_ablate_attributes_states-logits\r\n",
      "FIXED-roberta-large_cloze_1_1e-05_3_0.0-0.4-0.4-0.2-0.0_tiered_pipeline_lc_ablate_attributes_states-logits\r\n",
      "FIXED-roberta-large_cloze_1_1e-05_4_0.0-0.4-0.4-0.2-0.0_tiered_pipeline_lc_ablate_attributes_states-logits\r\n"
     ]
    }
   ],
   "source": [
    "!ls /data/khalifam/saved_models/"
   ]
  },
  {
   "cell_type": "code",
   "execution_count": 40,
   "metadata": {},
   "outputs": [],
   "source": [
    "eval_model_dir = 'FIXED-bert-base-uncased_cloze_1_1e-05_8_0.0-0.4-0.4-0.2-0.0_tiered_pipeline_lc_ablate_attributes_states-logits'"
   ]
  },
  {
   "cell_type": "code",
   "execution_count": 41,
   "metadata": {
    "id": "fM_lYqw9n3qM"
   },
   "outputs": [],
   "source": [
    "from www.model.transformers_ext import TieredModelPipeline\n",
    "from www.dataset.ann import att_to_num_classes, att_to_idx, att_types\n",
    "\n",
    "probe_model = eval_model_dir\n",
    "probe_model = os.path.join(DRIVE_PATH, 'saved_models', probe_model)\n",
    "\n",
    "ablation = ['attributes', 'states-logits']\n",
    "\n",
    "if 'cloze' in probe_model:\n",
    "  subtask = 'cloze'\n",
    "elif 'order' in probe_model:\n",
    "  subtask = 'order'\n",
    "  \n",
    "if subtask == 'cloze':\n",
    "  subtask_dataset = cloze_dataset_2s\n",
    "elif subtask == 'order':\n",
    "  subtask_dataset = order_dataset_2s\n",
    "\n",
    "# Load the model\n",
    "model = None\n",
    "# model = torch.load(os.path.join(probe_model, 'classifiers.pth'), map_location=torch.device('cpu'))\n",
    "model = torch.load(os.path.join(probe_model, 'classifiers.pth'))\n",
    "if torch.cuda.is_available():\n",
    "  model.cuda()\n",
    "device = model.embedding.device\n",
    "\n",
    "for layer in model.precondition_classifiers:\n",
    "  layer.eval()\n",
    "for layer in model.effect_classifiers:\n",
    "  layer.eval()"
   ]
  },
  {
   "cell_type": "markdown",
   "metadata": {
    "id": "RfXiCTA9KPjG"
   },
   "source": [
    "#### Test the Model\n",
    "\n",
    "Run inference on the testing set of TRIP. Can simply edit the top-level `for` loop if you want to run inference on other partitions."
   ]
  },
  {
   "cell_type": "code",
   "execution_count": 42,
   "metadata": {
    "colab": {
     "base_uri": "https://localhost:8080/"
    },
    "executionInfo": {
     "elapsed": 4255,
     "status": "ok",
     "timestamp": 1631299857967,
     "user": {
      "displayName": "Shane Storks",
      "photoUrl": "https://lh3.googleusercontent.com/a-/AOh14Gh8CqjwUclCWWIoFwUB05rZNHwyd6nEIrTXC6RVXw=s64",
      "userId": "00590987742306216924"
     },
     "user_tz": 240
    },
    "id": "FQX4bIxcKWlf",
    "outputId": "1ee7ba5e-0426-47a3-f2cc-e251bd29056f"
   },
   "outputs": [
    {
     "name": "stderr",
     "output_type": "stream",
     "text": [
      "\r",
      "[                                                                        ]   0%"
     ]
    },
    {
     "name": "stdout",
     "output_type": "stream",
     "text": [
      "Testing model: /data/khalifam/saved_models/FIXED-bert-base-uncased_cloze_1_1e-05_8_0.0-0.4-0.4-0.2-0.0_tiered_pipeline_lc_ablate_attributes_states-logits.\n",
      "\tBeginning evaluation...\n",
      "\t\tRunning prediction...\n"
     ]
    },
    {
     "name": "stderr",
     "output_type": "stream",
     "text": [
      "[########################################################################] 100%\n"
     ]
    },
    {
     "name": "stdout",
     "output_type": "stream",
     "text": [
      "\t\tComputing metrics...\n",
      "\tFinished evaluation in 0:01:17s.\n",
      "\n",
      "PARTITION: test\n",
      "Stories:\n",
      "{\n",
      "  accuracy: \n",
      "    0.7207977207977208,\n",
      "  f1: \n",
      "    0.7207410534519711,\n",
      "  verifiability: \n",
      "    0.04843304843304843,\n",
      "}\n",
      "\n",
      "\n",
      "Conflicts:\n",
      "{\n",
      "  accuracy: \n",
      "    0.9735298994558254,\n",
      "  f1: \n",
      "    0.6960076814925045,\n",
      "}\n",
      "\n",
      "\n",
      "Preconditions:\n",
      "{\n",
      "  accuracy: \n",
      "    0.9962311008607305,\n",
      "  f1: \n",
      "    0.5546578183435243,\n",
      "  accuracy_0: \n",
      "    0.9980102202324425,\n",
      "  f1_0: \n",
      "    0.5748801601136379,\n",
      "  accuracy_1: \n",
      "    0.9964802001839039,\n",
      "  f1_1: \n",
      "    0.6454105103235587,\n",
      "  accuracy_2: \n",
      "    0.9995100921026847,\n",
      "  f1_2: \n",
      "    0.7471044382885511,\n",
      "  accuracy_3: \n",
      "    0.9993668882557771,\n",
      "  f1_3: \n",
      "    0.6734910841435515,\n",
      "  accuracy_4: \n",
      "    0.9998944813759628,\n",
      "  f1_4: \n",
      "    0.5428395540335839,\n",
      "  accuracy_5: \n",
      "    0.9900209529839159,\n",
      "  f1_5: \n",
      "    0.5036992194211525,\n",
      "  accuracy_6: \n",
      "    0.9888903962978037,\n",
      "  f1_6: \n",
      "    0.7642468344340428,\n",
      "  accuracy_7: \n",
      "    0.9983719983719984,\n",
      "  f1_7: \n",
      "    0.4466419784754665,\n",
      "  accuracy_8: \n",
      "    0.9966234040308114,\n",
      "  f1_8: \n",
      "    0.7617212314648878,\n",
      "  accuracy_9: \n",
      "    0.9884607847570811,\n",
      "  f1_9: \n",
      "    0.6942961793500015,\n",
      "  accuracy_10: \n",
      "    0.9980177572770166,\n",
      "  f1_10: \n",
      "    0.5491525504981133,\n",
      "  accuracy_11: \n",
      "    0.998062979544461,\n",
      "  f1_11: \n",
      "    0.6890388041968851,\n",
      "  accuracy_12: \n",
      "    0.997512775290553,\n",
      "  f1_12: \n",
      "    0.8414172457562108,\n",
      "  accuracy_13: \n",
      "    0.9986584060658135,\n",
      "  f1_13: \n",
      "    0.4597402060821292,\n",
      "  accuracy_14: \n",
      "    0.9973544973544973,\n",
      "  f1_14: \n",
      "    0.6597530897509337,\n",
      "  accuracy_15: \n",
      "    0.9966912374319782,\n",
      "  f1_15: \n",
      "    0.514332086034304,\n",
      "  accuracy_16: \n",
      "    0.9970379414823859,\n",
      "  f1_16: \n",
      "    0.7698978769059631,\n",
      "  accuracy_17: \n",
      "    0.9875261912298949,\n",
      "  f1_17: \n",
      "    0.5960309387838008,\n",
      "  accuracy_18: \n",
      "    0.9994724068798143,\n",
      "  f1_18: \n",
      "    0.5730387926556196,\n",
      "  accuracy_19: \n",
      "    0.9986584060658135,\n",
      "  f1_19: \n",
      "    0.7816653721301567,\n",
      "}\n",
      "\n",
      "\n",
      "Effects:\n",
      "{\n",
      "  accuracy: \n",
      "    0.9960471969731229,\n",
      "  f1: \n",
      "    0.5494046878013809,\n",
      "  accuracy_0: \n",
      "    0.9980177572770166,\n",
      "  f1_0: \n",
      "    0.5753276550617523,\n",
      "  accuracy_1: \n",
      "    0.9964199038273113,\n",
      "  f1_1: \n",
      "    0.6450219199627167,\n",
      "  accuracy_2: \n",
      "    0.9994648698352402,\n",
      "  f1_2: \n",
      "    0.8269487476828067,\n",
      "  accuracy_3: \n",
      "    0.9992689066763141,\n",
      "  f1_3: \n",
      "    0.6809351157542682,\n",
      "  accuracy_4: \n",
      "    0.9995176291472587,\n",
      "  f1_4: \n",
      "    0.5012319020168929,\n",
      "  accuracy_5: \n",
      "    0.9900511011622123,\n",
      "  f1_5: \n",
      "    0.5064602548255634,\n",
      "  accuracy_6: \n",
      "    0.9882572845535809,\n",
      "  f1_6: \n",
      "    0.7637428995221294,\n",
      "  accuracy_7: \n",
      "    0.9981986463467944,\n",
      "  f1_7: \n",
      "    0.7246971503556727,\n",
      "  accuracy_8: \n",
      "    0.9965404965404966,\n",
      "  f1_8: \n",
      "    0.6106555076926488,\n",
      "  accuracy_9: \n",
      "    0.9880010250380621,\n",
      "  f1_9: \n",
      "    0.7666334238668947,\n",
      "  accuracy_10: \n",
      "    0.997693664360331,\n",
      "  f1_10: \n",
      "    0.6996558857540509,\n",
      "  accuracy_11: \n",
      "    0.9981082018119055,\n",
      "  f1_11: \n",
      "    0.700431892786964,\n",
      "  accuracy_12: \n",
      "    0.9984096835948688,\n",
      "  f1_12: \n",
      "    0.8194192518834537,\n",
      "  accuracy_13: \n",
      "    0.9974223307556641,\n",
      "  f1_13: \n",
      "    0.5829311629115443,\n",
      "  accuracy_14: \n",
      "    0.9973017380424788,\n",
      "  f1_14: \n",
      "    0.6534457677555124,\n",
      "  accuracy_15: \n",
      "    0.9950029394473839,\n",
      "  f1_15: \n",
      "    0.593686970594432,\n",
      "  accuracy_16: \n",
      "    0.9972112935075899,\n",
      "  f1_16: \n",
      "    0.7677456970859993,\n",
      "  accuracy_17: \n",
      "    0.9876317098539321,\n",
      "  f1_17: \n",
      "    0.7289158889010005,\n",
      "  accuracy_18: \n",
      "    0.9995628514147032,\n",
      "  f1_18: \n",
      "    0.5351383699489164,\n",
      "  accuracy_19: \n",
      "    0.9988619062693137,\n",
      "  f1_19: \n",
      "    0.5280457827625237,\n",
      "}\n",
      "\n",
      "\n"
     ]
    }
   ],
   "source": [
    "from torch.utils.data import DataLoader, RandomSampler, SequentialSampler\n",
    "from www.model.eval import evaluate_tiered, save_results, save_preds, list_comparison, add_entity_attribute_labels\n",
    "from sklearn.metrics import accuracy_score, precision_score, recall_score, f1_score, confusion_matrix\n",
    "metrics = [(accuracy_score, 'accuracy'), (precision_score, 'precision'), (recall_score, 'recall'), (f1_score, 'f1')]\n",
    "import numpy as np\n",
    "from www.utils import print_dict\n",
    "\n",
    "print('Testing model: %s.' % probe_model)\n",
    "\n",
    "# May alter this depending on which partition(s) you want to run inference on\n",
    "for p in tiered_dataset:\n",
    "  if p != 'test':\n",
    "    continue\n",
    "\n",
    "  p_dataset = tiered_dataset[p]\n",
    "  p_tensor_dataset = tiered_tensor_dataset[p]\n",
    "  p_sampler = SequentialSampler(p_tensor_dataset)\n",
    "  p_dataloader = DataLoader(p_tensor_dataset, sampler=p_sampler, batch_size=16)\n",
    "  dev_dataset_name = subtask + '_%s_' + p\n",
    "  p_ids = [ex['example_id'] for ex in tiered_dataset[p]]\n",
    "\n",
    "  # Get preds and metrics on this partition\n",
    "  metr_attr, all_pred_atts, all_atts, \\\n",
    "  metr_prec, all_pred_prec, all_prec, \\\n",
    "  metr_eff, all_pred_eff, all_eff, \\\n",
    "  metr_conflicts, all_pred_conflicts, all_conflicts, \\\n",
    "  metr_stories, all_pred_stories, all_stories, explanations = evaluate_tiered(model, p_dataloader, device, [(accuracy_score, 'accuracy'), (f1_score, 'f1')], seg_mode=False, return_explanations=True)\n",
    "  explanations = add_entity_attribute_labels(explanations, tiered_dataset[p], list(att_to_num_classes.keys()))\n",
    "\n",
    "  save_results(metr_attr, probe_model, dev_dataset_name % 'attributes')\n",
    "  save_results(metr_prec, probe_model, dev_dataset_name % 'preconditions')\n",
    "  save_results(metr_eff, probe_model, dev_dataset_name % 'effects')\n",
    "  save_results(metr_conflicts, probe_model, dev_dataset_name % 'conflicts')\n",
    "  save_results(metr_stories, probe_model, dev_dataset_name % 'stories')\n",
    "  save_results(explanations, probe_model, dev_dataset_name % 'explanations')\n",
    "\n",
    "  print('\\nPARTITION: %s' % p)\n",
    "  print('Stories:')\n",
    "  print_dict(metr_stories)\n",
    "  print('Conflicts:')\n",
    "  print_dict(metr_conflicts)\n",
    "  print('Preconditions:')\n",
    "  print_dict(metr_prec)\n",
    "  print('Effects:')\n",
    "  print_dict(metr_eff)"
   ]
  },
  {
   "cell_type": "markdown",
   "metadata": {
    "id": "ON1UAnbc8OOE"
   },
   "source": [
    "#### Add Consistency Metric to Model Results\n",
    "The intermediate conistency metric isn't included in the originally calculated metrics. This block adds the consistency metric to pre-existing model directory based on the tiered predictions. Generates a new `results_cloze_stories_final_[partition].json` file that includes the consistency metric.\n",
    "\n"
   ]
  },
  {
   "cell_type": "code",
   "execution_count": 43,
   "metadata": {},
   "outputs": [
    {
     "data": {
      "text/plain": [
       "'FIXED-bert-base-uncased_cloze_1_1e-05_8_0.0-0.4-0.4-0.2-0.0_tiered_pipeline_lc_ablate_attributes_states-logits'"
      ]
     },
     "execution_count": 43,
     "metadata": {},
     "output_type": "execute_result"
    }
   ],
   "source": [
    "eval_model_dir"
   ]
  },
  {
   "cell_type": "code",
   "execution_count": 44,
   "metadata": {
    "colab": {
     "base_uri": "https://localhost:8080/"
    },
    "executionInfo": {
     "elapsed": 387,
     "status": "ok",
     "timestamp": 1631299967551,
     "user": {
      "displayName": "Shane Storks",
      "photoUrl": "https://lh3.googleusercontent.com/a-/AOh14Gh8CqjwUclCWWIoFwUB05rZNHwyd6nEIrTXC6RVXw=s64",
      "userId": "00590987742306216924"
     },
     "user_tz": 240
    },
    "id": "k1obFel58pd-",
    "outputId": "f8cc0c5a-756b-4879-deb2-3aa8489474c7"
   },
   "outputs": [
    {
     "name": "stdout",
     "output_type": "stream",
     "text": [
      "Found 58 consistent preds in dev (versus 23 verifiable)\n",
      "Found 58 consistent preds in test (versus 17 verifiable)\n"
     ]
    }
   ],
   "source": [
    "import json\n",
    "import os\n",
    "\n",
    "model_directories = [eval_model_dir]\n",
    "\n",
    "partitions = ['dev', 'test']\n",
    "expl_fname = 'results_cloze_explanations_%s.json'\n",
    "endtask_fname = 'results_cloze_stories_%s.json'\n",
    "endtask_fname_new = 'results_cloze_stories_final_%s.json'\n",
    "for md in model_directories:\n",
    "  for p in partitions:\n",
    "    explanations = json.load(open(os.path.join(DRIVE_PATH, 'saved_models', md, expl_fname % p), 'r'))\n",
    "    endtask_results = json.load(open(os.path.join(DRIVE_PATH, 'saved_models', md, endtask_fname % p), 'r'))\n",
    "\n",
    "    consistent_preds = 0\n",
    "    verifiable_preds = 0\n",
    "    total = 0\n",
    "    for expl in explanations:\n",
    "      if expl['valid_explanation']:\n",
    "        verifiable_preds += 1\n",
    "      if expl['story_pred'] == expl['story_label']:\n",
    "        if len(expl['conflict_pred']) == len(expl['conflict_label']) and expl['conflict_pred'][0] == expl['conflict_label'][0] and expl['conflict_pred'][1] == expl['conflict_label'][1]:\n",
    "          expl['consistent'] = True\n",
    "          consistent_preds += 1\n",
    "        else:\n",
    "          expl['consistent'] = False\n",
    "      total += 1\n",
    "\n",
    "    endtask_results['consistency'] = float(consistent_preds) / total\n",
    "    print('Found %s consistent preds in %s (versus %s verifiable)' % (str(consistent_preds), p, str(verifiable_preds)))\n",
    "    json.dump(explanations, open(os.path.join(DRIVE_PATH, 'saved_models', md, (expl_fname % p).replace('explanations', 'explanations_consistency')), 'w'))\n",
    "    json.dump(endtask_results, open(os.path.join(DRIVE_PATH, 'saved_models', md, endtask_fname_new % p), 'w'))"
   ]
  },
  {
   "cell_type": "markdown",
   "metadata": {
    "id": "S7C0wy5Dvtv2"
   },
   "source": [
    "\n",
    "# Conversational Entailment (CE) Results\n",
    "\n",
    "Code for the coherence experiments on CE."
   ]
  },
  {
   "cell_type": "code",
   "execution_count": null,
   "metadata": {
    "id": "YKxPGbnWbdIy"
   },
   "outputs": [],
   "source": [
    "if task_name != 'ce':\n",
    "  raise ValueError('Please configure task_name in first cell to \"ce\" to run CE results!')"
   ]
  },
  {
   "cell_type": "markdown",
   "metadata": {
    "id": "W7MADzgfvtv3"
   },
   "source": [
    "## Load Conversational Entailment Dataset"
   ]
  },
  {
   "cell_type": "code",
   "execution_count": null,
   "metadata": {
    "colab": {
     "base_uri": "https://localhost:8080/"
    },
    "executionInfo": {
     "elapsed": 111,
     "status": "ok",
     "timestamp": 1631301900364,
     "user": {
      "displayName": "Shane Storks",
      "photoUrl": "https://lh3.googleusercontent.com/a-/AOh14Gh8CqjwUclCWWIoFwUB05rZNHwyd6nEIrTXC6RVXw=s64",
      "userId": "00590987742306216924"
     },
     "user_tz": 240
    },
    "id": "nSnNY2zbvtv3",
    "outputId": "fb02836c-d14b-435a-96d7-e40dac522e82"
   },
   "outputs": [
    {
     "name": "stdout",
     "output_type": "stream",
     "text": [
      "Reserved 40 dialog sources for training and validation.\n"
     ]
    }
   ],
   "source": [
    "import xml.etree.ElementTree as ET\n",
    "import pickle\n",
    "cache_train = os.path.join(DRIVE_PATH, 'all_data/ConvEnt/ConvEnt_train_resplit.json')\n",
    "cache_dev = os.path.join(DRIVE_PATH,'all_data/ConvEnt/ConvEnt_dev_resplit.json')\n",
    "cache_test = os.path.join(DRIVE_PATH,'all_data/ConvEnt/ConvEnt_test_resplit.json')\n",
    "ConvEnt_train = json.load(open(cache_train))\n",
    "ConvEnt_dev = json.load(open(cache_dev))\n",
    "ConvEnt_test = json.load(open(cache_test))\n",
    "\n",
    "# Combine train and dev and do cross-validation\n",
    "cache_folds = os.path.join(DRIVE_PATH,'all_data/ConvEnt/ConvEnt_folds.pkl') # Folds used for results presented in paper\n",
    "ConvEnt_train = ConvEnt_train + ConvEnt_dev\n",
    "train_sources = list(set([ex['dialog_source'] for ex in ConvEnt_train]))\n",
    "print(\"Reserved %s dialog sources for training and validation.\" % len(train_sources))\n",
    "\n",
    "no_folds = 8\n",
    "if not os.path.exists(cache_folds):\n",
    "  folds = []\n",
    "  for k in range(no_folds):\n",
    "    folds.append(np.random.choice(train_sources, size=5, replace=False))\n",
    "    train_sources = [s for s in train_sources if s not in folds[-1]]\n",
    "  assert len(train_sources) == 0\n",
    "  print(folds)\n",
    "  pickle.dump(folds, open(cache_folds, 'wb'))\n",
    "else:\n",
    "  folds = pickle.load(open(cache_folds, 'rb'))"
   ]
  },
  {
   "cell_type": "code",
   "execution_count": null,
   "metadata": {
    "colab": {
     "base_uri": "https://localhost:8080/"
    },
    "executionInfo": {
     "elapsed": 8,
     "status": "ok",
     "timestamp": 1631301900480,
     "user": {
      "displayName": "Shane Storks",
      "photoUrl": "https://lh3.googleusercontent.com/a-/AOh14Gh8CqjwUclCWWIoFwUB05rZNHwyd6nEIrTXC6RVXw=s64",
      "userId": "00590987742306216924"
     },
     "user_tz": 240
    },
    "id": "TBYhEsdovtv4",
    "outputId": "c1c90590-7443-4f03-96e6-07e4ac429161"
   },
   "outputs": [
    {
     "name": "stdout",
     "output_type": "stream",
     "text": [
      "train examples: 703\n",
      "dev examples: 110\n",
      "test examples: 172\n"
     ]
    }
   ],
   "source": [
    "print('train examples:', len(ConvEnt_train))\n",
    "print('dev examples:', len(ConvEnt_dev))\n",
    "print('test examples:', len(ConvEnt_test))"
   ]
  },
  {
   "cell_type": "markdown",
   "metadata": {
    "id": "Msxt3xAhvtv6"
   },
   "source": [
    "## Featurize Conversational Entailment"
   ]
  },
  {
   "cell_type": "code",
   "execution_count": null,
   "metadata": {
    "id": "NBfqFw82vtv7"
   },
   "outputs": [],
   "source": [
    "from www.dataset.featurize import add_bert_features_ConvEnt, get_tensor_dataset\n",
    "import pickle\n",
    "seq_length = 128\n",
    "\n",
    "ConvEnt_train = add_bert_features_ConvEnt(ConvEnt_train, tokenizer, seq_length, add_segment_ids=True)\n",
    "ConvEnt_dev = add_bert_features_ConvEnt(ConvEnt_dev, tokenizer, seq_length, add_segment_ids=True)\n",
    "ConvEnt_test = add_bert_features_ConvEnt(ConvEnt_test, tokenizer, seq_length, add_segment_ids=True)\n",
    "\n",
    "ConvEnt_train_folds = [[] for _ in range(no_folds)]\n",
    "ConvEnt_dev_folds = [[] for _ in range(no_folds)]\n",
    "for k in range(no_folds):\n",
    "  ConvEnt_train_folds[k] = [ex for ex in ConvEnt_train if ex['dialog_source'] not in folds[k]]\n",
    "  ConvEnt_dev_folds[k] = [ex for ex in ConvEnt_train if ex['dialog_source'] in folds[k]]\n",
    "\n",
    "  if debug:\n",
    "    ConvEnt_train_folds[k] = ConvEnt_train_folds[k][:10]\n",
    "    ConvEnt_dev_folds[k] = ConvEnt_dev_folds[k][:10]\n",
    "\n",
    "if debug:\n",
    "  ConvEnt_train = ConvEnt_train[:10]\n",
    "  ConvEnt_dev = ConvEnt_dev[:10]\n",
    "  ConvEnt_test = ConvEnt_test[:10]\n",
    "\n",
    "ConvEnt_train_tensor = get_tensor_dataset(ConvEnt_train, label_key='label', add_segment_ids=True)\n",
    "ConvEnt_test_tensor = get_tensor_dataset(ConvEnt_test, label_key='label', add_segment_ids=True)\n",
    "\n",
    "# Training sets for each validation fold\n",
    "ConvEnt_train_folds_tensor = [get_tensor_dataset(ConvEnt_train_folds[k], label_key='label', add_segment_ids=True) for k in range(no_folds)]\n",
    "ConvEnt_dev_folds_tensor = [get_tensor_dataset(ConvEnt_dev_folds[k], label_key='label', add_segment_ids=True) for k in range(no_folds)]"
   ]
  },
  {
   "cell_type": "code",
   "execution_count": null,
   "metadata": {
    "colab": {
     "base_uri": "https://localhost:8080/"
    },
    "executionInfo": {
     "elapsed": 5,
     "status": "ok",
     "timestamp": 1631301488436,
     "user": {
      "displayName": "Shane Storks",
      "photoUrl": "https://lh3.googleusercontent.com/a-/AOh14Gh8CqjwUclCWWIoFwUB05rZNHwyd6nEIrTXC6RVXw=s64",
      "userId": "00590987742306216924"
     },
     "user_tz": 240
    },
    "id": "2Wtek-Tmvtv7",
    "outputId": "9d3f5110-edce-4d35-d4b2-23891d4da280"
   },
   "outputs": [
    {
     "name": "stdout",
     "output_type": "stream",
     "text": [
      "train examples: 10\n",
      "dev examples: 10\n",
      "test examples: 10\n"
     ]
    }
   ],
   "source": [
    "print('train examples:', len(ConvEnt_train))\n",
    "print('dev examples:', len(ConvEnt_dev))\n",
    "print('test examples:', len(ConvEnt_test))"
   ]
  },
  {
   "cell_type": "markdown",
   "metadata": {
    "id": "rn5Ywwvxvtv6"
   },
   "source": [
    "## Train Models on Conversational Entailment"
   ]
  },
  {
   "cell_type": "markdown",
   "metadata": {
    "id": "Ytbj9Uxxvtv7"
   },
   "source": [
    "### Train Models"
   ]
  },
  {
   "cell_type": "markdown",
   "metadata": {
    "id": "h9YL5qnRvtv7"
   },
   "source": [
    "#### Configure Hyperparameters"
   ]
  },
  {
   "cell_type": "code",
   "execution_count": null,
   "metadata": {
    "id": "fC5iz07Fvtv8"
   },
   "outputs": [],
   "source": [
    "batch_sizes = [config_batch_size]\n",
    "learning_rates = [config_lr]\n",
    "epochs = config_epochs\n",
    "eval_batch_size = 128"
   ]
  },
  {
   "cell_type": "markdown",
   "metadata": {
    "id": "Jss8T2xzvtv8"
   },
   "source": [
    "#### Grid Search and Cross-Validation"
   ]
  },
  {
   "cell_type": "code",
   "execution_count": null,
   "metadata": {
    "colab": {
     "base_uri": "https://localhost:8080/"
    },
    "executionInfo": {
     "elapsed": 141231,
     "status": "ok",
     "timestamp": 1631301166877,
     "user": {
      "displayName": "Shane Storks",
      "photoUrl": "https://lh3.googleusercontent.com/a-/AOh14Gh8CqjwUclCWWIoFwUB05rZNHwyd6nEIrTXC6RVXw=s64",
      "userId": "00590987742306216924"
     },
     "user_tz": 240
    },
    "id": "5QOdgrufvtv8",
    "outputId": "5d20813e-882f-4896-fe6e-e03db305d6d2"
   },
   "outputs": [
    {
     "name": "stdout",
     "output_type": "stream",
     "text": [
      "Beginning grid search for ConvEnt over 1 parameter combination(s)!\n",
      "\n",
      "TRAINING MODEL: bs=1, lr=1e-05\n",
      "Beginning fold 1/8...\n"
     ]
    },
    {
     "name": "stderr",
     "output_type": "stream",
     "text": [
      "Some weights of the model checkpoint at roberta-large were not used when initializing RobertaForSequenceClassification: ['lm_head.bias', 'lm_head.dense.weight', 'lm_head.dense.bias', 'lm_head.layer_norm.weight', 'lm_head.layer_norm.bias', 'lm_head.decoder.weight', 'roberta.pooler.dense.weight', 'roberta.pooler.dense.bias']\n",
      "- This IS expected if you are initializing RobertaForSequenceClassification from the checkpoint of a model trained on another task or with another architecture (e.g. initializing a BertForSequenceClassification model from a BertForPreTraining model).\n",
      "- This IS NOT expected if you are initializing RobertaForSequenceClassification from the checkpoint of a model that you expect to be exactly identical (initializing a BertForSequenceClassification model from a BertForSequenceClassification model).\n",
      "Some weights of RobertaForSequenceClassification were not initialized from the model checkpoint at roberta-large and are newly initialized: ['classifier.dense.weight', 'classifier.dense.bias', 'classifier.out_proj.weight', 'classifier.out_proj.bias']\n",
      "You should probably TRAIN this model on a down-stream task to be able to use it for predictions and inference.\n"
     ]
    },
    {
     "name": "stdout",
     "output_type": "stream",
     "text": [
      "[0] Beginning epoch...\n",
      "\tBeginning evaluation...\n",
      "\t\tRunning prediction...\n",
      "\t\tComputing metrics...\n",
      "\tFinished evaluation in 0:00:00s.\n",
      "[0] Validation results:\n",
      "{\n",
      "  accuracy: \n",
      "    0.5,\n",
      "}\n",
      "\n",
      "\n",
      "[0] Finished epoch.\n",
      "Beginning fold 2/8...\n"
     ]
    },
    {
     "name": "stderr",
     "output_type": "stream",
     "text": [
      "Some weights of the model checkpoint at roberta-large were not used when initializing RobertaForSequenceClassification: ['lm_head.bias', 'lm_head.dense.weight', 'lm_head.dense.bias', 'lm_head.layer_norm.weight', 'lm_head.layer_norm.bias', 'lm_head.decoder.weight', 'roberta.pooler.dense.weight', 'roberta.pooler.dense.bias']\n",
      "- This IS expected if you are initializing RobertaForSequenceClassification from the checkpoint of a model trained on another task or with another architecture (e.g. initializing a BertForSequenceClassification model from a BertForPreTraining model).\n",
      "- This IS NOT expected if you are initializing RobertaForSequenceClassification from the checkpoint of a model that you expect to be exactly identical (initializing a BertForSequenceClassification model from a BertForSequenceClassification model).\n",
      "Some weights of RobertaForSequenceClassification were not initialized from the model checkpoint at roberta-large and are newly initialized: ['classifier.dense.weight', 'classifier.dense.bias', 'classifier.out_proj.weight', 'classifier.out_proj.bias']\n",
      "You should probably TRAIN this model on a down-stream task to be able to use it for predictions and inference.\n"
     ]
    },
    {
     "name": "stdout",
     "output_type": "stream",
     "text": [
      "[0] Beginning epoch...\n",
      "\tBeginning evaluation...\n",
      "\t\tRunning prediction...\n",
      "\t\tComputing metrics...\n",
      "\tFinished evaluation in 0:00:00s.\n",
      "[0] Validation results:\n",
      "{\n",
      "  accuracy: \n",
      "    0.7,\n",
      "}\n",
      "\n",
      "\n",
      "[0] Finished epoch.\n",
      "Beginning fold 3/8...\n"
     ]
    },
    {
     "name": "stderr",
     "output_type": "stream",
     "text": [
      "Some weights of the model checkpoint at roberta-large were not used when initializing RobertaForSequenceClassification: ['lm_head.bias', 'lm_head.dense.weight', 'lm_head.dense.bias', 'lm_head.layer_norm.weight', 'lm_head.layer_norm.bias', 'lm_head.decoder.weight', 'roberta.pooler.dense.weight', 'roberta.pooler.dense.bias']\n",
      "- This IS expected if you are initializing RobertaForSequenceClassification from the checkpoint of a model trained on another task or with another architecture (e.g. initializing a BertForSequenceClassification model from a BertForPreTraining model).\n",
      "- This IS NOT expected if you are initializing RobertaForSequenceClassification from the checkpoint of a model that you expect to be exactly identical (initializing a BertForSequenceClassification model from a BertForSequenceClassification model).\n",
      "Some weights of RobertaForSequenceClassification were not initialized from the model checkpoint at roberta-large and are newly initialized: ['classifier.dense.weight', 'classifier.dense.bias', 'classifier.out_proj.weight', 'classifier.out_proj.bias']\n",
      "You should probably TRAIN this model on a down-stream task to be able to use it for predictions and inference.\n"
     ]
    },
    {
     "name": "stdout",
     "output_type": "stream",
     "text": [
      "[0] Beginning epoch...\n",
      "\tBeginning evaluation...\n",
      "\t\tRunning prediction...\n",
      "\t\tComputing metrics...\n",
      "\tFinished evaluation in 0:00:00s.\n",
      "[0] Validation results:\n",
      "{\n",
      "  accuracy: \n",
      "    0.3,\n",
      "}\n",
      "\n",
      "\n",
      "[0] Finished epoch.\n",
      "Beginning fold 4/8...\n"
     ]
    },
    {
     "name": "stderr",
     "output_type": "stream",
     "text": [
      "Some weights of the model checkpoint at roberta-large were not used when initializing RobertaForSequenceClassification: ['lm_head.bias', 'lm_head.dense.weight', 'lm_head.dense.bias', 'lm_head.layer_norm.weight', 'lm_head.layer_norm.bias', 'lm_head.decoder.weight', 'roberta.pooler.dense.weight', 'roberta.pooler.dense.bias']\n",
      "- This IS expected if you are initializing RobertaForSequenceClassification from the checkpoint of a model trained on another task or with another architecture (e.g. initializing a BertForSequenceClassification model from a BertForPreTraining model).\n",
      "- This IS NOT expected if you are initializing RobertaForSequenceClassification from the checkpoint of a model that you expect to be exactly identical (initializing a BertForSequenceClassification model from a BertForSequenceClassification model).\n",
      "Some weights of RobertaForSequenceClassification were not initialized from the model checkpoint at roberta-large and are newly initialized: ['classifier.dense.weight', 'classifier.dense.bias', 'classifier.out_proj.weight', 'classifier.out_proj.bias']\n",
      "You should probably TRAIN this model on a down-stream task to be able to use it for predictions and inference.\n"
     ]
    },
    {
     "name": "stdout",
     "output_type": "stream",
     "text": [
      "[0] Beginning epoch...\n",
      "\tBeginning evaluation...\n",
      "\t\tRunning prediction...\n",
      "\t\tComputing metrics...\n",
      "\tFinished evaluation in 0:00:00s.\n",
      "[0] Validation results:\n",
      "{\n",
      "  accuracy: \n",
      "    0.6,\n",
      "}\n",
      "\n",
      "\n",
      "[0] Finished epoch.\n",
      "Beginning fold 5/8...\n"
     ]
    },
    {
     "name": "stderr",
     "output_type": "stream",
     "text": [
      "Some weights of the model checkpoint at roberta-large were not used when initializing RobertaForSequenceClassification: ['lm_head.bias', 'lm_head.dense.weight', 'lm_head.dense.bias', 'lm_head.layer_norm.weight', 'lm_head.layer_norm.bias', 'lm_head.decoder.weight', 'roberta.pooler.dense.weight', 'roberta.pooler.dense.bias']\n",
      "- This IS expected if you are initializing RobertaForSequenceClassification from the checkpoint of a model trained on another task or with another architecture (e.g. initializing a BertForSequenceClassification model from a BertForPreTraining model).\n",
      "- This IS NOT expected if you are initializing RobertaForSequenceClassification from the checkpoint of a model that you expect to be exactly identical (initializing a BertForSequenceClassification model from a BertForSequenceClassification model).\n",
      "Some weights of RobertaForSequenceClassification were not initialized from the model checkpoint at roberta-large and are newly initialized: ['classifier.dense.weight', 'classifier.dense.bias', 'classifier.out_proj.weight', 'classifier.out_proj.bias']\n",
      "You should probably TRAIN this model on a down-stream task to be able to use it for predictions and inference.\n"
     ]
    },
    {
     "name": "stdout",
     "output_type": "stream",
     "text": [
      "[0] Beginning epoch...\n",
      "\tBeginning evaluation...\n",
      "\t\tRunning prediction...\n",
      "\t\tComputing metrics...\n",
      "\tFinished evaluation in 0:00:00s.\n",
      "[0] Validation results:\n",
      "{\n",
      "  accuracy: \n",
      "    0.4,\n",
      "}\n",
      "\n",
      "\n",
      "[0] Finished epoch.\n",
      "Beginning fold 6/8...\n"
     ]
    },
    {
     "name": "stderr",
     "output_type": "stream",
     "text": [
      "Some weights of the model checkpoint at roberta-large were not used when initializing RobertaForSequenceClassification: ['lm_head.bias', 'lm_head.dense.weight', 'lm_head.dense.bias', 'lm_head.layer_norm.weight', 'lm_head.layer_norm.bias', 'lm_head.decoder.weight', 'roberta.pooler.dense.weight', 'roberta.pooler.dense.bias']\n",
      "- This IS expected if you are initializing RobertaForSequenceClassification from the checkpoint of a model trained on another task or with another architecture (e.g. initializing a BertForSequenceClassification model from a BertForPreTraining model).\n",
      "- This IS NOT expected if you are initializing RobertaForSequenceClassification from the checkpoint of a model that you expect to be exactly identical (initializing a BertForSequenceClassification model from a BertForSequenceClassification model).\n",
      "Some weights of RobertaForSequenceClassification were not initialized from the model checkpoint at roberta-large and are newly initialized: ['classifier.dense.weight', 'classifier.dense.bias', 'classifier.out_proj.weight', 'classifier.out_proj.bias']\n",
      "You should probably TRAIN this model on a down-stream task to be able to use it for predictions and inference.\n"
     ]
    },
    {
     "name": "stdout",
     "output_type": "stream",
     "text": [
      "[0] Beginning epoch...\n",
      "\tBeginning evaluation...\n",
      "\t\tRunning prediction...\n",
      "\t\tComputing metrics...\n",
      "\tFinished evaluation in 0:00:00s.\n",
      "[0] Validation results:\n",
      "{\n",
      "  accuracy: \n",
      "    0.3,\n",
      "}\n",
      "\n",
      "\n",
      "[0] Finished epoch.\n",
      "Beginning fold 7/8...\n"
     ]
    },
    {
     "name": "stderr",
     "output_type": "stream",
     "text": [
      "Some weights of the model checkpoint at roberta-large were not used when initializing RobertaForSequenceClassification: ['lm_head.bias', 'lm_head.dense.weight', 'lm_head.dense.bias', 'lm_head.layer_norm.weight', 'lm_head.layer_norm.bias', 'lm_head.decoder.weight', 'roberta.pooler.dense.weight', 'roberta.pooler.dense.bias']\n",
      "- This IS expected if you are initializing RobertaForSequenceClassification from the checkpoint of a model trained on another task or with another architecture (e.g. initializing a BertForSequenceClassification model from a BertForPreTraining model).\n",
      "- This IS NOT expected if you are initializing RobertaForSequenceClassification from the checkpoint of a model that you expect to be exactly identical (initializing a BertForSequenceClassification model from a BertForSequenceClassification model).\n",
      "Some weights of RobertaForSequenceClassification were not initialized from the model checkpoint at roberta-large and are newly initialized: ['classifier.dense.weight', 'classifier.dense.bias', 'classifier.out_proj.weight', 'classifier.out_proj.bias']\n",
      "You should probably TRAIN this model on a down-stream task to be able to use it for predictions and inference.\n"
     ]
    },
    {
     "name": "stdout",
     "output_type": "stream",
     "text": [
      "[0] Beginning epoch...\n",
      "\tBeginning evaluation...\n",
      "\t\tRunning prediction...\n",
      "\t\tComputing metrics...\n",
      "\tFinished evaluation in 0:00:00s.\n",
      "[0] Validation results:\n",
      "{\n",
      "  accuracy: \n",
      "    0.5,\n",
      "}\n",
      "\n",
      "\n",
      "[0] Finished epoch.\n",
      "Beginning fold 8/8...\n"
     ]
    },
    {
     "name": "stderr",
     "output_type": "stream",
     "text": [
      "Some weights of the model checkpoint at roberta-large were not used when initializing RobertaForSequenceClassification: ['lm_head.bias', 'lm_head.dense.weight', 'lm_head.dense.bias', 'lm_head.layer_norm.weight', 'lm_head.layer_norm.bias', 'lm_head.decoder.weight', 'roberta.pooler.dense.weight', 'roberta.pooler.dense.bias']\n",
      "- This IS expected if you are initializing RobertaForSequenceClassification from the checkpoint of a model trained on another task or with another architecture (e.g. initializing a BertForSequenceClassification model from a BertForPreTraining model).\n",
      "- This IS NOT expected if you are initializing RobertaForSequenceClassification from the checkpoint of a model that you expect to be exactly identical (initializing a BertForSequenceClassification model from a BertForSequenceClassification model).\n",
      "Some weights of RobertaForSequenceClassification were not initialized from the model checkpoint at roberta-large and are newly initialized: ['classifier.dense.weight', 'classifier.dense.bias', 'classifier.out_proj.weight', 'classifier.out_proj.bias']\n",
      "You should probably TRAIN this model on a down-stream task to be able to use it for predictions and inference.\n"
     ]
    },
    {
     "name": "stdout",
     "output_type": "stream",
     "text": [
      "[0] Beginning epoch...\n",
      "\tBeginning evaluation...\n",
      "\t\tRunning prediction...\n",
      "\t\tComputing metrics...\n",
      "\tFinished evaluation in 0:00:00s.\n",
      "[0] Validation results:\n",
      "{\n",
      "  accuracy: \n",
      "    0.4,\n",
      "}\n",
      "\n",
      "\n",
      "[0] Finished epoch.\n",
      "Top performing param combos:\n",
      "[((1, 1e-05, 0), 0.46249999999999997)]\n"
     ]
    }
   ],
   "source": [
    "from torch.utils.data import DataLoader, RandomSampler, SequentialSampler\n",
    "from transformers import get_linear_schedule_with_warmup\n",
    "from www.model.train import train_epoch\n",
    "from www.model.eval import evaluate, save_results, save_preds\n",
    "from sklearn.metrics import accuracy_score\n",
    "from www.utils import print_dict, get_model_dir\n",
    "from collections import Counter\n",
    "\n",
    "seed_val = 22 # Save random seed for reproducibility\n",
    "random.seed(seed_val)\n",
    "np.random.seed(seed_val)\n",
    "torch.manual_seed(seed_val)\n",
    "torch.cuda.manual_seed_all(seed_val)\n",
    "\n",
    "assert len(batch_sizes) == 1\n",
    "train_fold_sampler = [RandomSampler(f) for f in ConvEnt_train_folds_tensor]\n",
    "train_fold_dataloader = [DataLoader(f, sampler=train_fold_sampler[i], batch_size=batch_sizes[0]) for i, f in enumerate(ConvEnt_train_folds_tensor)]\n",
    "\n",
    "dev_fold_sampler = [SequentialSampler(f) for f in ConvEnt_dev_folds_tensor]\n",
    "dev_fold_dataloader = [DataLoader(f, sampler=dev_fold_sampler[i], batch_size=eval_batch_size) for i, f in enumerate(ConvEnt_dev_folds_tensor)]\n",
    "\n",
    "all_val_accs = Counter()\n",
    "print('Beginning grid search for ConvEnt over %s parameter combination(s)!' % (str(len(batch_sizes) * len(learning_rates))))\n",
    "for bs in batch_sizes:\n",
    "  for lr in learning_rates:\n",
    "    print('\\nTRAINING MODEL: bs=%s, lr=%s' % (str(bs), str(lr)))\n",
    "\n",
    "    for k in range(no_folds):\n",
    "      print('Beginning fold %s/%s...' % (str(k+1), str(no_folds)))\n",
    "\n",
    "      # Set up model\n",
    "      if 'mnli' not in mode:\n",
    "        model = model_class.from_pretrained(model_name, \n",
    "                                            cache_dir=os.path.join(DRIVE_PATH, 'cache'))\n",
    "      else:\n",
    "        config = config_class.from_pretrained(model_name.replace('-mnli',''),\n",
    "                                        num_labels=3,\n",
    "                                        cache_dir=os.path.join(DRIVE_PATH, 'cache'))\n",
    "        model = model_class.from_pretrained(model_name, \n",
    "                                            config=config,\n",
    "                                            cache_dir=os.path.join(DRIVE_PATH, 'cache'))\n",
    "        config.num_labels = 2\n",
    "        model.num_labels = 2\n",
    "        model.classifier = cls_head_class(config=config) # Need to bring in a classification head for only 2 labels\n",
    "    \n",
    "      model.cuda()\n",
    "      device = model.device \n",
    "\n",
    "      # Set up optimizer\n",
    "      optimizer = AdamW(model.parameters(), lr=lr)\n",
    "      total_steps = len(train_fold_dataloader[k]) * epochs\n",
    "      scheduler = get_linear_schedule_with_warmup(optimizer, num_warmup_steps=0, num_training_steps = total_steps)\n",
    "\n",
    "      for epoch in range(epochs):\n",
    "        # Train the model for one epoch\n",
    "        print('[%s] Beginning epoch...' % str(epoch))\n",
    "\n",
    "        epoch_loss, _ = train_epoch(model, optimizer, train_fold_dataloader[k], device, seg_mode=True if 'roberta' not in mode else False)\n",
    "        \n",
    "        # Validate on dev set\n",
    "        results, _, _ = evaluate(model, dev_fold_dataloader[k], device, [(accuracy_score, 'accuracy')], seg_mode=True if 'roberta' not in mode else False)\n",
    "        print('[%s] Validation results:' % str(epoch))\n",
    "        print_dict(results)\n",
    "\n",
    "        # Save accuracy\n",
    "        acc = results['accuracy']\n",
    "        if (bs, lr, epoch) in all_val_accs:\n",
    "          all_val_accs[(bs, lr, epoch)] += acc\n",
    "        else:\n",
    "          all_val_accs[(bs, lr, epoch)] = acc\n",
    "        \n",
    "      model.cpu()\n",
    "      del model\n",
    "      del optimizer\n",
    "      del results\n",
    "      del scheduler\n",
    "      del total_steps\n",
    "\n",
    "      print('[%s] Finished epoch.' % str(epoch))\n",
    "\n",
    "for k in all_val_accs:\n",
    "  all_val_accs[k] /= no_folds\n",
    "\n",
    "print('Top performing param combos:')\n",
    "print(all_val_accs.most_common(5))\n",
    "\n",
    "save_fname = os.path.join(DRIVE_PATH, 'saved_models/%s_ConvEnt_xval_%s.pkl' % (model_name.replace('/','-'), '_'.join([str(lr) for lr in learning_rates])))\n",
    "pickle.dump(all_val_accs, open(save_fname, 'wb'))"
   ]
  },
  {
   "cell_type": "markdown",
   "metadata": {
    "id": "8XhSrDlpI0aH"
   },
   "source": [
    "#### Re-Train Best Model from Cross-Validation\n",
    "\n",
    "Re-train a model with the best parameters from the search above. If this isn't run directly after the above cell, replace `save_fname.split('/'[-1])` in `xval_fnames` with the name of the `pkl` file previously generated in the `saved_models` directory."
   ]
  },
  {
   "cell_type": "code",
   "execution_count": null,
   "metadata": {
    "colab": {
     "base_uri": "https://localhost:8080/"
    },
    "executionInfo": {
     "elapsed": 23469,
     "status": "ok",
     "timestamp": 1631301377078,
     "user": {
      "displayName": "Shane Storks",
      "photoUrl": "https://lh3.googleusercontent.com/a-/AOh14Gh8CqjwUclCWWIoFwUB05rZNHwyd6nEIrTXC6RVXw=s64",
      "userId": "00590987742306216924"
     },
     "user_tz": 240
    },
    "id": "RI_AWgyFIzUm",
    "outputId": "f29073fc-87b1-4405-d4bd-e99e17624a00"
   },
   "outputs": [
    {
     "name": "stderr",
     "output_type": "stream",
     "text": [
      "Some weights of the model checkpoint at roberta-large were not used when initializing RobertaForSequenceClassification: ['lm_head.bias', 'lm_head.dense.weight', 'lm_head.dense.bias', 'lm_head.layer_norm.weight', 'lm_head.layer_norm.bias', 'lm_head.decoder.weight', 'roberta.pooler.dense.weight', 'roberta.pooler.dense.bias']\n",
      "- This IS expected if you are initializing RobertaForSequenceClassification from the checkpoint of a model trained on another task or with another architecture (e.g. initializing a BertForSequenceClassification model from a BertForPreTraining model).\n",
      "- This IS NOT expected if you are initializing RobertaForSequenceClassification from the checkpoint of a model that you expect to be exactly identical (initializing a BertForSequenceClassification model from a BertForSequenceClassification model).\n",
      "Some weights of RobertaForSequenceClassification were not initialized from the model checkpoint at roberta-large and are newly initialized: ['classifier.dense.weight', 'classifier.dense.bias', 'classifier.out_proj.weight', 'classifier.out_proj.bias']\n",
      "You should probably TRAIN this model on a down-stream task to be able to use it for predictions and inference.\n"
     ]
    },
    {
     "name": "stdout",
     "output_type": "stream",
     "text": [
      "[0] Beginning epoch...\n",
      "[0] Saving model checkpoint...\n"
     ]
    },
    {
     "data": {
      "text/plain": [
       "('drive/My Drive/Colab Notebooks/Research/TRIP_replication/saved_models/roberta-large_ConvEnt_1_1e-05_0_xval/vocab.json',\n",
       " 'drive/My Drive/Colab Notebooks/Research/TRIP_replication/saved_models/roberta-large_ConvEnt_1_1e-05_0_xval/merges.txt')"
      ]
     },
     "execution_count": 42,
     "metadata": {},
     "output_type": "execute_result"
    }
   ],
   "source": [
    "from torch.utils.data import DataLoader, RandomSampler, SequentialSampler\n",
    "from transformers import get_linear_schedule_with_warmup\n",
    "from www.model.train import train_epoch\n",
    "from www.model.eval import evaluate, save_results, save_preds\n",
    "from sklearn.metrics import accuracy_score\n",
    "from www.utils import print_dict, get_model_dir\n",
    "from collections import Counter\n",
    "\n",
    "# Re-train the model with the best parameters from the grid search/cross-validation (with all folds)\n",
    "xval_fnames = []\n",
    "xval_fnames.append(save_fname.split('/')[-1])\n",
    "\n",
    "xval_results = Counter()\n",
    "for fname in xval_fnames:\n",
    "  xval_results += pickle.load(open(os.path.join(DRIVE_PATH, 'saved_models/', fname), 'rb'))\n",
    "\n",
    "batch_size, learning_rate, epochs = xval_results.most_common(1)[0][0]\n",
    "epochs += 1\n",
    "\n",
    "# Set up model\n",
    "if 'mnli' not in mode:\n",
    "  model = model_class.from_pretrained(model_name, \n",
    "                                      cache_dir=os.path.join(DRIVE_PATH, 'cache'))\n",
    "else:\n",
    "  config = config_class.from_pretrained(model_name.replace('-mnli',''),\n",
    "                                  num_labels=3,\n",
    "                                  cache_dir=os.path.join(DRIVE_PATH, 'cache'))\n",
    "  model = model_class.from_pretrained(model_name, \n",
    "                                      config=config,\n",
    "                                      cache_dir=os.path.join(DRIVE_PATH, 'cache'))\n",
    "  config.num_labels = 2\n",
    "  model.num_labels = 2\n",
    "  model.classifier = cls_head_class(config=config) # Need to bring in a classification head for only 2 labels\n",
    "\n",
    "model.cuda()\n",
    "device = model.device \n",
    "\n",
    "train_sampler = RandomSampler(ConvEnt_train_tensor)\n",
    "train_dataloader = DataLoader(ConvEnt_train_tensor, sampler=train_sampler, batch_size=batch_size)\n",
    "\n",
    "# Set up optimizer\n",
    "optimizer = AdamW(model.parameters(), lr=learning_rate)\n",
    "total_steps = len(train_dataloader) * epochs\n",
    "scheduler = get_linear_schedule_with_warmup(optimizer, num_warmup_steps=0, num_training_steps = total_steps)\n",
    "\n",
    "for epoch in range(epochs):\n",
    "  print('[%s] Beginning epoch...' % str(epoch))\n",
    "  epoch_loss, _ = train_epoch(model, optimizer, train_dataloader, device, seg_mode=True if 'roberta' not in mode else False)\n",
    "\n",
    "print('[%s] Saving model checkpoint...' % str(epoch))\n",
    "model_param_str = get_model_dir(model_name.replace('/','-'), 'ConvEnt', batch_size, learning_rate, epoch) + '_xval'\n",
    "output_dir = os.path.join(DRIVE_PATH, 'saved_models', model_param_str)\n",
    "if not os.path.exists(output_dir):\n",
    "  os.makedirs(output_dir)\n",
    "model = model.module if hasattr(model, 'module') else model\n",
    "model.save_pretrained(output_dir)\n",
    "tokenizer.save_vocabulary(output_dir)"
   ]
  },
  {
   "cell_type": "markdown",
   "metadata": {
    "id": "CADDFieTvtv9"
   },
   "source": [
    "## Test Models on Conversational Entailment"
   ]
  },
  {
   "cell_type": "code",
   "execution_count": null,
   "metadata": {
    "colab": {
     "base_uri": "https://localhost:8080/"
    },
    "executionInfo": {
     "elapsed": 14850,
     "status": "ok",
     "timestamp": 1631301512340,
     "user": {
      "displayName": "Shane Storks",
      "photoUrl": "https://lh3.googleusercontent.com/a-/AOh14Gh8CqjwUclCWWIoFwUB05rZNHwyd6nEIrTXC6RVXw=s64",
      "userId": "00590987742306216924"
     },
     "user_tz": 240
    },
    "id": "-NJAbMNRvtv9",
    "outputId": "a493868a-c762-4279-b73b-7b6e7b20e148"
   },
   "outputs": [
    {
     "name": "stdout",
     "output_type": "stream",
     "text": [
      "Testing model: roberta-large_ConvEnt_1_1e-05_0_xval.\n",
      "\tBeginning evaluation...\n",
      "\t\tRunning prediction...\n",
      "\t\tComputing metrics...\n",
      "\tFinished evaluation in 0:00:00s.\n",
      "Results (test):\n",
      "{\n",
      "  accuracy: \n",
      "    0.7,\n",
      "}\n",
      "\n",
      "\n"
     ]
    }
   ],
   "source": [
    "from torch.utils.data import DataLoader, RandomSampler, SequentialSampler\n",
    "from transformers import get_linear_schedule_with_warmup\n",
    "from www.model.eval import evaluate, save_results, save_preds\n",
    "from sklearn.metrics import accuracy_score\n",
    "from www.utils import print_dict, get_model_dir\n",
    "\n",
    "best_model = eval_model_dir\n",
    "\n",
    "\n",
    "best_model = os.path.join(DRIVE_PATH, 'saved_models', best_model)\n",
    "\n",
    "# Load the model\n",
    "model = model_class.from_pretrained(best_model)\n",
    "model.cuda()\n",
    "device = model.device\n",
    "\n",
    "# Select appropriate dataset\n",
    "if 'cloze' in best_model:\n",
    "  subtask = 'cloze'\n",
    "elif 'order' in best_model:\n",
    "  subtask = 'order'\n",
    "\n",
    "test_sampler = SequentialSampler(ConvEnt_test_tensor)\n",
    "test_dataloader = DataLoader(ConvEnt_test_tensor, sampler=test_sampler, batch_size=128)\n",
    "test_dataset_name = '%s_%s' % ('ConvEnt', 'test')\n",
    "test_ids = [str(ex['example_id']) for ex in ConvEnt_test]\n",
    "\n",
    "print('Testing model: %s.' % best_model.split('/')[-1])\n",
    "\n",
    "results, preds, labels = evaluate(model, test_dataloader, device, [(accuracy_score, 'accuracy')], seg_mode=True if 'roberta' not in mode else False)\n",
    "save_results(results, best_model, test_dataset_name)\n",
    "save_preds(test_ids, labels, preds, best_model, test_dataset_name)\n",
    "\n",
    "print('Results (%s):' % p)\n",
    "print_dict(results)"
   ]
  },
  {
   "cell_type": "markdown",
   "metadata": {
    "id": "qy_A5hR9vtv9"
   },
   "source": [
    "## Coherence Checks on Conversational Entailment"
   ]
  },
  {
   "cell_type": "markdown",
   "metadata": {
    "id": "GO1JOxnIvtv9"
   },
   "source": [
    "### Load and Featurize Span Data"
   ]
  },
  {
   "cell_type": "code",
   "execution_count": null,
   "metadata": {
    "id": "bOsSHJnCvtv-"
   },
   "outputs": [],
   "source": [
    "from www.dataset.featurize import add_bert_features_ConvEnt, get_tensor_dataset\n",
    "from www.dataset.prepro import get_ConvEnt_spans\n",
    "import pickle\n",
    "seq_length = 128\n",
    "\n",
    "merged_file = os.path.join(DRIVE_PATH, 'all_data/ConvEnt/ConvEnt_test_annotation_merged2.json')\n",
    "ConvEnt_test = json.load(open(merged_file))\n",
    "\n",
    "ConvEnt_test = add_bert_features_ConvEnt(ConvEnt_test, tokenizer, seq_length, add_segment_ids=True)\n",
    "\n",
    "if debug:\n",
    "  ConvEnt_test = ConvEnt_test[:10]\n",
    "\n",
    "# Some of the annotated examples are no longer in the test set :(\n",
    "# ConvEnt_test = [ex for ex in ConvEnt_test if ex['id'] in test_ids]\n",
    "\n",
    "# Make span versions of the datasets\n",
    "ConvEnt_test_spans = get_ConvEnt_spans(ConvEnt_test)\n",
    "\n",
    "# Add BERT features\n",
    "ConvEnt_test_tensor = get_tensor_dataset(ConvEnt_test, label_key='label', add_segment_ids=True)\n",
    "ConvEnt_test_spans_tensor = get_tensor_dataset(ConvEnt_test_spans, label_key='label', add_segment_ids=True)"
   ]
  },
  {
   "cell_type": "markdown",
   "metadata": {
    "id": "cAtipHPtvtv-"
   },
   "source": [
    "### Load the Trained Model\n",
    "\n",
    "Load the trained model we want to probe and select the appropriate dataset."
   ]
  },
  {
   "cell_type": "code",
   "execution_count": null,
   "metadata": {
    "id": "NCssPtg_vtv-"
   },
   "outputs": [],
   "source": [
    "probe_model = eval_model_dir\n",
    "probe_model = os.path.join(DRIVE_PATH, 'saved_models', probe_model)\n",
    "\n",
    "# Load the model\n",
    "model = model_class.from_pretrained(probe_model)\n",
    "if torch.cuda.is_available():\n",
    "  model.cuda()\n",
    "device = model.device "
   ]
  },
  {
   "cell_type": "markdown",
   "metadata": {
    "id": "PIPh3HSXvtv-"
   },
   "source": [
    "#### Load Trained Model's Base Predictions\n",
    "\n",
    "For comparison, we also want the preds and labels for the previous level."
   ]
  },
  {
   "cell_type": "code",
   "execution_count": null,
   "metadata": {
    "colab": {
     "base_uri": "https://localhost:8080/"
    },
    "executionInfo": {
     "elapsed": 20,
     "status": "ok",
     "timestamp": 1631301931718,
     "user": {
      "displayName": "Shane Storks",
      "photoUrl": "https://lh3.googleusercontent.com/a-/AOh14Gh8CqjwUclCWWIoFwUB05rZNHwyd6nEIrTXC6RVXw=s64",
      "userId": "00590987742306216924"
     },
     "user_tz": 240
    },
    "id": "U9lHmA2evtv-",
    "outputId": "60d88a06-7376-4bd6-edcc-d846cf8aa7c6"
   },
   "outputs": [
    {
     "name": "stdout",
     "output_type": "stream",
     "text": [
      "dict_keys(['73', '74', '75', '76', '77', '78', '79', '80', '81', '82'])\n"
     ]
    }
   ],
   "source": [
    "from www.model.eval import load_preds\n",
    "from www.utils import print_dict\n",
    "\n",
    "preds_base = {}\n",
    "preds_base['test'] = load_preds(os.path.join(probe_model, 'preds_ConvEnt_test.tsv'))\n",
    "print(preds_base['test'].keys())"
   ]
  },
  {
   "cell_type": "markdown",
   "metadata": {
    "id": "maZGCMvMvtv-"
   },
   "source": [
    "### Check a Model\n",
    "\n",
    "Will print out strict and lenient coherence metrics."
   ]
  },
  {
   "cell_type": "code",
   "execution_count": null,
   "metadata": {
    "colab": {
     "base_uri": "https://localhost:8080/"
    },
    "executionInfo": {
     "elapsed": 3056,
     "status": "ok",
     "timestamp": 1631302156247,
     "user": {
      "displayName": "Shane Storks",
      "photoUrl": "https://lh3.googleusercontent.com/a-/AOh14Gh8CqjwUclCWWIoFwUB05rZNHwyd6nEIrTXC6RVXw=s64",
      "userId": "00590987742306216924"
     },
     "user_tz": 240
    },
    "id": "tl_M9hnqvtv-",
    "outputId": "1143ab4e-d54d-471f-f186-ae09646ea059"
   },
   "outputs": [
    {
     "name": "stdout",
     "output_type": "stream",
     "text": [
      "Testing model: drive/My Drive/Colab Notebooks/Research/TRIP_replication/saved_models/roberta-large_ConvEnt_1_1e-05_0_xval.\n",
      "\tBeginning evaluation...\n",
      "\t\tRunning prediction...\n",
      "\t\tComputing metrics...\n",
      "\tFinished evaluation in 0:00:02s.\n",
      "\n",
      "PARTITION: test\n",
      "{\n",
      "  lenient_coherence: \n",
      "    0.4269000933706816,\n",
      "  strict_coherence: \n",
      "    0.4,\n",
      "}\n",
      "\n",
      "\n"
     ]
    },
    {
     "name": "stderr",
     "output_type": "stream",
     "text": [
      "/usr/local/lib/python3.7/dist-packages/sklearn/metrics/_classification.py:1272: UndefinedMetricWarning: Precision is ill-defined and being set to 0.0 in labels with no predicted samples. Use `zero_division` parameter to control this behavior.\n",
      "  _warn_prf(average, modifier, msg_start, len(result))\n"
     ]
    }
   ],
   "source": [
    "from torch.utils.data import DataLoader, RandomSampler, SequentialSampler\n",
    "from www.model.eval import evaluate, save_results, save_preds, list_comparison\n",
    "from sklearn.metrics import accuracy_score, precision_score, recall_score, f1_score, confusion_matrix\n",
    "metrics = [(accuracy_score, 'accuracy'), (precision_score, 'precision'), (recall_score, 'recall'), (f1_score, 'f1')]\n",
    "import numpy as np\n",
    "from www.utils import print_dict\n",
    "\n",
    "def is_polarized(smax, thres):\n",
    "  return (abs(smax[0] - smax[1]) >= thres)\n",
    "\n",
    "print('Testing model: %s.' % probe_model)\n",
    "\n",
    "all_results = {}\n",
    "p = 'test'\n",
    "\n",
    "p_dataset = ConvEnt_test_spans\n",
    "p_tensor_dataset = ConvEnt_test_spans_tensor\n",
    "p_sampler = SequentialSampler(p_tensor_dataset)\n",
    "p_dataloader = DataLoader(p_tensor_dataset, sampler=p_sampler, batch_size=512)\n",
    "p_dataset_name = '%s_spans_%s' % ('ConvEnt', p)\n",
    "p_dataset_name_co = '%s_consistent_%s' % ('ConvEnt', p)\n",
    "p_dataset_name_bp = '%s_breakpoints_%s' % ('ConvEnt', p)\n",
    "p_dataset_name_ev = '%s_evidence_%s' % ('ConvEnt', p)\n",
    "p_dataset_name_coh = '%s_coherent_%s' % ('ConvEnt', p)\n",
    "p_ids = [str(ex['example_id']) for ex in ConvEnt_test_spans]\n",
    "p_labels = [ex['label'] for ex in ConvEnt_test_spans]\n",
    "\n",
    "# Get span preds and save metrics\n",
    "results, preds, labels = evaluate(model, p_dataloader, device, metrics, seg_mode=True if 'roberta' not in mode else False)\n",
    "save_results(results, probe_model, p_dataset_name)\n",
    "save_preds(p_ids, labels, preds, probe_model, p_dataset_name)\n",
    "\n",
    "# Convert substory preds into breakpoint preds for each example\n",
    "ids_base = [str(ex['example_id']) for ex in ConvEnt_test]\n",
    "\n",
    "id_to_pred = {k: v for k,v in zip(p_ids, preds)}\n",
    "id_to_label = {k: v for k,v in zip(p_ids, p_labels)}\n",
    "\n",
    "preds_entailment = []\n",
    "labels_entailment = []\n",
    "preds_consistent = []\n",
    "preds_breakpoint = []\n",
    "labels_breakpoint = []\n",
    "preds_evidence = []\n",
    "labels_evidence = []    \n",
    "span_accuracies = []\n",
    "span_accuracies_strict = []\n",
    "preds_coherent = []\n",
    "\n",
    "for i, exid in enumerate(ids_base):\n",
    "  ex = ConvEnt_test[i]\n",
    "  ex['length'] = len(ex['turns'])\n",
    "\n",
    "  label_entailment = preds_base[p][exid]['label']\n",
    "  pred_entailment = preds_base[p][exid]['pred']\n",
    "  labels_entailment.append(label_entailment)\n",
    "  preds_entailment.append(pred_entailment)\n",
    "\n",
    "  # Get ground truth breakpoint and evidence\n",
    "  label_breakpoint = ex['conflict_pair'][1] if ex['conflict_pair'] is not None and len(ex['conflict_pair']) > 0 else 0\n",
    "  labels_breakpoint.append(label_breakpoint)\n",
    "  if label_breakpoint > 0:\n",
    "    label_ev = ex['conflict_pair'][0]\n",
    "  else:\n",
    "    label_ev = -1\n",
    "  labels_evidence.append(label_ev)\n",
    "\n",
    "  # Check consistency - any span that entails the hypothesis' superspans should also entail\n",
    "  pred_consistent = True\n",
    "  span_accuracy = 0.0\n",
    "  span_accuracy_strict = 0.0\n",
    "  pred_coherent = True\n",
    "  \n",
    "  no_spans = 0\n",
    "  for sp1 in range(ex['length']):\n",
    "    if not pred_consistent:\n",
    "      break\n",
    "\n",
    "    for sp2 in range(sp1, ex['length']):\n",
    "      if not pred_consistent:\n",
    "        break\n",
    "\n",
    "      span_pred = id_to_pred[exid + '-sp%s:%s' % (str(sp1), str(sp2))]\n",
    "      span_label = id_to_label[exid + '-sp%s:%s' % (str(sp1), str(sp2))]\n",
    "\n",
    "      if span_pred == span_label:\n",
    "        span_accuracy += 1.0\n",
    "        if label_entailment == pred_entailment:\n",
    "            span_accuracy_strict += 1.0\n",
    "      else:\n",
    "        pred_coherent = False\n",
    "      no_spans += 1\n",
    "      # print('%s:%s\\t%s\\t(%s, %s)' % (str(sp1), str(sp2), str(span_pred), str(span_prob[0]), str(span_prob[1])))      \n",
    "\n",
    "      if span_pred == 1:\n",
    "        if pred_entailment == 1:\n",
    "          for sp3 in range(sp1+1):\n",
    "            if not pred_consistent:\n",
    "              break\n",
    "\n",
    "            for sp4 in range(sp2, ex['length']):\n",
    "              if not pred_consistent:\n",
    "                break\n",
    "\n",
    "              sspan_pred = id_to_pred[exid + '-sp%s:%s' % (str(sp3), str(sp4))]\n",
    "\n",
    "              if sspan_pred == 0:\n",
    "                pred_consistent = False\n",
    "                break\n",
    "        elif pred_entailment == 0:\n",
    "          pred_consistent = False\n",
    "\n",
    "  preds_consistent.append(1 if pred_consistent else 0)\n",
    "  span_accuracies.append(span_accuracy / no_spans)\n",
    "  span_accuracies_strict.append(span_accuracy_strict / no_spans)\n",
    "  preds_coherent.append(1 if pred_coherent else 0)\n",
    "\n",
    "  # Check pred. breakpoint (verifiability) - will be first sentence where the model prediction becomes polarized, i.e., confidence > threshold\n",
    "  pred_breakpoint = 0 # For now, 0 means -1, i.e., stories are entirely plausible - this shouldn't happen but it will (inconsistent?)\n",
    "  for ss in range(1, ex['length']):\n",
    "    if id_to_pred[exid + '-sp%s:%s' % (str(0), str(ss))] == 1:\n",
    "      pred_breakpoint = ss\n",
    "      break\n",
    "  preds_breakpoint.append(pred_breakpoint)\n",
    "\n",
    "  # Check pred. evidence (verifiability)\n",
    "  if pred_breakpoint > 0:\n",
    "    pred_evidence = -1 \n",
    "    for ss in range(0, pred_breakpoint+1):\n",
    "      if id_to_pred[exid + '-sp%s:%s' % (str(0), str(ss))] == 1:\n",
    "        pred_evidence = ss\n",
    "  else:\n",
    "    pred_evidence = -1 # This should never happen - it would be inconsistent if it did\n",
    "  preds_evidence.append(pred_evidence)\n",
    "\n",
    "# Calculate tiered accuracy for model\n",
    "acc = 0\n",
    "acc_con = 0\n",
    "acc_con_vbp = 0\n",
    "acc_con_vbp_vev = 0\n",
    "no_ex = len(ids_base)\n",
    "for p_plaus, l_plaus, con, p_bp, l_bp, p_ev, l_ev in zip(preds_entailment, labels_entailment, preds_consistent, preds_breakpoint, labels_breakpoint, preds_evidence, labels_evidence):\n",
    "  # Accuracy\n",
    "  if p_plaus == l_plaus:\n",
    "    acc += 1\n",
    "    \n",
    "    # Consistency\n",
    "    if con == 1:\n",
    "      acc_con += 1\n",
    "    \n",
    "      # Verifiability (breakpoint)\n",
    "      if p_bp == l_bp:\n",
    "        acc_con_vbp += 1\n",
    "\n",
    "        # Verifiability (evidence)\n",
    "        if p_ev == l_ev:\n",
    "          acc_con_vbp_vev += 1\n",
    "\n",
    "acc /= no_ex\n",
    "acc_con /= no_ex\n",
    "acc_con_vbp /= no_ex\n",
    "acc_con_vbp_vev /= no_ex\n",
    "\n",
    "# all_results['acc'] = acc\n",
    "# all_results['acc_con'] = acc_con\n",
    "# all_results['acc_con_vbp'] = acc_con_vbp\n",
    "# all_results['acc_con_vbp_vev'] = acc_con_vbp_vev\n",
    "# all_results['span_accuracy'] = np.mean(span_accuracies)\n",
    "\n",
    "all_results['lenient_coherence'] = np.mean(span_accuracies_strict)\n",
    "all_results['strict_coherence'] = np.mean(preds_coherent)\n",
    "\n",
    "best_preds_entailment = preds_entailment\n",
    "best_preds_consistent = preds_consistent\n",
    "best_preds_breakpoint = preds_breakpoint\n",
    "best_preds_evidence = preds_evidence\n",
    "best_preds_coherent = preds_coherent\n",
    "    \n",
    "print('\\nPARTITION: %s' % p)\n",
    "print_dict(all_results)\n",
    "\n",
    "# Save preds for breakpoint and evidence\n",
    "save_preds(ids_base, np.array(labels_breakpoint), best_preds_breakpoint, probe_model, p_dataset_name_bp)\n",
    "save_preds(ids_base, np.array(labels_evidence), best_preds_evidence, probe_model, p_dataset_name_ev)\n",
    "save_preds(ids_base, np.array([1 for p in best_preds_coherent]), best_preds_coherent, probe_model, p_dataset_name_coh)\n",
    "\n",
    "p_dataset_name_agg = '%s_tiers_agg_nostates_lenient_%s' % ('ConvEnt', p)\n",
    "save_results(all_results, probe_model, p_dataset_name_agg)"
   ]
  },
  {
   "cell_type": "markdown",
   "metadata": {
    "id": "XnWDvQG7vtv-"
   },
   "source": [
    "# ART Results\n",
    "\n",
    "Code for the coherence experiments on ART."
   ]
  },
  {
   "cell_type": "code",
   "execution_count": null,
   "metadata": {
    "id": "CvqFFHXebfrI"
   },
   "outputs": [],
   "source": [
    "if task_name != 'art':\n",
    "  raise ValueError('Please configure task_name in first cell to \"art\" to run ART results!')"
   ]
  },
  {
   "cell_type": "markdown",
   "metadata": {
    "id": "KxRnuX_fvtv_"
   },
   "source": [
    "## Load ART dataset\n",
    "\n",
    "ART is originally gathered from [HuggingFace datasets](https://huggingface.co/docs/datasets/), but we added some of our own annotations for the coherence evaluation."
   ]
  },
  {
   "cell_type": "code",
   "execution_count": null,
   "metadata": {
    "id": "jGZGEObJvtv_"
   },
   "outputs": [],
   "source": [
    "import os\n",
    "fname = os.path.join(DRIVE_PATH, 'all_data/ART/art.json')\n",
    "with open(fname, 'r') as f:\n",
    "  art = json.load(f)"
   ]
  },
  {
   "cell_type": "markdown",
   "metadata": {
    "id": "apGoBEp_vtv_"
   },
   "source": [
    "## Train Models on ART"
   ]
  },
  {
   "cell_type": "markdown",
   "metadata": {
    "id": "ukLFJ-Mfvtv_"
   },
   "source": [
    "### Featurize ART"
   ]
  },
  {
   "cell_type": "code",
   "execution_count": null,
   "metadata": {
    "id": "4LbWyaWKvtv_"
   },
   "outputs": [],
   "source": [
    "from www.dataset.featurize import add_bert_features_art, get_tensor_dataset\n",
    "seq_length = 32\n",
    "\n",
    "for p in art:\n",
    "  for i in range(len(art[p])):\n",
    "    art[p][i]['label'] -= 1 # Do this so labels start at 0\n",
    "\n",
    "  if debug:\n",
    "    # Take 20 examples that we've annotated as the debug set so we can run the coherence metrics\n",
    "    merged_file = os.path.join(DRIVE_PATH, 'all_data/ART/ART_test_rand200_annotation_merged2.json')\n",
    "    ann_ids = [ex['id'] for ex in json.load(open(merged_file))]\n",
    "     \n",
    "    if p == 'train':\n",
    "      art[p] = art[p][:20]\n",
    "      art[p] = art[p][:20]\n",
    "    elif p == 'val':\n",
    "      art[p] = [ex for ex in art[p] if ex['id'] in ann_ids][:20]\n",
    "\n",
    "art_tensor = {}\n",
    "for p in art:\n",
    "  art[p] = add_bert_features_art(art[p], tokenizer, seq_length)\n",
    "  art_tensor[p] = get_tensor_dataset(art[p], label_key='label')"
   ]
  },
  {
   "cell_type": "markdown",
   "metadata": {
    "id": "XERMrM56vtv_"
   },
   "source": [
    "### Train Models\n",
    "\n",
    "Train models on ART. Note that ART's test set is not public, so we cannot test the model (unless we submit to their [leaderboard](https://leaderboard.allenai.org/anli/submissions/public))."
   ]
  },
  {
   "cell_type": "markdown",
   "metadata": {
    "id": "2u4dOjy4vtwA"
   },
   "source": [
    "#### Configure Hyperparameters"
   ]
  },
  {
   "cell_type": "code",
   "execution_count": null,
   "metadata": {
    "id": "Bz3-D5hVvtwA"
   },
   "outputs": [],
   "source": [
    "batch_sizes = [config_batch_size]\n",
    "learning_rates = [config_lr]\n",
    "epochs = config_epochs\n",
    "eval_batch_size = 128"
   ]
  },
  {
   "cell_type": "markdown",
   "metadata": {
    "id": "s-cs-hhJvtwA"
   },
   "source": [
    "#### Grid Search"
   ]
  },
  {
   "cell_type": "code",
   "execution_count": null,
   "metadata": {
    "colab": {
     "base_uri": "https://localhost:8080/"
    },
    "executionInfo": {
     "elapsed": 28687,
     "status": "ok",
     "timestamp": 1631304042954,
     "user": {
      "displayName": "Shane Storks",
      "photoUrl": "https://lh3.googleusercontent.com/a-/AOh14Gh8CqjwUclCWWIoFwUB05rZNHwyd6nEIrTXC6RVXw=s64",
      "userId": "00590987742306216924"
     },
     "user_tz": 240
    },
    "id": "wRfuT81qvtwA",
    "outputId": "e6e8ad02-9836-49e8-b0f3-615960aa5d80"
   },
   "outputs": [
    {
     "name": "stdout",
     "output_type": "stream",
     "text": [
      "Beginning grid search for ART over 1 parameter combination(s)!\n",
      "\n",
      "TRAINING MODEL: bs=1, lr=1e-05\n"
     ]
    },
    {
     "name": "stderr",
     "output_type": "stream",
     "text": [
      "Some weights of the model checkpoint at roberta-large were not used when initializing RobertaForMultipleChoice: ['lm_head.bias', 'lm_head.dense.weight', 'lm_head.dense.bias', 'lm_head.layer_norm.weight', 'lm_head.layer_norm.bias', 'lm_head.decoder.weight']\n",
      "- This IS expected if you are initializing RobertaForMultipleChoice from the checkpoint of a model trained on another task or with another architecture (e.g. initializing a BertForSequenceClassification model from a BertForPreTraining model).\n",
      "- This IS NOT expected if you are initializing RobertaForMultipleChoice from the checkpoint of a model that you expect to be exactly identical (initializing a BertForSequenceClassification model from a BertForSequenceClassification model).\n",
      "Some weights of RobertaForMultipleChoice were not initialized from the model checkpoint at roberta-large and are newly initialized: ['classifier.weight', 'classifier.bias']\n",
      "You should probably TRAIN this model on a down-stream task to be able to use it for predictions and inference.\n"
     ]
    },
    {
     "name": "stdout",
     "output_type": "stream",
     "text": [
      "[0] Beginning epoch...\n",
      "\tBeginning evaluation...\n",
      "\t\tRunning prediction...\n",
      "\t\tComputing metrics...\n",
      "\tFinished evaluation in 0:00:00s.\n",
      "[0] Validation results:\n",
      "{\n",
      "  accuracy: \n",
      "    0.7,\n",
      "}\n",
      "\n",
      "\n",
      "[0] Saving model checkpoint...\n",
      "[0] Finished epoch.\n",
      "Finished grid search! :)\n",
      "Best validation accuracy 0.7 from model roberta-large_art_1_1e-05_0.\n"
     ]
    }
   ],
   "source": [
    "from torch.utils.data import DataLoader, RandomSampler, SequentialSampler\n",
    "from transformers import get_linear_schedule_with_warmup, RobertaForMultipleChoice, BertForMultipleChoice, RobertaConfig, BertConfig\n",
    "from www.model.train import train_epoch\n",
    "from www.model.eval import evaluate, save_results, save_preds\n",
    "from sklearn.metrics import accuracy_score\n",
    "from www.utils import print_dict, get_model_dir\n",
    "\n",
    "seed_val = 22 # Save random seed for reproducibility\n",
    "random.seed(seed_val)\n",
    "np.random.seed(seed_val)\n",
    "torch.manual_seed(seed_val)\n",
    "torch.cuda.manual_seed_all(seed_val)\n",
    "\n",
    "# We'll keep the validation data here with a constant eval batch size\n",
    "dev_sampler = SequentialSampler(art_tensor['val'])\n",
    "dev_dataloader = DataLoader(art_tensor['val'], sampler=dev_sampler, batch_size=eval_batch_size)\n",
    "dev_dataset_name = 'art_val'\n",
    "dev_ids = [str(ex['example_id']) for ex in art['val']]\n",
    "\n",
    "all_losses = []\n",
    "param_combos = []\n",
    "combo_names = []\n",
    "all_val_accs = []\n",
    "output_dirs = []\n",
    "best_acc = 0.0\n",
    "\n",
    "print('Beginning grid search for ART over %s parameter combination(s)!' % (str(len(batch_sizes) * len(learning_rates))))\n",
    "for bs in batch_sizes:\n",
    "  for lr in learning_rates:\n",
    "    print('\\nTRAINING MODEL: bs=%s, lr=%s' % (str(bs), str(lr)))\n",
    "\n",
    "    loss_values = []\n",
    "    acc_values = []\n",
    "\n",
    "    # Set up training dataset with new batch size\n",
    "    train_sampler = RandomSampler(art_tensor['train'])\n",
    "    train_dataloader = DataLoader(art_tensor['train'], sampler=train_sampler, batch_size=bs)\n",
    "\n",
    "    # Set up model\n",
    "    config = config_class.from_pretrained(model_name,\n",
    "                                          num_labels=2,\n",
    "                                          cache_dir=os.path.join(DRIVE_PATH, 'cache'))\n",
    "    model = model_class.from_pretrained(model_name,\n",
    "                                        config=config,\n",
    "                                        cache_dir=os.path.join(DRIVE_PATH, 'cache'))\n",
    "\n",
    "    model.cuda()\n",
    "    device = model.device \n",
    "\n",
    "    # Set up optimizer\n",
    "    optimizer = AdamW(model.parameters(), lr=lr)\n",
    "    total_steps = len(train_dataloader) * epochs\n",
    "    scheduler = get_linear_schedule_with_warmup(optimizer, num_warmup_steps=0, num_training_steps = total_steps)\n",
    "\n",
    "    for epoch in range(epochs):\n",
    "      # Train the model for one epoch\n",
    "      print('[%s] Beginning epoch...' % str(epoch))\n",
    "\n",
    "      epoch_loss, _ = train_epoch(model, optimizer, train_dataloader, device)\n",
    "      \n",
    "      # Save loss\n",
    "      loss_values.append(epoch_loss)\n",
    "\n",
    "      # Validate on dev set\n",
    "      results, preds, labels = evaluate(model, dev_dataloader, device, [(accuracy_score, 'accuracy')])\n",
    "      print('[%s] Validation results:' % str(epoch))\n",
    "      print_dict(results)\n",
    "\n",
    "      # Save accuracy\n",
    "      acc = results['accuracy']\n",
    "      acc_values.append(acc)\n",
    "      \n",
    "      # Save model checkpoint\n",
    "      print('[%s] Saving model checkpoint...' % str(epoch))\n",
    "      model_param_str = get_model_dir(model_name.replace('/','-'), 'art', bs, lr, epoch)# + '_toy'\n",
    "      output_dir = os.path.join(DRIVE_PATH, 'saved_models', model_param_str)\n",
    "      output_dirs.append(output_dir)\n",
    "      if not os.path.exists(output_dir):\n",
    "        os.makedirs(output_dir)\n",
    "      save_results(results, output_dir, dev_dataset_name)\n",
    "      save_preds(dev_ids, labels, preds, output_dir, dev_dataset_name)\n",
    "      model = model.module if hasattr(model, 'module') else model\n",
    "      model.save_pretrained(output_dir)\n",
    "      tokenizer.save_vocabulary(output_dir)\n",
    "\n",
    "      if acc > best_acc:\n",
    "        best_acc = acc\n",
    "        best_model = model_param_str\n",
    "        best_dir = output_dir\n",
    "\n",
    "      print('[%s] Finished epoch.' % str(epoch))\n",
    "\n",
    "    all_losses.append(loss_values)\n",
    "    all_val_accs.append(acc_values)\n",
    "    param_combos.append((bs, lr))\n",
    "    combo_names.append('bs=%s, lr=%s' % (str(bs), str(lr)))\n",
    "\n",
    "print('Finished grid search! :)')\n",
    "print('Best validation accuracy %s from model %s.' % (best_acc, best_model))"
   ]
  },
  {
   "cell_type": "markdown",
   "metadata": {
    "id": "dPSVjSw9vtwB"
   },
   "source": [
    "Delete non-best model checkpoints:"
   ]
  },
  {
   "cell_type": "code",
   "execution_count": null,
   "metadata": {
    "id": "P-Pqf4g1vtwB"
   },
   "outputs": [],
   "source": [
    "import shutil\n",
    "\n",
    "# Delete non-best model checkpoints\n",
    "for od in output_dirs:\n",
    "  if od != best_dir and os.path.exists(od):\n",
    "    shutil.rmtree(od)"
   ]
  },
  {
   "cell_type": "markdown",
   "metadata": {
    "id": "LrNuHxTEvtwB"
   },
   "source": [
    "## Coherence Checks on ART"
   ]
  },
  {
   "cell_type": "markdown",
   "metadata": {
    "id": "Egyx9BejvtwC"
   },
   "source": [
    "### Load and Featurize Span Data"
   ]
  },
  {
   "cell_type": "code",
   "execution_count": null,
   "metadata": {
    "id": "7mD8HXC9vtwC"
   },
   "outputs": [],
   "source": [
    "from www.dataset.featurize import add_bert_features_art, get_tensor_dataset\n",
    "from www.dataset.prepro import get_art_spans\n",
    "import pickle\n",
    "seq_length = 128\n",
    "  \n",
    "merged_file = os.path.join(DRIVE_PATH, 'all_data/ART/ART_test_rand200_annotation_merged2.json')\n",
    "art_anns = json.load(open(merged_file))\n",
    "\n",
    "if debug:\n",
    "  ann_ids = [ex['id'] for ex in art_anns]\n",
    "  debug_ids = [ex['id'] for ex in art[p] if ex['id'] in ann_ids][:20]  \n",
    "  art = [ex for ex in art_anns if ex['id'] in debug_ids]\n",
    "\n",
    "# Make span versions of the datasets\n",
    "art_spans = get_art_spans(art)\n",
    "\n",
    "# Add BERT features\n",
    "art = add_bert_features_art(art, tokenizer, seq_length, add_segment_ids=True)\n",
    "art_spans = add_bert_features_art(art_spans, tokenizer, seq_length, add_segment_ids=True)\n",
    "\n",
    "# Add BERT features\n",
    "art_tensor = get_tensor_dataset(art, label_key='label', add_segment_ids=True)\n",
    "art_spans_tensor = get_tensor_dataset(art_spans, label_key='label', add_segment_ids=True)"
   ]
  },
  {
   "cell_type": "markdown",
   "metadata": {
    "id": "auYYxFc6vtwC"
   },
   "source": [
    "### Load the Trained Model\n",
    "\n",
    "Load the trained model we want to probe and select the appropriate dataset."
   ]
  },
  {
   "cell_type": "code",
   "execution_count": null,
   "metadata": {
    "id": "ruiy_uXqvtwC"
   },
   "outputs": [],
   "source": [
    "probe_model = eval_model_dir\n",
    "probe_model = os.path.join(DRIVE_PATH, 'saved_models', probe_model)\n",
    "  \n",
    "# Load the model\n",
    "model = model_class.from_pretrained(probe_model)\n",
    "if torch.cuda.is_available():\n",
    "  model.cuda()\n",
    "device = model.device "
   ]
  },
  {
   "cell_type": "markdown",
   "metadata": {
    "id": "YwznwL-MvtwC"
   },
   "source": [
    "#### Load Trained Model's Two-Story Classification Predictions\n",
    "\n",
    "For comparison, we also want the preds and labels for the previous level."
   ]
  },
  {
   "cell_type": "code",
   "execution_count": null,
   "metadata": {
    "id": "tdIPP8oPvtwC"
   },
   "outputs": [],
   "source": [
    "from www.model.eval import load_preds\n",
    "from www.utils import print_dict\n",
    "\n",
    "preds_base = {}\n",
    "preds_base['val'] = load_preds(os.path.join(probe_model, 'preds_art_val.tsv'))"
   ]
  },
  {
   "cell_type": "markdown",
   "metadata": {
    "id": "fYRfQG6LvtwC"
   },
   "source": [
    "### Calculate Coherence Metrics\n",
    "\n",
    "As ART is a multiple-choice task, we will need to tune the confidence threshold $\\rho$. This code will print out the strict and lenient coherence metrics, as well as the chosen $\\rho$ (`best_threshold`)."
   ]
  },
  {
   "cell_type": "code",
   "execution_count": null,
   "metadata": {
    "colab": {
     "base_uri": "https://localhost:8080/"
    },
    "executionInfo": {
     "elapsed": 3496,
     "status": "ok",
     "timestamp": 1631304420628,
     "user": {
      "displayName": "Shane Storks",
      "photoUrl": "https://lh3.googleusercontent.com/a-/AOh14Gh8CqjwUclCWWIoFwUB05rZNHwyd6nEIrTXC6RVXw=s64",
      "userId": "00590987742306216924"
     },
     "user_tz": 240
    },
    "id": "dCfpfrDXvtwD",
    "outputId": "3d4bf905-11f1-41a9-889b-cb55114e67bb"
   },
   "outputs": [
    {
     "name": "stdout",
     "output_type": "stream",
     "text": [
      "Testing model: drive/My Drive/Colab Notebooks/Research/TRIP_replication/saved_models/roberta-large_art_1_1e-05_0.\n",
      "\tBeginning evaluation...\n",
      "\t\tRunning prediction...\n",
      "\t\tComputing metrics...\n",
      "\tFinished evaluation in 0:00:03s.\n",
      "\n",
      "PARTITION: val \t METRIC: strict_coherence\n",
      "chosen threshold: 1.0\n",
      "{\n",
      "  lenient_coherence: \n",
      "    0.18246427120454473,\n",
      "  strict_coherence: \n",
      "    0.15,\n",
      "  best_threshold: \n",
      "    1.0,\n",
      "}\n",
      "\n",
      "\n",
      "\n",
      "PARTITION: val \t METRIC: lenient_coherence\n",
      "chosen threshold: 1.0\n",
      "{\n",
      "  lenient_coherence: \n",
      "    0.18246427120454473,\n",
      "  strict_coherence: \n",
      "    0.15,\n",
      "  best_threshold: \n",
      "    1.0,\n",
      "}\n",
      "\n",
      "\n"
     ]
    },
    {
     "name": "stderr",
     "output_type": "stream",
     "text": [
      "/usr/local/lib/python3.7/dist-packages/sklearn/metrics/_classification.py:1272: UndefinedMetricWarning: Precision is ill-defined and being set to 0.0 in labels with no predicted samples. Use `zero_division` parameter to control this behavior.\n",
      "  _warn_prf(average, modifier, msg_start, len(result))\n",
      "/usr/local/lib/python3.7/dist-packages/sklearn/metrics/_classification.py:1272: UndefinedMetricWarning: Recall is ill-defined and being set to 0.0 in labels with no true samples. Use `zero_division` parameter to control this behavior.\n",
      "  _warn_prf(average, modifier, msg_start, len(result))\n"
     ]
    }
   ],
   "source": [
    "from torch.utils.data import DataLoader, RandomSampler, SequentialSampler\n",
    "from www.model.eval import evaluate, save_results, save_preds, list_comparison\n",
    "from sklearn.metrics import accuracy_score, precision_score, recall_score, f1_score, confusion_matrix\n",
    "metrics = [(accuracy_score, 'accuracy'), (precision_score, 'precision'), (recall_score, 'recall'), (f1_score, 'f1')]\n",
    "import numpy as np\n",
    "from www.utils import print_dict\n",
    "\n",
    "def is_polarized(smax, thres):\n",
    "  return (abs(smax[0] - smax[1]) >= thres)\n",
    "\n",
    "print('Testing model: %s.' % probe_model)\n",
    "\n",
    "subtask = 'art'\n",
    "p = 'val'\n",
    "all_results = {}\n",
    "\n",
    "p_dataset = art_spans\n",
    "p_tensor_dataset = art_spans_tensor\n",
    "p_sampler = SequentialSampler(p_tensor_dataset)\n",
    "p_dataloader = DataLoader(p_tensor_dataset, sampler=p_sampler, batch_size=128)\n",
    "p_dataset_name = '%s_spans_%s' % (subtask, p)\n",
    "p_dataset_name_co = '%s_consistent_%s' % (subtask, p)\n",
    "p_dataset_name_bp = '%s_breakpoints_%s' % (subtask, p)\n",
    "p_dataset_name_ev = '%s_evidence_%s' % (subtask, p)\n",
    "p_dataset_name_coh = '%s_coherence_%s' % (subtask, p)\n",
    "p_dataset_name_subset = '%s_rand200_%s' % (subtask, p)\n",
    "p_ids = [ex['example_id'] for ex in art_spans]\n",
    "p_labels = [ex['label'] for ex in art_spans]\n",
    "\n",
    "# Get span preds and save metrics\n",
    "results, preds, labels, probs = evaluate(model, p_dataloader, device, metrics, seg_mode=True if 'roberta' not in mode else False, return_softmax=True)\n",
    "save_results(results, probe_model, p_dataset_name)\n",
    "save_preds(p_ids, labels, preds, probe_model, p_dataset_name)\n",
    "\n",
    "# Convert substory preds into breakpoint preds for each example\n",
    "ids_base = [ex['example_id'] for ex in art]\n",
    "\n",
    "id_to_pred = {k: v for k,v in zip(p_ids, preds)}\n",
    "id_to_prob = {k: v for k,v in zip(p_ids, probs)}\n",
    "id_to_label = {k: v for k,v in zip(p_ids, p_labels)}\n",
    "\n",
    "for metric_to_optimize in ['strict_coherence', 'lenient_coherence']:\n",
    "  # Get results dict ready\n",
    "  # all_results['acc'] = 0.0\n",
    "  # all_results['acc_con'] = 0.0\n",
    "  # all_results['acc_con_vbp'] = 0.0\n",
    "  # all_results['acc_con_vbp_vev'] = 0.0\n",
    "  # all_results['span_accuracy'] = 0.0\n",
    "  all_results['lenient_coherence'] = 0.0\n",
    "  all_results['strict_coherence'] = 0.0\n",
    "  span_accuracy = 0.0\n",
    "  span_accuracy_strict = 0.0\n",
    "  no_spans = 0\n",
    "  for threshold in [0.05, 0.1, 0.15, 0.2, 0.25, 0.3, 0.35, 0.4, 0.45, 0.5, 0.55, 0.6, 0.65, 0.7, 0.75, 0.8, 0.85, 0.9, 0.95, 1.0]:\n",
    "\n",
    "    preds_plausible = []\n",
    "    labels_plausible = []\n",
    "    preds_consistent = []\n",
    "    preds_breakpoint = []\n",
    "    labels_breakpoint = []\n",
    "    preds_evidence = []\n",
    "    labels_evidence = []    \n",
    "    span_accuracies = []\n",
    "    span_accuracies_strict = []\n",
    "    preds_coherent = []\n",
    "\n",
    "    for i, exid in enumerate(ids_base):\n",
    "      ex = art[i]\n",
    "      ex['length'] = 3\n",
    "\n",
    "      label_plausible = preds_base[p][exid]['label']\n",
    "      pred_plausible = preds_base[p][exid]['pred']\n",
    "      labels_plausible.append(label_plausible)\n",
    "      preds_plausible.append(pred_plausible)\n",
    "\n",
    "      # Get ground truth breakpoint and evidence\n",
    "      label_breakpoint = ex['conflict_pair'][1] if ex['conflict_pair'] is not None else 0\n",
    "      labels_breakpoint.append(label_breakpoint)\n",
    "      if label_breakpoint > 0:\n",
    "        label_ev = ex['conflict_pair'][0]\n",
    "      else:\n",
    "        label_ev = -1\n",
    "      labels_evidence.append(label_ev)\n",
    "\n",
    "      # Check consistency - for every span we confidently choose story X, we should also confidently choose story X for any span containing it\n",
    "      pred_consistent = True\n",
    "      for sp1 in range(ex['length']-1):\n",
    "        if not pred_consistent:\n",
    "          break\n",
    "\n",
    "        for sp2 in range(sp1+1, ex['length']):\n",
    "          if not pred_consistent:\n",
    "            break\n",
    "\n",
    "          span_pred = int(id_to_pred[exid + '-sp%s:%s' % (str(sp1), str(sp2))])\n",
    "          span_prob = id_to_prob[exid + '-sp%s:%s' % (str(sp1), str(sp2))]\n",
    "          span_label = max(id_to_label[exid + '-sp%s:%s' % (str(sp1), str(sp2))] - 1, -1)\n",
    "\n",
    "          span_pred3 = span_pred\n",
    "          if not is_polarized(span_prob, threshold): # If not polarized, let's say -1\n",
    "            span_pred3 = -1\n",
    "\n",
    "          pred_coherent = True\n",
    "          if span_pred3 == span_label:\n",
    "            span_accuracy += 1.0\n",
    "            if label_plausible == pred_plausible:\n",
    "              span_accuracy_strict += 1.0\n",
    "          else:\n",
    "            pred_coherent = False\n",
    "          no_spans += 1\n",
    "\n",
    "          if is_polarized(span_prob, threshold):\n",
    "            for sp3 in range(sp1+1):\n",
    "              if not pred_consistent:\n",
    "                break\n",
    "\n",
    "              for sp4 in range(sp2, ex['length']):\n",
    "                if not pred_consistent:\n",
    "                  break\n",
    "\n",
    "                sspan_pred = id_to_pred[exid + '-sp%s:%s' % (str(sp3), str(sp4))]\n",
    "                sspan_prob = id_to_prob[exid + '-sp%s:%s' % (str(sp3), str(sp4))]\n",
    "\n",
    "                if not is_polarized(sspan_prob, threshold) or sspan_pred != span_pred:\n",
    "                  pred_consistent = False\n",
    "                  break\n",
    "\n",
    "      preds_consistent.append(1 if pred_consistent else 0)\n",
    "      span_accuracies.append(span_accuracy / no_spans)\n",
    "      span_accuracies_strict.append(span_accuracy_strict / no_spans)\n",
    "      preds_coherent.append(1 if pred_coherent else 0)\n",
    "\n",
    "      # Check pred. breakpoint (verifiability) - will be first sentence where the model prediction becomes polarized, i.e., confidence > threshold\n",
    "      pred_breakpoint  = 0 # For now, 0 means -1, i.e., stories are entirely plausible - this shouldn't happen but it will (inconsistent?)\n",
    "      for ss in range(1, ex['length']):\n",
    "        if is_polarized(id_to_prob[exid + '-sp%s:%s' % (str(0), str(ss))], threshold):\n",
    "          pred_breakpoint = ss\n",
    "          break\n",
    "      preds_breakpoint.append(pred_breakpoint)\n",
    "\n",
    "      # Check pred. evidence (verifiability)\n",
    "      if pred_breakpoint > 0:\n",
    "        pred_evidence = -1 # Does this make sense for default value?\n",
    "        for ss in range(0, pred_breakpoint):\n",
    "          if is_polarized(id_to_prob[exid + '-sp%s:%s' % (str(ss), str(pred_breakpoint))], threshold):\n",
    "            pred_evidence = ss\n",
    "      else:\n",
    "        pred_evidence = -1 # This should never happen - it would be inconsistent if it did?\n",
    "      preds_evidence.append(pred_evidence)\n",
    "\n",
    "    # Calculate tiered accuracy for model\n",
    "    acc = 0\n",
    "    acc_con = 0\n",
    "    acc_con_vbp = 0\n",
    "    acc_con_vbp_vev = 0\n",
    "    no_ex = len(ids_base)\n",
    "    for p_plaus, l_plaus, con, p_bp, l_bp, p_ev, l_ev in zip(preds_plausible, labels_plausible, preds_consistent, preds_breakpoint, labels_breakpoint, preds_evidence, labels_evidence):\n",
    "      # Accuracy\n",
    "      if p_plaus == l_plaus:\n",
    "        acc += 1\n",
    "        \n",
    "        # Consistency\n",
    "        if con == 1:\n",
    "          acc_con += 1\n",
    "        \n",
    "          # Verifiability (breakpoint)\n",
    "          if p_bp == l_bp:\n",
    "            acc_con_vbp += 1\n",
    "\n",
    "            # Verifiability (evidence)\n",
    "            if p_ev == l_ev:\n",
    "              acc_con_vbp_vev += 1\n",
    "\n",
    "    acc /= no_ex\n",
    "    acc_con /= no_ex\n",
    "    acc_con_vbp /= no_ex\n",
    "    acc_con_vbp_vev /= no_ex\n",
    "    span_acc = np.mean(span_accuracies)\n",
    "    span_acc_strict = np.mean(span_accuracies_strict)\n",
    "    coherence = np.mean(preds_coherent)\n",
    "    # if coherence > all_results['coherence']: # !!!! this line is important\n",
    "    # if span_acc > all_results['span_accuracy']: # !!!! this line is important\n",
    "    if span_acc_strict > all_results[metric_to_optimize]: # !!!! this line is important\n",
    "      # print('new best: %s' % str(acc_con_vbp_vev))\n",
    "      best_thres = threshold\n",
    "      \n",
    "      # all_results['acc'] = acc\n",
    "      # all_results['acc_con'] = acc_con\n",
    "      # all_results['acc_con_vbp'] = acc_con_vbp\n",
    "      # all_results['acc_con_vbp_vev'] = acc_con_vbp_vev\n",
    "      # all_results['span_accuracy'] = span_acc\n",
    "      all_results['lenient_coherence'] = span_acc_strict\n",
    "      all_results['strict_coherence'] = coherence\n",
    "\n",
    "      best_preds_plausible = preds_plausible\n",
    "      best_preds_consistent = preds_consistent\n",
    "      best_preds_breakpoint = preds_breakpoint\n",
    "      best_preds_evidence = preds_evidence\n",
    "      best_preds_coherent = preds_coherent\n",
    "      \n",
    "  all_results['best_threshold'] = best_thres\n",
    "  print('\\nPARTITION: %s \\t METRIC: %s' % (p, metric_to_optimize))\n",
    "  print('chosen threshold: %s' % str(best_thres))\n",
    "  print_dict(all_results)\n",
    "\n",
    "  # Save results\n",
    "  p_dataset_name_agg = '%s_%s_%s' % (subtask, metric_to_optimize, p)\n",
    "  save_results(all_results, probe_model, p_dataset_name_agg)"
   ]
  }
 ],
 "metadata": {
  "accelerator": "GPU",
  "colab": {
   "authorship_tag": "ABX9TyN086hRntugR7AhDFlEbzLv",
   "collapsed_sections": [
    "XL9AU7zTgP9n",
    "qqvj34KhLL0k",
    "xm7qzKnAnbU9",
    "FoY37xIF-oP7",
    "QzFnAVtuUmpQ",
    "lKY0hTEgnQgB",
    "k_0WsycpFMdb",
    "Cz5tcmScJrka",
    "BxIYaEobhR7J",
    "v7VlN2jUwvcC",
    "5ctQweSlAceo",
    "0q-xjfYU_cV8",
    "-fQ6wXQIBdq1",
    "U-BMInyrBdq2",
    "8fRC3cnLBdq3",
    "aWFmGRhznl2T",
    "Rbvpm9irn3qL",
    "RfXiCTA9KPjG",
    "ON1UAnbc8OOE",
    "W7MADzgfvtv3",
    "Msxt3xAhvtv6",
    "rn5Ywwvxvtv6",
    "Ytbj9Uxxvtv7",
    "h9YL5qnRvtv7",
    "Jss8T2xzvtv8",
    "8XhSrDlpI0aH",
    "CADDFieTvtv9",
    "maZGCMvMvtv-",
    "XnWDvQG7vtv-",
    "KxRnuX_fvtv_",
    "apGoBEp_vtv_",
    "ukLFJ-Mfvtv_",
    "XERMrM56vtv_",
    "Egyx9BejvtwC",
    "auYYxFc6vtwC",
    "fYRfQG6LvtwC"
   ],
   "machine_shape": "hm",
   "mount_file_id": "1RD-qTvUOr5V5r5QXWS4qCGVx2qM96ur2",
   "name": "(code release) Consistent, Verifiable, and Coherent Reasoning for LMs",
   "provenance": []
  },
  "kernelspec": {
   "display_name": "Python 3",
   "language": "python",
   "name": "python3"
  },
  "language_info": {
   "codemirror_mode": {
    "name": "ipython",
    "version": 3
   },
   "file_extension": ".py",
   "mimetype": "text/x-python",
   "name": "python",
   "nbconvert_exporter": "python",
   "pygments_lexer": "ipython3",
   "version": "3.7.11"
  }
 },
 "nbformat": 4,
 "nbformat_minor": 1
}
