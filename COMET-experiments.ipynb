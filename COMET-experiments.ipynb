{
 "cells": [
  {
   "cell_type": "code",
   "execution_count": 1,
   "id": "7cda229c",
   "metadata": {},
   "outputs": [],
   "source": [
    "import os\n",
    "import sys\n",
    "import argparse\n",
    "import torch\n",
    "\n",
    "sys.path.append('../comet-commonsense/')\n",
    "\n",
    "import src.data.data as data\n",
    "import src.data.config as cfg\n",
    "import src.interactive.functions as interactive"
   ]
  },
  {
   "cell_type": "code",
   "execution_count": 2,
   "id": "27bf91e2",
   "metadata": {},
   "outputs": [],
   "source": [
    "COMET_MODEL_FILE= '../comet-commonsense/models/pretrained/pretrained_models/atomic_pretrained_model.pickle'"
   ]
  },
  {
   "cell_type": "code",
   "execution_count": 3,
   "id": "cf70623a",
   "metadata": {},
   "outputs": [
    {
     "name": "stdout",
     "output_type": "stream",
     "text": [
      "Loading data from: ../comet-commonsense/data/atomic/processed/generation/categories_oEffect#oReact#oWant#xAttr#xEffect#xIntent#xNeed#xReact#xWant-maxe1_17-maxe2_35-maxr_1.pickle\n"
     ]
    }
   ],
   "source": [
    "opt, state_dict = interactive.load_model_file(COMET_MODEL_FILE)\n",
    "data_loader, text_encoder = interactive.load_data(\"atomic\", opt,\n",
    "                                                  data_dir='../comet-commonsense/data/atomic/processed/generation',\n",
    "                                                 vocab_dir='../comet-commonsense/model/')"
   ]
  },
  {
   "cell_type": "code",
   "execution_count": 4,
   "id": "64c7ade8",
   "metadata": {},
   "outputs": [
    {
     "name": "stdout",
     "output_type": "stream",
     "text": [
      "52\n"
     ]
    }
   ],
   "source": [
    "n_ctx = data_loader.max_event + data_loader.max_effect\n",
    "n_vocab = len(text_encoder.encoder) + n_ctx\n",
    "model = interactive.make_model(opt, n_vocab, n_ctx, state_dict)"
   ]
  },
  {
   "cell_type": "code",
   "execution_count": 7,
   "id": "38ef199e",
   "metadata": {},
   "outputs": [],
   "source": [
    "model = model.cuda(0)"
   ]
  },
  {
   "cell_type": "code",
   "execution_count": 23,
   "id": "892f59f3",
   "metadata": {},
   "outputs": [],
   "source": [
    "from transformers import GPT2Tokenizer, BertTokenizer"
   ]
  },
  {
   "cell_type": "code",
   "execution_count": 15,
   "id": "930bd29b",
   "metadata": {},
   "outputs": [],
   "source": [
    "tokenizer = GPT2Tokenizer.from_pretrained('gpt2')"
   ]
  },
  {
   "cell_type": "code",
   "execution_count": 27,
   "id": "14900340",
   "metadata": {},
   "outputs": [],
   "source": [
    "tokenizer_bert = BertTokenizer.from_pretrained('bert-base-uncased')"
   ]
  },
  {
   "cell_type": "code",
   "execution_count": 39,
   "id": "2dd0f4a0",
   "metadata": {},
   "outputs": [
    {
     "data": {
      "text/plain": [
       "{'input_ids': [101, 2002, 102, 2003, 102], 'token_type_ids': [0, 0, 0, 1, 1], 'attention_mask': [1, 1, 1, 1, 1]}"
      ]
     },
     "execution_count": 39,
     "metadata": {},
     "output_type": "execute_result"
    }
   ],
   "source": [
    "tokenizer_bert.encode_plus('he', text_pair='is', add_special_tokens=True)"
   ]
  },
  {
   "cell_type": "code",
   "execution_count": 34,
   "id": "3f7e2596",
   "metadata": {},
   "outputs": [
    {
     "data": {
      "text/plain": [
       "[2002, 2003]"
      ]
     },
     "execution_count": 34,
     "metadata": {},
     "output_type": "execute_result"
    }
   ],
   "source": [
    "tokenizer_bert.encode('he is', add_special_tokens=False)"
   ]
  },
  {
   "cell_type": "code",
   "execution_count": 53,
   "id": "1167dfa8",
   "metadata": {},
   "outputs": [
    {
     "data": {
      "text/plain": [
       "[40, 716]"
      ]
     },
     "execution_count": 53,
     "metadata": {},
     "output_type": "execute_result"
    }
   ],
   "source": [
    "tokenizer.encode('I am')"
   ]
  },
  {
   "cell_type": "code",
   "execution_count": 49,
   "id": "99730c99",
   "metadata": {},
   "outputs": [
    {
     "data": {
      "text/plain": [
       "50256"
      ]
     },
     "execution_count": 49,
     "metadata": {},
     "output_type": "execute_result"
    }
   ],
   "source": [
    "tokenizer.sep_token_id"
   ]
  },
  {
   "cell_type": "code",
   "execution_count": null,
   "id": "365fda1f",
   "metadata": {},
   "outputs": [],
   "source": []
  },
  {
   "cell_type": "code",
   "execution_count": 40,
   "id": "0139c8ae",
   "metadata": {},
   "outputs": [
    {
     "data": {
      "text/plain": [
       "['<|endoftext|>', '<|endoftext|>', '<|endoftext|>']"
      ]
     },
     "execution_count": 40,
     "metadata": {},
     "output_type": "execute_result"
    }
   ],
   "source": [
    "tokenizer.all_special_tokens"
   ]
  }
 ],
 "metadata": {
  "kernelspec": {
   "display_name": "Python 3",
   "language": "python",
   "name": "python3"
  },
  "language_info": {
   "codemirror_mode": {
    "name": "ipython",
    "version": 3
   },
   "file_extension": ".py",
   "mimetype": "text/x-python",
   "name": "python",
   "nbconvert_exporter": "python",
   "pygments_lexer": "ipython3",
   "version": "3.7.10"
  }
 },
 "nbformat": 4,
 "nbformat_minor": 5
}
