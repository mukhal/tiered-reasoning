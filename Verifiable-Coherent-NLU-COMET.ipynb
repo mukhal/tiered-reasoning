{
 "cells": [
  {
   "cell_type": "markdown",
   "metadata": {
    "id": "XL9AU7zTgP9n"
   },
   "source": [
    "### **Toward Consistent, Verifiable, and Coherent Commonsense Reasoning in Large LMs**\n",
    "\n",
    "This notebook provides source code for our two papers in Findings of EMNLP 2021:\n",
    "\n",
    "\n",
    "1.  Shane Storks, Qiaozi Gao, Yichi Zhang, and Joyce Y. Chai (2021). *Tiered Reasoning for Intuitive Physics: Toward Verifiable Commonsense Language Understanding.* Findings of EMNLP 2021.\n",
    "2.   Shane Storks and Joyce Y. Chai (2021). *Beyond the Tip of the Iceberg: Assessing Coherence of Text Classifiers.* Findings of EMNLP 2021.\n",
    "\n",
    "*If you have any questions or problems, please open an issue on our [GitHub repo](https://github.com/sled-group/Verifiable-Coherent-NLU) or email Shane Storks.*\n",
    "\n",
    "***First, configure the execution mode by selecting a few settings (expand cell if needed):***\n",
    "\n",
    "\n"
   ]
  },
  {
   "cell_type": "markdown",
   "metadata": {
    "id": "ct4cd2_TFYDk"
   },
   "source": [
    "   0. (Colab only) Insert the path in your Google Drive to the folder where this notebook is located."
   ]
  },
  {
   "cell_type": "markdown",
   "metadata": {
    "id": "yxzL0hhHAHzN"
   },
   "source": [
    "1.   Model type (choose from BERT large, RoBERTa large, RoBERTa large + MNLI, DeBERTa base, and DeBERTa large).\n",
    "\n",
    "\n",
    "\n",
    "\n"
   ]
  },
  {
   "cell_type": "code",
   "execution_count": 1,
   "metadata": {
    "id": "FFNe6vlTaHsP"
   },
   "outputs": [],
   "source": [
    "mode = 'roberta' # RoBERTa large\n",
    "import os\n",
    "os.environ['CUDA_VISIBLE_DEVICES'] = '1,2'\n",
    "task_name = 'trip'\n",
    "# task_name = 'ce'\n",
    "# task_name = 'art'\n",
    "\n",
    "debug = False"
   ]
  },
  {
   "cell_type": "markdown",
   "metadata": {
    "id": "KbJ-XeY1aCpD"
   },
   "source": [
    "2.   Name of the task we want to train or evaluate on. Set `debug` to `True` to run quick training/evaluation jobs on only a small amount of data."
   ]
  },
  {
   "cell_type": "markdown",
   "metadata": {
    "id": "aoWKXfQBd435"
   },
   "source": [
    "3.   (If training models) Training batch size, learning rate, and maximum number of epochs. Settings for results in the paper are provided as examples."
   ]
  },
  {
   "cell_type": "code",
   "execution_count": 2,
   "metadata": {
    "id": "UyFFcZtkeKwT"
   },
   "outputs": [],
   "source": [
    "config_batch_size = 1\n",
    "config_lr = 1e-5 # Selected learning rate for best RoBERTa-based model in TRIP paper\n",
    "config_epochs = 10"
   ]
  },
  {
   "cell_type": "markdown",
   "metadata": {
    "id": "hH9a70CTaGpG"
   },
   "source": [
    "4.   (For training TRIP models only) Configure the loss weighting scheme for training models here. We provide the 4 modes from the paper as examples.\n"
   ]
  },
  {
   "cell_type": "code",
   "execution_count": 3,
   "metadata": {
    "id": "UvQEiNBSACak"
   },
   "outputs": [],
   "source": [
    "# Loss weights for (attributes, preconditions, effects, conflicts, story choices)\n",
    "if task_name != 'trip':\n",
    "  print(\"We do not need a loss weighting scheme for %s dataset. Ignoring this cell.\" % task_name)\n",
    "#loss_weights = [0.0, 0.4, 0.4, 0.1, 0.1] # \"All losses\"\n",
    "loss_weights = [0.0, 0.4, 0.4, 0.2, 0.0] # \"Omit story choice loss\"\n",
    "# loss_weights = [0.0, 0.4, 0.4, 0.0, 0.2] # \"Omit conflict detection loss\"\n",
    "# loss_weights = [0.0, 0.0, 0.0, 0.5, 0.5] # \"Omit state classification losses\""
   ]
  },
  {
   "cell_type": "markdown",
   "metadata": {
    "id": "zmpchQTIg3HZ"
   },
   "source": [
    "   5. (If evaluating models) Provide the name of the pre-trained model directory here. This should be the name of a directory within the *saved_models* directory, which should be located where this notebook is. Names of provided pre-trained model directories are listed."
   ]
  },
  {
   "cell_type": "code",
   "execution_count": 1,
   "metadata": {
    "id": "W8tH7UMZhI1N"
   },
   "outputs": [],
   "source": [
    "# TRIP, all losses\n",
    "# eval_model_dir = 'bert-large-uncased_cloze_1_5e-06_4_0.0-0.4-0.4-0.1-0.1_tiered_pipeline_ablate_attributes_states-logits'\n",
    "# eval_model_dir = 'roberta-large_cloze_1_1e-05_7_0.0-0.4-0.4-0.1-0.1_tiered_pipeline_ablate_attributes_states-logits'\n",
    "# eval_model_dir = 'microsoft-deberta-base_cloze_1_5e-06_5_0.0-0.4-0.4-0.1-0.1_tiered_pipeline_ablate_attributes_states-logits'\n",
    "\n",
    "# TRIP, no story classification loss\n",
    "# eval_model_dir = 'bert-large-uncased_cloze_1_5e-05_8_0.0-0.4-0.4-0.2-0.0_tiered_pipeline_ablate_attributes_states-logits'\n",
    "#eval_model_dir = 'COMET-max-pooling_cloze_1_1e-05_5_0.0-0.4-0.4-0.2-0.0_tiered_pipeline_lc_ablate_attributes_states-logits' # Best model trained in the TRIP paper\n",
    "# eval_model_dir = 'microsoft-deberta-base_cloze_1_5e-05_5_0.0-0.4-0.4-0.2-0.0_tiered_pipeline_ablate_attributes_states-logits'\n",
    "eval_model_dir = 'roberta-base_cloze_1_1e-05_7_0.0-0.4-0.4-0.1-0.1_tiered_pipeline_ablate_attributes_states-logits'\n",
    "\n",
    "# TRIP, no conflict detection loss\n",
    "# eval_model_dir = 'bert-large-uncased_cloze_1_1e-06_1_0.0-0.4-0.4-0.0-0.2_tiered_pipeline_ablate_attributes_states-logits'\n",
    "# eval_model_dir = 'roberta-large_cloze_1_5e-06_8_0.0-0.4-0.4-0.0-0.2_tiered_pipeline_ablate_attributes_states-logits'\n",
    "# eval_model_dir = 'microsoft-deberta-base_cloze_1_1e-06_3_0.0-0.4-0.4-0.0-0.2_tiered_pipeline_ablate_attributes_states-logits'\n",
    "\n",
    "# TRIP, no physical state classification loss\n",
    "# eval_model_dir = 'bert-large-uncased_cloze_1_1e-05_3_0.0-0.0-0.0-0.5-0.5_tiered_pipeline_ablate_attributes_states-logits'\n",
    "# eval_model_dir = 'roberta-large_cloze_1_1e-06_7_0.0-0.0-0.0-0.5-0.5_tiered_pipeline_ablate_attributes_states-logits'\n",
    "# eval_model_dir = 'microsoft-deberta-base_cloze_1_5e-06_9_0.0-0.0-0.0-0.5-0.5_tiered_pipeline_ablate_attributes_states-logits'\n",
    "\n",
    "# CE\n",
    "# eval_model_dir = 'bert-large-uncased_ConvEnt_32_7.5e-06_7_xval'\n",
    "# eval_model_dir = 'roberta-large_ConvEnt_32_7.5e-06_9_xval'\n",
    "# eval_model_dir = 'roberta-large-mnli_ConvEnt_32_7.5e-06_7_xval'\n",
    "# eval_model_dir = 'microsoft-deberta-large_ConvEnt_16_1e-05_9_xval'\n",
    "\n",
    "# ART\n",
    "# eval_model_dir = 'bert-large-uncased_art_64_5e-06_8'\n",
    "# eval_model_dir = 'roberta-large_art_64_2.5e-06_4'\n",
    "# eval_model_dir = 'DeBERTa-deberta-large_art_32_1e-06_8'"
   ]
  },
  {
   "cell_type": "markdown",
   "metadata": {
    "id": "3GA5VS3Sfgfz"
   },
   "source": [
    "**For more configuration options, scroll down to the Train Models > Configure Hyperparameters cell for the task you're working on.**"
   ]
  },
  {
   "cell_type": "markdown",
   "metadata": {
    "id": "qqvj34KhLL0k"
   },
   "source": [
    "# Setup\n",
    "Run this block every time when starting up the notebook. It will get Colab ready, preprocess the data, and load model packages and classes we'll need later. May take several minutes to run for the first time.\n",
    "\n",
    "**If you get a `ModuleNotFoundError` for the `www` code base, try the following:**\n",
    "\n",
    "\n",
    "1.   Ensure the DRIVE_PATH is set properly above.\n",
    "2.   (Colab only) Verify that this notebook has access to your Google Drive (click the folder icon on the left and then the Google Drive icon).\n",
    "2.   Try to restart the runtime and refresh your browser window.\n",
    "2.   (Colab only) If the problem persists, revoke access to Google Drive and re-enable it.\n",
    "\n",
    "\n",
    "\n"
   ]
  },
  {
   "cell_type": "markdown",
   "metadata": {
    "id": "xm7qzKnAnbU9"
   },
   "source": [
    "## Colab Setup\n",
    "\n",
    "Enable auto reloading of code libraries from Google Drive, set up connection to Google Drive, and import some packages. 🔌"
   ]
  },
  {
   "cell_type": "code",
   "execution_count": 71,
   "metadata": {
    "colab": {
     "base_uri": "https://localhost:8080/"
    },
    "executionInfo": {
     "elapsed": 5,
     "status": "ok",
     "timestamp": 1631304597639,
     "user": {
      "displayName": "Shane Storks",
      "photoUrl": "https://lh3.googleusercontent.com/a-/AOh14Gh8CqjwUclCWWIoFwUB05rZNHwyd6nEIrTXC6RVXw=s64",
      "userId": "00590987742306216924"
     },
     "user_tz": 240
    },
    "id": "U8h8hUVaqySd",
    "outputId": "6cd18c92-af82-4446-81e2-ef91e34d61f8"
   },
   "outputs": [
    {
     "name": "stdout",
     "output_type": "stream",
     "text": [
      "The autoreload extension is already loaded. To reload it, use:\n",
      "  %reload_ext autoreload\n"
     ]
    }
   ],
   "source": [
    "%load_ext autoreload\n",
    "%autoreload 2"
   ]
  },
  {
   "cell_type": "code",
   "execution_count": 72,
   "metadata": {},
   "outputs": [],
   "source": [
    "%reload_ext autoreload"
   ]
  },
  {
   "cell_type": "code",
   "execution_count": 7,
   "metadata": {
    "colab": {
     "base_uri": "https://localhost:8080/"
    },
    "executionInfo": {
     "elapsed": 3429,
     "status": "ok",
     "timestamp": 1631304601236,
     "user": {
      "displayName": "Shane Storks",
      "photoUrl": "https://lh3.googleusercontent.com/a-/AOh14Gh8CqjwUclCWWIoFwUB05rZNHwyd6nEIrTXC6RVXw=s64",
      "userId": "00590987742306216924"
     },
     "user_tz": 240
    },
    "id": "P3dNQeNNnkHD",
    "outputId": "a9eaffd8-a622-496b-c5e0-80d5728c382b"
   },
   "outputs": [
    {
     "name": "stdout",
     "output_type": "stream",
     "text": [
      "Requirement already satisfied: jsonlines in /home/khalifam/anaconda3/envs/py377/lib/python3.7/site-packages (3.0.0)\r\n",
      "Requirement already satisfied: typing-extensions in /home/khalifam/anaconda3/envs/py377/lib/python3.7/site-packages (from jsonlines) (3.10.0.2)\r\n",
      "Requirement already satisfied: attrs>=19.2.0 in /home/khalifam/anaconda3/envs/py377/lib/python3.7/site-packages (from jsonlines) (21.2.0)\r\n"
     ]
    }
   ],
   "source": [
    "import os\n",
    "import json\n",
    "import sys\n",
    "import torch\n",
    "import random\n",
    "import numpy as np\n",
    "import spacy\n",
    "!pip install jsonlines\n",
    "\n",
    "sys.path.append('.')"
   ]
  },
  {
   "cell_type": "markdown",
   "metadata": {
    "id": "zQLB_Y-wSsfk"
   },
   "source": [
    "## Model Setup\n",
    "\n",
    "Next, we'll load up the transformer model, tokenizer, etc. ⏳"
   ]
  },
  {
   "cell_type": "markdown",
   "metadata": {
    "id": "Z4LFuLhzAa2j"
   },
   "source": [
    "### Get Model Components"
   ]
  },
  {
   "cell_type": "markdown",
   "metadata": {
    "id": "2ZhhgV9c__TU"
   },
   "source": [
    "Specify which model parameters from transformers we want to use:"
   ]
  },
  {
   "cell_type": "code",
   "execution_count": 8,
   "metadata": {
    "id": "uA6XunCb_gd9"
   },
   "outputs": [],
   "source": [
    "if task_name in ['trip', 'ce']:\n",
    "  multiple_choice = False\n",
    "elif task_name == 'art':\n",
    "  multiple_choice = True\n",
    "else:\n",
    "  raise ValueError(\"Task name should be set to 'trip', 'ce', or 'art' in the first cell of the notebook!\")\n",
    "\n",
    "if mode == 'bert':\n",
    "  model_name = 'bert-large-uncased'\n",
    "elif mode == 'roberta':\n",
    "  model_name = 'roberta-large'\n",
    "elif mode == 'roberta_mnli':\n",
    "  model_name = 'roberta-large-mnli'\n",
    "elif mode == 'deberta':\n",
    "  model_name = 'microsoft/deberta-base'\n",
    "elif mode == 'deberta_large':\n",
    "  model_name = 'microsoft/deberta-large'"
   ]
  },
  {
   "cell_type": "markdown",
   "metadata": {
    "id": "hgFIl1MJ-185"
   },
   "source": [
    "Load the tokenizer:"
   ]
  },
  {
   "cell_type": "code",
   "execution_count": 9,
   "metadata": {
    "id": "etkxf75f-9Gj"
   },
   "outputs": [],
   "source": [
    "from transformers import BertTokenizer, RobertaTokenizer, DebertaTokenizer, AlbertTokenizer, T5Tokenizer, GPT2Tokenizer\n",
    "\n",
    "from DeBERTa import deberta\n",
    "if mode in ['bert']:\n",
    "  tokenizer_class = BertTokenizer\n",
    "elif mode in ['roberta', 'roberta_mnli']:\n",
    "  tokenizer_class = RobertaTokenizer\n",
    "elif mode in ['deberta', 'deberta_large']:\n",
    "  tokenizer_class = DebertaTokenizer\n",
    "\n",
    "tokenizer = tokenizer_class.from_pretrained(model_name, \n",
    "                                                do_lower_case = False, \n",
    "                                                cache_dir=os.path.join('.', 'cache'))"
   ]
  },
  {
   "cell_type": "markdown",
   "metadata": {
    "id": "d0iYZG6bBGIf"
   },
   "source": [
    "Load the model and optimizer:\n",
    "\n"
   ]
  },
  {
   "cell_type": "code",
   "execution_count": 10,
   "metadata": {
    "id": "1PxFghcDBPm_"
   },
   "outputs": [],
   "source": [
    "from transformers import BertForSequenceClassification, RobertaForSequenceClassification, DebertaForSequenceClassification, AlbertForSequenceClassification, AdamW\n",
    "from transformers import BertForMultipleChoice, RobertaForMultipleChoice, AlbertForMultipleChoice, DebertaModel\n",
    "from transformers import BertModel, RobertaModel, AlbertModel, DebertaModel, T5Model, T5EncoderModel, GPT2Model\n",
    "from transformers import RobertaForMaskedLM\n",
    "from transformers import BertConfig, RobertaConfig, DebertaConfig, AlbertConfig, T5Config, GPT2Config\n",
    "from www.model.transformers_ext import DebertaForMultipleChoice\n",
    "from torch.optim import Adam\n",
    "if not multiple_choice:\n",
    "  if mode == 'bert':\n",
    "    model_class = BertForSequenceClassification\n",
    "    config_class = BertConfig\n",
    "    emb_class = BertModel\n",
    "  elif mode in ['roberta', 'roberta_mnli']:\n",
    "    model_class = RobertaForSequenceClassification\n",
    "    config_class = RobertaConfig\n",
    "    emb_class = RobertaModel\n",
    "    lm_class = RobertaForMaskedLM\n",
    "  elif mode in ['deberta', 'deberta_large']:\n",
    "    model_class = DebertaForSequenceClassification\n",
    "    config_class = DebertaConfig\n",
    "    emb_class = DebertaModel\n",
    "else:\n",
    "  if mode == 'bert':\n",
    "    model_class = BertForMultipleChoice\n",
    "    config_class = BertConfig\n",
    "    emb_class = BertModel    \n",
    "  elif mode in ['roberta', 'roberta_mnli']:\n",
    "    model_class = RobertaForMultipleChoice\n",
    "    config_class = RobertaConfig\n",
    "    emb_class = RobertaModel\n",
    "    lm_class = RobertaForMaskedLM\n",
    "  elif mode in ['deberta', 'deberta_large']:\n",
    "    model_class = DebertaForMultipleChoice\n",
    "    config_class = DebertaConfig\n",
    "    emb_class = DebertaModel"
   ]
  },
  {
   "cell_type": "markdown",
   "metadata": {
    "id": "QzFnAVtuUmpQ"
   },
   "source": [
    "## Data Setup\n",
    "\n",
    "Preprocess the dataset."
   ]
  },
  {
   "cell_type": "markdown",
   "metadata": {
    "id": "lKY0hTEgnQgB"
   },
   "source": [
    "### Preprocessing\n",
    "\n",
    "Construct the dataset from the .txt files collected from AMT. Save a backup copy in Drive."
   ]
  },
  {
   "cell_type": "code",
   "execution_count": 11,
   "metadata": {},
   "outputs": [],
   "source": [
    "DRIVE_PATH = '.'"
   ]
  },
  {
   "cell_type": "code",
   "execution_count": 12,
   "metadata": {
    "colab": {
     "base_uri": "https://localhost:8080/"
    },
    "executionInfo": {
     "elapsed": 4250,
     "status": "ok",
     "timestamp": 1631304619289,
     "user": {
      "displayName": "Shane Storks",
      "photoUrl": "https://lh3.googleusercontent.com/a-/AOh14Gh8CqjwUclCWWIoFwUB05rZNHwyd6nEIrTXC6RVXw=s64",
      "userId": "00590987742306216924"
     },
     "user_tz": 240
    },
    "id": "aE-LOkJ4nWuu",
    "outputId": "61921ed0-f763-4280-d0ea-5979458d51ca"
   },
   "outputs": [
    {
     "name": "stdout",
     "output_type": "stream",
     "text": [
      "Preprocessed examples:\n",
      "dict_keys(['h_location', 'conscious', 'wearing', 'h_wet', 'hygiene', 'location', 'exist', 'clean', 'power', 'functional', 'pieces', 'wet', 'open', 'temperature', 'solid', 'contain', 'running', 'moveable', 'mixed', 'edible'])\n"
     ]
    }
   ],
   "source": [
    "from www.utils import print_dict\n",
    "\n",
    "partitions = ['train', 'dev', 'test']\n",
    "subtasks = ['cloze', 'order']\n",
    "\n",
    "# We can split the data into multiple json files later\n",
    "data_file = os.path.join(DRIVE_PATH, 'all_data/www.json')\n",
    "with open(data_file, 'r') as f:\n",
    "  dataset = json.load(f)\n",
    "\n",
    "print('Preprocessed examples:')\n",
    "for ex_idx in [0]:\n",
    "  ex = dataset['dev'][list(dataset['dev'].keys())[ex_idx]]\n",
    "  print(ex['states'][0].keys())"
   ]
  },
  {
   "cell_type": "markdown",
   "metadata": {
    "id": "k_0WsycpFMdb"
   },
   "source": [
    "### Data Filtering and Sampling\n",
    "Since there is a big imbalance between plausible/implausible class labels, we will upsample the plausible stories.\n",
    "\n",
    "For now, we will also break the dataset into two sub-datasets: cloze and ordering.\n",
    "\n"
   ]
  },
  {
   "cell_type": "code",
   "execution_count": 13,
   "metadata": {
    "id": "-twYzY5rF1Mi"
   },
   "outputs": [],
   "source": [
    "cloze_dataset = {p: [] for p in dataset}\n",
    "order_dataset = {p: [] for p in dataset}\n",
    "\n",
    "for p in dataset:\n",
    "  for exid in dataset[p]:\n",
    "    ex = dataset[p][exid]\n",
    "\n",
    "    if ex['type'] == None:\n",
    "      continue\n",
    "    \n",
    "    ex_plaus = dataset[p][str(ex['story_id'])]\n",
    "\n",
    "    if ex['type'] == 'cloze':\n",
    "      cloze_dataset[p].append(ex)\n",
    "      cloze_dataset[p].append(ex_plaus) # For every implausible story, add a copy of its corresponding plausible story\n",
    "\n",
    "    # Exclude augmented ordering examples from dev and test, since the breakpoints aren't always accurate in those\n",
    "    elif ex['type'] == 'order' and not (p != 'train' and ex['aug']): \n",
    "      order_dataset[p].append(ex)\n",
    "      order_dataset[p].append(ex_plaus)"
   ]
  },
  {
   "cell_type": "markdown",
   "metadata": {
    "id": "Cz5tcmScJrka"
   },
   "source": [
    "\n",
    "\n",
    "### Convert TRIP to Two-Story Classification Task\n",
    "\n",
    "Ready the TRIP dataset for two-story classification."
   ]
  },
  {
   "cell_type": "code",
   "execution_count": 14,
   "metadata": {
    "colab": {
     "base_uri": "https://localhost:8080/"
    },
    "executionInfo": {
     "elapsed": 3982,
     "status": "ok",
     "timestamp": 1631304623775,
     "user": {
      "displayName": "Shane Storks",
      "photoUrl": "https://lh3.googleusercontent.com/a-/AOh14Gh8CqjwUclCWWIoFwUB05rZNHwyd6nEIrTXC6RVXw=s64",
      "userId": "00590987742306216924"
     },
     "user_tz": 240
    },
    "id": "Af976ygKJv7W",
    "outputId": "8335b25d-0f7b-4404-db5c-2dbc4f65b2f8"
   },
   "outputs": [
    {
     "name": "stdout",
     "output_type": "stream",
     "text": [
      "Cloze label distribution (train):\n",
      "[(1, 400), (0, 399)]\n",
      "Cloze label distribution (dev):\n",
      "[(0, 161), (1, 161)]\n",
      "Cloze label distribution (test):\n",
      "[(1, 176), (0, 175)]\n",
      "{\n",
      "  example_id: \n",
      "    0-C0,\n",
      "  stories: \n",
      "    [\n",
      "      {'story_id': 0, 'worker_id': 'A1F01FVEPYCPHO', 'type': 'cloze', 'idx': 0, 'aug': False, 'actor': 'Tom', 'location': 'kitchen', 'objects': 'dustbin, microwave, pan, plate, cereal, soup', 'sentences': ['Tom bought a new dustbin for the kitchen.', 'Tom threw a broken plate in the dustbin.', 'Tom got some soup from the fridge.', 'Tom put the soup in the microwave.', 'Tom ate the cold soup.'], 'length': 5, 'example_id': '0-C0', 'plausible': False, 'breakpoint': 4, 'confl_sents': [3], 'confl_pairs': [[3, 4]], 'states': [{'h_location': [['Tom', 0]], 'conscious': [['Tom', 2]], 'wearing': [['Tom', 0]], 'h_wet': [['Tom', 0]], 'hygiene': [['Tom', 0]], 'location': [['dustbin', 6]], 'exist': [['dustbin', 4]], 'clean': [['dustbin', 0]], 'power': [['dustbin', 0]], 'functional': [['dustbin', 2]], 'pieces': [['dustbin', 0]], 'wet': [['dustbin', 0]], 'open': [['dustbin', 0]], 'temperature': [['dustbin', 0]], 'solid': [['dustbin', 0]], 'contain': [['dustbin', 0]], 'running': [['dustbin', 0]], 'moveable': [['dustbin', 2]], 'mixed': [['dustbin', 0]], 'edible': [['dustbin', 0]]}, {'h_location': [['Tom', 0]], 'conscious': [['Tom', 2]], 'wearing': [['Tom', 0]], 'h_wet': [['Tom', 0]], 'hygiene': [['Tom', 0]], 'location': [['dustbin', 0], ['plate', 6]], 'exist': [['dustbin', 2], ['plate', 2]], 'clean': [['dustbin', 0], ['plate', 5]], 'power': [['dustbin', 0], ['plate', 0]], 'functional': [['dustbin', 2], ['plate', 1]], 'pieces': [['dustbin', 0], ['plate', 0]], 'wet': [['dustbin', 0], ['plate', 0]], 'open': [['dustbin', 0], ['plate', 0]], 'temperature': [['dustbin', 0], ['plate', 0]], 'solid': [['dustbin', 0], ['plate', 0]], 'contain': [['dustbin', 6], ['plate', 0]], 'running': [['dustbin', 0], ['plate', 0]], 'moveable': [['dustbin', 0], ['plate', 2]], 'mixed': [['dustbin', 0], ['plate', 0]], 'edible': [['dustbin', 0], ['plate', 0]]}, {'h_location': [['Tom', 0]], 'conscious': [['Tom', 2]], 'wearing': [['Tom', 0]], 'h_wet': [['Tom', 0]], 'hygiene': [['Tom', 0]], 'location': [['fridge', 0], ['soup', 2]], 'exist': [['fridge', 2], ['soup', 2]], 'clean': [['fridge', 0], ['soup', 0]], 'power': [['fridge', 0], ['soup', 0]], 'functional': [['fridge', 2], ['soup', 2]], 'pieces': [['fridge', 0], ['soup', 0]], 'wet': [['fridge', 0], ['soup', 0]], 'open': [['fridge', 8], ['soup', 0]], 'temperature': [['fridge', 0], ['soup', 1]], 'solid': [['fridge', 0], ['soup', 0]], 'contain': [['fridge', 8], ['soup', 0]], 'running': [['fridge', 0], ['soup', 0]], 'moveable': [['fridge', 2], ['soup', 2]], 'mixed': [['fridge', 0], ['soup', 0]], 'edible': [['fridge', 0], ['soup', 0]]}, {'h_location': [['Tom', 0]], 'conscious': [['Tom', 2]], 'wearing': [['Tom', 0]], 'h_wet': [['Tom', 0]], 'hygiene': [['Tom', 0]], 'location': [['microwave', 0], ['soup', 3]], 'exist': [['microwave', 2], ['soup', 2]], 'clean': [['microwave', 0], ['soup', 0]], 'power': [['microwave', 2], ['soup', 0]], 'functional': [['microwave', 2], ['soup', 2]], 'pieces': [['microwave', 0], ['soup', 0]], 'wet': [['microwave', 0], ['soup', 0]], 'open': [['microwave', 8], ['soup', 0]], 'temperature': [['microwave', 0], ['soup', 0]], 'solid': [['microwave', 0], ['soup', 0]], 'contain': [['microwave', 6], ['soup', 0]], 'running': [['microwave', 0], ['soup', 0]], 'moveable': [['microwave', 2], ['soup', 2]], 'mixed': [['microwave', 0], ['soup', 0]], 'edible': [['microwave', 0], ['soup', 0]]}, {'h_location': [['Tom', 0]], 'conscious': [['Tom', 2]], 'wearing': [['Tom', 0]], 'h_wet': [['Tom', 0]], 'hygiene': [['Tom', 0]], 'location': [['soup', 1]], 'exist': [['soup', 3]], 'clean': [['soup', 0]], 'power': [['soup', 0]], 'functional': [['soup', 2]], 'pieces': [['soup', 0]], 'wet': [['soup', 0]], 'open': [['soup', 0]], 'temperature': [['soup', 7]], 'solid': [['soup', 0]], 'contain': [['soup', 0]], 'running': [['soup', 0]], 'moveable': [['soup', 2]], 'mixed': [['soup', 0]], 'edible': [['soup', 0]]}]}\n",
      "      {'story_id': 0, 'worker_id': 'A1F01FVEPYCPHO', 'type': None, 'idx': None, 'aug': False, 'actor': 'Tom', 'location': 'kitchen', 'objects': 'dustbin, microwave, pan, plate, cereal, soup', 'sentences': ['Tom bought a new dustbin for the kitchen.', 'Tom threw a broken plate in the dustbin.', 'Tom got some soup from the fridge.', 'Tom put the soup in the microwave.', 'Tom turned on the microwave.'], 'length': 5, 'example_id': '0', 'plausible': True, 'breakpoint': -1, 'confl_sents': [], 'confl_pairs': [], 'states': [{'h_location': [['Tom', 0]], 'conscious': [['Tom', 2]], 'wearing': [['Tom', 0]], 'h_wet': [['Tom', 0]], 'hygiene': [['Tom', 0]], 'location': [['dustbin', 6]], 'exist': [['dustbin', 4]], 'clean': [['dustbin', 0]], 'power': [['dustbin', 0]], 'functional': [['dustbin', 2]], 'pieces': [['dustbin', 0]], 'wet': [['dustbin', 0]], 'open': [['dustbin', 0]], 'temperature': [['dustbin', 0]], 'solid': [['dustbin', 0]], 'contain': [['dustbin', 0]], 'running': [['dustbin', 0]], 'moveable': [['dustbin', 2]], 'mixed': [['dustbin', 0]], 'edible': [['dustbin', 0]]}, {'h_location': [['Tom', 0]], 'conscious': [['Tom', 2]], 'wearing': [['Tom', 0]], 'h_wet': [['Tom', 0]], 'hygiene': [['Tom', 0]], 'location': [['dustbin', 0], ['plate', 6]], 'exist': [['dustbin', 2], ['plate', 2]], 'clean': [['dustbin', 0], ['plate', 5]], 'power': [['dustbin', 0], ['plate', 0]], 'functional': [['dustbin', 2], ['plate', 1]], 'pieces': [['dustbin', 0], ['plate', 0]], 'wet': [['dustbin', 0], ['plate', 0]], 'open': [['dustbin', 0], ['plate', 0]], 'temperature': [['dustbin', 0], ['plate', 0]], 'solid': [['dustbin', 0], ['plate', 0]], 'contain': [['dustbin', 6], ['plate', 0]], 'running': [['dustbin', 0], ['plate', 0]], 'moveable': [['dustbin', 0], ['plate', 2]], 'mixed': [['dustbin', 0], ['plate', 0]], 'edible': [['dustbin', 0], ['plate', 0]]}, {'h_location': [['Tom', 0]], 'conscious': [['Tom', 2]], 'wearing': [['Tom', 0]], 'h_wet': [['Tom', 0]], 'hygiene': [['Tom', 0]], 'location': [['fridge', 0], ['soup', 2]], 'exist': [['fridge', 2], ['soup', 2]], 'clean': [['fridge', 0], ['soup', 0]], 'power': [['fridge', 0], ['soup', 0]], 'functional': [['fridge', 2], ['soup', 2]], 'pieces': [['fridge', 0], ['soup', 0]], 'wet': [['fridge', 0], ['soup', 0]], 'open': [['fridge', 8], ['soup', 0]], 'temperature': [['fridge', 0], ['soup', 1]], 'solid': [['fridge', 0], ['soup', 0]], 'contain': [['fridge', 8], ['soup', 0]], 'running': [['fridge', 0], ['soup', 0]], 'moveable': [['fridge', 2], ['soup', 2]], 'mixed': [['fridge', 0], ['soup', 0]], 'edible': [['fridge', 0], ['soup', 0]]}, {'h_location': [['Tom', 0]], 'conscious': [['Tom', 2]], 'wearing': [['Tom', 0]], 'h_wet': [['Tom', 0]], 'hygiene': [['Tom', 0]], 'location': [['microwave', 0], ['soup', 3]], 'exist': [['microwave', 2], ['soup', 2]], 'clean': [['microwave', 0], ['soup', 0]], 'power': [['microwave', 2], ['soup', 0]], 'functional': [['microwave', 2], ['soup', 2]], 'pieces': [['microwave', 0], ['soup', 0]], 'wet': [['microwave', 0], ['soup', 0]], 'open': [['microwave', 8], ['soup', 0]], 'temperature': [['microwave', 0], ['soup', 0]], 'solid': [['microwave', 0], ['soup', 0]], 'contain': [['microwave', 6], ['soup', 0]], 'running': [['microwave', 0], ['soup', 0]], 'moveable': [['microwave', 2], ['soup', 2]], 'mixed': [['microwave', 0], ['soup', 0]], 'edible': [['microwave', 0], ['soup', 0]]}, {'h_location': [['Tom', 0]], 'conscious': [['Tom', 2]], 'wearing': [['Tom', 0]], 'h_wet': [['Tom', 0]], 'hygiene': [['Tom', 0]], 'location': [['microwave', 0]], 'exist': [['microwave', 2]], 'clean': [['microwave', 0]], 'power': [['microwave', 2]], 'functional': [['microwave', 2]], 'pieces': [['microwave', 0]], 'wet': [['microwave', 0]], 'open': [['microwave', 1]], 'temperature': [['microwave', 0]], 'solid': [['microwave', 0]], 'contain': [['microwave', 2]], 'running': [['microwave', 4]], 'moveable': [['microwave', 2]], 'mixed': [['microwave', 0]], 'edible': [['microwave', 0]]}]}\n",
      "    ],\n",
      "  length: \n",
      "    5,\n",
      "  label: \n",
      "    1,\n",
      "  breakpoint: \n",
      "    4,\n",
      "  confl_sents: \n",
      "    [\n",
      "      3\n",
      "    ],\n",
      "  confl_pairs: \n",
      "    [\n",
      "      [3, 4]\n",
      "    ],\n",
      "}\n",
      "\n",
      "\n"
     ]
    }
   ],
   "source": [
    "from www.utils import print_dict\n",
    "import json\n",
    "from collections import Counter\n",
    "\n",
    "data_file = os.path.join(DRIVE_PATH, 'all_data/www_2s_new.json')\n",
    "with open(data_file, 'r') as f:\n",
    "  cloze_dataset_2s, order_dataset_2s = json.load(f)  \n",
    "\n",
    "for p in cloze_dataset_2s:\n",
    "  label_dist = Counter([ex['label'] for ex in cloze_dataset_2s[p]])\n",
    "  print('Cloze label distribution (%s):' % p)\n",
    "  print(label_dist.most_common())\n",
    "print_dict(cloze_dataset_2s['train'][0])"
   ]
  },
  {
   "cell_type": "markdown",
   "metadata": {
    "id": "BxIYaEobhR7J"
   },
   "source": [
    "---\n",
    "\n",
    "# TRIP Results\n",
    "\n",
    "Contains code for the tiered and random TRIP baselines."
   ]
  },
  {
   "cell_type": "code",
   "execution_count": 15,
   "metadata": {
    "id": "mbUgyE0bbJqn"
   },
   "outputs": [],
   "source": [
    "if task_name != 'trip':\n",
    "  raise ValueError('Please configure task_name in first cell to \"trip\" to run TRIP results!')"
   ]
  },
  {
   "cell_type": "markdown",
   "metadata": {
    "id": "5ctQweSlAceo"
   },
   "source": [
    "## Transformer-Based Tiered Classifier for TRIP with COMET\n",
    "\n",
    "This is the baseline model presented in the paper. Based on the settings above, the below cells can be used for training and evaluating models.\n"
   ]
  },
  {
   "cell_type": "markdown",
   "metadata": {
    "id": "0q-xjfYU_cV8"
   },
   "source": [
    "### Featurization for Tiered Classification\n",
    "\n",
    "Get the data ready for input to the model."
   ]
  },
  {
   "cell_type": "markdown",
   "metadata": {
    "id": "-fQ6wXQIBdq1"
   },
   "source": [
    "### Train Models"
   ]
  },
  {
   "cell_type": "markdown",
   "metadata": {
    "id": "U-BMInyrBdq2"
   },
   "source": [
    "#### Configure Hyperparameters\n",
    "We will perform grid search over (batch size, learning rate). Configure the training sub-task, search space and set the maximum number of training epochs here. Currently configured for re-training the best RoBERTa-based model instance. Read code comments for more information.\n",
    "\n",
    "**Additional configuration options:**\n",
    "* Change the `generate_learning_curve` variable to `True` to generate data for training curves in the style presented in the paper.\n",
    "* You may ablate the input to the Conflict Detector based on a few pre-defined ablation modes. To do so, change the `ablation` variable based on the comments in the code."
   ]
  },
  {
   "cell_type": "code",
   "execution_count": 16,
   "metadata": {
    "id": "tvfTuEYRBdq3"
   },
   "outputs": [],
   "source": [
    "from www.dataset.ann import att_to_idx, att_to_num_classes, att_types\n",
    "\n",
    "subtask = 'cloze'\n",
    "batch_sizes = [config_batch_size]\n",
    "learning_rates = [config_lr]\n",
    "epochs = config_epochs\n",
    "eval_batch_size = 16\n",
    "generate_learning_curve = False # Generate data for training curve figure in TRIP paper\n",
    "\n",
    "num_state_labels = {}\n",
    "for att in att_to_idx:\n",
    "  if att_types[att] == 'default':\n",
    "    num_state_labels[att_to_idx[att]] = 3\n",
    "  else:\n",
    "    num_state_labels[att_to_idx[att]] = att_to_num_classes[att] # Location attributes fall into this since they don't have well-define pre- and post-condition yet\n",
    "\n",
    "# Ablation options:\n",
    "# - attributes: skip attribute prediction phase\n",
    "# - embeddings: DON'T input contextual embeddings to conflict detector\n",
    "# - states: DON'T input states to conflict detector\n",
    "# - states-labels: in states input to conflict detector, include predicted labels\n",
    "# - states-logits: in states input to conflict detector, include state logits (preferred)\n",
    "# - states-teacher-forcing: train conflict detector on ground truth state labels (not predictions)\n",
    "# - states-attention: re-weight input to conflict detector with weights conditioned on states representation\n",
    "ablation = ['attributes', 'states-logits'] # This is the default mode presented in the paper"
   ]
  },
  {
   "cell_type": "markdown",
   "metadata": {
    "id": "8fRC3cnLBdq3"
   },
   "source": [
    "#### Perform Grid Search\n",
    "\n",
    "Perform hyperparameter tuning to find the best story classification model.\n"
   ]
  },
  {
   "cell_type": "code",
   "execution_count": 19,
   "metadata": {},
   "outputs": [],
   "source": [
    "## Load COMET Model \n",
    "sys.path.append('../comet-commonsense/')\n",
    "\n",
    "import src.data.data as data\n",
    "import src.data.config as cfg\n",
    "import src.interactive.functions as interactive\n",
    "import utils.utils as utils\n",
    "from src.data.utils import TextEncoder\n",
    "from src.interactive.functions import set_atomic_inputs\n",
    "import src.models.utils as comet_utils"
   ]
  },
  {
   "cell_type": "code",
   "execution_count": 20,
   "metadata": {},
   "outputs": [
    {
     "name": "stdout",
     "output_type": "stream",
     "text": [
      "Loading data from: ../comet-commonsense/data/atomic/processed/generation/categories_oEffect#oReact#oWant#xAttr#xEffect#xIntent#xNeed#xReact#xWant-maxe1_17-maxe2_35-maxr_1.pickle\n",
      "52\n"
     ]
    }
   ],
   "source": [
    "COMET_MODEL_FILE= '../comet-commonsense/models/pretrained/pretrained_models/atomic_pretrained_model.pickle'\n",
    "opt, state_dict = interactive.load_model_file(COMET_MODEL_FILE)\n",
    "atomic_data_loader, atomic_text_encoder = interactive.load_data(\"atomic\", opt,\n",
    "                                                  data_dir='../comet-commonsense/data/atomic/processed/generation',\n",
    "                                                 vocab_dir='../comet-commonsense/model/')\n",
    "n_ctx = atomic_data_loader.max_event + atomic_data_loader.max_effect\n",
    "n_vocab = len(atomic_text_encoder.encoder) + n_ctx\n",
    "comet_model = interactive.make_model(opt, n_vocab, n_ctx, state_dict).cuda()"
   ]
  },
  {
   "cell_type": "code",
   "execution_count": 46,
   "metadata": {},
   "outputs": [],
   "source": [
    "def format_sentence_for_atomic(sentence, object, data_loader, text_encoder, \n",
    "                              format='concat'):\n",
    "    \n",
    "    if format =='concat':\n",
    "        sentence_ids, suffix = data.atomic_data.do_example(text_encoder, sentence, None, True, None)\n",
    "\n",
    "        object = '<obj> ' + object\n",
    "        object_ids, _ = data.atomic_data.do_example(text_encoder, object, None, True, None)\n",
    "\n",
    "        batch = {}\n",
    "        batch[\"sequences\"] = sentence_ids + object_ids\n",
    "    \n",
    "    elif format == 'comet':\n",
    "        \n",
    "        batch = set_atomic_inputs( object + ' <SEP> ' + sentence, \n",
    "                              category='xEffect',\n",
    "                              data_loader=atomic_data_loader, \n",
    "                              text_encoder=atomic_text_encoder) \n",
    "        batch[\"sequences\"] = batch[\"sequences\"].numpy().tolist()[0]\n",
    "        del batch[\"attention_mask\"]\n",
    "\n",
    "    return batch"
   ]
  },
  {
   "cell_type": "code",
   "execution_count": 47,
   "metadata": {},
   "outputs": [
    {
     "data": {
      "text/plain": [
       "{'sequences': [8441,\n",
       "  295,\n",
       "  559,\n",
       "  262,\n",
       "  290,\n",
       "  6392,\n",
       "  4880,\n",
       "  481,\n",
       "  8441,\n",
       "  0,\n",
       "  0,\n",
       "  0,\n",
       "  0,\n",
       "  0,\n",
       "  0,\n",
       "  0,\n",
       "  0,\n",
       "  40484]}"
      ]
     },
     "execution_count": 47,
     "metadata": {},
     "output_type": "execute_result"
    }
   ],
   "source": [
    "format_sentence_for_atomic('Ann Cracked the egg', object='egg', data_loader=atomic_data_loader,\n",
    "                          text_encoder=atomic_text_encoder, format='comet')"
   ]
  },
  {
   "cell_type": "code",
   "execution_count": 23,
   "metadata": {},
   "outputs": [
    {
     "data": {
      "text/plain": [
       "{'sequences': [295, 34, 4497, 290, 295, 1249, 266, 290]}"
      ]
     },
     "execution_count": 23,
     "metadata": {},
     "output_type": "execute_result"
    }
   ],
   "source": [
    "format_sentence_for_atomic('<xEffect>', object='', \n",
    "                  data_loader=atomic_data_loader, \n",
    "                  text_encoder=atomic_text_encoder)"
   ]
  },
  {
   "cell_type": "code",
   "execution_count": 53,
   "metadata": {},
   "outputs": [
    {
     "data": {
      "text/plain": [
       "{'sequences': [6392, 4880, 531, 8441, 295, 1249, 266, 290, 8441]}"
      ]
     },
     "execution_count": 53,
     "metadata": {},
     "output_type": "execute_result"
    }
   ],
   "source": [
    "format_sentence_for_atomic('Ann cracked an egg', object='egg', \n",
    "                  data_loader=atomic_data_loader, \n",
    "                  text_encoder=atomic_text_encoder)"
   ]
  },
  {
   "cell_type": "code",
   "execution_count": 73,
   "metadata": {},
   "outputs": [],
   "source": [
    "import progressbar\n",
    "\n",
    "def add_comet_features_tiered(dataset, tokenizer, seq_length):\n",
    "  max_story_length = max([len(ex['sentences']) for p in dataset for ex_2s in dataset[p] for ex in ex_2s['stories']])\n",
    "  for p in dataset:\n",
    "    bar_size = len(dataset[p])\n",
    "    bar = progressbar.ProgressBar(max_value=bar_size, widgets=[progressbar.Bar('=', '[', ']'), ' ', progressbar.Percentage()])\n",
    "    bar_idx = 0\n",
    "    bar.start()\n",
    "    for i, ex_2s in enumerate(dataset[p]):\n",
    "      for s_idx, ex_1s in enumerate(ex_2s['stories']):\n",
    "        for ent_idx, ex in enumerate(ex_1s['entities']):\n",
    "          exid = ex['example_id']\n",
    "\n",
    "          # Generate inputs for each sentence\n",
    "          all_input_ids = np.zeros((max_story_length, seq_length))\n",
    "          all_input_mask = np.zeros((max_story_length, seq_length))\n",
    "\n",
    "          for j, sent in enumerate(ex['sentences']):\n",
    "            inputs = format_sentence_for_atomic(sent, ex['entity'],\n",
    "                                                atomic_data_loader, \n",
    "                                                atomic_text_encoder,\n",
    "                                               format='concat')\n",
    "            input_ids = inputs['sequences']\n",
    "\n",
    "            # Don't want to truncate any data\n",
    "            assert len(input_ids) <= seq_length, \"%d is larger than %d\" % (len(input_ids), seq_length)\n",
    "\n",
    "            # Pad to sequence length of 128\n",
    "            padding_length = seq_length - len(input_ids)\n",
    "            input_length = len(input_ids)\n",
    "            input_ids = input_ids + ([0] * padding_length)\n",
    "            all_input_ids[j, :] = input_ids\n",
    "\n",
    "            attention_mask = [1] * input_length + ([0] * padding_length) # Mask will zero out padding tokens\n",
    "            all_input_mask[j, :] = attention_mask\n",
    "\n",
    "            assert len(input_ids) == len(attention_mask) == seq_length\n",
    "        \n",
    "          dataset[p][i]['stories'][s_idx]['entities'][ent_idx]['input_ids'] = all_input_ids\n",
    "          dataset[p][i]['stories'][s_idx]['entities'][ent_idx]['input_mask'] = all_input_mask\n",
    "\n",
    "      bar_idx += 1\n",
    "      bar.update(bar_idx)\n",
    "    bar.finish()\n",
    "\n",
    "  return dataset  \n"
   ]
  },
  {
   "cell_type": "code",
   "execution_count": 74,
   "metadata": {},
   "outputs": [
    {
     "name": "stderr",
     "output_type": "stream",
     "text": [
      "[========================================================================] 100%\n",
      "[========================================================================] 100%\n",
      "[========================================================================] 100%\n"
     ]
    }
   ],
   "source": [
    "from www.dataset.prepro import get_tiered_data, balance_labels\n",
    "from www.dataset.featurize import add_bert_features_tiered, get_tensor_dataset_tiered\n",
    "from collections import Counter\n",
    "\n",
    "tiered_dataset = cloze_dataset_2s\n",
    "\n",
    "# Debug the code on a small amount of data\n",
    "if debug:\n",
    "  for k in tiered_dataset:\n",
    "    tiered_dataset[k] = tiered_dataset[k][:10]\n",
    "\n",
    "# train_spans = True\n",
    "train_spans = False\n",
    "if train_spans:\n",
    "  tiered_dataset = get_story_spans_2s(tiered_dataset, train_only=True)\n",
    "  tiered_dataset['train'] = [ex for ex in tiered_dataset['train'] if ex['label'] != -1] # For now, ignore examples where both stories are plausible :(\n",
    "\n",
    "seq_length = 40 # Max sequence length to pad to\n",
    "\n",
    "tiered_dataset = get_tiered_data(tiered_dataset)\n",
    "tiered_dataset = add_comet_features_tiered(tiered_dataset, tokenizer, seq_length)\n",
    "\n",
    "tiered_tensor_dataset = {}\n",
    "max_story_length = max([len(ex['stories'][0]['sentences']) for p in tiered_dataset for ex in tiered_dataset[p]])\n",
    "for p in tiered_dataset:\n",
    "  tiered_tensor_dataset[p] = get_tensor_dataset_tiered(tiered_dataset[p], max_story_length, add_segment_ids=True)"
   ]
  },
  {
   "cell_type": "code",
   "execution_count": 38,
   "metadata": {},
   "outputs": [],
   "source": [
    "#torch.save(tiered_tensor_dataset, 'all_data/tiered_tensor_dataset_comet.pt')"
   ]
  },
  {
   "cell_type": "code",
   "execution_count": 55,
   "metadata": {},
   "outputs": [],
   "source": [
    "tiered_tensor_dataset = torch.load('all_data/tiered_tensor_dataset_comet.pt')"
   ]
  },
  {
   "cell_type": "code",
   "execution_count": 75,
   "metadata": {},
   "outputs": [
    {
     "name": "stdout",
     "output_type": "stream",
     "text": [
      "The autoreload extension is already loaded. To reload it, use:\n",
      "  %reload_ext autoreload\n"
     ]
    }
   ],
   "source": [
    "%load_ext autoreload\n",
    "%autoreload 2"
   ]
  },
  {
   "cell_type": "code",
   "execution_count": 76,
   "metadata": {},
   "outputs": [],
   "source": [
    "comet_model_name = 'gpt2'\n",
    "comet_config_class = GPT2Config\n",
    "comet_model.dropout_rate = 0.1\n",
    "conf = GPT2Config.from_pretrained('gpt2')\n",
    "setattr(conf, 'dropout_rate', 0.1)"
   ]
  },
  {
   "cell_type": "code",
   "execution_count": 77,
   "metadata": {},
   "outputs": [],
   "source": [
    "from torch.utils.data import DataLoader, RandomSampler, SequentialSampler\n",
    "from transformers import get_linear_schedule_with_warmup\n",
    "from www.model.train import train_epoch_tiered\n",
    "from www.model.eval import evaluate_tiered, save_results, save_preds, add_entity_attribute_labels\n",
    "from sklearn.metrics import accuracy_score, f1_score\n",
    "from www.utils import print_dict, get_model_dir\n",
    "from www.model.transformers_ext import TieredModelPipeline\n",
    "from www.model.transformers_ext_comet import TieredModelCometPipeline\n",
    "from www.dataset.ann import att_to_num_classes\n",
    "from transformers import GPT2Config\n",
    "import shutil\n",
    "import pandas as pd\n",
    "\n",
    "seed_val = 22 # Save random seed for reproducibility\n",
    "random.seed(seed_val)\n",
    "np.random.seed(seed_val)\n",
    "torch.manual_seed(seed_val)\n",
    "torch.cuda.manual_seed_all(seed_val)\n",
    "\n",
    "# We'll keep the validation data here with a constant eval batch size\n",
    "dev_sampler = SequentialSampler(tiered_tensor_dataset['dev'])\n",
    "dev_dataloader = DataLoader(tiered_tensor_dataset['dev'], sampler=dev_sampler, batch_size=1)\n",
    "dev_dataset_name = subtask + '_%s_dev'\n",
    "dev_ids = [ex['example_id'] for ex in tiered_dataset['dev']]\n",
    "\n",
    "all_losses = []\n",
    "param_combos = []\n",
    "combo_names = []\n",
    "all_val_objs = []\n",
    "output_dirs = []\n",
    "best_obj = 0.0\n",
    "best_model = '<none>'\n",
    "best_dir = ''\n",
    "best_obj2 = 0.0\n",
    "best_model2 = '<none>'\n",
    "best_dir2 = ''"
   ]
  },
  {
   "cell_type": "code",
   "execution_count": 78,
   "metadata": {},
   "outputs": [],
   "source": [
    "model_name = 'COMET-CONCAT-MAX-POOLING'"
   ]
  },
  {
   "cell_type": "code",
   "execution_count": 79,
   "metadata": {},
   "outputs": [
    {
     "name": "stdout",
     "output_type": "stream",
     "text": [
      "Beginning grid search for the cloze sub-task over 1 parameter combination(s)!\n",
      "\n",
      "TRAINING MODEL: bs=1, lr=1e-05\n",
      "Got COMET Model!\n"
     ]
    },
    {
     "name": "stderr",
     "output_type": "stream",
     "text": [
      "\r",
      "[                                                                        ]   0%"
     ]
    },
    {
     "name": "stdout",
     "output_type": "stream",
     "text": [
      "[0] Beginning epoch...\n"
     ]
    },
    {
     "name": "stderr",
     "output_type": "stream",
     "text": [
      "[########################################################################] 100%\n",
      "[                                                                        ]   0%"
     ]
    },
    {
     "name": "stdout",
     "output_type": "stream",
     "text": [
      "\tBeginning evaluation...\n",
      "\t\tRunning prediction...\n"
     ]
    },
    {
     "name": "stderr",
     "output_type": "stream",
     "text": [
      "[########################################################################] 100%\n"
     ]
    },
    {
     "name": "stdout",
     "output_type": "stream",
     "text": [
      "\t\tComputing metrics...\n",
      "\tFinished evaluation in 0:00:54s.\n",
      "[0] Validation results:\n",
      "[0] Preconditions:\n",
      "{\n",
      "  accuracy: \n",
      "    0.9916662774949797,\n",
      "  f1: \n",
      "    0.18900318393587806,\n",
      "  accuracy_0: \n",
      "    0.9935553168635876,\n",
      "  f1_0: \n",
      "    0.3322557471264368,\n",
      "  accuracy_1: \n",
      "    0.9621024611217485,\n",
      "  f1_1: \n",
      "    0.32689507987321836,\n",
      "  accuracy_2: \n",
      "    0.9988791855414935,\n",
      "  f1_2: \n",
      "    0.33314642617946205,\n",
      "  accuracy_3: \n",
      "    0.9985989819268668,\n",
      "  f1_3: \n",
      "    0.3330996666355111,\n",
      "  accuracy_4: \n",
      "    0.9996964460841545,\n",
      "  f1_4: \n",
      "    0.3332827333341118,\n",
      "  accuracy_5: \n",
      "    0.9784009713725307,\n",
      "  f1_5: \n",
      "    0.10989806476487228,\n",
      "  accuracy_6: \n",
      "    0.9857679914070892,\n",
      "  f1_6: \n",
      "    0.6304685905817249,\n",
      "  accuracy_7: \n",
      "    0.9982370522579741,\n",
      "  f1_7: \n",
      "    0.3330392494824319,\n",
      "  accuracy_8: \n",
      "    0.9921075981880166,\n",
      "  f1_8: \n",
      "    0.33201272163224477,\n",
      "  accuracy_9: \n",
      "    0.9873674870405829,\n",
      "  f1_9: \n",
      "    0.633881992860592,\n",
      "  accuracy_10: \n",
      "    0.9950614112922057,\n",
      "  f1_10: \n",
      "    0.33250819771263823,\n",
      "  accuracy_11: \n",
      "    0.997151263251296,\n",
      "  f1_11: \n",
      "    0.3328578666354885,\n",
      "  accuracy_12: \n",
      "    0.9923761266520338,\n",
      "  f1_12: \n",
      "    0.334928204580564,\n",
      "  accuracy_13: \n",
      "    0.9977817213842058,\n",
      "  f1_13: \n",
      "    0.3329632097120438,\n",
      "  accuracy_14: \n",
      "    0.9946761313220941,\n",
      "  f1_14: \n",
      "    0.3324436536180308,\n",
      "  accuracy_15: \n",
      "    0.9935319665623686,\n",
      "  f1_15: \n",
      "    0.33225183016105414,\n",
      "  accuracy_16: \n",
      "    0.9929131835800682,\n",
      "  f1_16: \n",
      "    0.33215383473740534,\n",
      "  accuracy_17: \n",
      "    0.9782608695652174,\n",
      "  f1_17: \n",
      "    0.5808106309216224,\n",
      "  accuracy_18: \n",
      "    0.9994045673189185,\n",
      "  f1_18: \n",
      "    0.33323406499934793,\n",
      "  accuracy_19: \n",
      "    0.9974548171671415,\n",
      "  f1_19: \n",
      "    0.33290859567702796,\n",
      "}\n",
      "\n",
      "\n",
      "[0] Effects:\n",
      "{\n",
      "  accuracy: \n",
      "    0.9913300331574277,\n",
      "  f1: \n",
      "    0.1873180693715726,\n",
      "  accuracy_0: \n",
      "    0.9935553168635876,\n",
      "  f1_0: \n",
      "    0.3322557471264368,\n",
      "  accuracy_1: \n",
      "    0.9621024611217485,\n",
      "  f1_1: \n",
      "    0.32689507987321836,\n",
      "  accuracy_2: \n",
      "    0.9982020268061458,\n",
      "  f1_2: \n",
      "    0.33303340149965915,\n",
      "  accuracy_3: \n",
      "    0.9982954280110213,\n",
      "  f1_3: \n",
      "    0.3330489956648243,\n",
      "  accuracy_4: \n",
      "    0.9990659879512446,\n",
      "  f1_4: \n",
      "    0.3331775919263655,\n",
      "  accuracy_5: \n",
      "    0.9784009713725307,\n",
      "  f1_5: \n",
      "    0.10989806476487228,\n",
      "  accuracy_6: \n",
      "    0.9877177415588662,\n",
      "  f1_6: \n",
      "    0.6358966949242637,\n",
      "  accuracy_7: \n",
      "    0.9966725820763088,\n",
      "  f1_7: \n",
      "    0.3327778394993149,\n",
      "  accuracy_8: \n",
      "    0.99203754728436,\n",
      "  f1_8: \n",
      "    0.332000953374516,\n",
      "  accuracy_9: \n",
      "    0.9869471816186429,\n",
      "  f1_9: \n",
      "    0.6336164648458584,\n",
      "  accuracy_10: \n",
      "    0.9949329846355018,\n",
      "  f1_10: \n",
      "    0.3324866857845145,\n",
      "  accuracy_11: \n",
      "    0.9962989772568066,\n",
      "  f1_11: \n",
      "    0.33271535262914725,\n",
      "  accuracy_12: \n",
      "    0.9960070984915705,\n",
      "  f1_12: \n",
      "    0.3326665184855894,\n",
      "  accuracy_13: \n",
      "    0.9961472002988838,\n",
      "  f1_13: \n",
      "    0.332689960656786,\n",
      "  accuracy_14: \n",
      "    0.9944776537617335,\n",
      "  f1_14: \n",
      "    0.332410393898063,\n",
      "  accuracy_15: \n",
      "    0.9883365245411666,\n",
      "  f1_15: \n",
      "    0.3313780178699001,\n",
      "  accuracy_16: \n",
      "    0.9929482090318965,\n",
      "  f1_16: \n",
      "    0.33215387619605546,\n",
      "  accuracy_17: \n",
      "    0.9772334563115864,\n",
      "  f1_17: \n",
      "    0.5740727252507333,\n",
      "  accuracy_18: \n",
      "    0.999182739457339,\n",
      "  f1_18: \n",
      "    0.4997956013408552,\n",
      "  accuracy_19: \n",
      "    0.9980385746976136,\n",
      "  f1_19: \n",
      "    0.33300610820244325,\n",
      "}\n",
      "\n",
      "\n",
      "[0] Conflicts:\n",
      "{\n",
      "  accuracy: \n",
      "    0.9704151683556718,\n",
      "  f1: \n",
      "    0.49249274160099543,\n",
      "}\n",
      "\n",
      "\n",
      "[0] Stories:\n",
      "{\n",
      "  accuracy: \n",
      "    0.4503105590062112,\n",
      "  f1: \n",
      "    0.45005065856129683,\n",
      "  verifiability: \n",
      "    0.0,\n",
      "}\n",
      "\n",
      "\n",
      "[0] Saving model checkpoint...\n"
     ]
    },
    {
     "name": "stderr",
     "output_type": "stream",
     "text": [
      "\r",
      "[                                                                        ]   0%"
     ]
    },
    {
     "name": "stdout",
     "output_type": "stream",
     "text": [
      "[0] Finished epoch.\n",
      "[1] Beginning epoch...\n"
     ]
    },
    {
     "name": "stderr",
     "output_type": "stream",
     "text": [
      "[########################################################################] 100%\n",
      "[                                                                        ]   0%"
     ]
    },
    {
     "name": "stdout",
     "output_type": "stream",
     "text": [
      "\tBeginning evaluation...\n",
      "\t\tRunning prediction...\n"
     ]
    },
    {
     "name": "stderr",
     "output_type": "stream",
     "text": [
      "[########################################################################] 100%\n"
     ]
    },
    {
     "name": "stdout",
     "output_type": "stream",
     "text": [
      "\t\tComputing metrics...\n",
      "\tFinished evaluation in 0:00:54s.\n",
      "[1] Validation results:\n",
      "[1] Preconditions:\n",
      "{\n",
      "  accuracy: \n",
      "    0.993923084107785,\n",
      "  f1: \n",
      "    0.2024244882085835,\n",
      "  accuracy_0: \n",
      "    0.9935553168635876,\n",
      "  f1_0: \n",
      "    0.3322557471264368,\n",
      "  accuracy_1: \n",
      "    0.9987040582823519,\n",
      "  f1_1: \n",
      "    0.6607797117978714,\n",
      "  accuracy_2: \n",
      "    0.9988791855414935,\n",
      "  f1_2: \n",
      "    0.33314642617946205,\n",
      "  accuracy_3: \n",
      "    0.9985989819268668,\n",
      "  f1_3: \n",
      "    0.3330996666355111,\n",
      "  accuracy_4: \n",
      "    0.9996964460841545,\n",
      "  f1_4: \n",
      "    0.3332827333341118,\n",
      "  accuracy_5: \n",
      "    0.9784009713725307,\n",
      "  f1_5: \n",
      "    0.10989806476487228,\n",
      "  accuracy_6: \n",
      "    0.9892238359874842,\n",
      "  f1_6: \n",
      "    0.6396025064337595,\n",
      "  accuracy_7: \n",
      "    0.9982370522579741,\n",
      "  f1_7: \n",
      "    0.3330392494824319,\n",
      "  accuracy_8: \n",
      "    0.9924461775556904,\n",
      "  f1_8: \n",
      "    0.3610127054707608,\n",
      "  accuracy_9: \n",
      "    0.990799981319759,\n",
      "  f1_9: \n",
      "    0.6434151266275592,\n",
      "  accuracy_10: \n",
      "    0.9950614112922057,\n",
      "  f1_10: \n",
      "    0.33250819771263823,\n",
      "  accuracy_11: \n",
      "    0.997151263251296,\n",
      "  f1_11: \n",
      "    0.3328578666354885,\n",
      "  accuracy_12: \n",
      "    0.992352776350815,\n",
      "  f1_12: \n",
      "    0.33205390401740803,\n",
      "  accuracy_13: \n",
      "    0.9977817213842058,\n",
      "  f1_13: \n",
      "    0.3329632097120438,\n",
      "  accuracy_14: \n",
      "    0.9946761313220941,\n",
      "  f1_14: \n",
      "    0.3324436536180308,\n",
      "  accuracy_15: \n",
      "    0.9935319665623686,\n",
      "  f1_15: \n",
      "    0.33225183016105414,\n",
      "  accuracy_16: \n",
      "    0.9936136926166348,\n",
      "  f1_16: \n",
      "    0.4276331002034162,\n",
      "  accuracy_17: \n",
      "    0.9788913276981273,\n",
      "  f1_17: \n",
      "    0.5848299730672392,\n",
      "  accuracy_18: \n",
      "    0.9994045673189185,\n",
      "  f1_18: \n",
      "    0.33323406499934793,\n",
      "  accuracy_19: \n",
      "    0.9974548171671415,\n",
      "  f1_19: \n",
      "    0.33290859567702796,\n",
      "}\n",
      "\n",
      "\n",
      "[1] Effects:\n",
      "{\n",
      "  accuracy: \n",
      "    0.9933118899733806,\n",
      "  f1: \n",
      "    0.19917471659020677,\n",
      "  accuracy_0: \n",
      "    0.9935553168635876,\n",
      "  f1_0: \n",
      "    0.3322557471264368,\n",
      "  accuracy_1: \n",
      "    0.9985406061738197,\n",
      "  f1_1: \n",
      "    0.6600306259581776,\n",
      "  accuracy_2: \n",
      "    0.9982020268061458,\n",
      "  f1_2: \n",
      "    0.33303340149965915,\n",
      "  accuracy_3: \n",
      "    0.9982954280110213,\n",
      "  f1_3: \n",
      "    0.3330489956648243,\n",
      "  accuracy_4: \n",
      "    0.9990659879512446,\n",
      "  f1_4: \n",
      "    0.3331775919263655,\n",
      "  accuracy_5: \n",
      "    0.9784009713725307,\n",
      "  f1_5: \n",
      "    0.10989806476487228,\n",
      "  accuracy_6: \n",
      "    0.9879395694204455,\n",
      "  f1_6: \n",
      "    0.6365536025376896,\n",
      "  accuracy_7: \n",
      "    0.9966725820763088,\n",
      "  f1_7: \n",
      "    0.3327778394993149,\n",
      "  accuracy_8: \n",
      "    0.9931116611404287,\n",
      "  f1_8: \n",
      "    0.41429925784070415,\n",
      "  accuracy_9: \n",
      "    0.9876943912576472,\n",
      "  f1_9: \n",
      "    0.6358854584695751,\n",
      "  accuracy_10: \n",
      "    0.9949329846355018,\n",
      "  f1_10: \n",
      "    0.3324866857845145,\n",
      "  accuracy_11: \n",
      "    0.9962989772568066,\n",
      "  f1_11: \n",
      "    0.33271535262914725,\n",
      "  accuracy_12: \n",
      "    0.9960070984915705,\n",
      "  f1_12: \n",
      "    0.3326665184855894,\n",
      "  accuracy_13: \n",
      "    0.9961472002988838,\n",
      "  f1_13: \n",
      "    0.332689960656786,\n",
      "  accuracy_14: \n",
      "    0.9944776537617335,\n",
      "  f1_14: \n",
      "    0.332410393898063,\n",
      "  accuracy_15: \n",
      "    0.9883365245411666,\n",
      "  f1_15: \n",
      "    0.3313780178699001,\n",
      "  accuracy_16: \n",
      "    0.9929482090318965,\n",
      "  f1_16: \n",
      "    0.33215387619605546,\n",
      "  accuracy_17: \n",
      "    0.9783892962219213,\n",
      "  f1_17: \n",
      "    0.5806647861925639,\n",
      "  accuracy_18: \n",
      "    0.999182739457339,\n",
      "  f1_18: \n",
      "    0.4997956013408552,\n",
      "  accuracy_19: \n",
      "    0.9980385746976136,\n",
      "  f1_19: \n",
      "    0.33300610820244325,\n",
      "}\n",
      "\n",
      "\n",
      "[1] Conflicts:\n",
      "{\n",
      "  accuracy: \n",
      "    0.9703451174520151,\n",
      "  f1: \n",
      "    0.4971538152743367,\n",
      "}\n",
      "\n",
      "\n",
      "[1] Stories:\n",
      "{\n",
      "  accuracy: \n",
      "    0.4906832298136646,\n",
      "  f1: \n",
      "    0.4906635802469136,\n",
      "  verifiability: \n",
      "    0.0,\n",
      "}\n",
      "\n",
      "\n",
      "[1] Saving model checkpoint...\n"
     ]
    },
    {
     "name": "stderr",
     "output_type": "stream",
     "text": [
      "\r",
      "[                                                                        ]   0%"
     ]
    },
    {
     "name": "stdout",
     "output_type": "stream",
     "text": [
      "[1] Finished epoch.\n",
      "[2] Beginning epoch...\n"
     ]
    },
    {
     "name": "stderr",
     "output_type": "stream",
     "text": [
      "[########################################################################] 100%\n",
      "[                                                                        ]   0%"
     ]
    },
    {
     "name": "stdout",
     "output_type": "stream",
     "text": [
      "\tBeginning evaluation...\n",
      "\t\tRunning prediction...\n"
     ]
    },
    {
     "name": "stderr",
     "output_type": "stream",
     "text": [
      "[########################################################################] 100%\n"
     ]
    },
    {
     "name": "stdout",
     "output_type": "stream",
     "text": [
      "\t\tComputing metrics...\n",
      "\tFinished evaluation in 0:00:54s.\n",
      "[2] Validation results:\n",
      "[2] Preconditions:\n",
      "{\n",
      "  accuracy: \n",
      "    0.9940100639798254,\n",
      "  f1: \n",
      "    0.20288328529428268,\n",
      "  accuracy_0: \n",
      "    0.9935553168635876,\n",
      "  f1_0: \n",
      "    0.3322557471264368,\n",
      "  accuracy_1: \n",
      "    0.9985172558726008,\n",
      "  f1_1: \n",
      "    0.6599359266482306,\n",
      "  accuracy_2: \n",
      "    0.9988791855414935,\n",
      "  f1_2: \n",
      "    0.33314642617946205,\n",
      "  accuracy_3: \n",
      "    0.9985989819268668,\n",
      "  f1_3: \n",
      "    0.3330996666355111,\n",
      "  accuracy_4: \n",
      "    0.9996964460841545,\n",
      "  f1_4: \n",
      "    0.3332827333341118,\n",
      "  accuracy_5: \n",
      "    0.9784009713725307,\n",
      "  f1_5: \n",
      "    0.10989806476487228,\n",
      "  accuracy_6: \n",
      "    0.9888502311679821,\n",
      "  f1_6: \n",
      "    0.6386608237277184,\n",
      "  accuracy_7: \n",
      "    0.9982370522579741,\n",
      "  f1_7: \n",
      "    0.3330392494824319,\n",
      "  accuracy_8: \n",
      "    0.9936603932190725,\n",
      "  f1_8: \n",
      "    0.44899992547927847,\n",
      "  accuracy_9: \n",
      "    0.9906131789100079,\n",
      "  f1_9: \n",
      "    0.6430100857516089,\n",
      "  accuracy_10: \n",
      "    0.9950614112922057,\n",
      "  f1_10: \n",
      "    0.33250819771263823,\n",
      "  accuracy_11: \n",
      "    0.997151263251296,\n",
      "  f1_11: \n",
      "    0.3328578666354885,\n",
      "  accuracy_12: \n",
      "    0.9932400877971326,\n",
      "  f1_12: \n",
      "    0.42490219051338474,\n",
      "  accuracy_13: \n",
      "    0.9977817213842058,\n",
      "  f1_13: \n",
      "    0.3329632097120438,\n",
      "  accuracy_14: \n",
      "    0.9946761313220941,\n",
      "  f1_14: \n",
      "    0.3324436536180308,\n",
      "  accuracy_15: \n",
      "    0.9935319665623686,\n",
      "  f1_15: \n",
      "    0.33225183016105414,\n",
      "  accuracy_16: \n",
      "    0.9938238453276047,\n",
      "  f1_16: \n",
      "    0.44959443191868514,\n",
      "  accuracy_17: \n",
      "    0.979066454957269,\n",
      "  f1_17: \n",
      "    0.5871872127588982,\n",
      "  accuracy_18: \n",
      "    0.9994045673189185,\n",
      "  f1_18: \n",
      "    0.33323406499934793,\n",
      "  accuracy_19: \n",
      "    0.9974548171671415,\n",
      "  f1_19: \n",
      "    0.33290859567702796,\n",
      "}\n",
      "\n",
      "\n",
      "[2] Effects:\n",
      "{\n",
      "  accuracy: \n",
      "    0.9933685144538364,\n",
      "  f1: \n",
      "    0.1996520148851375,\n",
      "  accuracy_0: \n",
      "    0.9935553168635876,\n",
      "  f1_0: \n",
      "    0.3322557471264368,\n",
      "  accuracy_1: \n",
      "    0.9985639564750385,\n",
      "  f1_1: \n",
      "    0.6601370938963946,\n",
      "  accuracy_2: \n",
      "    0.9982020268061458,\n",
      "  f1_2: \n",
      "    0.33303340149965915,\n",
      "  accuracy_3: \n",
      "    0.9982954280110213,\n",
      "  f1_3: \n",
      "    0.3330489956648243,\n",
      "  accuracy_4: \n",
      "    0.9990659879512446,\n",
      "  f1_4: \n",
      "    0.3331775919263655,\n",
      "  accuracy_5: \n",
      "    0.9784009713725307,\n",
      "  f1_5: \n",
      "    0.10989806476487228,\n",
      "  accuracy_6: \n",
      "    0.9875075888478961,\n",
      "  f1_6: \n",
      "    0.6354483407175996,\n",
      "  accuracy_7: \n",
      "    0.9966725820763088,\n",
      "  f1_7: \n",
      "    0.3327778394993149,\n",
      "  accuracy_8: \n",
      "    0.9939055713818709,\n",
      "  f1_8: \n",
      "    0.47238898899072085,\n",
      "  accuracy_9: \n",
      "    0.9873324615887545,\n",
      "  f1_9: \n",
      "    0.6349572998211677,\n",
      "  accuracy_10: \n",
      "    0.9949329846355018,\n",
      "  f1_10: \n",
      "    0.3324866857845145,\n",
      "  accuracy_11: \n",
      "    0.9962989772568066,\n",
      "  f1_11: \n",
      "    0.33271535262914725,\n",
      "  accuracy_12: \n",
      "    0.9960070984915705,\n",
      "  f1_12: \n",
      "    0.3326665184855894,\n",
      "  accuracy_13: \n",
      "    0.9961472002988838,\n",
      "  f1_13: \n",
      "    0.332689960656786,\n",
      "  accuracy_14: \n",
      "    0.9944776537617335,\n",
      "  f1_14: \n",
      "    0.332410393898063,\n",
      "  accuracy_15: \n",
      "    0.9883365245411666,\n",
      "  f1_15: \n",
      "    0.3313780178699001,\n",
      "  accuracy_16: \n",
      "    0.9937421192733387,\n",
      "  f1_16: \n",
      "    0.4090591735707026,\n",
      "  accuracy_17: \n",
      "    0.9787045252883763,\n",
      "  f1_17: \n",
      "    0.584950623893592,\n",
      "  accuracy_18: \n",
      "    0.999182739457339,\n",
      "  f1_18: \n",
      "    0.4997956013408552,\n",
      "  accuracy_19: \n",
      "    0.9980385746976136,\n",
      "  f1_19: \n",
      "    0.33300610820244325,\n",
      "}\n",
      "\n",
      "\n",
      "[2] Conflicts:\n",
      "{\n",
      "  accuracy: \n",
      "    0.9704151683556718,\n",
      "  f1: \n",
      "    0.49249274160099543,\n",
      "}\n",
      "\n",
      "\n",
      "[2] Stories:\n",
      "{\n",
      "  accuracy: \n",
      "    0.5217391304347826,\n",
      "  f1: \n",
      "    0.5216653162017209,\n",
      "  verifiability: \n",
      "    0.0,\n",
      "}\n",
      "\n",
      "\n",
      "[2] Saving model checkpoint...\n"
     ]
    },
    {
     "name": "stderr",
     "output_type": "stream",
     "text": [
      "\r",
      "[                                                                        ]   0%"
     ]
    },
    {
     "name": "stdout",
     "output_type": "stream",
     "text": [
      "[2] Finished epoch.\n",
      "[3] Beginning epoch...\n"
     ]
    },
    {
     "name": "stderr",
     "output_type": "stream",
     "text": [
      "[########################################################################] 100%\n",
      "[                                                                        ]   0%"
     ]
    },
    {
     "name": "stdout",
     "output_type": "stream",
     "text": [
      "\tBeginning evaluation...\n",
      "\t\tRunning prediction...\n"
     ]
    },
    {
     "name": "stderr",
     "output_type": "stream",
     "text": [
      "[########################################################################] 100%\n"
     ]
    },
    {
     "name": "stdout",
     "output_type": "stream",
     "text": [
      "\t\tComputing metrics...\n",
      "\tFinished evaluation in 0:00:54s.\n",
      "[3] Validation results:\n",
      "[3] Preconditions:\n",
      "{\n",
      "  accuracy: \n",
      "    0.9940877037313781,\n",
      "  f1: \n",
      "    0.20293639373274422,\n",
      "  accuracy_0: \n",
      "    0.9935553168635876,\n",
      "  f1_0: \n",
      "    0.3322557471264368,\n",
      "  accuracy_1: \n",
      "    0.9981553262037081,\n",
      "  f1_1: \n",
      "    0.6583703592842239,\n",
      "  accuracy_2: \n",
      "    0.9988791855414935,\n",
      "  f1_2: \n",
      "    0.33314642617946205,\n",
      "  accuracy_3: \n",
      "    0.9985989819268668,\n",
      "  f1_3: \n",
      "    0.3330996666355111,\n",
      "  accuracy_4: \n",
      "    0.9996964460841545,\n",
      "  f1_4: \n",
      "    0.3332827333341118,\n",
      "  accuracy_5: \n",
      "    0.9784009713725307,\n",
      "  f1_5: \n",
      "    0.10989806476487228,\n",
      "  accuracy_6: \n",
      "    0.9896207911082053,\n",
      "  f1_6: \n",
      "    0.6409855301235517,\n",
      "  accuracy_7: \n",
      "    0.9982370522579741,\n",
      "  f1_7: \n",
      "    0.3330392494824319,\n",
      "  accuracy_8: \n",
      "    0.9943375519544202,\n",
      "  f1_8: \n",
      "    0.4908159613172241,\n",
      "  accuracy_9: \n",
      "    0.9907883061691496,\n",
      "  f1_9: \n",
      "    0.6431571058087334,\n",
      "  accuracy_10: \n",
      "    0.9950614112922057,\n",
      "  f1_10: \n",
      "    0.33250819771263823,\n",
      "  accuracy_11: \n",
      "    0.997151263251296,\n",
      "  f1_11: \n",
      "    0.3328578666354885,\n",
      "  accuracy_12: \n",
      "    0.9925979545136132,\n",
      "  f1_12: \n",
      "    0.36572022237482843,\n",
      "  accuracy_13: \n",
      "    0.9977817213842058,\n",
      "  f1_13: \n",
      "    0.3329632097120438,\n",
      "  accuracy_14: \n",
      "    0.9946761313220941,\n",
      "  f1_14: \n",
      "    0.3324436536180308,\n",
      "  accuracy_15: \n",
      "    0.9935319665623686,\n",
      "  f1_15: \n",
      "    0.33225183016105414,\n",
      "  accuracy_16: \n",
      "    0.9942324755989352,\n",
      "  f1_16: \n",
      "    0.4923925570814242,\n",
      "  accuracy_17: \n",
      "    0.9795918367346939,\n",
      "  f1_17: \n",
      "    0.5816725946217237,\n",
      "  accuracy_18: \n",
      "    0.9994045673189185,\n",
      "  f1_18: \n",
      "    0.33323406499934793,\n",
      "  accuracy_19: \n",
      "    0.9974548171671415,\n",
      "  f1_19: \n",
      "    0.33290859567702796,\n",
      "}\n",
      "\n",
      "\n",
      "[3] Effects:\n",
      "{\n",
      "  accuracy: \n",
      "    0.9935483117732219,\n",
      "  f1: \n",
      "    0.1999765314562446,\n",
      "  accuracy_0: \n",
      "    0.9935553168635876,\n",
      "  f1_0: \n",
      "    0.3322557471264368,\n",
      "  accuracy_1: \n",
      "    0.998365478914678,\n",
      "  f1_1: \n",
      "    0.6592791002295503,\n",
      "  accuracy_2: \n",
      "    0.9982020268061458,\n",
      "  f1_2: \n",
      "    0.33303340149965915,\n",
      "  accuracy_3: \n",
      "    0.9982954280110213,\n",
      "  f1_3: \n",
      "    0.3330489956648243,\n",
      "  accuracy_4: \n",
      "    0.9990659879512446,\n",
      "  f1_4: \n",
      "    0.3331775919263655,\n",
      "  accuracy_5: \n",
      "    0.9784009713725307,\n",
      "  f1_5: \n",
      "    0.10989806476487228,\n",
      "  accuracy_6: \n",
      "    0.9891537850838276,\n",
      "  f1_6: \n",
      "    0.6394267545843361,\n",
      "  accuracy_7: \n",
      "    0.9966725820763088,\n",
      "  f1_7: \n",
      "    0.3327778394993149,\n",
      "  accuracy_8: \n",
      "    0.994384252556858,\n",
      "  f1_8: \n",
      "    0.4997836363785491,\n",
      "  accuracy_9: \n",
      "    0.9888619063185915,\n",
      "  f1_9: \n",
      "    0.6384994196031201,\n",
      "  accuracy_10: \n",
      "    0.9949329846355018,\n",
      "  f1_10: \n",
      "    0.3324866857845145,\n",
      "  accuracy_11: \n",
      "    0.9962989772568066,\n",
      "  f1_11: \n",
      "    0.33271535262914725,\n",
      "  accuracy_12: \n",
      "    0.9960070984915705,\n",
      "  f1_12: \n",
      "    0.3326665184855894,\n",
      "  accuracy_13: \n",
      "    0.9961472002988838,\n",
      "  f1_13: \n",
      "    0.332689960656786,\n",
      "  accuracy_14: \n",
      "    0.9944776537617335,\n",
      "  f1_14: \n",
      "    0.332410393898063,\n",
      "  accuracy_15: \n",
      "    0.9883365245411666,\n",
      "  f1_15: \n",
      "    0.3313780178699001,\n",
      "  accuracy_16: \n",
      "    0.9938355204782142,\n",
      "  f1_16: \n",
      "    0.4311854686643006,\n",
      "  accuracy_17: \n",
      "    0.978751225890814,\n",
      "  f1_17: \n",
      "    0.5762997099838439,\n",
      "  accuracy_18: \n",
      "    0.999182739457339,\n",
      "  f1_18: \n",
      "    0.4997956013408552,\n",
      "  accuracy_19: \n",
      "    0.9980385746976136,\n",
      "  f1_19: \n",
      "    0.33300610820244325,\n",
      "}\n",
      "\n",
      "\n",
      "[3] Conflicts:\n",
      "{\n",
      "  accuracy: \n",
      "    0.9702283659459207,\n",
      "  f1: \n",
      "    0.49787393605418284,\n",
      "}\n",
      "\n",
      "\n",
      "[3] Stories:\n",
      "{\n",
      "  accuracy: \n",
      "    0.5838509316770186,\n",
      "  f1: \n",
      "    0.5838509316770186,\n",
      "  verifiability: \n",
      "    0.0,\n",
      "}\n",
      "\n",
      "\n",
      "[3] Saving model checkpoint...\n"
     ]
    },
    {
     "name": "stderr",
     "output_type": "stream",
     "text": [
      "\r",
      "[                                                                        ]   0%"
     ]
    },
    {
     "name": "stdout",
     "output_type": "stream",
     "text": [
      "[3] Finished epoch.\n",
      "[4] Beginning epoch...\n"
     ]
    },
    {
     "name": "stderr",
     "output_type": "stream",
     "text": [
      "[########################################################################] 100%\n",
      "[                                                                        ]   0%"
     ]
    },
    {
     "name": "stdout",
     "output_type": "stream",
     "text": [
      "\tBeginning evaluation...\n",
      "\t\tRunning prediction...\n"
     ]
    },
    {
     "name": "stderr",
     "output_type": "stream",
     "text": [
      "[########################################################################] 100%\n"
     ]
    },
    {
     "name": "stdout",
     "output_type": "stream",
     "text": [
      "\t\tComputing metrics...\n",
      "\tFinished evaluation in 0:00:54s.\n",
      "[4] Validation results:\n",
      "[4] Preconditions:\n",
      "{\n",
      "  accuracy: \n",
      "    0.9941904450567413,\n",
      "  f1: \n",
      "    0.2241463052885543,\n",
      "  accuracy_0: \n",
      "    0.9935553168635876,\n",
      "  f1_0: \n",
      "    0.3322557471264368,\n",
      "  accuracy_1: \n",
      "    0.9983071031616307,\n",
      "  f1_1: \n",
      "    0.6590011260523277,\n",
      "  accuracy_2: \n",
      "    0.9988791855414935,\n",
      "  f1_2: \n",
      "    0.33314642617946205,\n",
      "  accuracy_3: \n",
      "    0.9985989819268668,\n",
      "  f1_3: \n",
      "    0.3330996666355111,\n",
      "  accuracy_4: \n",
      "    0.9996964460841545,\n",
      "  f1_4: \n",
      "    0.3332827333341118,\n",
      "  accuracy_5: \n",
      "    0.979066454957269,\n",
      "  f1_5: \n",
      "    0.1308416773550547,\n",
      "  accuracy_6: \n",
      "    0.9903096249941624,\n",
      "  f1_6: \n",
      "    0.6424969234100879,\n",
      "  accuracy_7: \n",
      "    0.9982370522579741,\n",
      "  f1_7: \n",
      "    0.3330392494824319,\n",
      "  accuracy_8: \n",
      "    0.9940456731891841,\n",
      "  f1_8: \n",
      "    0.47175179101404613,\n",
      "  accuracy_9: \n",
      "    0.9916639424648578,\n",
      "  f1_9: \n",
      "    0.6455382818876475,\n",
      "  accuracy_10: \n",
      "    0.9950614112922057,\n",
      "  f1_10: \n",
      "    0.33250819771263823,\n",
      "  accuracy_11: \n",
      "    0.997151263251296,\n",
      "  f1_11: \n",
      "    0.3328578666354885,\n",
      "  accuracy_12: \n",
      "    0.9930999859898193,\n",
      "  f1_12: \n",
      "    0.42712655421418794,\n",
      "  accuracy_13: \n",
      "    0.9977817213842058,\n",
      "  f1_13: \n",
      "    0.3329632097120438,\n",
      "  accuracy_14: \n",
      "    0.9946761313220941,\n",
      "  f1_14: \n",
      "    0.3324436536180308,\n",
      "  accuracy_15: \n",
      "    0.9935319665623686,\n",
      "  f1_15: \n",
      "    0.33225183016105414,\n",
      "  accuracy_16: \n",
      "    0.994781207677579,\n",
      "  f1_16: \n",
      "    0.521037839555622,\n",
      "  accuracy_17: \n",
      "    0.9785060477280156,\n",
      "  f1_17: \n",
      "    0.5751736096815907,\n",
      "  accuracy_18: \n",
      "    0.9994045673189185,\n",
      "  f1_18: \n",
      "    0.33323406499934793,\n",
      "  accuracy_19: \n",
      "    0.9974548171671415,\n",
      "  f1_19: \n",
      "    0.33290859567702796,\n",
      "}\n",
      "\n",
      "\n",
      "[4] Effects:\n",
      "{\n",
      "  accuracy: \n",
      "    0.9935973474057815,\n",
      "  f1: \n",
      "    0.20022242495551495,\n",
      "  accuracy_0: \n",
      "    0.9935553168635876,\n",
      "  f1_0: \n",
      "    0.3322557471264368,\n",
      "  accuracy_1: \n",
      "    0.998470555270163,\n",
      "  f1_1: \n",
      "    0.659717391508872,\n",
      "  accuracy_2: \n",
      "    0.9982020268061458,\n",
      "  f1_2: \n",
      "    0.33303340149965915,\n",
      "  accuracy_3: \n",
      "    0.9982954280110213,\n",
      "  f1_3: \n",
      "    0.3330489956648243,\n",
      "  accuracy_4: \n",
      "    0.9990659879512446,\n",
      "  f1_4: \n",
      "    0.3331775919263655,\n",
      "  accuracy_5: \n",
      "    0.9784009713725307,\n",
      "  f1_5: \n",
      "    0.10989806476487228,\n",
      "  accuracy_6: \n",
      "    0.9893405874935787,\n",
      "  f1_6: \n",
      "    0.6398122386773836,\n",
      "  accuracy_7: \n",
      "    0.9966725820763088,\n",
      "  f1_7: \n",
      "    0.3327778394993149,\n",
      "  accuracy_8: \n",
      "    0.9951781627983001,\n",
      "  f1_8: \n",
      "    0.5325327523738498,\n",
      "  accuracy_9: \n",
      "    0.9891421099332182,\n",
      "  f1_9: \n",
      "    0.6392775919625079,\n",
      "  accuracy_10: \n",
      "    0.9949329846355018,\n",
      "  f1_10: \n",
      "    0.3324866857845145,\n",
      "  accuracy_11: \n",
      "    0.9962989772568066,\n",
      "  f1_11: \n",
      "    0.33271535262914725,\n",
      "  accuracy_12: \n",
      "    0.9960070984915705,\n",
      "  f1_12: \n",
      "    0.3326665184855894,\n",
      "  accuracy_13: \n",
      "    0.9961472002988838,\n",
      "  f1_13: \n",
      "    0.332689960656786,\n",
      "  accuracy_14: \n",
      "    0.9944776537617335,\n",
      "  f1_14: \n",
      "    0.332410393898063,\n",
      "  accuracy_15: \n",
      "    0.9883365245411666,\n",
      "  f1_15: \n",
      "    0.3313780178699001,\n",
      "  accuracy_16: \n",
      "    0.9944776537617335,\n",
      "  f1_16: \n",
      "    0.4785781259412412,\n",
      "  accuracy_17: \n",
      "    0.977723812637183,\n",
      "  f1_17: \n",
      "    0.5703815969913748,\n",
      "  accuracy_18: \n",
      "    0.999182739457339,\n",
      "  f1_18: \n",
      "    0.4997956013408552,\n",
      "  accuracy_19: \n",
      "    0.9980385746976136,\n",
      "  f1_19: \n",
      "    0.33300610820244325,\n",
      "}\n",
      "\n",
      "\n",
      "[4] Conflicts:\n",
      "{\n",
      "  accuracy: \n",
      "    0.9703100920001868,\n",
      "  f1: \n",
      "    0.5017263656280141,\n",
      "}\n",
      "\n",
      "\n",
      "[4] Stories:\n",
      "{\n",
      "  accuracy: \n",
      "    0.6583850931677019,\n",
      "  f1: \n",
      "    0.6582664402593392,\n",
      "  verifiability: \n",
      "    0.0,\n",
      "}\n",
      "\n",
      "\n",
      "[4] Saving model checkpoint...\n"
     ]
    },
    {
     "name": "stderr",
     "output_type": "stream",
     "text": [
      "\r",
      "[                                                                        ]   0%"
     ]
    },
    {
     "name": "stdout",
     "output_type": "stream",
     "text": [
      "[4] Finished epoch.\n",
      "[5] Beginning epoch...\n"
     ]
    },
    {
     "name": "stderr",
     "output_type": "stream",
     "text": [
      "[########################################################################] 100%\n",
      "[                                                                        ]   0%"
     ]
    },
    {
     "name": "stdout",
     "output_type": "stream",
     "text": [
      "\tBeginning evaluation...\n",
      "\t\tRunning prediction...\n"
     ]
    },
    {
     "name": "stderr",
     "output_type": "stream",
     "text": [
      "[########################################################################] 100%\n"
     ]
    },
    {
     "name": "stdout",
     "output_type": "stream",
     "text": [
      "\t\tComputing metrics...\n",
      "\tFinished evaluation in 0:00:54s.\n",
      "[5] Validation results:\n",
      "[5] Preconditions:\n",
      "{\n",
      "  accuracy: \n",
      "    0.9942704198384159,\n",
      "  f1: \n",
      "    0.22540302657563746,\n",
      "  accuracy_0: \n",
      "    0.9935553168635876,\n",
      "  f1_0: \n",
      "    0.3322557471264368,\n",
      "  accuracy_1: \n",
      "    0.9982020268061458,\n",
      "  f1_1: \n",
      "    0.6585355720800677,\n",
      "  accuracy_2: \n",
      "    0.9988791855414935,\n",
      "  f1_2: \n",
      "    0.33314642617946205,\n",
      "  accuracy_3: \n",
      "    0.9985989819268668,\n",
      "  f1_3: \n",
      "    0.3330996666355111,\n",
      "  accuracy_4: \n",
      "    0.9996964460841545,\n",
      "  f1_4: \n",
      "    0.3332827333341118,\n",
      "  accuracy_5: \n",
      "    0.9790898052584879,\n",
      "  f1_5: \n",
      "    0.13161019615242525,\n",
      "  accuracy_6: \n",
      "    0.9895740905057675,\n",
      "  f1_6: \n",
      "    0.6408243960696471,\n",
      "  accuracy_7: \n",
      "    0.9982370522579741,\n",
      "  f1_7: \n",
      "    0.3330392494824319,\n",
      "  accuracy_8: \n",
      "    0.994571054966609,\n",
      "  f1_8: \n",
      "    0.4974484772790462,\n",
      "  accuracy_9: \n",
      "    0.9908466819221968,\n",
      "  f1_9: \n",
      "    0.6433983184143471,\n",
      "  accuracy_10: \n",
      "    0.9950614112922057,\n",
      "  f1_10: \n",
      "    0.33250819771263823,\n",
      "  accuracy_11: \n",
      "    0.997151263251296,\n",
      "  f1_11: \n",
      "    0.3328578666354885,\n",
      "  accuracy_12: \n",
      "    0.9939055713818709,\n",
      "  f1_12: \n",
      "    0.4942725396221607,\n",
      "  accuracy_13: \n",
      "    0.9977817213842058,\n",
      "  f1_13: \n",
      "    0.3329632097120438,\n",
      "  accuracy_14: \n",
      "    0.9946761313220941,\n",
      "  f1_14: \n",
      "    0.3324436536180308,\n",
      "  accuracy_15: \n",
      "    0.9935319665623686,\n",
      "  f1_15: \n",
      "    0.33225183016105414,\n",
      "  accuracy_16: \n",
      "    0.9944309531592957,\n",
      "  f1_16: \n",
      "    0.5004715556783205,\n",
      "  accuracy_17: \n",
      "    0.9807593517956381,\n",
      "  f1_17: \n",
      "    0.5888031651313123,\n",
      "  accuracy_18: \n",
      "    0.9994045673189185,\n",
      "  f1_18: \n",
      "    0.33323406499934793,\n",
      "  accuracy_19: \n",
      "    0.9974548171671415,\n",
      "  f1_19: \n",
      "    0.33290859567702796,\n",
      "}\n",
      "\n",
      "\n",
      "[5] Effects:\n",
      "{\n",
      "  accuracy: \n",
      "    0.993712931396815,\n",
      "  f1: \n",
      "    0.20099364947030413,\n",
      "  accuracy_0: \n",
      "    0.9935553168635876,\n",
      "  f1_0: \n",
      "    0.3322557471264368,\n",
      "  accuracy_1: \n",
      "    0.9983538037640686,\n",
      "  f1_1: \n",
      "    0.6591877334094193,\n",
      "  accuracy_2: \n",
      "    0.9982020268061458,\n",
      "  f1_2: \n",
      "    0.33303340149965915,\n",
      "  accuracy_3: \n",
      "    0.9982954280110213,\n",
      "  f1_3: \n",
      "    0.3330489956648243,\n",
      "  accuracy_4: \n",
      "    0.9990659879512446,\n",
      "  f1_4: \n",
      "    0.3331775919263655,\n",
      "  accuracy_5: \n",
      "    0.9784009713725307,\n",
      "  f1_5: \n",
      "    0.10989806476487228,\n",
      "  accuracy_6: \n",
      "    0.988768505113716,\n",
      "  f1_6: \n",
      "    0.6384374029198986,\n",
      "  accuracy_7: \n",
      "    0.9966725820763088,\n",
      "  f1_7: \n",
      "    0.3327778394993149,\n",
      "  accuracy_8: \n",
      "    0.9955634427684117,\n",
      "  f1_8: \n",
      "    0.5508153471532482,\n",
      "  accuracy_9: \n",
      "    0.9885116518003082,\n",
      "  f1_9: \n",
      "    0.6376430702259444,\n",
      "  accuracy_10: \n",
      "    0.9949329846355018,\n",
      "  f1_10: \n",
      "    0.3324866857845145,\n",
      "  accuracy_11: \n",
      "    0.9962989772568066,\n",
      "  f1_11: \n",
      "    0.33271535262914725,\n",
      "  accuracy_12: \n",
      "    0.9960070984915705,\n",
      "  f1_12: \n",
      "    0.3326665184855894,\n",
      "  accuracy_13: \n",
      "    0.9961472002988838,\n",
      "  f1_13: \n",
      "    0.332689960656786,\n",
      "  accuracy_14: \n",
      "    0.9944776537617335,\n",
      "  f1_14: \n",
      "    0.332410393898063,\n",
      "  accuracy_15: \n",
      "    0.9883365245411666,\n",
      "  f1_15: \n",
      "    0.3313780178699001,\n",
      "  accuracy_16: \n",
      "    0.9948979591836735,\n",
      "  f1_16: \n",
      "    0.5040929608368633,\n",
      "  accuracy_17: \n",
      "    0.9805491990846682,\n",
      "  f1_17: \n",
      "    0.5879119283425341,\n",
      "  accuracy_18: \n",
      "    0.999182739457339,\n",
      "  f1_18: \n",
      "    0.4997956013408552,\n",
      "  accuracy_19: \n",
      "    0.9980385746976136,\n",
      "  f1_19: \n",
      "    0.33300610820244325,\n",
      "}\n",
      "\n",
      "\n",
      "[5] Conflicts:\n",
      "{\n",
      "  accuracy: \n",
      "    0.9704151683556718,\n",
      "  f1: \n",
      "    0.49328058573265526,\n",
      "}\n",
      "\n",
      "\n",
      "[5] Stories:\n",
      "{\n",
      "  accuracy: \n",
      "    0.6801242236024845,\n",
      "  f1: \n",
      "    0.6800964552688691,\n",
      "  verifiability: \n",
      "    0.0,\n",
      "}\n",
      "\n",
      "\n",
      "[5] Saving model checkpoint...\n"
     ]
    },
    {
     "name": "stderr",
     "output_type": "stream",
     "text": [
      "\r",
      "[                                                                        ]   0%"
     ]
    },
    {
     "name": "stdout",
     "output_type": "stream",
     "text": [
      "[5] Finished epoch.\n",
      "[6] Beginning epoch...\n"
     ]
    },
    {
     "name": "stderr",
     "output_type": "stream",
     "text": [
      "[########################################################################] 100%\n",
      "[                                                                        ]   0%"
     ]
    },
    {
     "name": "stdout",
     "output_type": "stream",
     "text": [
      "\tBeginning evaluation...\n",
      "\t\tRunning prediction...\n"
     ]
    },
    {
     "name": "stderr",
     "output_type": "stream",
     "text": [
      "[########################################################################] 100%\n"
     ]
    },
    {
     "name": "stdout",
     "output_type": "stream",
     "text": [
      "\t\tComputing metrics...\n",
      "\tFinished evaluation in 0:00:54s.\n",
      "[6] Validation results:\n",
      "[6] Preconditions:\n",
      "{\n",
      "  accuracy: \n",
      "    0.9943095315929575,\n",
      "  f1: \n",
      "    0.2326395108046525,\n",
      "  accuracy_0: \n",
      "    0.9935553168635876,\n",
      "  f1_0: \n",
      "    0.3322557471264368,\n",
      "  accuracy_1: \n",
      "    0.9980035492457853,\n",
      "  f1_1: \n",
      "    0.6576726727380818,\n",
      "  accuracy_2: \n",
      "    0.9988791855414935,\n",
      "  f1_2: \n",
      "    0.33314642617946205,\n",
      "  accuracy_3: \n",
      "    0.9985989819268668,\n",
      "  f1_3: \n",
      "    0.3330996666355111,\n",
      "  accuracy_4: \n",
      "    0.9996964460841545,\n",
      "  f1_4: \n",
      "    0.3332827333341118,\n",
      "  accuracy_5: \n",
      "    0.979358333722505,\n",
      "  f1_5: \n",
      "    0.13869943848523322,\n",
      "  accuracy_6: \n",
      "    0.9896207911082053,\n",
      "  f1_6: \n",
      "    0.6405715424990597,\n",
      "  accuracy_7: \n",
      "    0.9982370522579741,\n",
      "  f1_7: \n",
      "    0.3330392494824319,\n",
      "  accuracy_8: \n",
      "    0.9951664876476907,\n",
      "  f1_8: \n",
      "    0.5297217278640624,\n",
      "  accuracy_9: \n",
      "    0.9911268855368234,\n",
      "  f1_9: \n",
      "    0.6442647099890016,\n",
      "  accuracy_10: \n",
      "    0.9950614112922057,\n",
      "  f1_10: \n",
      "    0.33250819771263823,\n",
      "  accuracy_11: \n",
      "    0.997151263251296,\n",
      "  f1_11: \n",
      "    0.3328578666354885,\n",
      "  accuracy_12: \n",
      "    0.9939055713818709,\n",
      "  f1_12: \n",
      "    0.4968044510045014,\n",
      "  accuracy_13: \n",
      "    0.9977817213842058,\n",
      "  f1_13: \n",
      "    0.3329632097120438,\n",
      "  accuracy_14: \n",
      "    0.9946761313220941,\n",
      "  f1_14: \n",
      "    0.3324436536180308,\n",
      "  accuracy_15: \n",
      "    0.9935319665623686,\n",
      "  f1_15: \n",
      "    0.33225183016105414,\n",
      "  accuracy_16: \n",
      "    0.9944776537617335,\n",
      "  f1_16: \n",
      "    0.504609841184228,\n",
      "  accuracy_17: \n",
      "    0.9805024984822304,\n",
      "  f1_17: \n",
      "    0.5874295408185081,\n",
      "  accuracy_18: \n",
      "    0.9994045673189185,\n",
      "  f1_18: \n",
      "    0.33323406499934793,\n",
      "  accuracy_19: \n",
      "    0.9974548171671415,\n",
      "  f1_19: \n",
      "    0.33290859567702796,\n",
      "}\n",
      "\n",
      "\n",
      "[6] Effects:\n",
      "{\n",
      "  accuracy: \n",
      "    0.9937164339419978,\n",
      "  f1: \n",
      "    0.20107666577263694,\n",
      "  accuracy_0: \n",
      "    0.9935553168635876,\n",
      "  f1_0: \n",
      "    0.3322557471264368,\n",
      "  accuracy_1: \n",
      "    0.9980152243963947,\n",
      "  f1_1: \n",
      "    0.6576868727083459,\n",
      "  accuracy_2: \n",
      "    0.9982020268061458,\n",
      "  f1_2: \n",
      "    0.33303340149965915,\n",
      "  accuracy_3: \n",
      "    0.9982954280110213,\n",
      "  f1_3: \n",
      "    0.3330489956648243,\n",
      "  accuracy_4: \n",
      "    0.9990659879512446,\n",
      "  f1_4: \n",
      "    0.3331775919263655,\n",
      "  accuracy_5: \n",
      "    0.9784009713725307,\n",
      "  f1_5: \n",
      "    0.10989806476487228,\n",
      "  accuracy_6: \n",
      "    0.9888268808667632,\n",
      "  f1_6: \n",
      "    0.6385231448203409,\n",
      "  accuracy_7: \n",
      "    0.9966725820763088,\n",
      "  f1_7: \n",
      "    0.3327778394993149,\n",
      "  accuracy_8: \n",
      "    0.9961588754494933,\n",
      "  f1_8: \n",
      "    0.5721317983998654,\n",
      "  accuracy_9: \n",
      "    0.9885817027039648,\n",
      "  f1_9: \n",
      "    0.6379546816327868,\n",
      "  accuracy_10: \n",
      "    0.9949329846355018,\n",
      "  f1_10: \n",
      "    0.3324866857845145,\n",
      "  accuracy_11: \n",
      "    0.9962989772568066,\n",
      "  f1_11: \n",
      "    0.33271535262914725,\n",
      "  accuracy_12: \n",
      "    0.9960070984915705,\n",
      "  f1_12: \n",
      "    0.3326665184855894,\n",
      "  accuracy_13: \n",
      "    0.9961472002988838,\n",
      "  f1_13: \n",
      "    0.332689960656786,\n",
      "  accuracy_14: \n",
      "    0.9944776537617335,\n",
      "  f1_14: \n",
      "    0.332410393898063,\n",
      "  accuracy_15: \n",
      "    0.9883365245411666,\n",
      "  f1_15: \n",
      "    0.3313780178699001,\n",
      "  accuracy_16: \n",
      "    0.9954583664129267,\n",
      "  f1_16: \n",
      "    0.5309041304616547,\n",
      "  accuracy_17: \n",
      "    0.97967356278896,\n",
      "  f1_17: \n",
      "    0.5833491812826955,\n",
      "  accuracy_18: \n",
      "    0.999182739457339,\n",
      "  f1_18: \n",
      "    0.4997956013408552,\n",
      "  accuracy_19: \n",
      "    0.9980385746976136,\n",
      "  f1_19: \n",
      "    0.33300610820244325,\n",
      "}\n",
      "\n",
      "\n",
      "[6] Conflicts:\n",
      "{\n",
      "  accuracy: \n",
      "    0.9708821743800495,\n",
      "  f1: \n",
      "    0.5241608596165429,\n",
      "}\n",
      "\n",
      "\n",
      "[6] Stories:\n",
      "{\n",
      "  accuracy: \n",
      "    0.717391304347826,\n",
      "  f1: \n",
      "    0.7173231460847587,\n",
      "  verifiability: \n",
      "    0.006211180124223602,\n",
      "}\n",
      "\n",
      "\n",
      "[6] Saving model checkpoint...\n"
     ]
    },
    {
     "name": "stderr",
     "output_type": "stream",
     "text": [
      "\r",
      "[                                                                        ]   0%"
     ]
    },
    {
     "name": "stdout",
     "output_type": "stream",
     "text": [
      "[6] Finished epoch.\n",
      "[7] Beginning epoch...\n"
     ]
    },
    {
     "name": "stderr",
     "output_type": "stream",
     "text": [
      "[########################################################################] 100%\n",
      "[                                                                        ]   0%"
     ]
    },
    {
     "name": "stdout",
     "output_type": "stream",
     "text": [
      "\tBeginning evaluation...\n",
      "\t\tRunning prediction...\n"
     ]
    },
    {
     "name": "stderr",
     "output_type": "stream",
     "text": [
      "[########################################################################] 100%\n"
     ]
    },
    {
     "name": "stdout",
     "output_type": "stream",
     "text": [
      "\t\tComputing metrics...\n",
      "\tFinished evaluation in 0:00:54s.\n",
      "[7] Validation results:\n",
      "[7] Preconditions:\n",
      "{\n",
      "  accuracy: \n",
      "    0.9944233643113997,\n",
      "  f1: \n",
      "    0.2557381770186377,\n",
      "  accuracy_0: \n",
      "    0.9935553168635876,\n",
      "  f1_0: \n",
      "    0.3322557471264368,\n",
      "  accuracy_1: \n",
      "    0.9979101480409097,\n",
      "  f1_1: \n",
      "    0.6572515223886748,\n",
      "  accuracy_2: \n",
      "    0.9988791855414935,\n",
      "  f1_2: \n",
      "    0.33314642617946205,\n",
      "  accuracy_3: \n",
      "    0.9985989819268668,\n",
      "  f1_3: \n",
      "    0.3330996666355111,\n",
      "  accuracy_4: \n",
      "    0.9996964460841545,\n",
      "  f1_4: \n",
      "    0.3332827333341118,\n",
      "  accuracy_5: \n",
      "    0.9806776257413721,\n",
      "  f1_5: \n",
      "    0.16175413733369673,\n",
      "  accuracy_6: \n",
      "    0.9898075935179563,\n",
      "  f1_6: \n",
      "    0.6412649377747481,\n",
      "  accuracy_7: \n",
      "    0.9982370522579741,\n",
      "  f1_7: \n",
      "    0.3330392494824319,\n",
      "  accuracy_8: \n",
      "    0.9956218185214589,\n",
      "  f1_8: \n",
      "    0.5456597741143829,\n",
      "  accuracy_9: \n",
      "    0.9910685097837763,\n",
      "  f1_9: \n",
      "    0.6440914109509279,\n",
      "  accuracy_10: \n",
      "    0.9950614112922057,\n",
      "  f1_10: \n",
      "    0.33250819771263823,\n",
      "  accuracy_11: \n",
      "    0.997151263251296,\n",
      "  f1_11: \n",
      "    0.3328578666354885,\n",
      "  accuracy_12: \n",
      "    0.9945593798159996,\n",
      "  f1_12: \n",
      "    0.5303423323057876,\n",
      "  accuracy_13: \n",
      "    0.9977817213842058,\n",
      "  f1_13: \n",
      "    0.3329632097120438,\n",
      "  accuracy_14: \n",
      "    0.9946761313220941,\n",
      "  f1_14: \n",
      "    0.3324436536180308,\n",
      "  accuracy_15: \n",
      "    0.9935319665623686,\n",
      "  f1_15: \n",
      "    0.33225183016105414,\n",
      "  accuracy_16: \n",
      "    0.9946878064727035,\n",
      "  f1_16: \n",
      "    0.5153251258393012,\n",
      "  accuracy_17: \n",
      "    0.9801055433615093,\n",
      "  f1_17: \n",
      "    0.5848235986980257,\n",
      "  accuracy_18: \n",
      "    0.9994045673189185,\n",
      "  f1_18: \n",
      "    0.33323406499934793,\n",
      "  accuracy_19: \n",
      "    0.9974548171671415,\n",
      "  f1_19: \n",
      "    0.33290859567702796,\n",
      "}\n",
      "\n",
      "\n",
      "[7] Effects:\n",
      "{\n",
      "  accuracy: \n",
      "    0.9937537944239481,\n",
      "  f1: \n",
      "    0.20122355616808651,\n",
      "  accuracy_0: \n",
      "    0.9935553168635876,\n",
      "  f1_0: \n",
      "    0.3322557471264368,\n",
      "  accuracy_1: \n",
      "    0.9981903516555364,\n",
      "  f1_1: \n",
      "    0.6584723826174198,\n",
      "  accuracy_2: \n",
      "    0.9982020268061458,\n",
      "  f1_2: \n",
      "    0.33303340149965915,\n",
      "  accuracy_3: \n",
      "    0.9982954280110213,\n",
      "  f1_3: \n",
      "    0.3330489956648243,\n",
      "  accuracy_4: \n",
      "    0.9990659879512446,\n",
      "  f1_4: \n",
      "    0.3331775919263655,\n",
      "  accuracy_5: \n",
      "    0.9784009713725307,\n",
      "  f1_5: \n",
      "    0.10989806476487228,\n",
      "  accuracy_6: \n",
      "    0.9889436323728577,\n",
      "  f1_6: \n",
      "    0.6389740833356697,\n",
      "  accuracy_7: \n",
      "    0.9966725820763088,\n",
      "  f1_7: \n",
      "    0.3327778394993149,\n",
      "  accuracy_8: \n",
      "    0.99622892635315,\n",
      "  f1_8: \n",
      "    0.5729484710217966,\n",
      "  accuracy_9: \n",
      "    0.9887334796618876,\n",
      "  f1_9: \n",
      "    0.6383042292534453,\n",
      "  accuracy_10: \n",
      "    0.9949329846355018,\n",
      "  f1_10: \n",
      "    0.3324866857845145,\n",
      "  accuracy_11: \n",
      "    0.9962989772568066,\n",
      "  f1_11: \n",
      "    0.33271535262914725,\n",
      "  accuracy_12: \n",
      "    0.9960070984915705,\n",
      "  f1_12: \n",
      "    0.3326665184855894,\n",
      "  accuracy_13: \n",
      "    0.9961472002988838,\n",
      "  f1_13: \n",
      "    0.332689960656786,\n",
      "  accuracy_14: \n",
      "    0.9944776537617335,\n",
      "  f1_14: \n",
      "    0.332410393898063,\n",
      "  accuracy_15: \n",
      "    0.9884416008966516,\n",
      "  f1_15: \n",
      "    0.33773132817320195,\n",
      "  accuracy_16: \n",
      "    0.9957969457806005,\n",
      "  f1_16: \n",
      "    0.5477595219364969,\n",
      "  accuracy_17: \n",
      "    0.97946341007799,\n",
      "  f1_17: \n",
      "    0.5811867946956565,\n",
      "  accuracy_18: \n",
      "    0.999182739457339,\n",
      "  f1_18: \n",
      "    0.4997956013408552,\n",
      "  accuracy_19: \n",
      "    0.9980385746976136,\n",
      "  f1_19: \n",
      "    0.33300610820244325,\n",
      "}\n",
      "\n",
      "\n",
      "[7] Conflicts:\n",
      "{\n",
      "  accuracy: \n",
      "    0.970683696819689,\n",
      "  f1: \n",
      "    0.6222781480958293,\n",
      "}\n",
      "\n",
      "\n",
      "[7] Stories:\n",
      "{\n",
      "  accuracy: \n",
      "    0.7236024844720497,\n",
      "  f1: \n",
      "    0.7234718000675447,\n",
      "  verifiability: \n",
      "    0.027950310559006212,\n",
      "}\n",
      "\n",
      "\n",
      "[7] Saving model checkpoint...\n"
     ]
    },
    {
     "name": "stderr",
     "output_type": "stream",
     "text": [
      "\r",
      "[                                                                        ]   0%"
     ]
    },
    {
     "name": "stdout",
     "output_type": "stream",
     "text": [
      "[7] Finished epoch.\n",
      "[8] Beginning epoch...\n"
     ]
    },
    {
     "name": "stderr",
     "output_type": "stream",
     "text": [
      "[########################################################################] 100%\n",
      "[                                                                        ]   0%"
     ]
    },
    {
     "name": "stdout",
     "output_type": "stream",
     "text": [
      "\tBeginning evaluation...\n",
      "\t\tRunning prediction...\n"
     ]
    },
    {
     "name": "stderr",
     "output_type": "stream",
     "text": [
      "[########################################################################] 100%\n"
     ]
    },
    {
     "name": "stdout",
     "output_type": "stream",
     "text": [
      "\t\tComputing metrics...\n",
      "\tFinished evaluation in 0:00:54s.\n",
      "[8] Validation results:\n",
      "[8] Preconditions:\n",
      "{\n",
      "  accuracy: \n",
      "    0.9944122729183207,\n",
      "  f1: \n",
      "    0.25610969372030906,\n",
      "  accuracy_0: \n",
      "    0.9935553168635876,\n",
      "  f1_0: \n",
      "    0.3322557471264368,\n",
      "  accuracy_1: \n",
      "    0.9979918740951759,\n",
      "  f1_1: \n",
      "    0.6575868996822783,\n",
      "  accuracy_2: \n",
      "    0.9988791855414935,\n",
      "  f1_2: \n",
      "    0.33314642617946205,\n",
      "  accuracy_3: \n",
      "    0.9985989819268668,\n",
      "  f1_3: \n",
      "    0.3330996666355111,\n",
      "  accuracy_4: \n",
      "    0.9996964460841545,\n",
      "  f1_4: \n",
      "    0.3332827333341118,\n",
      "  accuracy_5: \n",
      "    0.980280670620651,\n",
      "  f1_5: \n",
      "    0.16200807204852705,\n",
      "  accuracy_6: \n",
      "    0.9899243450240508,\n",
      "  f1_6: \n",
      "    0.6414131718459019,\n",
      "  accuracy_7: \n",
      "    0.9982370522579741,\n",
      "  f1_7: \n",
      "    0.3330392494824319,\n",
      "  accuracy_8: \n",
      "    0.9951898379489096,\n",
      "  f1_8: \n",
      "    0.525889885987581,\n",
      "  accuracy_9: \n",
      "    0.9912319618923084,\n",
      "  f1_9: \n",
      "    0.6443896672256321,\n",
      "  accuracy_10: \n",
      "    0.9950614112922057,\n",
      "  f1_10: \n",
      "    0.33250819771263823,\n",
      "  accuracy_11: \n",
      "    0.997151263251296,\n",
      "  f1_11: \n",
      "    0.3328578666354885,\n",
      "  accuracy_12: \n",
      "    0.9943025265025919,\n",
      "  f1_12: \n",
      "    0.5157835465795706,\n",
      "  accuracy_13: \n",
      "    0.9977817213842058,\n",
      "  f1_13: \n",
      "    0.3329632097120438,\n",
      "  accuracy_14: \n",
      "    0.9946761313220941,\n",
      "  f1_14: \n",
      "    0.3324436536180308,\n",
      "  accuracy_15: \n",
      "    0.9935319665623686,\n",
      "  f1_15: \n",
      "    0.33225183016105414,\n",
      "  accuracy_16: \n",
      "    0.9943725774062485,\n",
      "  f1_16: \n",
      "    0.4941379675275994,\n",
      "  accuracy_17: \n",
      "    0.9809228039041704,\n",
      "  f1_17: \n",
      "    0.5914198498334188,\n",
      "  accuracy_18: \n",
      "    0.9994045673189185,\n",
      "  f1_18: \n",
      "    0.33323406499934793,\n",
      "  accuracy_19: \n",
      "    0.9974548171671415,\n",
      "  f1_19: \n",
      "    0.33290859567702796,\n",
      "}\n",
      "\n",
      "\n",
      "[8] Effects:\n",
      "{\n",
      "  accuracy: \n",
      "    0.9937596319992528,\n",
      "  f1: \n",
      "    0.20117863162851454,\n",
      "  accuracy_0: \n",
      "    0.9935553168635876,\n",
      "  f1_0: \n",
      "    0.3322557471264368,\n",
      "  accuracy_1: \n",
      "    0.9978167468360342,\n",
      "  f1_1: \n",
      "    0.6567418580883196,\n",
      "  accuracy_2: \n",
      "    0.9982020268061458,\n",
      "  f1_2: \n",
      "    0.33303340149965915,\n",
      "  accuracy_3: \n",
      "    0.9982954280110213,\n",
      "  f1_3: \n",
      "    0.3330489956648243,\n",
      "  accuracy_4: \n",
      "    0.9990659879512446,\n",
      "  f1_4: \n",
      "    0.3331775919263655,\n",
      "  accuracy_5: \n",
      "    0.9784009713725307,\n",
      "  f1_5: \n",
      "    0.10989806476487228,\n",
      "  accuracy_6: \n",
      "    0.9888969317704198,\n",
      "  f1_6: \n",
      "    0.6384982528813676,\n",
      "  accuracy_7: \n",
      "    0.9966725820763088,\n",
      "  f1_7: \n",
      "    0.3327778394993149,\n",
      "  accuracy_8: \n",
      "    0.9955751179190212,\n",
      "  f1_8: \n",
      "    0.5487212764941826,\n",
      "  accuracy_9: \n",
      "    0.9888852566198104,\n",
      "  f1_9: \n",
      "    0.6385551204683245,\n",
      "  accuracy_10: \n",
      "    0.9949329846355018,\n",
      "  f1_10: \n",
      "    0.3324866857845145,\n",
      "  accuracy_11: \n",
      "    0.9962989772568066,\n",
      "  f1_11: \n",
      "    0.33271535262914725,\n",
      "  accuracy_12: \n",
      "    0.9960070984915705,\n",
      "  f1_12: \n",
      "    0.3326665184855894,\n",
      "  accuracy_13: \n",
      "    0.9961472002988838,\n",
      "  f1_13: \n",
      "    0.332689960656786,\n",
      "  accuracy_14: \n",
      "    0.9944776537617335,\n",
      "  f1_14: \n",
      "    0.332410393898063,\n",
      "  accuracy_15: \n",
      "    0.9885933778545744,\n",
      "  f1_15: \n",
      "    0.3466986085907969,\n",
      "  accuracy_16: \n",
      "    0.9951431373464718,\n",
      "  f1_16: \n",
      "    0.5171643121703272,\n",
      "  accuracy_17: \n",
      "    0.9810045299584365,\n",
      "  f1_17: \n",
      "    0.5898884458725965,\n",
      "  accuracy_18: \n",
      "    0.999182739457339,\n",
      "  f1_18: \n",
      "    0.4997956013408552,\n",
      "  accuracy_19: \n",
      "    0.9980385746976136,\n",
      "  f1_19: \n",
      "    0.33300610820244325,\n",
      "}\n",
      "\n",
      "\n",
      "[8] Conflicts:\n",
      "{\n",
      "  accuracy: \n",
      "    0.9713725307056461,\n",
      "  f1: \n",
      "    0.6375395153745358,\n",
      "}\n",
      "\n",
      "\n",
      "[8] Stories:\n",
      "{\n",
      "  accuracy: \n",
      "    0.7049689440993789,\n",
      "  f1: \n",
      "    0.7047382797795431,\n",
      "  verifiability: \n",
      "    0.040372670807453416,\n",
      "}\n",
      "\n",
      "\n",
      "[8] Saving model checkpoint...\n"
     ]
    },
    {
     "name": "stderr",
     "output_type": "stream",
     "text": [
      "\r",
      "[                                                                        ]   0%"
     ]
    },
    {
     "name": "stdout",
     "output_type": "stream",
     "text": [
      "[8] Finished epoch.\n",
      "[9] Beginning epoch...\n"
     ]
    },
    {
     "name": "stderr",
     "output_type": "stream",
     "text": [
      "[########################################################################] 100%\n",
      "[                                                                        ]   0%"
     ]
    },
    {
     "name": "stdout",
     "output_type": "stream",
     "text": [
      "\tBeginning evaluation...\n",
      "\t\tRunning prediction...\n"
     ]
    },
    {
     "name": "stderr",
     "output_type": "stream",
     "text": [
      "[########################################################################] 100%\n"
     ]
    },
    {
     "name": "stdout",
     "output_type": "stream",
     "text": [
      "\t\tComputing metrics...\n",
      "\tFinished evaluation in 0:00:54s.\n",
      "[9] Validation results:\n",
      "[9] Preconditions:\n",
      "{\n",
      "  accuracy: \n",
      "    0.9944058515854854,\n",
      "  f1: \n",
      "    0.2576770487799801,\n",
      "  accuracy_0: \n",
      "    0.9935553168635876,\n",
      "  f1_0: \n",
      "    0.3322557471264368,\n",
      "  accuracy_1: \n",
      "    0.9976065941250642,\n",
      "  f1_1: \n",
      "    0.6559484471766436,\n",
      "  accuracy_2: \n",
      "    0.9988791855414935,\n",
      "  f1_2: \n",
      "    0.33314642617946205,\n",
      "  accuracy_3: \n",
      "    0.9985989819268668,\n",
      "  f1_3: \n",
      "    0.3330996666355111,\n",
      "  accuracy_4: \n",
      "    0.9996964460841545,\n",
      "  f1_4: \n",
      "    0.3332827333341118,\n",
      "  accuracy_5: \n",
      "    0.9803390463736982,\n",
      "  f1_5: \n",
      "    0.16365390046051725,\n",
      "  accuracy_6: \n",
      "    0.9897025171624714,\n",
      "  f1_6: \n",
      "    0.6407536090509952,\n",
      "  accuracy_7: \n",
      "    0.9982370522579741,\n",
      "  f1_7: \n",
      "    0.3330392494824319,\n",
      "  accuracy_8: \n",
      "    0.9957852706299911,\n",
      "  f1_8: \n",
      "    0.5516250606155051,\n",
      "  accuracy_9: \n",
      "    0.9911852612898706,\n",
      "  f1_9: \n",
      "    0.6442222302801767,\n",
      "  accuracy_10: \n",
      "    0.9950614112922057,\n",
      "  f1_10: \n",
      "    0.33250819771263823,\n",
      "  accuracy_11: \n",
      "    0.997151263251296,\n",
      "  f1_11: \n",
      "    0.3328578666354885,\n",
      "  accuracy_12: \n",
      "    0.9941390743940597,\n",
      "  f1_12: \n",
      "    0.5111585796621873,\n",
      "  accuracy_13: \n",
      "    0.9977817213842058,\n",
      "  f1_13: \n",
      "    0.3329632097120438,\n",
      "  accuracy_14: \n",
      "    0.9946761313220941,\n",
      "  f1_14: \n",
      "    0.3324436536180308,\n",
      "  accuracy_15: \n",
      "    0.9935319665623686,\n",
      "  f1_15: \n",
      "    0.33225183016105414,\n",
      "  accuracy_16: \n",
      "    0.9948629337318451,\n",
      "  f1_16: \n",
      "    0.5227079711749573,\n",
      "  accuracy_17: \n",
      "    0.980467473030402,\n",
      "  f1_17: \n",
      "    0.5873342706507417,\n",
      "  accuracy_18: \n",
      "    0.9994045673189185,\n",
      "  f1_18: \n",
      "    0.33323406499934793,\n",
      "  accuracy_19: \n",
      "    0.9974548171671415,\n",
      "  f1_19: \n",
      "    0.33290859567702796,\n",
      "}\n",
      "\n",
      "\n",
      "[9] Effects:\n",
      "{\n",
      "  accuracy: \n",
      "    0.9937479568486434,\n",
      "  f1: \n",
      "    0.20439243965281695,\n",
      "  accuracy_0: \n",
      "    0.9935553168635876,\n",
      "  f1_0: \n",
      "    0.3322557471264368,\n",
      "  accuracy_1: \n",
      "    0.9978284219866437,\n",
      "  f1_1: \n",
      "    0.6568515384260779,\n",
      "  accuracy_2: \n",
      "    0.9982020268061458,\n",
      "  f1_2: \n",
      "    0.33303340149965915,\n",
      "  accuracy_3: \n",
      "    0.9982954280110213,\n",
      "  f1_3: \n",
      "    0.3330489956648243,\n",
      "  accuracy_4: \n",
      "    0.9990659879512446,\n",
      "  f1_4: \n",
      "    0.3331775919263655,\n",
      "  accuracy_5: \n",
      "    0.9784943725774062,\n",
      "  f1_5: \n",
      "    0.11313557657950563,\n",
      "  accuracy_6: \n",
      "    0.988768505113716,\n",
      "  f1_6: \n",
      "    0.6381775241059273,\n",
      "  accuracy_7: \n",
      "    0.9966725820763088,\n",
      "  f1_7: \n",
      "    0.3327778394993149,\n",
      "  accuracy_8: \n",
      "    0.9960187736421799,\n",
      "  f1_8: \n",
      "    0.5655313702390036,\n",
      "  accuracy_9: \n",
      "    0.9886167281557932,\n",
      "  f1_9: \n",
      "    0.6378518881837244,\n",
      "  accuracy_10: \n",
      "    0.9949329846355018,\n",
      "  f1_10: \n",
      "    0.3324866857845145,\n",
      "  accuracy_11: \n",
      "    0.9962989772568066,\n",
      "  f1_11: \n",
      "    0.33271535262914725,\n",
      "  accuracy_12: \n",
      "    0.9960070984915705,\n",
      "  f1_12: \n",
      "    0.3326665184855894,\n",
      "  accuracy_13: \n",
      "    0.9961472002988838,\n",
      "  f1_13: \n",
      "    0.332689960656786,\n",
      "  accuracy_14: \n",
      "    0.9944776537617335,\n",
      "  f1_14: \n",
      "    0.332410393898063,\n",
      "  accuracy_15: \n",
      "    0.9886867790594499,\n",
      "  f1_15: \n",
      "    0.35274222154222806,\n",
      "  accuracy_16: \n",
      "    0.9957035445757251,\n",
      "  f1_16: \n",
      "    0.5474172719615256,\n",
      "  accuracy_17: \n",
      "    0.9799654415541961,\n",
      "  f1_17: \n",
      "    0.5847770774579418,\n",
      "  accuracy_18: \n",
      "    0.999182739457339,\n",
      "  f1_18: \n",
      "    0.4997956013408552,\n",
      "  accuracy_19: \n",
      "    0.9980385746976136,\n",
      "  f1_19: \n",
      "    0.33300610820244325,\n",
      "}\n",
      "\n",
      "\n",
      "[9] Conflicts:\n",
      "{\n",
      "  accuracy: \n",
      "    0.969843085975809,\n",
      "  f1: \n",
      "    0.6553458742520285,\n",
      "}\n",
      "\n",
      "\n",
      "[9] Stories:\n",
      "{\n",
      "  accuracy: \n",
      "    0.7142857142857143,\n",
      "  f1: \n",
      "    0.7140098856966326,\n",
      "  verifiability: \n",
      "    0.031055900621118012,\n",
      "}\n",
      "\n",
      "\n",
      "[9] Saving model checkpoint...\n",
      "[9] Finished epoch.\n",
      "Finished grid search! :)\n",
      "Best validation *verifiability* 0.040372670807453416 from model COMET-CONCAT-MAX-POOLING_cloze_1_1e-05_8_0.0-0.4-0.4-0.2-0.0_tiered_pipeline_lc_ablate_attributes_states-logits.\n",
      "Best validation *accuracy* 0.7236024844720497 from model COMET-CONCAT-MAX-POOLING_cloze_1_1e-05_7_0.0-0.4-0.4-0.2-0.0_tiered_pipeline_lc_ablate_attributes_states-logits.\n"
     ]
    }
   ],
   "source": [
    "print('Beginning grid search for the %s sub-task over %s parameter combination(s)!' % (subtask, str(len(batch_sizes) * len(learning_rates))))\n",
    "for bs in batch_sizes:\n",
    "  for lr in learning_rates:\n",
    "    print('\\nTRAINING MODEL: bs=%s, lr=%s' % (str(bs), str(lr)))\n",
    "\n",
    "    loss_values = []\n",
    "    obj_values = []\n",
    "\n",
    "    # Set up training dataset with new batch size\n",
    "    train_sampler = RandomSampler(tiered_tensor_dataset['train'])\n",
    "    train_dataloader = DataLoader(tiered_tensor_dataset['train'], sampler=train_sampler, batch_size=bs)\n",
    "      \n",
    "    device = 'cuda:0'\n",
    "    max_story_length = max([len(ex['stories'][0]['sentences']) for p in tiered_dataset for ex in tiered_dataset[p]])\n",
    "    model = TieredModelCometPipeline(None, max_story_length, len(att_to_num_classes), num_state_labels,\n",
    "                                comet_config_class, comet_model_name, device, \n",
    "                                ablation=ablation, loss_weights=loss_weights, pretrained_comet_model=comet_model,\n",
    "                                comet_vocab=list(atomic_text_encoder.encoder.keys())).to(device)\n",
    "\n",
    "    # Set up optimizer\n",
    "    optimizer = AdamW(model.parameters(), lr=lr)\n",
    "    total_steps = len(train_dataloader) * epochs\n",
    "    scheduler = get_linear_schedule_with_warmup(optimizer, num_warmup_steps=0, num_training_steps = total_steps)\n",
    "\n",
    "    train_lc_data = []\n",
    "    val_lc_data = []\n",
    "    for epoch in range(epochs):\n",
    "      # Train the model for one epoch\n",
    "      print('[%s] Beginning epoch...' % str(epoch))\n",
    "\n",
    "      epoch_loss, _ = train_epoch_tiered(model, optimizer, train_dataloader, device, seg_mode=False, \n",
    "                                         build_learning_curves=generate_learning_curve, val_dataloader=dev_dataloader, \n",
    "                                         train_lc_data=train_lc_data, val_lc_data=val_lc_data)\n",
    "      \n",
    "      \n",
    "      # Save loss\n",
    "      loss_values.append(epoch_loss)\n",
    "\n",
    "      # Validate on dev set\n",
    "      validation_results = evaluate_tiered(model, dev_dataloader, device, [(accuracy_score, 'accuracy'), (f1_score, 'f1')], seg_mode=False, return_explanations=True)\n",
    "      metr_attr, all_pred_atts, all_atts, \\\n",
    "      metr_prec, all_pred_prec, all_prec, \\\n",
    "      metr_eff, all_pred_eff, all_eff, \\\n",
    "      metr_conflicts, all_pred_conflicts, all_conflicts, \\\n",
    "      metr_stories, all_pred_stories, all_stories, explanations = validation_results[:16]\n",
    "      explanations = add_entity_attribute_labels(explanations, tiered_dataset['dev'], list(att_to_num_classes.keys()))\n",
    "\n",
    "      print('[%s] Validation results:' % str(epoch))\n",
    "      print('[%s] Preconditions:' % str(epoch))\n",
    "      print_dict(metr_prec)\n",
    "      print('[%s] Effects:' % str(epoch))\n",
    "      print_dict(metr_eff)\n",
    "      print('[%s] Conflicts:' % str(epoch))\n",
    "      print_dict(metr_conflicts)\n",
    "      print('[%s] Stories:' % str(epoch))\n",
    "      print_dict(metr_stories)\n",
    "\n",
    "      # Save accuracy - want to maximize verifiability of tiered predictions\n",
    "      ver = metr_stories['verifiability']\n",
    "      acc = metr_stories['accuracy']\n",
    "      obj_values.append(ver)\n",
    "      \n",
    "      # Save model checkpoint\n",
    "      print('[%s] Saving model checkpoint...' % str(epoch))\n",
    "      model_param_str = get_model_dir(model_name.replace('/', '-'), subtask, bs, lr, epoch) + '_' +  '-'.join([str(lw) for lw in loss_weights]) +  '_tiered_pipeline_lc'\n",
    "      if train_spans:\n",
    "        model_param_str += 'spans'\n",
    "      if len(model.ablation) > 0:\n",
    "        model_param_str += '_ablate_'\n",
    "        model_param_str += '_'.join(model.ablation)\n",
    "      output_dir = os.path.join(DRIVE_PATH, 'saved_models', model_param_str)\n",
    "      output_dirs.append(output_dir)\n",
    "      if not os.path.exists(output_dir):\n",
    "        os.makedirs(output_dir)\n",
    "\n",
    "      save_results(metr_attr, output_dir, dev_dataset_name % 'attributes')\n",
    "      save_results(metr_prec, output_dir, dev_dataset_name % 'preconditions')\n",
    "      save_results(metr_eff, output_dir, dev_dataset_name % 'effects')\n",
    "      save_results(metr_conflicts, output_dir, dev_dataset_name % 'conflicts')\n",
    "      save_results(metr_stories, output_dir, dev_dataset_name % 'stories')\n",
    "      save_results(explanations, output_dir, dev_dataset_name % 'explanations')\n",
    "\n",
    "      # Just save story preds\n",
    "      save_preds(dev_ids, all_stories, all_pred_stories, output_dir, dev_dataset_name % 'stories')\n",
    "\n",
    "      torch.save(model, os.path.join(output_dir, 'classifiers.pth'))\n",
    "      tokenizer.save_vocabulary(output_dir)\n",
    "\n",
    "      if ver > best_obj:\n",
    "        best_obj = ver\n",
    "        best_model = model_param_str\n",
    "        best_dir = output_dir\n",
    "      if acc > best_obj2:\n",
    "        best_obj2 = acc\n",
    "        best_model2 = model_param_str\n",
    "        best_dir2 = output_dir        \n",
    "\n",
    "      for od in output_dirs:\n",
    "        if od != best_dir and od != best_dir2 and os.path.exists(od):\n",
    "          shutil.rmtree(od)\n",
    "\n",
    "      print('[%s] Finished epoch.' % str(epoch))\n",
    "\n",
    "    all_losses.append(loss_values)\n",
    "    all_val_objs.append(obj_values)\n",
    "    param_combos.append((bs, lr))\n",
    "    combo_names.append('bs=%s, lr=%s' % (str(bs), str(lr)))\n",
    "\n",
    "print('Finished grid search! :)')\n",
    "print('Best validation *verifiability* %s from model %s.' % (str(best_obj), best_model))\n",
    "print('Best validation *accuracy* %s from model %s.' % (str(best_obj2), best_model2))\n",
    "\n",
    "if generate_learning_curve:\n",
    "  print('Saving learning curve data...')\n",
    "  train_lc_data = [subrecord for record in train_lc_data for subrecord in record] # flatten\n",
    "  val_lc_data = [subrecord for record in val_lc_data for subrecord in record] # flatten\n",
    "\n",
    "  train_lc_data = pd.DataFrame(train_lc_data)\n",
    "  print(os.path.join(best_dir if best_dir != '<none>' else best_dir2, 'learning_curve_data_train.csv'))\n",
    "  train_lc_data.to_csv(os.path.join(best_dir if best_dir != '' else best_dir2, 'learning_curve_data_train.csv'), index=False)\n",
    "  val_lc_data = pd.DataFrame(val_lc_data)\n",
    "  val_lc_data.to_csv(os.path.join(best_dir if best_dir != '' else best_dir2, 'learning_curve_data_val.csv'), index=False)\n",
    "  print('Learning curve data saved. %s rows saved for training, %s rows saved for validation.' % (str(len(train_lc_data.index)), str(len(val_lc_data.index))))\n"
   ]
  },
  {
   "cell_type": "markdown",
   "metadata": {},
   "source": [
    "## Normal Training"
   ]
  },
  {
   "cell_type": "markdown",
   "metadata": {
    "id": "2_jhT4gSBdq5"
   },
   "source": [
    "Delete all non-best model checkpoints:"
   ]
  },
  {
   "cell_type": "code",
   "execution_count": 81,
   "metadata": {
    "id": "o7iILulEBdq6"
   },
   "outputs": [],
   "source": [
    "import shutil\n",
    "\n",
    "# Delete non-best model checkpoints\n",
    "for od in output_dirs:\n",
    "  if od != best_dir and od != best_dir2 and os.path.exists(od):\n",
    "    shutil.rmtree(od)"
   ]
  },
  {
   "cell_type": "markdown",
   "metadata": {
    "id": "aWFmGRhznl2T"
   },
   "source": [
    "### Test Models\n",
    "\n",
    "Evaluate accuracy, consistency, and verifiability on the test set."
   ]
  },
  {
   "cell_type": "markdown",
   "metadata": {
    "id": "Rbvpm9irn3qL"
   },
   "source": [
    "#### Load the Trained Model\n",
    "\n",
    "Load the trained model we want to probe and select the appropriate dataset. Paths to the pre-trained models presented in the paper are already provided (download links are found in GitHub repo)."
   ]
  },
  {
   "cell_type": "code",
   "execution_count": 82,
   "metadata": {},
   "outputs": [],
   "source": [
    "eval_model_dir = best_dir"
   ]
  },
  {
   "cell_type": "code",
   "execution_count": 84,
   "metadata": {
    "id": "fM_lYqw9n3qM"
   },
   "outputs": [],
   "source": [
    "from www.model.transformers_ext import TieredModelPipeline\n",
    "from www.dataset.ann import att_to_num_classes, att_to_idx, att_types\n",
    "\n",
    "probe_model = eval_model_dir\n",
    "#probe_model = os.path.join(DRIVE_PATH, 'saved_models', probe_model)\n",
    "\n",
    "ablation = ['attributes', 'states-logits']\n",
    "\n",
    "if 'cloze' in probe_model:\n",
    "  subtask = 'cloze'\n",
    "elif 'order' in probe_model:\n",
    "  subtask = 'order'\n",
    "  \n",
    "if subtask == 'cloze':\n",
    "  subtask_dataset = cloze_dataset_2s\n",
    "elif subtask == 'order':\n",
    "  subtask_dataset = order_dataset_2s\n",
    "\n",
    "# Load the model\n",
    "model = None\n",
    "# model = torch.load(os.path.join(probe_model, 'classifiers.pth'), map_location=torch.device('cpu'))\n",
    "model = torch.load(os.path.join(probe_model, 'classifiers.pth'))\n",
    "device = model.device\n",
    "model.to(device)\n",
    "\n",
    "for layer in model.precondition_classifiers:\n",
    "  layer.eval()\n",
    "for layer in model.effect_classifiers:\n",
    "  layer.eval()"
   ]
  },
  {
   "cell_type": "markdown",
   "metadata": {
    "id": "RfXiCTA9KPjG"
   },
   "source": [
    "#### Test the Model\n",
    "\n",
    "Run inference on the testing set of TRIP. Can simply edit the top-level `for` loop if you want to run inference on other partitions."
   ]
  },
  {
   "cell_type": "code",
   "execution_count": 85,
   "metadata": {
    "colab": {
     "base_uri": "https://localhost:8080/"
    },
    "executionInfo": {
     "elapsed": 4255,
     "status": "ok",
     "timestamp": 1631299857967,
     "user": {
      "displayName": "Shane Storks",
      "photoUrl": "https://lh3.googleusercontent.com/a-/AOh14Gh8CqjwUclCWWIoFwUB05rZNHwyd6nEIrTXC6RVXw=s64",
      "userId": "00590987742306216924"
     },
     "user_tz": 240
    },
    "id": "FQX4bIxcKWlf",
    "outputId": "1ee7ba5e-0426-47a3-f2cc-e251bd29056f"
   },
   "outputs": [
    {
     "name": "stderr",
     "output_type": "stream",
     "text": [
      "\r",
      "[                                                                        ]   0%"
     ]
    },
    {
     "name": "stdout",
     "output_type": "stream",
     "text": [
      "Testing model: ./saved_models/COMET-CONCAT-MAX-POOLING_cloze_1_1e-05_8_0.0-0.4-0.4-0.2-0.0_tiered_pipeline_lc_ablate_attributes_states-logits.\n",
      "\tBeginning evaluation...\n",
      "\t\tRunning prediction...\n"
     ]
    },
    {
     "name": "stderr",
     "output_type": "stream",
     "text": [
      "[########################################################################] 100%\n"
     ]
    },
    {
     "name": "stdout",
     "output_type": "stream",
     "text": [
      "\t\tComputing metrics...\n",
      "\tFinished evaluation in 0:01:21s.\n",
      "\n",
      "PARTITION: test\n",
      "Stories:\n",
      "{\n",
      "  accuracy: \n",
      "    0.7435897435897436,\n",
      "  f1: \n",
      "    0.7433376665583361,\n",
      "  verifiability: \n",
      "    0.02849002849002849,\n",
      "}\n",
      "\n",
      "\n",
      "Conflicts:\n",
      "{\n",
      "  accuracy: \n",
      "    0.9780596632448484,\n",
      "  f1: \n",
      "    0.6278992259849823,\n",
      "}\n",
      "\n",
      "\n",
      "Preconditions:\n",
      "{\n",
      "  accuracy: \n",
      "    0.9958689458689459,\n",
      "  f1: \n",
      "    0.24045805874883522,\n",
      "  accuracy_0: \n",
      "    0.9963596074707186,\n",
      "  f1_0: \n",
      "    0.33272549485980074,\n",
      "  accuracy_1: \n",
      "    0.9986357949320912,\n",
      "  f1_1: \n",
      "    0.6580254437184656,\n",
      "  accuracy_2: \n",
      "    0.9991633880522769,\n",
      "  f1_2: \n",
      "    0.33319383965767496,\n",
      "  accuracy_3: \n",
      "    0.9993442771220549,\n",
      "  f1_3: \n",
      "    0.3332240103442166,\n",
      "  accuracy_4: \n",
      "    0.9998794072868147,\n",
      "  f1_4: \n",
      "    0.33331323333584584,\n",
      "  accuracy_5: \n",
      "    0.9861996713848565,\n",
      "  f1_5: \n",
      "    0.1474440988515467,\n",
      "  accuracy_6: \n",
      "    0.9904430274800645,\n",
      "  f1_6: \n",
      "    0.6346354314994646,\n",
      "  accuracy_7: \n",
      "    0.9984624429068873,\n",
      "  f1_7: \n",
      "    0.33307687665942554,\n",
      "  accuracy_8: \n",
      "    0.9965103483622002,\n",
      "  f1_8: \n",
      "    0.5079172192685553,\n",
      "  accuracy_9: \n",
      "    0.9897646934683971,\n",
      "  f1_9: \n",
      "    0.631464944161793,\n",
      "  accuracy_10: \n",
      "    0.9971057748835527,\n",
      "  f1_10: \n",
      "    0.3328502634240599,\n",
      "  accuracy_11: \n",
      "    0.9983644613274243,\n",
      "  f1_11: \n",
      "    0.33306052045656553,\n",
      "  accuracy_12: \n",
      "    0.9958923107071255,\n",
      "  f1_12: \n",
      "    0.5195955132995548,\n",
      "  accuracy_13: \n",
      "    0.9984925910851836,\n",
      "  f1_13: \n",
      "    0.3330819090145675,\n",
      "  accuracy_14: \n",
      "    0.996947496947497,\n",
      "  f1_14: \n",
      "    0.3328238051564251,\n",
      "  accuracy_15: \n",
      "    0.9955305325675696,\n",
      "  f1_15: \n",
      "    0.3325867536878894,\n",
      "  accuracy_16: \n",
      "    0.99667616334283,\n",
      "  f1_16: \n",
      "    0.5196275558854281,\n",
      "  accuracy_17: \n",
      "    0.9865840606581348,\n",
      "  f1_17: \n",
      "    0.594380373238916,\n",
      "  accuracy_18: \n",
      "    0.999449795746092,\n",
      "  f1_18: \n",
      "    0.49986241108552004,\n",
      "  accuracy_19: \n",
      "    0.9975730716471457,\n",
      "  f1_19: \n",
      "    0.3329283538464248,\n",
      "}\n",
      "\n",
      "\n",
      "Effects:\n",
      "{\n",
      "  accuracy: \n",
      "    0.9953025369692037,\n",
      "  f1: \n",
      "    0.19999754696942595,\n",
      "  accuracy_0: \n",
      "    0.9963596074707186,\n",
      "  f1_0: \n",
      "    0.33272549485980074,\n",
      "  accuracy_1: \n",
      "    0.998243868614239,\n",
      "  f1_1: \n",
      "    0.6554432588559567,\n",
      "  accuracy_2: \n",
      "    0.9988317580910173,\n",
      "  f1_2: \n",
      "    0.33313851254960075,\n",
      "  accuracy_3: \n",
      "    0.9992462955425918,\n",
      "  f1_3: \n",
      "    0.33320766856671796,\n",
      "  accuracy_4: \n",
      "    0.9993593512112031,\n",
      "  f1_4: \n",
      "    0.33322652432166855,\n",
      "  accuracy_5: \n",
      "    0.9851746333227814,\n",
      "  f1_5: \n",
      "    0.11028132871490035,\n",
      "  accuracy_6: \n",
      "    0.9888903962978037,\n",
      "  f1_6: \n",
      "    0.6289454969488993,\n",
      "  accuracy_7: \n",
      "    0.9975504605134234,\n",
      "  f1_7: \n",
      "    0.3329245761187685,\n",
      "  accuracy_8: \n",
      "    0.996578181763367,\n",
      "  f1_8: \n",
      "    0.5261366459492828,\n",
      "  accuracy_9: \n",
      "    0.9885060070245255,\n",
      "  f1_9: \n",
      "    0.627279237181085,\n",
      "  accuracy_10: \n",
      "    0.9970831637498304,\n",
      "  f1_10: \n",
      "    0.33284648392830857,\n",
      "  accuracy_11: \n",
      "    0.99741479371109,\n",
      "  f1_11: \n",
      "    0.3329019079567166,\n",
      "  accuracy_12: \n",
      "    0.9969399599029228,\n",
      "  f1_12: \n",
      "    0.3328225451343021,\n",
      "  accuracy_13: \n",
      "    0.9971736082847193,\n",
      "  f1_13: \n",
      "    0.33286160139783605,\n",
      "  accuracy_14: \n",
      "    0.9969098117246266,\n",
      "  f1_14: \n",
      "    0.33281750495069434,\n",
      "  accuracy_15: \n",
      "    0.9914680655421396,\n",
      "  f1_15: \n",
      "    0.3434939457514877,\n",
      "  accuracy_16: \n",
      "    0.9962088665792369,\n",
      "  f1_16: \n",
      "    0.476419114524864,\n",
      "  accuracy_17: \n",
      "    0.9862901159197456,\n",
      "  f1_17: \n",
      "    0.5914307770935098,\n",
      "  accuracy_18: \n",
      "    0.9992387584980178,\n",
      "  f1_18: \n",
      "    0.33320641144056345,\n",
      "  accuracy_19: \n",
      "    0.9985830356200727,\n",
      "  f1_19: \n",
      "    0.33309700516905005,\n",
      "}\n",
      "\n",
      "\n"
     ]
    }
   ],
   "source": [
    "from torch.utils.data import DataLoader, RandomSampler, SequentialSampler\n",
    "from www.model.eval import evaluate_tiered, save_results, save_preds, list_comparison, add_entity_attribute_labels\n",
    "from sklearn.metrics import accuracy_score, precision_score, recall_score, f1_score, confusion_matrix\n",
    "metrics = [(accuracy_score, 'accuracy'), (precision_score, 'precision'), (recall_score, 'recall'), (f1_score, 'f1')]\n",
    "import numpy as np\n",
    "from www.utils import print_dict\n",
    "\n",
    "print('Testing model: %s.' % probe_model)\n",
    "\n",
    "# May alter this depending on which partition(s) you want to run inference on\n",
    "for p in tiered_dataset:\n",
    "  if p != 'test':\n",
    "    continue\n",
    "\n",
    "  p_dataset = tiered_dataset[p]\n",
    "  p_tensor_dataset = tiered_tensor_dataset[p]\n",
    "  p_sampler = SequentialSampler(p_tensor_dataset)\n",
    "  p_dataloader = DataLoader(p_tensor_dataset, sampler=p_sampler, batch_size=1)\n",
    "  dev_dataset_name = subtask + '_%s_' + p\n",
    "  p_ids = [ex['example_id'] for ex in tiered_dataset[p]]\n",
    "\n",
    "  # Get preds and metrics on this partition\n",
    "  metr_attr, all_pred_atts, all_atts, \\\n",
    "  metr_prec, all_pred_prec, all_prec, \\\n",
    "  metr_eff, all_pred_eff, all_eff, \\\n",
    "  metr_conflicts, all_pred_conflicts, all_conflicts, \\\n",
    "  metr_stories, all_pred_stories, all_stories, explanations = evaluate_tiered(model, p_dataloader, device, [(accuracy_score, 'accuracy'), (f1_score, 'f1')], seg_mode=False, return_explanations=True)\n",
    "  explanations = add_entity_attribute_labels(explanations, tiered_dataset[p], list(att_to_num_classes.keys()))\n",
    "\n",
    "  save_results(metr_attr, probe_model, dev_dataset_name % 'attributes')\n",
    "  save_results(metr_prec, probe_model, dev_dataset_name % 'preconditions')\n",
    "  save_results(metr_eff, probe_model, dev_dataset_name % 'effects')\n",
    "  save_results(metr_conflicts, probe_model, dev_dataset_name % 'conflicts')\n",
    "  save_results(metr_stories, probe_model, dev_dataset_name % 'stories')\n",
    "  save_results(explanations, probe_model, dev_dataset_name % 'explanations')\n",
    "\n",
    "  print('\\nPARTITION: %s' % p)\n",
    "  print('Stories:')\n",
    "  print_dict(metr_stories)\n",
    "  print('Conflicts:')\n",
    "  print_dict(metr_conflicts)\n",
    "  print('Preconditions:')\n",
    "  print_dict(metr_prec)\n",
    "  print('Effects:')\n",
    "  print_dict(metr_eff)"
   ]
  },
  {
   "cell_type": "markdown",
   "metadata": {
    "id": "ON1UAnbc8OOE"
   },
   "source": [
    "#### Add Consistency Metric to Model Results\n",
    "The intermediate conistency metric isn't included in the originally calculated metrics. This block adds the consistency metric to pre-existing model directory based on the tiered predictions. Generates a new `results_cloze_stories_final_[partition].json` file that includes the consistency metric.\n",
    "\n"
   ]
  },
  {
   "cell_type": "code",
   "execution_count": 66,
   "metadata": {},
   "outputs": [],
   "source": [
    "#eval_model_dir = 'COMET_STORY_CHOICE_LOSS'"
   ]
  },
  {
   "cell_type": "code",
   "execution_count": 88,
   "metadata": {},
   "outputs": [],
   "source": [
    "eval_model_dir = 'COMET-CONCAT-MAX-POOLING_cloze_1_1e-05_8_0.0-0.4-0.4-0.2-0.0_tiered_pipeline_lc_ablate_attributes_states-logits'"
   ]
  },
  {
   "cell_type": "code",
   "execution_count": 89,
   "metadata": {
    "colab": {
     "base_uri": "https://localhost:8080/"
    },
    "executionInfo": {
     "elapsed": 387,
     "status": "ok",
     "timestamp": 1631299967551,
     "user": {
      "displayName": "Shane Storks",
      "photoUrl": "https://lh3.googleusercontent.com/a-/AOh14Gh8CqjwUclCWWIoFwUB05rZNHwyd6nEIrTXC6RVXw=s64",
      "userId": "00590987742306216924"
     },
     "user_tz": 240
    },
    "id": "k1obFel58pd-",
    "outputId": "f8cc0c5a-756b-4879-deb2-3aa8489474c7"
   },
   "outputs": [
    {
     "name": "stdout",
     "output_type": "stream",
     "text": [
      "Found 42 consistent preds in dev (versus 13 verifiable)\n",
      "Found 41 consistent preds in test (versus 10 verifiable)\n"
     ]
    }
   ],
   "source": [
    "import json\n",
    "import os\n",
    "\n",
    "model_directories = [eval_model_dir]\n",
    "\n",
    "partitions = ['dev', 'test']\n",
    "expl_fname = 'results_cloze_explanations_%s.json'\n",
    "endtask_fname = 'results_cloze_stories_%s.json'\n",
    "endtask_fname_new = 'results_cloze_stories_final_%s.json'\n",
    "for md in model_directories:\n",
    "  for p in partitions:\n",
    "    explanations = json.load(open(os.path.join(DRIVE_PATH, 'saved_models', md, expl_fname % p), 'r'))\n",
    "    endtask_results = json.load(open(os.path.join(DRIVE_PATH, 'saved_models', md, endtask_fname % p), 'r'))\n",
    "\n",
    "    consistent_preds = 0\n",
    "    verifiable_preds = 0\n",
    "    total = 0\n",
    "    for expl in explanations:\n",
    "      if expl['valid_explanation']:\n",
    "        verifiable_preds += 1\n",
    "      if expl['story_pred'] == expl['story_label']:\n",
    "        if len(expl['conflict_pred']) == len(expl['conflict_label']) and expl['conflict_pred'][0] == expl['conflict_label'][0] and expl['conflict_pred'][1] == expl['conflict_label'][1]:\n",
    "          expl['consistent'] = True\n",
    "          consistent_preds += 1\n",
    "        else:\n",
    "          expl['consistent'] = False\n",
    "      total += 1\n",
    "\n",
    "    endtask_results['consistency'] = float(consistent_preds) / total\n",
    "    print('Found %s consistent preds in %s (versus %s verifiable)' % (str(consistent_preds), p, str(verifiable_preds)))\n",
    "    json.dump(explanations, open(os.path.join(DRIVE_PATH, 'saved_models', md, (expl_fname % p).replace('explanations', 'explanations_consistency')), 'w'))\n",
    "    json.dump(endtask_results, open(os.path.join(DRIVE_PATH, 'saved_models', md, endtask_fname_new % p), 'w'))"
   ]
  },
  {
   "cell_type": "markdown",
   "metadata": {
    "id": "S7C0wy5Dvtv2"
   },
   "source": [
    "\n",
    "# Conversational Entailment (CE) Results\n",
    "\n",
    "Code for the coherence experiments on CE."
   ]
  },
  {
   "cell_type": "code",
   "execution_count": null,
   "metadata": {
    "id": "YKxPGbnWbdIy"
   },
   "outputs": [],
   "source": [
    "if task_name != 'ce':\n",
    "  raise ValueError('Please configure task_name in first cell to \"ce\" to run CE results!')"
   ]
  },
  {
   "cell_type": "markdown",
   "metadata": {
    "id": "W7MADzgfvtv3"
   },
   "source": [
    "## Load Conversational Entailment Dataset"
   ]
  },
  {
   "cell_type": "code",
   "execution_count": null,
   "metadata": {
    "colab": {
     "base_uri": "https://localhost:8080/"
    },
    "executionInfo": {
     "elapsed": 111,
     "status": "ok",
     "timestamp": 1631301900364,
     "user": {
      "displayName": "Shane Storks",
      "photoUrl": "https://lh3.googleusercontent.com/a-/AOh14Gh8CqjwUclCWWIoFwUB05rZNHwyd6nEIrTXC6RVXw=s64",
      "userId": "00590987742306216924"
     },
     "user_tz": 240
    },
    "id": "nSnNY2zbvtv3",
    "outputId": "fb02836c-d14b-435a-96d7-e40dac522e82"
   },
   "outputs": [
    {
     "name": "stdout",
     "output_type": "stream",
     "text": [
      "Reserved 40 dialog sources for training and validation.\n"
     ]
    }
   ],
   "source": [
    "import xml.etree.ElementTree as ET\n",
    "import pickle\n",
    "cache_train = os.path.join(DRIVE_PATH, 'all_data/ConvEnt/ConvEnt_train_resplit.json')\n",
    "cache_dev = os.path.join(DRIVE_PATH,'all_data/ConvEnt/ConvEnt_dev_resplit.json')\n",
    "cache_test = os.path.join(DRIVE_PATH,'all_data/ConvEnt/ConvEnt_test_resplit.json')\n",
    "ConvEnt_train = json.load(open(cache_train))\n",
    "ConvEnt_dev = json.load(open(cache_dev))\n",
    "ConvEnt_test = json.load(open(cache_test))\n",
    "\n",
    "# Combine train and dev and do cross-validation\n",
    "cache_folds = os.path.join(DRIVE_PATH,'all_data/ConvEnt/ConvEnt_folds.pkl') # Folds used for results presented in paper\n",
    "ConvEnt_train = ConvEnt_train + ConvEnt_dev\n",
    "train_sources = list(set([ex['dialog_source'] for ex in ConvEnt_train]))\n",
    "print(\"Reserved %s dialog sources for training and validation.\" % len(train_sources))\n",
    "\n",
    "no_folds = 8\n",
    "if not os.path.exists(cache_folds):\n",
    "  folds = []\n",
    "  for k in range(no_folds):\n",
    "    folds.append(np.random.choice(train_sources, size=5, replace=False))\n",
    "    train_sources = [s for s in train_sources if s not in folds[-1]]\n",
    "  assert len(train_sources) == 0\n",
    "  print(folds)\n",
    "  pickle.dump(folds, open(cache_folds, 'wb'))\n",
    "else:\n",
    "  folds = pickle.load(open(cache_folds, 'rb'))"
   ]
  },
  {
   "cell_type": "code",
   "execution_count": null,
   "metadata": {
    "colab": {
     "base_uri": "https://localhost:8080/"
    },
    "executionInfo": {
     "elapsed": 8,
     "status": "ok",
     "timestamp": 1631301900480,
     "user": {
      "displayName": "Shane Storks",
      "photoUrl": "https://lh3.googleusercontent.com/a-/AOh14Gh8CqjwUclCWWIoFwUB05rZNHwyd6nEIrTXC6RVXw=s64",
      "userId": "00590987742306216924"
     },
     "user_tz": 240
    },
    "id": "TBYhEsdovtv4",
    "outputId": "c1c90590-7443-4f03-96e6-07e4ac429161"
   },
   "outputs": [
    {
     "name": "stdout",
     "output_type": "stream",
     "text": [
      "train examples: 703\n",
      "dev examples: 110\n",
      "test examples: 172\n"
     ]
    }
   ],
   "source": [
    "print('train examples:', len(ConvEnt_train))\n",
    "print('dev examples:', len(ConvEnt_dev))\n",
    "print('test examples:', len(ConvEnt_test))"
   ]
  },
  {
   "cell_type": "markdown",
   "metadata": {
    "id": "Msxt3xAhvtv6"
   },
   "source": [
    "## Featurize Conversational Entailment"
   ]
  },
  {
   "cell_type": "code",
   "execution_count": null,
   "metadata": {
    "id": "NBfqFw82vtv7"
   },
   "outputs": [],
   "source": [
    "from www.dataset.featurize import add_bert_features_ConvEnt, get_tensor_dataset\n",
    "import pickle\n",
    "seq_length = 128\n",
    "\n",
    "ConvEnt_train = add_bert_features_ConvEnt(ConvEnt_train, tokenizer, seq_length, add_segment_ids=True)\n",
    "ConvEnt_dev = add_bert_features_ConvEnt(ConvEnt_dev, tokenizer, seq_length, add_segment_ids=True)\n",
    "ConvEnt_test = add_bert_features_ConvEnt(ConvEnt_test, tokenizer, seq_length, add_segment_ids=True)\n",
    "\n",
    "ConvEnt_train_folds = [[] for _ in range(no_folds)]\n",
    "ConvEnt_dev_folds = [[] for _ in range(no_folds)]\n",
    "for k in range(no_folds):\n",
    "  ConvEnt_train_folds[k] = [ex for ex in ConvEnt_train if ex['dialog_source'] not in folds[k]]\n",
    "  ConvEnt_dev_folds[k] = [ex for ex in ConvEnt_train if ex['dialog_source'] in folds[k]]\n",
    "\n",
    "  if debug:\n",
    "    ConvEnt_train_folds[k] = ConvEnt_train_folds[k][:10]\n",
    "    ConvEnt_dev_folds[k] = ConvEnt_dev_folds[k][:10]\n",
    "\n",
    "if debug:\n",
    "  ConvEnt_train = ConvEnt_train[:10]\n",
    "  ConvEnt_dev = ConvEnt_dev[:10]\n",
    "  ConvEnt_test = ConvEnt_test[:10]\n",
    "\n",
    "ConvEnt_train_tensor = get_tensor_dataset(ConvEnt_train, label_key='label', add_segment_ids=True)\n",
    "ConvEnt_test_tensor = get_tensor_dataset(ConvEnt_test, label_key='label', add_segment_ids=True)\n",
    "\n",
    "# Training sets for each validation fold\n",
    "ConvEnt_train_folds_tensor = [get_tensor_dataset(ConvEnt_train_folds[k], label_key='label', add_segment_ids=True) for k in range(no_folds)]\n",
    "ConvEnt_dev_folds_tensor = [get_tensor_dataset(ConvEnt_dev_folds[k], label_key='label', add_segment_ids=True) for k in range(no_folds)]"
   ]
  },
  {
   "cell_type": "code",
   "execution_count": null,
   "metadata": {
    "colab": {
     "base_uri": "https://localhost:8080/"
    },
    "executionInfo": {
     "elapsed": 5,
     "status": "ok",
     "timestamp": 1631301488436,
     "user": {
      "displayName": "Shane Storks",
      "photoUrl": "https://lh3.googleusercontent.com/a-/AOh14Gh8CqjwUclCWWIoFwUB05rZNHwyd6nEIrTXC6RVXw=s64",
      "userId": "00590987742306216924"
     },
     "user_tz": 240
    },
    "id": "2Wtek-Tmvtv7",
    "outputId": "9d3f5110-edce-4d35-d4b2-23891d4da280"
   },
   "outputs": [
    {
     "name": "stdout",
     "output_type": "stream",
     "text": [
      "train examples: 10\n",
      "dev examples: 10\n",
      "test examples: 10\n"
     ]
    }
   ],
   "source": [
    "print('train examples:', len(ConvEnt_train))\n",
    "print('dev examples:', len(ConvEnt_dev))\n",
    "print('test examples:', len(ConvEnt_test))"
   ]
  },
  {
   "cell_type": "markdown",
   "metadata": {
    "id": "rn5Ywwvxvtv6"
   },
   "source": [
    "## Train Models on Conversational Entailment"
   ]
  },
  {
   "cell_type": "markdown",
   "metadata": {
    "id": "Ytbj9Uxxvtv7"
   },
   "source": [
    "### Train Models"
   ]
  },
  {
   "cell_type": "markdown",
   "metadata": {
    "id": "h9YL5qnRvtv7"
   },
   "source": [
    "#### Configure Hyperparameters"
   ]
  },
  {
   "cell_type": "code",
   "execution_count": null,
   "metadata": {
    "id": "fC5iz07Fvtv8"
   },
   "outputs": [],
   "source": [
    "batch_sizes = [config_batch_size]\n",
    "learning_rates = [config_lr]\n",
    "epochs = config_epochs\n",
    "eval_batch_size = 128"
   ]
  },
  {
   "cell_type": "markdown",
   "metadata": {
    "id": "Jss8T2xzvtv8"
   },
   "source": [
    "#### Grid Search and Cross-Validation"
   ]
  },
  {
   "cell_type": "code",
   "execution_count": null,
   "metadata": {
    "colab": {
     "base_uri": "https://localhost:8080/"
    },
    "executionInfo": {
     "elapsed": 141231,
     "status": "ok",
     "timestamp": 1631301166877,
     "user": {
      "displayName": "Shane Storks",
      "photoUrl": "https://lh3.googleusercontent.com/a-/AOh14Gh8CqjwUclCWWIoFwUB05rZNHwyd6nEIrTXC6RVXw=s64",
      "userId": "00590987742306216924"
     },
     "user_tz": 240
    },
    "id": "5QOdgrufvtv8",
    "outputId": "5d20813e-882f-4896-fe6e-e03db305d6d2"
   },
   "outputs": [
    {
     "name": "stdout",
     "output_type": "stream",
     "text": [
      "Beginning grid search for ConvEnt over 1 parameter combination(s)!\n",
      "\n",
      "TRAINING MODEL: bs=1, lr=1e-05\n",
      "Beginning fold 1/8...\n"
     ]
    },
    {
     "name": "stderr",
     "output_type": "stream",
     "text": [
      "Some weights of the model checkpoint at roberta-large were not used when initializing RobertaForSequenceClassification: ['lm_head.bias', 'lm_head.dense.weight', 'lm_head.dense.bias', 'lm_head.layer_norm.weight', 'lm_head.layer_norm.bias', 'lm_head.decoder.weight', 'roberta.pooler.dense.weight', 'roberta.pooler.dense.bias']\n",
      "- This IS expected if you are initializing RobertaForSequenceClassification from the checkpoint of a model trained on another task or with another architecture (e.g. initializing a BertForSequenceClassification model from a BertForPreTraining model).\n",
      "- This IS NOT expected if you are initializing RobertaForSequenceClassification from the checkpoint of a model that you expect to be exactly identical (initializing a BertForSequenceClassification model from a BertForSequenceClassification model).\n",
      "Some weights of RobertaForSequenceClassification were not initialized from the model checkpoint at roberta-large and are newly initialized: ['classifier.dense.weight', 'classifier.dense.bias', 'classifier.out_proj.weight', 'classifier.out_proj.bias']\n",
      "You should probably TRAIN this model on a down-stream task to be able to use it for predictions and inference.\n"
     ]
    },
    {
     "name": "stdout",
     "output_type": "stream",
     "text": [
      "[0] Beginning epoch...\n",
      "\tBeginning evaluation...\n",
      "\t\tRunning prediction...\n",
      "\t\tComputing metrics...\n",
      "\tFinished evaluation in 0:00:00s.\n",
      "[0] Validation results:\n",
      "{\n",
      "  accuracy: \n",
      "    0.5,\n",
      "}\n",
      "\n",
      "\n",
      "[0] Finished epoch.\n",
      "Beginning fold 2/8...\n"
     ]
    },
    {
     "name": "stderr",
     "output_type": "stream",
     "text": [
      "Some weights of the model checkpoint at roberta-large were not used when initializing RobertaForSequenceClassification: ['lm_head.bias', 'lm_head.dense.weight', 'lm_head.dense.bias', 'lm_head.layer_norm.weight', 'lm_head.layer_norm.bias', 'lm_head.decoder.weight', 'roberta.pooler.dense.weight', 'roberta.pooler.dense.bias']\n",
      "- This IS expected if you are initializing RobertaForSequenceClassification from the checkpoint of a model trained on another task or with another architecture (e.g. initializing a BertForSequenceClassification model from a BertForPreTraining model).\n",
      "- This IS NOT expected if you are initializing RobertaForSequenceClassification from the checkpoint of a model that you expect to be exactly identical (initializing a BertForSequenceClassification model from a BertForSequenceClassification model).\n",
      "Some weights of RobertaForSequenceClassification were not initialized from the model checkpoint at roberta-large and are newly initialized: ['classifier.dense.weight', 'classifier.dense.bias', 'classifier.out_proj.weight', 'classifier.out_proj.bias']\n",
      "You should probably TRAIN this model on a down-stream task to be able to use it for predictions and inference.\n"
     ]
    },
    {
     "name": "stdout",
     "output_type": "stream",
     "text": [
      "[0] Beginning epoch...\n",
      "\tBeginning evaluation...\n",
      "\t\tRunning prediction...\n",
      "\t\tComputing metrics...\n",
      "\tFinished evaluation in 0:00:00s.\n",
      "[0] Validation results:\n",
      "{\n",
      "  accuracy: \n",
      "    0.7,\n",
      "}\n",
      "\n",
      "\n",
      "[0] Finished epoch.\n",
      "Beginning fold 3/8...\n"
     ]
    },
    {
     "name": "stderr",
     "output_type": "stream",
     "text": [
      "Some weights of the model checkpoint at roberta-large were not used when initializing RobertaForSequenceClassification: ['lm_head.bias', 'lm_head.dense.weight', 'lm_head.dense.bias', 'lm_head.layer_norm.weight', 'lm_head.layer_norm.bias', 'lm_head.decoder.weight', 'roberta.pooler.dense.weight', 'roberta.pooler.dense.bias']\n",
      "- This IS expected if you are initializing RobertaForSequenceClassification from the checkpoint of a model trained on another task or with another architecture (e.g. initializing a BertForSequenceClassification model from a BertForPreTraining model).\n",
      "- This IS NOT expected if you are initializing RobertaForSequenceClassification from the checkpoint of a model that you expect to be exactly identical (initializing a BertForSequenceClassification model from a BertForSequenceClassification model).\n",
      "Some weights of RobertaForSequenceClassification were not initialized from the model checkpoint at roberta-large and are newly initialized: ['classifier.dense.weight', 'classifier.dense.bias', 'classifier.out_proj.weight', 'classifier.out_proj.bias']\n",
      "You should probably TRAIN this model on a down-stream task to be able to use it for predictions and inference.\n"
     ]
    },
    {
     "name": "stdout",
     "output_type": "stream",
     "text": [
      "[0] Beginning epoch...\n",
      "\tBeginning evaluation...\n",
      "\t\tRunning prediction...\n",
      "\t\tComputing metrics...\n",
      "\tFinished evaluation in 0:00:00s.\n",
      "[0] Validation results:\n",
      "{\n",
      "  accuracy: \n",
      "    0.3,\n",
      "}\n",
      "\n",
      "\n",
      "[0] Finished epoch.\n",
      "Beginning fold 4/8...\n"
     ]
    },
    {
     "name": "stderr",
     "output_type": "stream",
     "text": [
      "Some weights of the model checkpoint at roberta-large were not used when initializing RobertaForSequenceClassification: ['lm_head.bias', 'lm_head.dense.weight', 'lm_head.dense.bias', 'lm_head.layer_norm.weight', 'lm_head.layer_norm.bias', 'lm_head.decoder.weight', 'roberta.pooler.dense.weight', 'roberta.pooler.dense.bias']\n",
      "- This IS expected if you are initializing RobertaForSequenceClassification from the checkpoint of a model trained on another task or with another architecture (e.g. initializing a BertForSequenceClassification model from a BertForPreTraining model).\n",
      "- This IS NOT expected if you are initializing RobertaForSequenceClassification from the checkpoint of a model that you expect to be exactly identical (initializing a BertForSequenceClassification model from a BertForSequenceClassification model).\n",
      "Some weights of RobertaForSequenceClassification were not initialized from the model checkpoint at roberta-large and are newly initialized: ['classifier.dense.weight', 'classifier.dense.bias', 'classifier.out_proj.weight', 'classifier.out_proj.bias']\n",
      "You should probably TRAIN this model on a down-stream task to be able to use it for predictions and inference.\n"
     ]
    },
    {
     "name": "stdout",
     "output_type": "stream",
     "text": [
      "[0] Beginning epoch...\n",
      "\tBeginning evaluation...\n",
      "\t\tRunning prediction...\n",
      "\t\tComputing metrics...\n",
      "\tFinished evaluation in 0:00:00s.\n",
      "[0] Validation results:\n",
      "{\n",
      "  accuracy: \n",
      "    0.6,\n",
      "}\n",
      "\n",
      "\n",
      "[0] Finished epoch.\n",
      "Beginning fold 5/8...\n"
     ]
    },
    {
     "name": "stderr",
     "output_type": "stream",
     "text": [
      "Some weights of the model checkpoint at roberta-large were not used when initializing RobertaForSequenceClassification: ['lm_head.bias', 'lm_head.dense.weight', 'lm_head.dense.bias', 'lm_head.layer_norm.weight', 'lm_head.layer_norm.bias', 'lm_head.decoder.weight', 'roberta.pooler.dense.weight', 'roberta.pooler.dense.bias']\n",
      "- This IS expected if you are initializing RobertaForSequenceClassification from the checkpoint of a model trained on another task or with another architecture (e.g. initializing a BertForSequenceClassification model from a BertForPreTraining model).\n",
      "- This IS NOT expected if you are initializing RobertaForSequenceClassification from the checkpoint of a model that you expect to be exactly identical (initializing a BertForSequenceClassification model from a BertForSequenceClassification model).\n",
      "Some weights of RobertaForSequenceClassification were not initialized from the model checkpoint at roberta-large and are newly initialized: ['classifier.dense.weight', 'classifier.dense.bias', 'classifier.out_proj.weight', 'classifier.out_proj.bias']\n",
      "You should probably TRAIN this model on a down-stream task to be able to use it for predictions and inference.\n"
     ]
    },
    {
     "name": "stdout",
     "output_type": "stream",
     "text": [
      "[0] Beginning epoch...\n",
      "\tBeginning evaluation...\n",
      "\t\tRunning prediction...\n",
      "\t\tComputing metrics...\n",
      "\tFinished evaluation in 0:00:00s.\n",
      "[0] Validation results:\n",
      "{\n",
      "  accuracy: \n",
      "    0.4,\n",
      "}\n",
      "\n",
      "\n",
      "[0] Finished epoch.\n",
      "Beginning fold 6/8...\n"
     ]
    },
    {
     "name": "stderr",
     "output_type": "stream",
     "text": [
      "Some weights of the model checkpoint at roberta-large were not used when initializing RobertaForSequenceClassification: ['lm_head.bias', 'lm_head.dense.weight', 'lm_head.dense.bias', 'lm_head.layer_norm.weight', 'lm_head.layer_norm.bias', 'lm_head.decoder.weight', 'roberta.pooler.dense.weight', 'roberta.pooler.dense.bias']\n",
      "- This IS expected if you are initializing RobertaForSequenceClassification from the checkpoint of a model trained on another task or with another architecture (e.g. initializing a BertForSequenceClassification model from a BertForPreTraining model).\n",
      "- This IS NOT expected if you are initializing RobertaForSequenceClassification from the checkpoint of a model that you expect to be exactly identical (initializing a BertForSequenceClassification model from a BertForSequenceClassification model).\n",
      "Some weights of RobertaForSequenceClassification were not initialized from the model checkpoint at roberta-large and are newly initialized: ['classifier.dense.weight', 'classifier.dense.bias', 'classifier.out_proj.weight', 'classifier.out_proj.bias']\n",
      "You should probably TRAIN this model on a down-stream task to be able to use it for predictions and inference.\n"
     ]
    },
    {
     "name": "stdout",
     "output_type": "stream",
     "text": [
      "[0] Beginning epoch...\n",
      "\tBeginning evaluation...\n",
      "\t\tRunning prediction...\n",
      "\t\tComputing metrics...\n",
      "\tFinished evaluation in 0:00:00s.\n",
      "[0] Validation results:\n",
      "{\n",
      "  accuracy: \n",
      "    0.3,\n",
      "}\n",
      "\n",
      "\n",
      "[0] Finished epoch.\n",
      "Beginning fold 7/8...\n"
     ]
    },
    {
     "name": "stderr",
     "output_type": "stream",
     "text": [
      "Some weights of the model checkpoint at roberta-large were not used when initializing RobertaForSequenceClassification: ['lm_head.bias', 'lm_head.dense.weight', 'lm_head.dense.bias', 'lm_head.layer_norm.weight', 'lm_head.layer_norm.bias', 'lm_head.decoder.weight', 'roberta.pooler.dense.weight', 'roberta.pooler.dense.bias']\n",
      "- This IS expected if you are initializing RobertaForSequenceClassification from the checkpoint of a model trained on another task or with another architecture (e.g. initializing a BertForSequenceClassification model from a BertForPreTraining model).\n",
      "- This IS NOT expected if you are initializing RobertaForSequenceClassification from the checkpoint of a model that you expect to be exactly identical (initializing a BertForSequenceClassification model from a BertForSequenceClassification model).\n",
      "Some weights of RobertaForSequenceClassification were not initialized from the model checkpoint at roberta-large and are newly initialized: ['classifier.dense.weight', 'classifier.dense.bias', 'classifier.out_proj.weight', 'classifier.out_proj.bias']\n",
      "You should probably TRAIN this model on a down-stream task to be able to use it for predictions and inference.\n"
     ]
    },
    {
     "name": "stdout",
     "output_type": "stream",
     "text": [
      "[0] Beginning epoch...\n",
      "\tBeginning evaluation...\n",
      "\t\tRunning prediction...\n",
      "\t\tComputing metrics...\n",
      "\tFinished evaluation in 0:00:00s.\n",
      "[0] Validation results:\n",
      "{\n",
      "  accuracy: \n",
      "    0.5,\n",
      "}\n",
      "\n",
      "\n",
      "[0] Finished epoch.\n",
      "Beginning fold 8/8...\n"
     ]
    },
    {
     "name": "stderr",
     "output_type": "stream",
     "text": [
      "Some weights of the model checkpoint at roberta-large were not used when initializing RobertaForSequenceClassification: ['lm_head.bias', 'lm_head.dense.weight', 'lm_head.dense.bias', 'lm_head.layer_norm.weight', 'lm_head.layer_norm.bias', 'lm_head.decoder.weight', 'roberta.pooler.dense.weight', 'roberta.pooler.dense.bias']\n",
      "- This IS expected if you are initializing RobertaForSequenceClassification from the checkpoint of a model trained on another task or with another architecture (e.g. initializing a BertForSequenceClassification model from a BertForPreTraining model).\n",
      "- This IS NOT expected if you are initializing RobertaForSequenceClassification from the checkpoint of a model that you expect to be exactly identical (initializing a BertForSequenceClassification model from a BertForSequenceClassification model).\n",
      "Some weights of RobertaForSequenceClassification were not initialized from the model checkpoint at roberta-large and are newly initialized: ['classifier.dense.weight', 'classifier.dense.bias', 'classifier.out_proj.weight', 'classifier.out_proj.bias']\n",
      "You should probably TRAIN this model on a down-stream task to be able to use it for predictions and inference.\n"
     ]
    },
    {
     "name": "stdout",
     "output_type": "stream",
     "text": [
      "[0] Beginning epoch...\n",
      "\tBeginning evaluation...\n",
      "\t\tRunning prediction...\n",
      "\t\tComputing metrics...\n",
      "\tFinished evaluation in 0:00:00s.\n",
      "[0] Validation results:\n",
      "{\n",
      "  accuracy: \n",
      "    0.4,\n",
      "}\n",
      "\n",
      "\n",
      "[0] Finished epoch.\n",
      "Top performing param combos:\n",
      "[((1, 1e-05, 0), 0.46249999999999997)]\n"
     ]
    }
   ],
   "source": [
    "from torch.utils.data import DataLoader, RandomSampler, SequentialSampler\n",
    "from transformers import get_linear_schedule_with_warmup\n",
    "from www.model.train import train_epoch\n",
    "from www.model.eval import evaluate, save_results, save_preds\n",
    "from sklearn.metrics import accuracy_score\n",
    "from www.utils import print_dict, get_model_dir\n",
    "from collections import Counter\n",
    "\n",
    "seed_val = 22 # Save random seed for reproducibility\n",
    "random.seed(seed_val)\n",
    "np.random.seed(seed_val)\n",
    "torch.manual_seed(seed_val)\n",
    "torch.cuda.manual_seed_all(seed_val)\n",
    "\n",
    "assert len(batch_sizes) == 1\n",
    "train_fold_sampler = [RandomSampler(f) for f in ConvEnt_train_folds_tensor]\n",
    "train_fold_dataloader = [DataLoader(f, sampler=train_fold_sampler[i], batch_size=batch_sizes[0]) for i, f in enumerate(ConvEnt_train_folds_tensor)]\n",
    "\n",
    "dev_fold_sampler = [SequentialSampler(f) for f in ConvEnt_dev_folds_tensor]\n",
    "dev_fold_dataloader = [DataLoader(f, sampler=dev_fold_sampler[i], batch_size=eval_batch_size) for i, f in enumerate(ConvEnt_dev_folds_tensor)]\n",
    "\n",
    "all_val_accs = Counter()\n",
    "print('Beginning grid search for ConvEnt over %s parameter combination(s)!' % (str(len(batch_sizes) * len(learning_rates))))\n",
    "for bs in batch_sizes:\n",
    "  for lr in learning_rates:\n",
    "    print('\\nTRAINING MODEL: bs=%s, lr=%s' % (str(bs), str(lr)))\n",
    "\n",
    "    for k in range(no_folds):\n",
    "      print('Beginning fold %s/%s...' % (str(k+1), str(no_folds)))\n",
    "\n",
    "      # Set up model\n",
    "      if 'mnli' not in mode:\n",
    "        model = model_class.from_pretrained(model_name, \n",
    "                                            cache_dir=os.path.join(DRIVE_PATH, 'cache'))\n",
    "      else:\n",
    "        config = config_class.from_pretrained(model_name.replace('-mnli',''),\n",
    "                                        num_labels=3,\n",
    "                                        cache_dir=os.path.join(DRIVE_PATH, 'cache'))\n",
    "        model = model_class.from_pretrained(model_name, \n",
    "                                            config=config,\n",
    "                                            cache_dir=os.path.join(DRIVE_PATH, 'cache'))\n",
    "        config.num_labels = 2\n",
    "        model.num_labels = 2\n",
    "        model.classifier = cls_head_class(config=config) # Need to bring in a classification head for only 2 labels\n",
    "    \n",
    "      model.cuda()\n",
    "      device = model.device \n",
    "\n",
    "      # Set up optimizer\n",
    "      optimizer = AdamW(model.parameters(), lr=lr)\n",
    "      total_steps = len(train_fold_dataloader[k]) * epochs\n",
    "      scheduler = get_linear_schedule_with_warmup(optimizer, num_warmup_steps=0, num_training_steps = total_steps)\n",
    "\n",
    "      for epoch in range(epochs):\n",
    "        # Train the model for one epoch\n",
    "        print('[%s] Beginning epoch...' % str(epoch))\n",
    "\n",
    "        epoch_loss, _ = train_epoch(model, optimizer, train_fold_dataloader[k], device, seg_mode=True if 'roberta' not in mode else False)\n",
    "        \n",
    "        # Validate on dev set\n",
    "        results, _, _ = evaluate(model, dev_fold_dataloader[k], device, [(accuracy_score, 'accuracy')], seg_mode=True if 'roberta' not in mode else False)\n",
    "        print('[%s] Validation results:' % str(epoch))\n",
    "        print_dict(results)\n",
    "\n",
    "        # Save accuracy\n",
    "        acc = results['accuracy']\n",
    "        if (bs, lr, epoch) in all_val_accs:\n",
    "          all_val_accs[(bs, lr, epoch)] += acc\n",
    "        else:\n",
    "          all_val_accs[(bs, lr, epoch)] = acc\n",
    "        \n",
    "      model.cpu()\n",
    "      del model\n",
    "      del optimizer\n",
    "      del results\n",
    "      del scheduler\n",
    "      del total_steps\n",
    "\n",
    "      print('[%s] Finished epoch.' % str(epoch))\n",
    "\n",
    "for k in all_val_accs:\n",
    "  all_val_accs[k] /= no_folds\n",
    "\n",
    "print('Top performing param combos:')\n",
    "print(all_val_accs.most_common(5))\n",
    "\n",
    "save_fname = os.path.join(DRIVE_PATH, 'saved_models/%s_ConvEnt_xval_%s.pkl' % (model_name.replace('/','-'), '_'.join([str(lr) for lr in learning_rates])))\n",
    "pickle.dump(all_val_accs, open(save_fname, 'wb'))"
   ]
  },
  {
   "cell_type": "markdown",
   "metadata": {
    "id": "8XhSrDlpI0aH"
   },
   "source": [
    "#### Re-Train Best Model from Cross-Validation\n",
    "\n",
    "Re-train a model with the best parameters from the search above. If this isn't run directly after the above cell, replace `save_fname.split('/'[-1])` in `xval_fnames` with the name of the `pkl` file previously generated in the `saved_models` directory."
   ]
  },
  {
   "cell_type": "code",
   "execution_count": null,
   "metadata": {},
   "outputs": [],
   "source": []
  },
  {
   "cell_type": "code",
   "execution_count": null,
   "metadata": {
    "colab": {
     "base_uri": "https://localhost:8080/"
    },
    "executionInfo": {
     "elapsed": 23469,
     "status": "ok",
     "timestamp": 1631301377078,
     "user": {
      "displayName": "Shane Storks",
      "photoUrl": "https://lh3.googleusercontent.com/a-/AOh14Gh8CqjwUclCWWIoFwUB05rZNHwyd6nEIrTXC6RVXw=s64",
      "userId": "00590987742306216924"
     },
     "user_tz": 240
    },
    "id": "RI_AWgyFIzUm",
    "outputId": "f29073fc-87b1-4405-d4bd-e99e17624a00"
   },
   "outputs": [
    {
     "name": "stderr",
     "output_type": "stream",
     "text": [
      "Some weights of the model checkpoint at roberta-large were not used when initializing RobertaForSequenceClassification: ['lm_head.bias', 'lm_head.dense.weight', 'lm_head.dense.bias', 'lm_head.layer_norm.weight', 'lm_head.layer_norm.bias', 'lm_head.decoder.weight', 'roberta.pooler.dense.weight', 'roberta.pooler.dense.bias']\n",
      "- This IS expected if you are initializing RobertaForSequenceClassification from the checkpoint of a model trained on another task or with another architecture (e.g. initializing a BertForSequenceClassification model from a BertForPreTraining model).\n",
      "- This IS NOT expected if you are initializing RobertaForSequenceClassification from the checkpoint of a model that you expect to be exactly identical (initializing a BertForSequenceClassification model from a BertForSequenceClassification model).\n",
      "Some weights of RobertaForSequenceClassification were not initialized from the model checkpoint at roberta-large and are newly initialized: ['classifier.dense.weight', 'classifier.dense.bias', 'classifier.out_proj.weight', 'classifier.out_proj.bias']\n",
      "You should probably TRAIN this model on a down-stream task to be able to use it for predictions and inference.\n"
     ]
    },
    {
     "name": "stdout",
     "output_type": "stream",
     "text": [
      "[0] Beginning epoch...\n",
      "[0] Saving model checkpoint...\n"
     ]
    },
    {
     "data": {
      "text/plain": [
       "('drive/My Drive/Colab Notebooks/Research/TRIP_replication/saved_models/roberta-large_ConvEnt_1_1e-05_0_xval/vocab.json',\n",
       " 'drive/My Drive/Colab Notebooks/Research/TRIP_replication/saved_models/roberta-large_ConvEnt_1_1e-05_0_xval/merges.txt')"
      ]
     },
     "execution_count": 42,
     "metadata": {},
     "output_type": "execute_result"
    }
   ],
   "source": [
    "from torch.utils.data import DataLoader, RandomSampler, SequentialSampler\n",
    "from transformers import get_linear_schedule_with_warmup\n",
    "from www.model.train import train_epoch\n",
    "from www.model.eval import evaluate, save_results, save_preds\n",
    "from sklearn.metrics import accuracy_score\n",
    "from www.utils import print_dict, get_model_dir\n",
    "from collections import Counter\n",
    "\n",
    "# Re-train the model with the best parameters from the grid search/cross-validation (with all folds)\n",
    "xval_fnames = []\n",
    "xval_fnames.append(save_fname.split('/')[-1])\n",
    "\n",
    "xval_results = Counter()\n",
    "for fname in xval_fnames:\n",
    "  xval_results += pickle.load(open(os.path.join(DRIVE_PATH, 'saved_models/', fname), 'rb'))\n",
    "\n",
    "batch_size, learning_rate, epochs = xval_results.most_common(1)[0][0]\n",
    "epochs += 1\n",
    "\n",
    "# Set up model\n",
    "if 'mnli' not in mode:\n",
    "  model = model_class.from_pretrained(model_name, \n",
    "                                      cache_dir=os.path.join(DRIVE_PATH, 'cache'))\n",
    "else:\n",
    "  config = config_class.from_pretrained(model_name.replace('-mnli',''),\n",
    "                                  num_labels=3,\n",
    "                                  cache_dir=os.path.join(DRIVE_PATH, 'cache'))\n",
    "  model = model_class.from_pretrained(model_name, \n",
    "                                      config=config,\n",
    "                                      cache_dir=os.path.join(DRIVE_PATH, 'cache'))\n",
    "  config.num_labels = 2\n",
    "  model.num_labels = 2\n",
    "  model.classifier = cls_head_class(config=config) # Need to bring in a classification head for only 2 labels\n",
    "\n",
    "model.cuda()\n",
    "device = model.device \n",
    "\n",
    "train_sampler = RandomSampler(ConvEnt_train_tensor)\n",
    "train_dataloader = DataLoader(ConvEnt_train_tensor, sampler=train_sampler, batch_size=batch_size)\n",
    "\n",
    "# Set up optimizer\n",
    "optimizer = AdamW(model.parameters(), lr=learning_rate)\n",
    "total_steps = len(train_dataloader) * epochs\n",
    "scheduler = get_linear_schedule_with_warmup(optimizer, num_warmup_steps=0, num_training_steps = total_steps)\n",
    "\n",
    "for epoch in range(epochs):\n",
    "  print('[%s] Beginning epoch...' % str(epoch))\n",
    "  epoch_loss, _ = train_epoch(model, optimizer, train_dataloader, device, seg_mode=True if 'roberta' not in mode else False)\n",
    "\n",
    "print('[%s] Saving model checkpoint...' % str(epoch))\n",
    "model_param_str = get_model_dir(model_name.replace('/','-'), 'ConvEnt', batch_size, learning_rate, epoch) + '_xval'\n",
    "output_dir = os.path.join(DRIVE_PATH, 'saved_models', model_param_str)\n",
    "if not os.path.exists(output_dir):\n",
    "  os.makedirs(output_dir)\n",
    "model = model.module if hasattr(model, 'module') else model\n",
    "model.save_pretrained(output_dir)\n",
    "tokenizer.save_vocabulary(output_dir)"
   ]
  },
  {
   "cell_type": "markdown",
   "metadata": {
    "id": "CADDFieTvtv9"
   },
   "source": [
    "## Test Models on Conversational Entailment"
   ]
  },
  {
   "cell_type": "code",
   "execution_count": null,
   "metadata": {
    "colab": {
     "base_uri": "https://localhost:8080/"
    },
    "executionInfo": {
     "elapsed": 14850,
     "status": "ok",
     "timestamp": 1631301512340,
     "user": {
      "displayName": "Shane Storks",
      "photoUrl": "https://lh3.googleusercontent.com/a-/AOh14Gh8CqjwUclCWWIoFwUB05rZNHwyd6nEIrTXC6RVXw=s64",
      "userId": "00590987742306216924"
     },
     "user_tz": 240
    },
    "id": "-NJAbMNRvtv9",
    "outputId": "a493868a-c762-4279-b73b-7b6e7b20e148"
   },
   "outputs": [
    {
     "name": "stdout",
     "output_type": "stream",
     "text": [
      "Testing model: roberta-large_ConvEnt_1_1e-05_0_xval.\n",
      "\tBeginning evaluation...\n",
      "\t\tRunning prediction...\n",
      "\t\tComputing metrics...\n",
      "\tFinished evaluation in 0:00:00s.\n",
      "Results (test):\n",
      "{\n",
      "  accuracy: \n",
      "    0.7,\n",
      "}\n",
      "\n",
      "\n"
     ]
    }
   ],
   "source": [
    "from torch.utils.data import DataLoader, RandomSampler, SequentialSampler\n",
    "from transformers import get_linear_schedule_with_warmup\n",
    "from www.model.eval import evaluate, save_results, save_preds\n",
    "from sklearn.metrics import accuracy_score\n",
    "from www.utils import print_dict, get_model_dir\n",
    "\n",
    "best_model = eval_model_dir\n",
    "\n",
    "\n",
    "best_model = os.path.join(DRIVE_PATH, 'saved_models', best_model)\n",
    "\n",
    "# Load the model\n",
    "model = model_class.from_pretrained(best_model)\n",
    "model.cuda()\n",
    "device = model.device\n",
    "\n",
    "# Select appropriate dataset\n",
    "if 'cloze' in best_model:\n",
    "  subtask = 'cloze'\n",
    "elif 'order' in best_model:\n",
    "  subtask = 'order'\n",
    "\n",
    "test_sampler = SequentialSampler(ConvEnt_test_tensor)\n",
    "test_dataloader = DataLoader(ConvEnt_test_tensor, sampler=test_sampler, batch_size=128)\n",
    "test_dataset_name = '%s_%s' % ('ConvEnt', 'test')\n",
    "test_ids = [str(ex['example_id']) for ex in ConvEnt_test]\n",
    "\n",
    "print('Testing model: %s.' % best_model.split('/')[-1])\n",
    "\n",
    "results, preds, labels = evaluate(model, test_dataloader, device, [(accuracy_score, 'accuracy')], seg_mode=True if 'roberta' not in mode else False)\n",
    "save_results(results, best_model, test_dataset_name)\n",
    "save_preds(test_ids, labels, preds, best_model, test_dataset_name)\n",
    "\n",
    "print('Results (%s):' % p)\n",
    "print_dict(results)"
   ]
  },
  {
   "cell_type": "markdown",
   "metadata": {
    "id": "qy_A5hR9vtv9"
   },
   "source": [
    "## Coherence Checks on Conversational Entailment"
   ]
  },
  {
   "cell_type": "markdown",
   "metadata": {
    "id": "GO1JOxnIvtv9"
   },
   "source": [
    "### Load and Featurize Span Data"
   ]
  },
  {
   "cell_type": "code",
   "execution_count": null,
   "metadata": {
    "id": "bOsSHJnCvtv-"
   },
   "outputs": [],
   "source": [
    "from www.dataset.featurize import add_bert_features_ConvEnt, get_tensor_dataset\n",
    "from www.dataset.prepro import get_ConvEnt_spans\n",
    "import pickle\n",
    "seq_length = 128\n",
    "\n",
    "merged_file = os.path.join(DRIVE_PATH, 'all_data/ConvEnt/ConvEnt_test_annotation_merged2.json')\n",
    "ConvEnt_test = json.load(open(merged_file))\n",
    "\n",
    "ConvEnt_test = add_bert_features_ConvEnt(ConvEnt_test, tokenizer, seq_length, add_segment_ids=True)\n",
    "\n",
    "if debug:\n",
    "  ConvEnt_test = ConvEnt_test[:10]\n",
    "\n",
    "# Some of the annotated examples are no longer in the test set :(\n",
    "# ConvEnt_test = [ex for ex in ConvEnt_test if ex['id'] in test_ids]\n",
    "\n",
    "# Make span versions of the datasets\n",
    "ConvEnt_test_spans = get_ConvEnt_spans(ConvEnt_test)\n",
    "\n",
    "# Add BERT features\n",
    "ConvEnt_test_tensor = get_tensor_dataset(ConvEnt_test, label_key='label', add_segment_ids=True)\n",
    "ConvEnt_test_spans_tensor = get_tensor_dataset(ConvEnt_test_spans, label_key='label', add_segment_ids=True)"
   ]
  },
  {
   "cell_type": "markdown",
   "metadata": {
    "id": "cAtipHPtvtv-"
   },
   "source": [
    "### Load the Trained Model\n",
    "\n",
    "Load the trained model we want to probe and select the appropriate dataset."
   ]
  },
  {
   "cell_type": "code",
   "execution_count": null,
   "metadata": {
    "id": "NCssPtg_vtv-"
   },
   "outputs": [],
   "source": [
    "probe_model = eval_model_dir\n",
    "probe_model = os.path.join(DRIVE_PATH, 'saved_models', probe_model)\n",
    "\n",
    "# Load the model\n",
    "model = model_class.from_pretrained(probe_model)\n",
    "if torch.cuda.is_available():\n",
    "  model.cuda()\n",
    "device = model.device "
   ]
  },
  {
   "cell_type": "markdown",
   "metadata": {
    "id": "PIPh3HSXvtv-"
   },
   "source": [
    "#### Load Trained Model's Base Predictions\n",
    "\n",
    "For comparison, we also want the preds and labels for the previous level."
   ]
  },
  {
   "cell_type": "code",
   "execution_count": null,
   "metadata": {
    "colab": {
     "base_uri": "https://localhost:8080/"
    },
    "executionInfo": {
     "elapsed": 20,
     "status": "ok",
     "timestamp": 1631301931718,
     "user": {
      "displayName": "Shane Storks",
      "photoUrl": "https://lh3.googleusercontent.com/a-/AOh14Gh8CqjwUclCWWIoFwUB05rZNHwyd6nEIrTXC6RVXw=s64",
      "userId": "00590987742306216924"
     },
     "user_tz": 240
    },
    "id": "U9lHmA2evtv-",
    "outputId": "60d88a06-7376-4bd6-edcc-d846cf8aa7c6"
   },
   "outputs": [
    {
     "name": "stdout",
     "output_type": "stream",
     "text": [
      "dict_keys(['73', '74', '75', '76', '77', '78', '79', '80', '81', '82'])\n"
     ]
    }
   ],
   "source": [
    "from www.model.eval import load_preds\n",
    "from www.utils import print_dict\n",
    "\n",
    "preds_base = {}\n",
    "preds_base['test'] = load_preds(os.path.join(probe_model, 'preds_ConvEnt_test.tsv'))\n",
    "print(preds_base['test'].keys())"
   ]
  },
  {
   "cell_type": "markdown",
   "metadata": {
    "id": "maZGCMvMvtv-"
   },
   "source": [
    "### Check a Model\n",
    "\n",
    "Will print out strict and lenient coherence metrics."
   ]
  },
  {
   "cell_type": "code",
   "execution_count": null,
   "metadata": {
    "colab": {
     "base_uri": "https://localhost:8080/"
    },
    "executionInfo": {
     "elapsed": 3056,
     "status": "ok",
     "timestamp": 1631302156247,
     "user": {
      "displayName": "Shane Storks",
      "photoUrl": "https://lh3.googleusercontent.com/a-/AOh14Gh8CqjwUclCWWIoFwUB05rZNHwyd6nEIrTXC6RVXw=s64",
      "userId": "00590987742306216924"
     },
     "user_tz": 240
    },
    "id": "tl_M9hnqvtv-",
    "outputId": "1143ab4e-d54d-471f-f186-ae09646ea059"
   },
   "outputs": [
    {
     "name": "stdout",
     "output_type": "stream",
     "text": [
      "Testing model: drive/My Drive/Colab Notebooks/Research/TRIP_replication/saved_models/roberta-large_ConvEnt_1_1e-05_0_xval.\n",
      "\tBeginning evaluation...\n",
      "\t\tRunning prediction...\n",
      "\t\tComputing metrics...\n",
      "\tFinished evaluation in 0:00:02s.\n",
      "\n",
      "PARTITION: test\n",
      "{\n",
      "  lenient_coherence: \n",
      "    0.4269000933706816,\n",
      "  strict_coherence: \n",
      "    0.4,\n",
      "}\n",
      "\n",
      "\n"
     ]
    },
    {
     "name": "stderr",
     "output_type": "stream",
     "text": [
      "/usr/local/lib/python3.7/dist-packages/sklearn/metrics/_classification.py:1272: UndefinedMetricWarning: Precision is ill-defined and being set to 0.0 in labels with no predicted samples. Use `zero_division` parameter to control this behavior.\n",
      "  _warn_prf(average, modifier, msg_start, len(result))\n"
     ]
    }
   ],
   "source": [
    "from torch.utils.data import DataLoader, RandomSampler, SequentialSampler\n",
    "from www.model.eval import evaluate, save_results, save_preds, list_comparison\n",
    "from sklearn.metrics import accuracy_score, precision_score, recall_score, f1_score, confusion_matrix\n",
    "metrics = [(accuracy_score, 'accuracy'), (precision_score, 'precision'), (recall_score, 'recall'), (f1_score, 'f1')]\n",
    "import numpy as np\n",
    "from www.utils import print_dict\n",
    "\n",
    "def is_polarized(smax, thres):\n",
    "  return (abs(smax[0] - smax[1]) >= thres)\n",
    "\n",
    "print('Testing model: %s.' % probe_model)\n",
    "\n",
    "all_results = {}\n",
    "p = 'test'\n",
    "\n",
    "p_dataset = ConvEnt_test_spans\n",
    "p_tensor_dataset = ConvEnt_test_spans_tensor\n",
    "p_sampler = SequentialSampler(p_tensor_dataset)\n",
    "p_dataloader = DataLoader(p_tensor_dataset, sampler=p_sampler, batch_size=512)\n",
    "p_dataset_name = '%s_spans_%s' % ('ConvEnt', p)\n",
    "p_dataset_name_co = '%s_consistent_%s' % ('ConvEnt', p)\n",
    "p_dataset_name_bp = '%s_breakpoints_%s' % ('ConvEnt', p)\n",
    "p_dataset_name_ev = '%s_evidence_%s' % ('ConvEnt', p)\n",
    "p_dataset_name_coh = '%s_coherent_%s' % ('ConvEnt', p)\n",
    "p_ids = [str(ex['example_id']) for ex in ConvEnt_test_spans]\n",
    "p_labels = [ex['label'] for ex in ConvEnt_test_spans]\n",
    "\n",
    "# Get span preds and save metrics\n",
    "results, preds, labels = evaluate(model, p_dataloader, device, metrics, seg_mode=True if 'roberta' not in mode else False)\n",
    "save_results(results, probe_model, p_dataset_name)\n",
    "save_preds(p_ids, labels, preds, probe_model, p_dataset_name)\n",
    "\n",
    "# Convert substory preds into breakpoint preds for each example\n",
    "ids_base = [str(ex['example_id']) for ex in ConvEnt_test]\n",
    "\n",
    "id_to_pred = {k: v for k,v in zip(p_ids, preds)}\n",
    "id_to_label = {k: v for k,v in zip(p_ids, p_labels)}\n",
    "\n",
    "preds_entailment = []\n",
    "labels_entailment = []\n",
    "preds_consistent = []\n",
    "preds_breakpoint = []\n",
    "labels_breakpoint = []\n",
    "preds_evidence = []\n",
    "labels_evidence = []    \n",
    "span_accuracies = []\n",
    "span_accuracies_strict = []\n",
    "preds_coherent = []\n",
    "\n",
    "for i, exid in enumerate(ids_base):\n",
    "  ex = ConvEnt_test[i]\n",
    "  ex['length'] = len(ex['turns'])\n",
    "\n",
    "  label_entailment = preds_base[p][exid]['label']\n",
    "  pred_entailment = preds_base[p][exid]['pred']\n",
    "  labels_entailment.append(label_entailment)\n",
    "  preds_entailment.append(pred_entailment)\n",
    "\n",
    "  # Get ground truth breakpoint and evidence\n",
    "  label_breakpoint = ex['conflict_pair'][1] if ex['conflict_pair'] is not None and len(ex['conflict_pair']) > 0 else 0\n",
    "  labels_breakpoint.append(label_breakpoint)\n",
    "  if label_breakpoint > 0:\n",
    "    label_ev = ex['conflict_pair'][0]\n",
    "  else:\n",
    "    label_ev = -1\n",
    "  labels_evidence.append(label_ev)\n",
    "\n",
    "  # Check consistency - any span that entails the hypothesis' superspans should also entail\n",
    "  pred_consistent = True\n",
    "  span_accuracy = 0.0\n",
    "  span_accuracy_strict = 0.0\n",
    "  pred_coherent = True\n",
    "  \n",
    "  no_spans = 0\n",
    "  for sp1 in range(ex['length']):\n",
    "    if not pred_consistent:\n",
    "      break\n",
    "\n",
    "    for sp2 in range(sp1, ex['length']):\n",
    "      if not pred_consistent:\n",
    "        break\n",
    "\n",
    "      span_pred = id_to_pred[exid + '-sp%s:%s' % (str(sp1), str(sp2))]\n",
    "      span_label = id_to_label[exid + '-sp%s:%s' % (str(sp1), str(sp2))]\n",
    "\n",
    "      if span_pred == span_label:\n",
    "        span_accuracy += 1.0\n",
    "        if label_entailment == pred_entailment:\n",
    "            span_accuracy_strict += 1.0\n",
    "      else:\n",
    "        pred_coherent = False\n",
    "      no_spans += 1\n",
    "      # print('%s:%s\\t%s\\t(%s, %s)' % (str(sp1), str(sp2), str(span_pred), str(span_prob[0]), str(span_prob[1])))      \n",
    "\n",
    "      if span_pred == 1:\n",
    "        if pred_entailment == 1:\n",
    "          for sp3 in range(sp1+1):\n",
    "            if not pred_consistent:\n",
    "              break\n",
    "\n",
    "            for sp4 in range(sp2, ex['length']):\n",
    "              if not pred_consistent:\n",
    "                break\n",
    "\n",
    "              sspan_pred = id_to_pred[exid + '-sp%s:%s' % (str(sp3), str(sp4))]\n",
    "\n",
    "              if sspan_pred == 0:\n",
    "                pred_consistent = False\n",
    "                break\n",
    "        elif pred_entailment == 0:\n",
    "          pred_consistent = False\n",
    "\n",
    "  preds_consistent.append(1 if pred_consistent else 0)\n",
    "  span_accuracies.append(span_accuracy / no_spans)\n",
    "  span_accuracies_strict.append(span_accuracy_strict / no_spans)\n",
    "  preds_coherent.append(1 if pred_coherent else 0)\n",
    "\n",
    "  # Check pred. breakpoint (verifiability) - will be first sentence where the model prediction becomes polarized, i.e., confidence > threshold\n",
    "  pred_breakpoint = 0 # For now, 0 means -1, i.e., stories are entirely plausible - this shouldn't happen but it will (inconsistent?)\n",
    "  for ss in range(1, ex['length']):\n",
    "    if id_to_pred[exid + '-sp%s:%s' % (str(0), str(ss))] == 1:\n",
    "      pred_breakpoint = ss\n",
    "      break\n",
    "  preds_breakpoint.append(pred_breakpoint)\n",
    "\n",
    "  # Check pred. evidence (verifiability)\n",
    "  if pred_breakpoint > 0:\n",
    "    pred_evidence = -1 \n",
    "    for ss in range(0, pred_breakpoint+1):\n",
    "      if id_to_pred[exid + '-sp%s:%s' % (str(0), str(ss))] == 1:\n",
    "        pred_evidence = ss\n",
    "  else:\n",
    "    pred_evidence = -1 # This should never happen - it would be inconsistent if it did\n",
    "  preds_evidence.append(pred_evidence)\n",
    "\n",
    "# Calculate tiered accuracy for model\n",
    "acc = 0\n",
    "acc_con = 0\n",
    "acc_con_vbp = 0\n",
    "acc_con_vbp_vev = 0\n",
    "no_ex = len(ids_base)\n",
    "for p_plaus, l_plaus, con, p_bp, l_bp, p_ev, l_ev in zip(preds_entailment, labels_entailment, preds_consistent, preds_breakpoint, labels_breakpoint, preds_evidence, labels_evidence):\n",
    "  # Accuracy\n",
    "  if p_plaus == l_plaus:\n",
    "    acc += 1\n",
    "    \n",
    "    # Consistency\n",
    "    if con == 1:\n",
    "      acc_con += 1\n",
    "    \n",
    "      # Verifiability (breakpoint)\n",
    "      if p_bp == l_bp:\n",
    "        acc_con_vbp += 1\n",
    "\n",
    "        # Verifiability (evidence)\n",
    "        if p_ev == l_ev:\n",
    "          acc_con_vbp_vev += 1\n",
    "\n",
    "acc /= no_ex\n",
    "acc_con /= no_ex\n",
    "acc_con_vbp /= no_ex\n",
    "acc_con_vbp_vev /= no_ex\n",
    "\n",
    "# all_results['acc'] = acc\n",
    "# all_results['acc_con'] = acc_con\n",
    "# all_results['acc_con_vbp'] = acc_con_vbp\n",
    "# all_results['acc_con_vbp_vev'] = acc_con_vbp_vev\n",
    "# all_results['span_accuracy'] = np.mean(span_accuracies)\n",
    "\n",
    "all_results['lenient_coherence'] = np.mean(span_accuracies_strict)\n",
    "all_results['strict_coherence'] = np.mean(preds_coherent)\n",
    "\n",
    "best_preds_entailment = preds_entailment\n",
    "best_preds_consistent = preds_consistent\n",
    "best_preds_breakpoint = preds_breakpoint\n",
    "best_preds_evidence = preds_evidence\n",
    "best_preds_coherent = preds_coherent\n",
    "    \n",
    "print('\\nPARTITION: %s' % p)\n",
    "print_dict(all_results)\n",
    "\n",
    "# Save preds for breakpoint and evidence\n",
    "save_preds(ids_base, np.array(labels_breakpoint), best_preds_breakpoint, probe_model, p_dataset_name_bp)\n",
    "save_preds(ids_base, np.array(labels_evidence), best_preds_evidence, probe_model, p_dataset_name_ev)\n",
    "save_preds(ids_base, np.array([1 for p in best_preds_coherent]), best_preds_coherent, probe_model, p_dataset_name_coh)\n",
    "\n",
    "p_dataset_name_agg = '%s_tiers_agg_nostates_lenient_%s' % ('ConvEnt', p)\n",
    "save_results(all_results, probe_model, p_dataset_name_agg)"
   ]
  },
  {
   "cell_type": "markdown",
   "metadata": {
    "id": "XnWDvQG7vtv-"
   },
   "source": [
    "# ART Results\n",
    "\n",
    "Code for the coherence experiments on ART."
   ]
  },
  {
   "cell_type": "code",
   "execution_count": null,
   "metadata": {
    "id": "CvqFFHXebfrI"
   },
   "outputs": [],
   "source": [
    "if task_name != 'art':\n",
    "  raise ValueError('Please configure task_name in first cell to \"art\" to run ART results!')"
   ]
  },
  {
   "cell_type": "markdown",
   "metadata": {
    "id": "KxRnuX_fvtv_"
   },
   "source": [
    "## Load ART dataset\n",
    "\n",
    "ART is originally gathered from [HuggingFace datasets](https://huggingface.co/docs/datasets/), but we added some of our own annotations for the coherence evaluation."
   ]
  },
  {
   "cell_type": "code",
   "execution_count": null,
   "metadata": {
    "id": "jGZGEObJvtv_"
   },
   "outputs": [],
   "source": [
    "import os\n",
    "fname = os.path.join(DRIVE_PATH, 'all_data/ART/art.json')\n",
    "with open(fname, 'r') as f:\n",
    "  art = json.load(f)"
   ]
  },
  {
   "cell_type": "markdown",
   "metadata": {
    "id": "apGoBEp_vtv_"
   },
   "source": [
    "## Train Models on ART"
   ]
  },
  {
   "cell_type": "markdown",
   "metadata": {
    "id": "ukLFJ-Mfvtv_"
   },
   "source": [
    "### Featurize ART"
   ]
  },
  {
   "cell_type": "code",
   "execution_count": null,
   "metadata": {
    "id": "4LbWyaWKvtv_"
   },
   "outputs": [],
   "source": [
    "from www.dataset.featurize import add_bert_features_art, get_tensor_dataset\n",
    "seq_length = 32\n",
    "\n",
    "for p in art:\n",
    "  for i in range(len(art[p])):\n",
    "    art[p][i]['label'] -= 1 # Do this so labels start at 0\n",
    "\n",
    "  if debug:\n",
    "    # Take 20 examples that we've annotated as the debug set so we can run the coherence metrics\n",
    "    merged_file = os.path.join(DRIVE_PATH, 'all_data/ART/ART_test_rand200_annotation_merged2.json')\n",
    "    ann_ids = [ex['id'] for ex in json.load(open(merged_file))]\n",
    "     \n",
    "    if p == 'train':\n",
    "      art[p] = art[p][:20]\n",
    "      art[p] = art[p][:20]\n",
    "    elif p == 'val':\n",
    "      art[p] = [ex for ex in art[p] if ex['id'] in ann_ids][:20]\n",
    "\n",
    "art_tensor = {}\n",
    "for p in art:\n",
    "  art[p] = add_bert_features_art(art[p], tokenizer, seq_length)\n",
    "  art_tensor[p] = get_tensor_dataset(art[p], label_key='label')"
   ]
  },
  {
   "cell_type": "markdown",
   "metadata": {
    "id": "XERMrM56vtv_"
   },
   "source": [
    "### Train Models\n",
    "\n",
    "Train models on ART. Note that ART's test set is not public, so we cannot test the model (unless we submit to their [leaderboard](https://leaderboard.allenai.org/anli/submissions/public))."
   ]
  },
  {
   "cell_type": "markdown",
   "metadata": {
    "id": "2u4dOjy4vtwA"
   },
   "source": [
    "#### Configure Hyperparameters"
   ]
  },
  {
   "cell_type": "code",
   "execution_count": null,
   "metadata": {
    "id": "Bz3-D5hVvtwA"
   },
   "outputs": [],
   "source": [
    "batch_sizes = [config_batch_size]\n",
    "learning_rates = [config_lr]\n",
    "epochs = config_epochs\n",
    "eval_batch_size = 128"
   ]
  },
  {
   "cell_type": "markdown",
   "metadata": {
    "id": "s-cs-hhJvtwA"
   },
   "source": [
    "#### Grid Search"
   ]
  },
  {
   "cell_type": "code",
   "execution_count": null,
   "metadata": {
    "colab": {
     "base_uri": "https://localhost:8080/"
    },
    "executionInfo": {
     "elapsed": 28687,
     "status": "ok",
     "timestamp": 1631304042954,
     "user": {
      "displayName": "Shane Storks",
      "photoUrl": "https://lh3.googleusercontent.com/a-/AOh14Gh8CqjwUclCWWIoFwUB05rZNHwyd6nEIrTXC6RVXw=s64",
      "userId": "00590987742306216924"
     },
     "user_tz": 240
    },
    "id": "wRfuT81qvtwA",
    "outputId": "e6e8ad02-9836-49e8-b0f3-615960aa5d80"
   },
   "outputs": [
    {
     "name": "stdout",
     "output_type": "stream",
     "text": [
      "Beginning grid search for ART over 1 parameter combination(s)!\n",
      "\n",
      "TRAINING MODEL: bs=1, lr=1e-05\n"
     ]
    },
    {
     "name": "stderr",
     "output_type": "stream",
     "text": [
      "Some weights of the model checkpoint at roberta-large were not used when initializing RobertaForMultipleChoice: ['lm_head.bias', 'lm_head.dense.weight', 'lm_head.dense.bias', 'lm_head.layer_norm.weight', 'lm_head.layer_norm.bias', 'lm_head.decoder.weight']\n",
      "- This IS expected if you are initializing RobertaForMultipleChoice from the checkpoint of a model trained on another task or with another architecture (e.g. initializing a BertForSequenceClassification model from a BertForPreTraining model).\n",
      "- This IS NOT expected if you are initializing RobertaForMultipleChoice from the checkpoint of a model that you expect to be exactly identical (initializing a BertForSequenceClassification model from a BertForSequenceClassification model).\n",
      "Some weights of RobertaForMultipleChoice were not initialized from the model checkpoint at roberta-large and are newly initialized: ['classifier.weight', 'classifier.bias']\n",
      "You should probably TRAIN this model on a down-stream task to be able to use it for predictions and inference.\n"
     ]
    },
    {
     "name": "stdout",
     "output_type": "stream",
     "text": [
      "[0] Beginning epoch...\n",
      "\tBeginning evaluation...\n",
      "\t\tRunning prediction...\n",
      "\t\tComputing metrics...\n",
      "\tFinished evaluation in 0:00:00s.\n",
      "[0] Validation results:\n",
      "{\n",
      "  accuracy: \n",
      "    0.7,\n",
      "}\n",
      "\n",
      "\n",
      "[0] Saving model checkpoint...\n",
      "[0] Finished epoch.\n",
      "Finished grid search! :)\n",
      "Best validation accuracy 0.7 from model roberta-large_art_1_1e-05_0.\n"
     ]
    }
   ],
   "source": [
    "from torch.utils.data import DataLoader, RandomSampler, SequentialSampler\n",
    "from transformers import get_linear_schedule_with_warmup, RobertaForMultipleChoice, BertForMultipleChoice, RobertaConfig, BertConfig\n",
    "from www.model.train import train_epoch\n",
    "from www.model.eval import evaluate, save_results, save_preds\n",
    "from sklearn.metrics import accuracy_score\n",
    "from www.utils import print_dict, get_model_dir\n",
    "\n",
    "seed_val = 22 # Save random seed for reproducibility\n",
    "random.seed(seed_val)\n",
    "np.random.seed(seed_val)\n",
    "torch.manual_seed(seed_val)\n",
    "torch.cuda.manual_seed_all(seed_val)\n",
    "\n",
    "# We'll keep the validation data here with a constant eval batch size\n",
    "dev_sampler = SequentialSampler(art_tensor['val'])\n",
    "dev_dataloader = DataLoader(art_tensor['val'], sampler=dev_sampler, batch_size=eval_batch_size)\n",
    "dev_dataset_name = 'art_val'\n",
    "dev_ids = [str(ex['example_id']) for ex in art['val']]\n",
    "\n",
    "all_losses = []\n",
    "param_combos = []\n",
    "combo_names = []\n",
    "all_val_accs = []\n",
    "output_dirs = []\n",
    "best_acc = 0.0\n",
    "\n",
    "print('Beginning grid search for ART over %s parameter combination(s)!' % (str(len(batch_sizes) * len(learning_rates))))\n",
    "for bs in batch_sizes:\n",
    "  for lr in learning_rates:\n",
    "    print('\\nTRAINING MODEL: bs=%s, lr=%s' % (str(bs), str(lr)))\n",
    "\n",
    "    loss_values = []\n",
    "    acc_values = []\n",
    "\n",
    "    # Set up training dataset with new batch size\n",
    "    train_sampler = RandomSampler(art_tensor['train'])\n",
    "    train_dataloader = DataLoader(art_tensor['train'], sampler=train_sampler, batch_size=bs)\n",
    "\n",
    "    # Set up model\n",
    "    config = config_class.from_pretrained(model_name,\n",
    "                                          num_labels=2,\n",
    "                                          cache_dir=os.path.join(DRIVE_PATH, 'cache'))\n",
    "    model = model_class.from_pretrained(model_name,\n",
    "                                        config=config,\n",
    "                                        cache_dir=os.path.join(DRIVE_PATH, 'cache'))\n",
    "\n",
    "    model.cuda()\n",
    "    device = model.device \n",
    "\n",
    "    # Set up optimizer\n",
    "    optimizer = AdamW(model.parameters(), lr=lr)\n",
    "    total_steps = len(train_dataloader) * epochs\n",
    "    scheduler = get_linear_schedule_with_warmup(optimizer, num_warmup_steps=0, num_training_steps = total_steps)\n",
    "\n",
    "    for epoch in range(epochs):\n",
    "      # Train the model for one epoch\n",
    "      print('[%s] Beginning epoch...' % str(epoch))\n",
    "\n",
    "      epoch_loss, _ = train_epoch(model, optimizer, train_dataloader, device)\n",
    "      \n",
    "      # Save loss\n",
    "      loss_values.append(epoch_loss)\n",
    "\n",
    "      # Validate on dev set\n",
    "      results, preds, labels = evaluate(model, dev_dataloader, device, [(accuracy_score, 'accuracy')])\n",
    "      print('[%s] Validation results:' % str(epoch))\n",
    "      print_dict(results)\n",
    "\n",
    "      # Save accuracy\n",
    "      acc = results['accuracy']\n",
    "      acc_values.append(acc)\n",
    "      \n",
    "      # Save model checkpoint\n",
    "      print('[%s] Saving model checkpoint...' % str(epoch))\n",
    "      model_param_str = get_model_dir(model_name.replace('/','-'), 'art', bs, lr, epoch)# + '_toy'\n",
    "      output_dir = os.path.join(DRIVE_PATH, 'saved_models', model_param_str)\n",
    "      output_dirs.append(output_dir)\n",
    "      if not os.path.exists(output_dir):\n",
    "        os.makedirs(output_dir)\n",
    "      save_results(results, output_dir, dev_dataset_name)\n",
    "      save_preds(dev_ids, labels, preds, output_dir, dev_dataset_name)\n",
    "      model = model.module if hasattr(model, 'module') else model\n",
    "      model.save_pretrained(output_dir)\n",
    "      tokenizer.save_vocabulary(output_dir)\n",
    "\n",
    "      if acc > best_acc:\n",
    "        best_acc = acc\n",
    "        best_model = model_param_str\n",
    "        best_dir = output_dir\n",
    "\n",
    "      print('[%s] Finished epoch.' % str(epoch))\n",
    "\n",
    "    all_losses.append(loss_values)\n",
    "    all_val_accs.append(acc_values)\n",
    "    param_combos.append((bs, lr))\n",
    "    combo_names.append('bs=%s, lr=%s' % (str(bs), str(lr)))\n",
    "\n",
    "print('Finished grid search! :)')\n",
    "print('Best validation accuracy %s from model %s.' % (best_acc, best_model))"
   ]
  },
  {
   "cell_type": "markdown",
   "metadata": {
    "id": "dPSVjSw9vtwB"
   },
   "source": [
    "Delete non-best model checkpoints:"
   ]
  },
  {
   "cell_type": "code",
   "execution_count": null,
   "metadata": {
    "id": "P-Pqf4g1vtwB"
   },
   "outputs": [],
   "source": [
    "import shutil\n",
    "\n",
    "# Delete non-best model checkpoints\n",
    "for od in output_dirs:\n",
    "  if od != best_dir and os.path.exists(od):\n",
    "    shutil.rmtree(od)"
   ]
  },
  {
   "cell_type": "markdown",
   "metadata": {
    "id": "LrNuHxTEvtwB"
   },
   "source": [
    "## Coherence Checks on ART"
   ]
  },
  {
   "cell_type": "markdown",
   "metadata": {
    "id": "Egyx9BejvtwC"
   },
   "source": [
    "### Load and Featurize Span Data"
   ]
  },
  {
   "cell_type": "code",
   "execution_count": null,
   "metadata": {
    "id": "7mD8HXC9vtwC"
   },
   "outputs": [],
   "source": [
    "from www.dataset.featurize import add_bert_features_art, get_tensor_dataset\n",
    "from www.dataset.prepro import get_art_spans\n",
    "import pickle\n",
    "seq_length = 128\n",
    "  \n",
    "merged_file = os.path.join(DRIVE_PATH, 'all_data/ART/ART_test_rand200_annotation_merged2.json')\n",
    "art_anns = json.load(open(merged_file))\n",
    "\n",
    "if debug:\n",
    "  ann_ids = [ex['id'] for ex in art_anns]\n",
    "  debug_ids = [ex['id'] for ex in art[p] if ex['id'] in ann_ids][:20]  \n",
    "  art = [ex for ex in art_anns if ex['id'] in debug_ids]\n",
    "\n",
    "# Make span versions of the datasets\n",
    "art_spans = get_art_spans(art)\n",
    "\n",
    "# Add BERT features\n",
    "art = add_bert_features_art(art, tokenizer, seq_length, add_segment_ids=True)\n",
    "art_spans = add_bert_features_art(art_spans, tokenizer, seq_length, add_segment_ids=True)\n",
    "\n",
    "# Add BERT features\n",
    "art_tensor = get_tensor_dataset(art, label_key='label', add_segment_ids=True)\n",
    "art_spans_tensor = get_tensor_dataset(art_spans, label_key='label', add_segment_ids=True)"
   ]
  },
  {
   "cell_type": "markdown",
   "metadata": {
    "id": "auYYxFc6vtwC"
   },
   "source": [
    "### Load the Trained Model\n",
    "\n",
    "Load the trained model we want to probe and select the appropriate dataset."
   ]
  },
  {
   "cell_type": "code",
   "execution_count": null,
   "metadata": {
    "id": "ruiy_uXqvtwC"
   },
   "outputs": [],
   "source": [
    "probe_model = eval_model_dir\n",
    "probe_model = os.path.join(DRIVE_PATH, 'saved_models', probe_model)\n",
    "  \n",
    "# Load the model\n",
    "model = model_class.from_pretrained(probe_model)\n",
    "if torch.cuda.is_available():\n",
    "  model.cuda()\n",
    "device = model.device "
   ]
  },
  {
   "cell_type": "markdown",
   "metadata": {
    "id": "YwznwL-MvtwC"
   },
   "source": [
    "#### Load Trained Model's Two-Story Classification Predictions\n",
    "\n",
    "For comparison, we also want the preds and labels for the previous level."
   ]
  },
  {
   "cell_type": "code",
   "execution_count": null,
   "metadata": {
    "id": "tdIPP8oPvtwC"
   },
   "outputs": [],
   "source": [
    "from www.model.eval import load_preds\n",
    "from www.utils import print_dict\n",
    "\n",
    "preds_base = {}\n",
    "preds_base['val'] = load_preds(os.path.join(probe_model, 'preds_art_val.tsv'))"
   ]
  },
  {
   "cell_type": "markdown",
   "metadata": {
    "id": "fYRfQG6LvtwC"
   },
   "source": [
    "### Calculate Coherence Metrics\n",
    "\n",
    "As ART is a multiple-choice task, we will need to tune the confidence threshold $\\rho$. This code will print out the strict and lenient coherence metrics, as well as the chosen $\\rho$ (`best_threshold`)."
   ]
  },
  {
   "cell_type": "code",
   "execution_count": null,
   "metadata": {
    "colab": {
     "base_uri": "https://localhost:8080/"
    },
    "executionInfo": {
     "elapsed": 3496,
     "status": "ok",
     "timestamp": 1631304420628,
     "user": {
      "displayName": "Shane Storks",
      "photoUrl": "https://lh3.googleusercontent.com/a-/AOh14Gh8CqjwUclCWWIoFwUB05rZNHwyd6nEIrTXC6RVXw=s64",
      "userId": "00590987742306216924"
     },
     "user_tz": 240
    },
    "id": "dCfpfrDXvtwD",
    "outputId": "3d4bf905-11f1-41a9-889b-cb55114e67bb"
   },
   "outputs": [
    {
     "name": "stdout",
     "output_type": "stream",
     "text": [
      "Testing model: drive/My Drive/Colab Notebooks/Research/TRIP_replication/saved_models/roberta-large_art_1_1e-05_0.\n",
      "\tBeginning evaluation...\n",
      "\t\tRunning prediction...\n",
      "\t\tComputing metrics...\n",
      "\tFinished evaluation in 0:00:03s.\n",
      "\n",
      "PARTITION: val \t METRIC: strict_coherence\n",
      "chosen threshold: 1.0\n",
      "{\n",
      "  lenient_coherence: \n",
      "    0.18246427120454473,\n",
      "  strict_coherence: \n",
      "    0.15,\n",
      "  best_threshold: \n",
      "    1.0,\n",
      "}\n",
      "\n",
      "\n",
      "\n",
      "PARTITION: val \t METRIC: lenient_coherence\n",
      "chosen threshold: 1.0\n",
      "{\n",
      "  lenient_coherence: \n",
      "    0.18246427120454473,\n",
      "  strict_coherence: \n",
      "    0.15,\n",
      "  best_threshold: \n",
      "    1.0,\n",
      "}\n",
      "\n",
      "\n"
     ]
    },
    {
     "name": "stderr",
     "output_type": "stream",
     "text": [
      "/usr/local/lib/python3.7/dist-packages/sklearn/metrics/_classification.py:1272: UndefinedMetricWarning: Precision is ill-defined and being set to 0.0 in labels with no predicted samples. Use `zero_division` parameter to control this behavior.\n",
      "  _warn_prf(average, modifier, msg_start, len(result))\n",
      "/usr/local/lib/python3.7/dist-packages/sklearn/metrics/_classification.py:1272: UndefinedMetricWarning: Recall is ill-defined and being set to 0.0 in labels with no true samples. Use `zero_division` parameter to control this behavior.\n",
      "  _warn_prf(average, modifier, msg_start, len(result))\n"
     ]
    }
   ],
   "source": [
    "from torch.utils.data import DataLoader, RandomSampler, SequentialSampler\n",
    "from www.model.eval import evaluate, save_results, save_preds, list_comparison\n",
    "from sklearn.metrics import accuracy_score, precision_score, recall_score, f1_score, confusion_matrix\n",
    "metrics = [(accuracy_score, 'accuracy'), (precision_score, 'precision'), (recall_score, 'recall'), (f1_score, 'f1')]\n",
    "import numpy as np\n",
    "from www.utils import print_dict\n",
    "\n",
    "def is_polarized(smax, thres):\n",
    "  return (abs(smax[0] - smax[1]) >= thres)\n",
    "\n",
    "print('Testing model: %s.' % probe_model)\n",
    "\n",
    "subtask = 'art'\n",
    "p = 'val'\n",
    "all_results = {}\n",
    "\n",
    "p_dataset = art_spans\n",
    "p_tensor_dataset = art_spans_tensor\n",
    "p_sampler = SequentialSampler(p_tensor_dataset)\n",
    "p_dataloader = DataLoader(p_tensor_dataset, sampler=p_sampler, batch_size=128)\n",
    "p_dataset_name = '%s_spans_%s' % (subtask, p)\n",
    "p_dataset_name_co = '%s_consistent_%s' % (subtask, p)\n",
    "p_dataset_name_bp = '%s_breakpoints_%s' % (subtask, p)\n",
    "p_dataset_name_ev = '%s_evidence_%s' % (subtask, p)\n",
    "p_dataset_name_coh = '%s_coherence_%s' % (subtask, p)\n",
    "p_dataset_name_subset = '%s_rand200_%s' % (subtask, p)\n",
    "p_ids = [ex['example_id'] for ex in art_spans]\n",
    "p_labels = [ex['label'] for ex in art_spans]\n",
    "\n",
    "# Get span preds and save metrics\n",
    "results, preds, labels, probs = evaluate(model, p_dataloader, device, metrics, seg_mode=True if 'roberta' not in mode else False, return_softmax=True)\n",
    "save_results(results, probe_model, p_dataset_name)\n",
    "save_preds(p_ids, labels, preds, probe_model, p_dataset_name)\n",
    "\n",
    "# Convert substory preds into breakpoint preds for each example\n",
    "ids_base = [ex['example_id'] for ex in art]\n",
    "\n",
    "id_to_pred = {k: v for k,v in zip(p_ids, preds)}\n",
    "id_to_prob = {k: v for k,v in zip(p_ids, probs)}\n",
    "id_to_label = {k: v for k,v in zip(p_ids, p_labels)}\n",
    "\n",
    "for metric_to_optimize in ['strict_coherence', 'lenient_coherence']:\n",
    "  # Get results dict ready\n",
    "  # all_results['acc'] = 0.0\n",
    "  # all_results['acc_con'] = 0.0\n",
    "  # all_results['acc_con_vbp'] = 0.0\n",
    "  # all_results['acc_con_vbp_vev'] = 0.0\n",
    "  # all_results['span_accuracy'] = 0.0\n",
    "  all_results['lenient_coherence'] = 0.0\n",
    "  all_results['strict_coherence'] = 0.0\n",
    "  span_accuracy = 0.0\n",
    "  span_accuracy_strict = 0.0\n",
    "  no_spans = 0\n",
    "  for threshold in [0.05, 0.1, 0.15, 0.2, 0.25, 0.3, 0.35, 0.4, 0.45, 0.5, 0.55, 0.6, 0.65, 0.7, 0.75, 0.8, 0.85, 0.9, 0.95, 1.0]:\n",
    "\n",
    "    preds_plausible = []\n",
    "    labels_plausible = []\n",
    "    preds_consistent = []\n",
    "    preds_breakpoint = []\n",
    "    labels_breakpoint = []\n",
    "    preds_evidence = []\n",
    "    labels_evidence = []    \n",
    "    span_accuracies = []\n",
    "    span_accuracies_strict = []\n",
    "    preds_coherent = []\n",
    "\n",
    "    for i, exid in enumerate(ids_base):\n",
    "      ex = art[i]\n",
    "      ex['length'] = 3\n",
    "\n",
    "      label_plausible = preds_base[p][exid]['label']\n",
    "      pred_plausible = preds_base[p][exid]['pred']\n",
    "      labels_plausible.append(label_plausible)\n",
    "      preds_plausible.append(pred_plausible)\n",
    "\n",
    "      # Get ground truth breakpoint and evidence\n",
    "      label_breakpoint = ex['conflict_pair'][1] if ex['conflict_pair'] is not None else 0\n",
    "      labels_breakpoint.append(label_breakpoint)\n",
    "      if label_breakpoint > 0:\n",
    "        label_ev = ex['conflict_pair'][0]\n",
    "      else:\n",
    "        label_ev = -1\n",
    "      labels_evidence.append(label_ev)\n",
    "\n",
    "      # Check consistency - for every span we confidently choose story X, we should also confidently choose story X for any span containing it\n",
    "      pred_consistent = True\n",
    "      for sp1 in range(ex['length']-1):\n",
    "        if not pred_consistent:\n",
    "          break\n",
    "\n",
    "        for sp2 in range(sp1+1, ex['length']):\n",
    "          if not pred_consistent:\n",
    "            break\n",
    "\n",
    "          span_pred = int(id_to_pred[exid + '-sp%s:%s' % (str(sp1), str(sp2))])\n",
    "          span_prob = id_to_prob[exid + '-sp%s:%s' % (str(sp1), str(sp2))]\n",
    "          span_label = max(id_to_label[exid + '-sp%s:%s' % (str(sp1), str(sp2))] - 1, -1)\n",
    "\n",
    "          span_pred3 = span_pred\n",
    "          if not is_polarized(span_prob, threshold): # If not polarized, let's say -1\n",
    "            span_pred3 = -1\n",
    "\n",
    "          pred_coherent = True\n",
    "          if span_pred3 == span_label:\n",
    "            span_accuracy += 1.0\n",
    "            if label_plausible == pred_plausible:\n",
    "              span_accuracy_strict += 1.0\n",
    "          else:\n",
    "            pred_coherent = False\n",
    "          no_spans += 1\n",
    "\n",
    "          if is_polarized(span_prob, threshold):\n",
    "            for sp3 in range(sp1+1):\n",
    "              if not pred_consistent:\n",
    "                break\n",
    "\n",
    "              for sp4 in range(sp2, ex['length']):\n",
    "                if not pred_consistent:\n",
    "                  break\n",
    "\n",
    "                sspan_pred = id_to_pred[exid + '-sp%s:%s' % (str(sp3), str(sp4))]\n",
    "                sspan_prob = id_to_prob[exid + '-sp%s:%s' % (str(sp3), str(sp4))]\n",
    "\n",
    "                if not is_polarized(sspan_prob, threshold) or sspan_pred != span_pred:\n",
    "                  pred_consistent = False\n",
    "                  break\n",
    "\n",
    "      preds_consistent.append(1 if pred_consistent else 0)\n",
    "      span_accuracies.append(span_accuracy / no_spans)\n",
    "      span_accuracies_strict.append(span_accuracy_strict / no_spans)\n",
    "      preds_coherent.append(1 if pred_coherent else 0)\n",
    "\n",
    "      # Check pred. breakpoint (verifiability) - will be first sentence where the model prediction becomes polarized, i.e., confidence > threshold\n",
    "      pred_breakpoint  = 0 # For now, 0 means -1, i.e., stories are entirely plausible - this shouldn't happen but it will (inconsistent?)\n",
    "      for ss in range(1, ex['length']):\n",
    "        if is_polarized(id_to_prob[exid + '-sp%s:%s' % (str(0), str(ss))], threshold):\n",
    "          pred_breakpoint = ss\n",
    "          break\n",
    "      preds_breakpoint.append(pred_breakpoint)\n",
    "\n",
    "      # Check pred. evidence (verifiability)\n",
    "      if pred_breakpoint > 0:\n",
    "        pred_evidence = -1 # Does this make sense for default value?\n",
    "        for ss in range(0, pred_breakpoint):\n",
    "          if is_polarized(id_to_prob[exid + '-sp%s:%s' % (str(ss), str(pred_breakpoint))], threshold):\n",
    "            pred_evidence = ss\n",
    "      else:\n",
    "        pred_evidence = -1 # This should never happen - it would be inconsistent if it did?\n",
    "      preds_evidence.append(pred_evidence)\n",
    "\n",
    "    # Calculate tiered accuracy for model\n",
    "    acc = 0\n",
    "    acc_con = 0\n",
    "    acc_con_vbp = 0\n",
    "    acc_con_vbp_vev = 0\n",
    "    no_ex = len(ids_base)\n",
    "    for p_plaus, l_plaus, con, p_bp, l_bp, p_ev, l_ev in zip(preds_plausible, labels_plausible, preds_consistent, preds_breakpoint, labels_breakpoint, preds_evidence, labels_evidence):\n",
    "      # Accuracy\n",
    "      if p_plaus == l_plaus:\n",
    "        acc += 1\n",
    "        \n",
    "        # Consistency\n",
    "        if con == 1:\n",
    "          acc_con += 1\n",
    "        \n",
    "          # Verifiability (breakpoint)\n",
    "          if p_bp == l_bp:\n",
    "            acc_con_vbp += 1\n",
    "\n",
    "            # Verifiability (evidence)\n",
    "            if p_ev == l_ev:\n",
    "              acc_con_vbp_vev += 1\n",
    "\n",
    "    acc /= no_ex\n",
    "    acc_con /= no_ex\n",
    "    acc_con_vbp /= no_ex\n",
    "    acc_con_vbp_vev /= no_ex\n",
    "    span_acc = np.mean(span_accuracies)\n",
    "    span_acc_strict = np.mean(span_accuracies_strict)\n",
    "    coherence = np.mean(preds_coherent)\n",
    "    # if coherence > all_results['coherence']: # !!!! this line is important\n",
    "    # if span_acc > all_results['span_accuracy']: # !!!! this line is important\n",
    "    if span_acc_strict > all_results[metric_to_optimize]: # !!!! this line is important\n",
    "      # print('new best: %s' % str(acc_con_vbp_vev))\n",
    "      best_thres = threshold\n",
    "      \n",
    "      # all_results['acc'] = acc\n",
    "      # all_results['acc_con'] = acc_con\n",
    "      # all_results['acc_con_vbp'] = acc_con_vbp\n",
    "      # all_results['acc_con_vbp_vev'] = acc_con_vbp_vev\n",
    "      # all_results['span_accuracy'] = span_acc\n",
    "      all_results['lenient_coherence'] = span_acc_strict\n",
    "      all_results['strict_coherence'] = coherence\n",
    "\n",
    "      best_preds_plausible = preds_plausible\n",
    "      best_preds_consistent = preds_consistent\n",
    "      best_preds_breakpoint = preds_breakpoint\n",
    "      best_preds_evidence = preds_evidence\n",
    "      best_preds_coherent = preds_coherent\n",
    "      \n",
    "  all_results['best_threshold'] = best_thres\n",
    "  print('\\nPARTITION: %s \\t METRIC: %s' % (p, metric_to_optimize))\n",
    "  print('chosen threshold: %s' % str(best_thres))\n",
    "  print_dict(all_results)\n",
    "\n",
    "  # Save results\n",
    "  p_dataset_name_agg = '%s_%s_%s' % (subtask, metric_to_optimize, p)\n",
    "  save_results(all_results, probe_model, p_dataset_name_agg)"
   ]
  }
 ],
 "metadata": {
  "accelerator": "GPU",
  "colab": {
   "authorship_tag": "ABX9TyN086hRntugR7AhDFlEbzLv",
   "collapsed_sections": [
    "XL9AU7zTgP9n",
    "qqvj34KhLL0k",
    "xm7qzKnAnbU9",
    "FoY37xIF-oP7",
    "QzFnAVtuUmpQ",
    "lKY0hTEgnQgB",
    "k_0WsycpFMdb",
    "Cz5tcmScJrka",
    "BxIYaEobhR7J",
    "v7VlN2jUwvcC",
    "5ctQweSlAceo",
    "0q-xjfYU_cV8",
    "-fQ6wXQIBdq1",
    "U-BMInyrBdq2",
    "8fRC3cnLBdq3",
    "aWFmGRhznl2T",
    "Rbvpm9irn3qL",
    "RfXiCTA9KPjG",
    "ON1UAnbc8OOE",
    "W7MADzgfvtv3",
    "Msxt3xAhvtv6",
    "rn5Ywwvxvtv6",
    "Ytbj9Uxxvtv7",
    "h9YL5qnRvtv7",
    "Jss8T2xzvtv8",
    "8XhSrDlpI0aH",
    "CADDFieTvtv9",
    "maZGCMvMvtv-",
    "XnWDvQG7vtv-",
    "KxRnuX_fvtv_",
    "apGoBEp_vtv_",
    "ukLFJ-Mfvtv_",
    "XERMrM56vtv_",
    "Egyx9BejvtwC",
    "auYYxFc6vtwC",
    "fYRfQG6LvtwC"
   ],
   "machine_shape": "hm",
   "mount_file_id": "1RD-qTvUOr5V5r5QXWS4qCGVx2qM96ur2",
   "name": "(code release) Consistent, Verifiable, and Coherent Reasoning for LMs",
   "provenance": []
  },
  "kernelspec": {
   "display_name": "Python 3",
   "language": "python",
   "name": "python3"
  },
  "language_info": {
   "codemirror_mode": {
    "name": "ipython",
    "version": 3
   },
   "file_extension": ".py",
   "mimetype": "text/x-python",
   "name": "python",
   "nbconvert_exporter": "python",
   "pygments_lexer": "ipython3",
   "version": "3.7.11"
  }
 },
 "nbformat": 4,
 "nbformat_minor": 1
}
